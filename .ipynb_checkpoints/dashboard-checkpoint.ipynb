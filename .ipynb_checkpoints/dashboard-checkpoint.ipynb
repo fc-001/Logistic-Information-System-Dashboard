{
 "cells": [
  {
   "cell_type": "code",
   "id": "initial_id",
   "metadata": {
    "collapsed": true,
    "ExecuteTime": {
     "end_time": "2025-05-24T01:59:40.203648Z",
     "start_time": "2025-05-24T01:59:40.200139Z"
    }
   },
   "source": [
    "import pandas as pd\n",
    "import numpy as np\n",
    "import matplotlib.pyplot as plt\n",
    "import geopandas as gpd\n",
    "from shapely.geometry import LineString, Point\n",
    "import geodatasets as gd\n",
    "import plotly.graph_objects as go\n"
   ],
   "outputs": [],
   "execution_count": 15
  },
  {
   "metadata": {},
   "cell_type": "markdown",
   "source": [
    "1. 分布和路线可视化\n",
    "(1) 总仓(Changshu)- 分仓"
   ],
   "id": "6c5c5a23a0b4e623"
  },
  {
   "metadata": {
    "ExecuteTime": {
     "end_time": "2025-05-24T01:59:46.737679Z",
     "start_time": "2025-05-24T01:59:46.445162Z"
    }
   },
   "cell_type": "code",
   "source": [
    "nodes = pd.read_csv('data/nodes.csv')\n",
    "ship_tot2sub = pd.read_csv('data/ship_tot2sub.csv')\n",
    "warehouses = pd.read_csv('data/warehouses.csv')['warehouse_name'].tolist()\n",
    "origin = warehouses[0]\n",
    "rdcs   = warehouses[1:]\n",
    "\n",
    "nodes['category'] = nodes['node_id'].apply(\n",
    "    lambda x: 'origin' if x == origin else ('rdc' if x in rdcs else 'other')\n",
    ")\n",
    "\n",
    "# 3. 准备线路\n",
    "lines = []\n",
    "for _, row in ship_tot2sub[ship_tot2sub.source == origin].iterrows():\n",
    "    if row.dest in rdcs:\n",
    "        src = nodes.loc[nodes.node_id == origin, ['lng','lat']].iloc[0]\n",
    "        dst = nodes.loc[nodes.node_id == row.dest, ['lng','lat']].iloc[0]\n",
    "        lines.append({'lon':[src.lng,dst.lng],'lat':[src.lat,dst.lat],'qty':row.qty})\n",
    "\n",
    "# 4. 绘制\n",
    "fig = go.Figure()\n",
    "max_qty = max([l['qty'] for l in lines] + [1])\n",
    "for i, l in enumerate(lines):\n",
    "    fig.add_trace(go.Scattermap(\n",
    "        lon = l['lon'], lat = l['lat'], mode='lines',\n",
    "        line=dict(width=(l['qty']/max_qty)*10, color='blue'),\n",
    "        hovertemplate=f\"Quantity: {l['qty']}<extra></extra>\",\n",
    "        name='OD', legendgroup='OD', showlegend=(i==0)\n",
    "    ))\n",
    "\n",
    "# 节点\n",
    "rdc_nodes = nodes[nodes.category=='rdc']\n",
    "fig.add_trace(go.Scattermap(\n",
    "    lon=rdc_nodes.lng, lat=rdc_nodes.lat, mode='markers',\n",
    "    marker=dict(size=10,color='orange'),\n",
    "    name='RDCs', hoverinfo='text', hovertext=rdc_nodes.node_id\n",
    "))\n",
    "origin_node = nodes[nodes.category=='origin']\n",
    "fig.add_trace(go.Scattermap(\n",
    "    lon=origin_node.lng, lat=origin_node.lat, mode='markers',\n",
    "    marker=dict(size=14,color='red',symbol='diamond'),\n",
    "    name='NDC_常熟', hoverinfo='text', hovertext=origin_node.node_id\n",
    "))\n",
    "\n",
    "fig.update_layout(\n",
    "    mapbox_style=\"carto-positron\",\n",
    "    mapbox_center=dict(lat=nodes.lat.mean(), lon=nodes.lng.mean()),\n",
    "    mapbox_zoom=4,\n",
    "    margin=dict(l=0,r=0,t=30,b=0),\n",
    "    title=\"NDC → RDC\"\n",
    ")\n",
    "\n",
    "fig.show()"
   ],
   "id": "817291cb2e6960c2",
   "outputs": [
    {
     "data": {
      "application/vnd.plotly.v1+json": {
       "data": [
        {
         "hovertemplate": "Quantity: 244892<extra></extra>",
         "lat": [
          31.60132,
          36.64308
         ],
         "legendgroup": "OD",
         "line": {
          "color": "blue",
          "width": 10.0
         },
         "lon": [
          120.9125,
          116.857
         ],
         "mode": "lines",
         "name": "OD",
         "showlegend": true,
         "type": "scattermap"
        },
        {
         "hovertemplate": "Quantity: 216810<extra></extra>",
         "lat": [
          31.60132,
          36.64308
         ],
         "legendgroup": "OD",
         "line": {
          "color": "blue",
          "width": 8.853290430067132
         },
         "lon": [
          120.9125,
          116.857
         ],
         "mode": "lines",
         "name": "OD",
         "showlegend": false,
         "type": "scattermap"
        },
        {
         "hovertemplate": "Quantity: 198433<extra></extra>",
         "lat": [
          31.60132,
          28.58094
         ],
         "legendgroup": "OD",
         "line": {
          "color": "blue",
          "width": 8.102878003364749
         },
         "lon": [
          120.9125,
          115.9156
         ],
         "mode": "lines",
         "name": "OD",
         "showlegend": false,
         "type": "scattermap"
        },
        {
         "hovertemplate": "Quantity: 187366<extra></extra>",
         "lat": [
          31.60132,
          39.85929
         ],
         "legendgroup": "OD",
         "line": {
          "color": "blue",
          "width": 7.650964506802999
         },
         "lon": [
          120.9125,
          116.4707
         ],
         "mode": "lines",
         "name": "OD",
         "showlegend": false,
         "type": "scattermap"
        },
        {
         "hovertemplate": "Quantity: 176558<extra></extra>",
         "lat": [
          31.60132,
          28.58094
         ],
         "legendgroup": "OD",
         "line": {
          "color": "blue",
          "width": 7.209627100926123
         },
         "lon": [
          120.9125,
          115.9156
         ],
         "mode": "lines",
         "name": "OD",
         "showlegend": false,
         "type": "scattermap"
        },
        {
         "hovertemplate": "Quantity: 166780<extra></extra>",
         "lat": [
          31.60132,
          28.21001
         ],
         "legendgroup": "OD",
         "line": {
          "color": "blue",
          "width": 6.810349051826928
         },
         "lon": [
          120.9125,
          113.0253
         ],
         "mode": "lines",
         "name": "OD",
         "showlegend": false,
         "type": "scattermap"
        },
        {
         "hovertemplate": "Quantity: 165781<extra></extra>",
         "lat": [
          31.60132,
          36.64308
         ],
         "legendgroup": "OD",
         "line": {
          "color": "blue",
          "width": 6.769555559185273
         },
         "lon": [
          120.9125,
          116.857
         ],
         "mode": "lines",
         "name": "OD",
         "showlegend": false,
         "type": "scattermap"
        },
        {
         "hovertemplate": "Quantity: 164943<extra></extra>",
         "lat": [
          31.60132,
          45.74223
         ],
         "legendgroup": "OD",
         "line": {
          "color": "blue",
          "width": 6.735336393185567
         },
         "lon": [
          120.9125,
          126.6237
         ],
         "mode": "lines",
         "name": "OD",
         "showlegend": false,
         "type": "scattermap"
        },
        {
         "hovertemplate": "Quantity: 161642<extra></extra>",
         "lat": [
          31.60132,
          39.85929
         ],
         "legendgroup": "OD",
         "line": {
          "color": "blue",
          "width": 6.600542279862144
         },
         "lon": [
          120.9125,
          116.4707
         ],
         "mode": "lines",
         "name": "OD",
         "showlegend": false,
         "type": "scattermap"
        },
        {
         "hovertemplate": "Quantity: 159434<extra></extra>",
         "lat": [
          31.60132,
          32.41468
         ],
         "legendgroup": "OD",
         "line": {
          "color": "blue",
          "width": 6.510380085915424
         },
         "lon": [
          120.9125,
          104.5354
         ],
         "mode": "lines",
         "name": "OD",
         "showlegend": false,
         "type": "scattermap"
        },
        {
         "hovertemplate": "Quantity: 156341<extra></extra>",
         "lat": [
          31.60132,
          27.79889
         ],
         "legendgroup": "OD",
         "line": {
          "color": "blue",
          "width": 6.384079512601474
         },
         "lon": [
          120.9125,
          113.1612
         ],
         "mode": "lines",
         "name": "OD",
         "showlegend": false,
         "type": "scattermap"
        },
        {
         "hovertemplate": "Quantity: 137634<extra></extra>",
         "lat": [
          31.60132,
          34.74348
         ],
         "legendgroup": "OD",
         "line": {
          "color": "blue",
          "width": 5.620191757999445
         },
         "lon": [
          120.9125,
          113.7171
         ],
         "mode": "lines",
         "name": "OD",
         "showlegend": false,
         "type": "scattermap"
        },
        {
         "hovertemplate": "Quantity: 137215<extra></extra>",
         "lat": [
          31.60132,
          31.00253
         ],
         "legendgroup": "OD",
         "line": {
          "color": "blue",
          "width": 5.603082174999592
         },
         "lon": [
          120.9125,
          121.5149
         ],
         "mode": "lines",
         "name": "OD",
         "showlegend": false,
         "type": "scattermap"
        },
        {
         "hovertemplate": "Quantity: 135103<extra></extra>",
         "lat": [
          31.60132,
          34.74348
         ],
         "legendgroup": "OD",
         "line": {
          "color": "blue",
          "width": 5.51684007644186
         },
         "lon": [
          120.9125,
          113.7171
         ],
         "mode": "lines",
         "name": "OD",
         "showlegend": false,
         "type": "scattermap"
        },
        {
         "hovertemplate": "Quantity: 132466<extra></extra>",
         "lat": [
          31.60132,
          36.73794
         ],
         "legendgroup": "OD",
         "line": {
          "color": "blue",
          "width": 5.409159956225601
         },
         "lon": [
          120.9125,
          119.0358
         ],
         "mode": "lines",
         "name": "OD",
         "showlegend": false,
         "type": "scattermap"
        },
        {
         "hovertemplate": "Quantity: 132175<extra></extra>",
         "lat": [
          31.60132,
          45.74223
         ],
         "legendgroup": "OD",
         "line": {
          "color": "blue",
          "width": 5.397277167077732
         },
         "lon": [
          120.9125,
          126.6237
         ],
         "mode": "lines",
         "name": "OD",
         "showlegend": false,
         "type": "scattermap"
        },
        {
         "hovertemplate": "Quantity: 128018<extra></extra>",
         "lat": [
          31.60132,
          30.37639
         ],
         "legendgroup": "OD",
         "line": {
          "color": "blue",
          "width": 5.227528869869166
         },
         "lon": [
          120.9125,
          120.1698
         ],
         "mode": "lines",
         "name": "OD",
         "showlegend": false,
         "type": "scattermap"
        },
        {
         "hovertemplate": "Quantity: 115444<extra></extra>",
         "lat": [
          31.60132,
          28.21001
         ],
         "legendgroup": "OD",
         "line": {
          "color": "blue",
          "width": 4.714078042565703
         },
         "lon": [
          120.9125,
          113.0253
         ],
         "mode": "lines",
         "name": "OD",
         "showlegend": false,
         "type": "scattermap"
        },
        {
         "hovertemplate": "Quantity: 115121<extra></extra>",
         "lat": [
          31.60132,
          39.85929
         ],
         "legendgroup": "OD",
         "line": {
          "color": "blue",
          "width": 4.700888554954838
         },
         "lon": [
          120.9125,
          116.4707
         ],
         "mode": "lines",
         "name": "OD",
         "showlegend": false,
         "type": "scattermap"
        },
        {
         "hovertemplate": "Quantity: 113809<extra></extra>",
         "lat": [
          31.60132,
          29.93326
         ],
         "legendgroup": "OD",
         "line": {
          "color": "blue",
          "width": 4.647313917972004
         },
         "lon": [
          120.9125,
          121.6062
         ],
         "mode": "lines",
         "name": "OD",
         "showlegend": false,
         "type": "scattermap"
        },
        {
         "hovertemplate": "Quantity: 112531<extra></extra>",
         "lat": [
          31.60132,
          32.41468
         ],
         "legendgroup": "OD",
         "line": {
          "color": "blue",
          "width": 4.595127648106104
         },
         "lon": [
          120.9125,
          104.5354
         ],
         "mode": "lines",
         "name": "OD",
         "showlegend": false,
         "type": "scattermap"
        },
        {
         "hovertemplate": "Quantity: 110541<extra></extra>",
         "lat": [
          31.60132,
          28.21001
         ],
         "legendgroup": "OD",
         "line": {
          "color": "blue",
          "width": 4.513867337438544
         },
         "lon": [
          120.9125,
          113.0253
         ],
         "mode": "lines",
         "name": "OD",
         "showlegend": false,
         "type": "scattermap"
        },
        {
         "hovertemplate": "Quantity: 106498<extra></extra>",
         "lat": [
          31.60132,
          30.68944
         ],
         "legendgroup": "OD",
         "line": {
          "color": "blue",
          "width": 4.348774153504403
         },
         "lon": [
          120.9125,
          104.1816
         ],
         "mode": "lines",
         "name": "OD",
         "showlegend": false,
         "type": "scattermap"
        },
        {
         "hovertemplate": "Quantity: 105904<extra></extra>",
         "lat": [
          31.60132,
          39.85929
         ],
         "legendgroup": "OD",
         "line": {
          "color": "blue",
          "width": 4.324518563285039
         },
         "lon": [
          120.9125,
          116.4707
         ],
         "mode": "lines",
         "name": "OD",
         "showlegend": false,
         "type": "scattermap"
        },
        {
         "hovertemplate": "Quantity: 105646<extra></extra>",
         "lat": [
          31.60132,
          28.58094
         ],
         "legendgroup": "OD",
         "line": {
          "color": "blue",
          "width": 4.313983306927136
         },
         "lon": [
          120.9125,
          115.9156
         ],
         "mode": "lines",
         "name": "OD",
         "showlegend": false,
         "type": "scattermap"
        },
        {
         "hovertemplate": "Quantity: 100115<extra></extra>",
         "lat": [
          31.60132,
          30.37639
         ],
         "legendgroup": "OD",
         "line": {
          "color": "blue",
          "width": 4.088128644463682
         },
         "lon": [
          120.9125,
          120.1698
         ],
         "mode": "lines",
         "name": "OD",
         "showlegend": false,
         "type": "scattermap"
        },
        {
         "hovertemplate": "Quantity: 96702<extra></extra>",
         "lat": [
          31.60132,
          36.64308
         ],
         "legendgroup": "OD",
         "line": {
          "color": "blue",
          "width": 3.948761086519772
         },
         "lon": [
          120.9125,
          116.857
         ],
         "mode": "lines",
         "name": "OD",
         "showlegend": false,
         "type": "scattermap"
        },
        {
         "hovertemplate": "Quantity: 96498<extra></extra>",
         "lat": [
          31.60132,
          30.61364
         ],
         "legendgroup": "OD",
         "line": {
          "color": "blue",
          "width": 3.940430883818173
         },
         "lon": [
          120.9125,
          114.2449
         ],
         "mode": "lines",
         "name": "OD",
         "showlegend": false,
         "type": "scattermap"
        },
        {
         "hovertemplate": "Quantity: 96335<extra></extra>",
         "lat": [
          31.60132,
          28.58094
         ],
         "legendgroup": "OD",
         "line": {
          "color": "blue",
          "width": 3.9337748885222874
         },
         "lon": [
          120.9125,
          115.9156
         ],
         "mode": "lines",
         "name": "OD",
         "showlegend": false,
         "type": "scattermap"
        },
        {
         "hovertemplate": "Quantity: 95610<extra></extra>",
         "lat": [
          31.60132,
          39.10089
         ],
         "legendgroup": "OD",
         "line": {
          "color": "blue",
          "width": 3.904170001470036
         },
         "lon": [
          120.9125,
          117.2588
         ],
         "mode": "lines",
         "name": "OD",
         "showlegend": false,
         "type": "scattermap"
        },
        {
         "hovertemplate": "Quantity: 94788<extra></extra>",
         "lat": [
          31.60132,
          39.10089
         ],
         "legendgroup": "OD",
         "line": {
          "color": "blue",
          "width": 3.870604184701828
         },
         "lon": [
          120.9125,
          117.2588
         ],
         "mode": "lines",
         "name": "OD",
         "showlegend": false,
         "type": "scattermap"
        },
        {
         "hovertemplate": "Quantity: 94184<extra></extra>",
         "lat": [
          31.60132,
          43.85704
         ],
         "legendgroup": "OD",
         "line": {
          "color": "blue",
          "width": 3.845940251212779
         },
         "lon": [
          120.9125,
          87.53245
         ],
         "mode": "lines",
         "name": "OD",
         "showlegend": false,
         "type": "scattermap"
        },
        {
         "hovertemplate": "Quantity: 94116<extra></extra>",
         "lat": [
          31.60132,
          39.85929
         ],
         "legendgroup": "OD",
         "line": {
          "color": "blue",
          "width": 3.843163516978913
         },
         "lon": [
          120.9125,
          116.4707
         ],
         "mode": "lines",
         "name": "OD",
         "showlegend": false,
         "type": "scattermap"
        },
        {
         "hovertemplate": "Quantity: 93514<extra></extra>",
         "lat": [
          31.60132,
          45.74223
         ],
         "legendgroup": "OD",
         "line": {
          "color": "blue",
          "width": 3.8185812521438023
         },
         "lon": [
          120.9125,
          126.6237
         ],
         "mode": "lines",
         "name": "OD",
         "showlegend": false,
         "type": "scattermap"
        },
        {
         "hovertemplate": "Quantity: 93176<extra></extra>",
         "lat": [
          31.60132,
          27.79889
         ],
         "legendgroup": "OD",
         "line": {
          "color": "blue",
          "width": 3.8047792496284076
         },
         "lon": [
          120.9125,
          113.1612
         ],
         "mode": "lines",
         "name": "OD",
         "showlegend": false,
         "type": "scattermap"
        },
        {
         "hovertemplate": "Quantity: 91656<extra></extra>",
         "lat": [
          31.60132,
          45.74223
         ],
         "legendgroup": "OD",
         "line": {
          "color": "blue",
          "width": 3.7427110726361006
         },
         "lon": [
          120.9125,
          126.6237
         ],
         "mode": "lines",
         "name": "OD",
         "showlegend": false,
         "type": "scattermap"
        },
        {
         "hovertemplate": "Quantity: 91648<extra></extra>",
         "lat": [
          31.60132,
          43.85704
         ],
         "legendgroup": "OD",
         "line": {
          "color": "blue",
          "width": 3.742384398020352
         },
         "lon": [
          120.9125,
          87.53245
         ],
         "mode": "lines",
         "name": "OD",
         "showlegend": false,
         "type": "scattermap"
        },
        {
         "hovertemplate": "Quantity: 89141<extra></extra>",
         "lat": [
          31.60132,
          34.28265
         ],
         "legendgroup": "OD",
         "line": {
          "color": "blue",
          "width": 3.640012740310014
         },
         "lon": [
          120.9125,
          109.0334
         ],
         "mode": "lines",
         "name": "OD",
         "showlegend": false,
         "type": "scattermap"
        },
        {
         "hovertemplate": "Quantity: 88992<extra></extra>",
         "lat": [
          31.60132,
          35.74759
         ],
         "legendgroup": "OD",
         "line": {
          "color": "blue",
          "width": 3.633928425591689
         },
         "lon": [
          120.9125,
          115.0775
         ],
         "mode": "lines",
         "name": "OD",
         "showlegend": false,
         "type": "scattermap"
        },
        {
         "hovertemplate": "Quantity: 88930<extra></extra>",
         "lat": [
          31.60132,
          28.21001
         ],
         "legendgroup": "OD",
         "line": {
          "color": "blue",
          "width": 3.631396697319635
         },
         "lon": [
          120.9125,
          113.0253
         ],
         "mode": "lines",
         "name": "OD",
         "showlegend": false,
         "type": "scattermap"
        },
        {
         "hovertemplate": "Quantity: 88253<extra></extra>",
         "lat": [
          31.60132,
          36.64308
         ],
         "legendgroup": "OD",
         "line": {
          "color": "blue",
          "width": 3.603751857961877
         },
         "lon": [
          120.9125,
          116.857
         ],
         "mode": "lines",
         "name": "OD",
         "showlegend": false,
         "type": "scattermap"
        },
        {
         "hovertemplate": "Quantity: 87610<extra></extra>",
         "lat": [
          31.60132,
          34.74358
         ],
         "legendgroup": "OD",
         "line": {
          "color": "blue",
          "width": 3.5774953857210523
         },
         "lon": [
          120.9125,
          113.7175
         ],
         "mode": "lines",
         "name": "OD",
         "showlegend": false,
         "type": "scattermap"
        },
        {
         "hovertemplate": "Quantity: 84897<extra></extra>",
         "lat": [
          31.60132,
          36.04397
         ],
         "legendgroup": "OD",
         "line": {
          "color": "blue",
          "width": 3.4667118566551784
         },
         "lon": [
          120.9125,
          103.91
         ],
         "mode": "lines",
         "name": "OD",
         "showlegend": false,
         "type": "scattermap"
        },
        {
         "hovertemplate": "Quantity: 83988<extra></extra>",
         "lat": [
          31.60132,
          43.93276
         ],
         "legendgroup": "OD",
         "line": {
          "color": "blue",
          "width": 3.4295934534407
         },
         "lon": [
          120.9125,
          125.299
         ],
         "mode": "lines",
         "name": "OD",
         "showlegend": false,
         "type": "scattermap"
        },
        {
         "hovertemplate": "Quantity: 82126<extra></extra>",
         "lat": [
          31.60132,
          30.68944
         ],
         "legendgroup": "OD",
         "line": {
          "color": "blue",
          "width": 3.3535599366251247
         },
         "lon": [
          120.9125,
          104.1816
         ],
         "mode": "lines",
         "name": "OD",
         "showlegend": false,
         "type": "scattermap"
        },
        {
         "hovertemplate": "Quantity: 81353<extra></extra>",
         "lat": [
          31.60132,
          34.28265
         ],
         "legendgroup": "OD",
         "line": {
          "color": "blue",
          "width": 3.321995001878379
         },
         "lon": [
          120.9125,
          109.0334
         ],
         "mode": "lines",
         "name": "OD",
         "showlegend": false,
         "type": "scattermap"
        },
        {
         "hovertemplate": "Quantity: 80875<extra></extra>",
         "lat": [
          31.60132,
          32.00261
         ],
         "legendgroup": "OD",
         "line": {
          "color": "blue",
          "width": 3.3024761935873777
         },
         "lon": [
          120.9125,
          118.8661
         ],
         "mode": "lines",
         "name": "OD",
         "showlegend": false,
         "type": "scattermap"
        },
        {
         "hovertemplate": "Quantity: 80316<extra></extra>",
         "lat": [
          31.60132,
          36.04397
         ],
         "legendgroup": "OD",
         "line": {
          "color": "blue",
          "width": 3.279649804811917
         },
         "lon": [
          120.9125,
          103.91
         ],
         "mode": "lines",
         "name": "OD",
         "showlegend": false,
         "type": "scattermap"
        },
        {
         "hovertemplate": "Quantity: 78754<extra></extra>",
         "lat": [
          31.60132,
          34.57746
         ],
         "legendgroup": "OD",
         "line": {
          "color": "blue",
          "width": 3.215866586086928
         },
         "lon": [
          120.9125,
          119.1694
         ],
         "mode": "lines",
         "name": "OD",
         "showlegend": false,
         "type": "scattermap"
        },
        {
         "hovertemplate": "Quantity: 78114<extra></extra>",
         "lat": [
          31.60132,
          45.74223
         ],
         "legendgroup": "OD",
         "line": {
          "color": "blue",
          "width": 3.1897326168270097
         },
         "lon": [
          120.9125,
          126.6237
         ],
         "mode": "lines",
         "name": "OD",
         "showlegend": false,
         "type": "scattermap"
        },
        {
         "hovertemplate": "Quantity: 77644<extra></extra>",
         "lat": [
          31.60132,
          31.6025
         ],
         "legendgroup": "OD",
         "line": {
          "color": "blue",
          "width": 3.1705404831517567
         },
         "lon": [
          120.9125,
          120.9008
         ],
         "mode": "lines",
         "name": "OD",
         "showlegend": false,
         "type": "scattermap"
        },
        {
         "hovertemplate": "Quantity: 77223<extra></extra>",
         "lat": [
          31.60132,
          31.89946
         ],
         "legendgroup": "OD",
         "line": {
          "color": "blue",
          "width": 3.1533492314979665
         },
         "lon": [
          120.9125,
          117.3595
         ],
         "mode": "lines",
         "name": "OD",
         "showlegend": false,
         "type": "scattermap"
        },
        {
         "hovertemplate": "Quantity: 77215<extra></extra>",
         "lat": [
          31.60132,
          31.66238
         ],
         "legendgroup": "OD",
         "line": {
          "color": "blue",
          "width": 3.153022556882217
         },
         "lon": [
          120.9125,
          118.4845
         ],
         "mode": "lines",
         "name": "OD",
         "showlegend": false,
         "type": "scattermap"
        },
        {
         "hovertemplate": "Quantity: 76249<extra></extra>",
         "lat": [
          31.60132,
          34.74348
         ],
         "legendgroup": "OD",
         "line": {
          "color": "blue",
          "width": 3.113576597030528
         },
         "lon": [
          120.9125,
          113.7171
         ],
         "mode": "lines",
         "name": "OD",
         "showlegend": false,
         "type": "scattermap"
        },
        {
         "hovertemplate": "Quantity: 76129<extra></extra>",
         "lat": [
          31.60132,
          41.82855
         ],
         "legendgroup": "OD",
         "line": {
          "color": "blue",
          "width": 3.108676477794293
         },
         "lon": [
          120.9125,
          123.5238
         ],
         "mode": "lines",
         "name": "OD",
         "showlegend": false,
         "type": "scattermap"
        },
        {
         "hovertemplate": "Quantity: 75262<extra></extra>",
         "lat": [
          31.60132,
          36.73794
         ],
         "legendgroup": "OD",
         "line": {
          "color": "blue",
          "width": 3.073273116312497
         },
         "lon": [
          120.9125,
          119.0358
         ],
         "mode": "lines",
         "name": "OD",
         "showlegend": false,
         "type": "scattermap"
        },
        {
         "hovertemplate": "Quantity: 74819<extra></extra>",
         "lat": [
          31.60132,
          36.64308
         ],
         "legendgroup": "OD",
         "line": {
          "color": "blue",
          "width": 3.0551835094653965
         },
         "lon": [
          120.9125,
          116.857
         ],
         "mode": "lines",
         "name": "OD",
         "showlegend": false,
         "type": "scattermap"
        },
        {
         "hovertemplate": "Quantity: 74282<extra></extra>",
         "lat": [
          31.60132,
          39.85929
         ],
         "legendgroup": "OD",
         "line": {
          "color": "blue",
          "width": 3.033255475883246
         },
         "lon": [
          120.9125,
          116.4707
         ],
         "mode": "lines",
         "name": "OD",
         "showlegend": false,
         "type": "scattermap"
        },
        {
         "hovertemplate": "Quantity: 73094<extra></extra>",
         "lat": [
          31.60132,
          35.74759
         ],
         "legendgroup": "OD",
         "line": {
          "color": "blue",
          "width": 2.9847442954445222
         },
         "lon": [
          120.9125,
          115.0775
         ],
         "mode": "lines",
         "name": "OD",
         "showlegend": false,
         "type": "scattermap"
        },
        {
         "hovertemplate": "Quantity: 72654<extra></extra>",
         "lat": [
          31.60132,
          43.85704
         ],
         "legendgroup": "OD",
         "line": {
          "color": "blue",
          "width": 2.9667771915783288
         },
         "lon": [
          120.9125,
          87.53245
         ],
         "mode": "lines",
         "name": "OD",
         "showlegend": false,
         "type": "scattermap"
        },
        {
         "hovertemplate": "Quantity: 71264<extra></extra>",
         "lat": [
          31.60132,
          39.52418
         ],
         "legendgroup": "OD",
         "line": {
          "color": "blue",
          "width": 2.9100174770919423
         },
         "lon": [
          120.9125,
          118.0917
         ],
         "mode": "lines",
         "name": "OD",
         "showlegend": false,
         "type": "scattermap"
        },
        {
         "hovertemplate": "Quantity: 71009<extra></extra>",
         "lat": [
          31.60132,
          43.85704
         ],
         "legendgroup": "OD",
         "line": {
          "color": "blue",
          "width": 2.8996047237149436
         },
         "lon": [
          120.9125,
          87.53245
         ],
         "mode": "lines",
         "name": "OD",
         "showlegend": false,
         "type": "scattermap"
        },
        {
         "hovertemplate": "Quantity: 70430<extra></extra>",
         "lat": [
          31.60132,
          36.04397
         ],
         "legendgroup": "OD",
         "line": {
          "color": "blue",
          "width": 2.875961648400111
         },
         "lon": [
          120.9125,
          103.91
         ],
         "mode": "lines",
         "name": "OD",
         "showlegend": false,
         "type": "scattermap"
        },
        {
         "hovertemplate": "Quantity: 68875<extra></extra>",
         "lat": [
          31.60132,
          45.74223
         ],
         "legendgroup": "OD",
         "line": {
          "color": "blue",
          "width": 2.812464269963902
         },
         "lon": [
          120.9125,
          126.6237
         ],
         "mode": "lines",
         "name": "OD",
         "showlegend": false,
         "type": "scattermap"
        },
        {
         "hovertemplate": "Quantity: 68222<extra></extra>",
         "lat": [
          31.60132,
          33.58913
         ],
         "legendgroup": "OD",
         "line": {
          "color": "blue",
          "width": 2.7857994544533913
         },
         "lon": [
          120.9125,
          119.0793
         ],
         "mode": "lines",
         "name": "OD",
         "showlegend": false,
         "type": "scattermap"
        },
        {
         "hovertemplate": "Quantity: 68176<extra></extra>",
         "lat": [
          31.60132,
          30.68944
         ],
         "legendgroup": "OD",
         "line": {
          "color": "blue",
          "width": 2.7839210754128354
         },
         "lon": [
          120.9125,
          104.1816
         ],
         "mode": "lines",
         "name": "OD",
         "showlegend": false,
         "type": "scattermap"
        },
        {
         "hovertemplate": "Quantity: 67682<extra></extra>",
         "lat": [
          31.60132,
          41.82855
         ],
         "legendgroup": "OD",
         "line": {
          "color": "blue",
          "width": 2.763748917890335
         },
         "lon": [
          120.9125,
          123.5238
         ],
         "mode": "lines",
         "name": "OD",
         "showlegend": false,
         "type": "scattermap"
        },
        {
         "hovertemplate": "Quantity: 66238<extra></extra>",
         "lat": [
          31.60132,
          36.04397
         ],
         "legendgroup": "OD",
         "line": {
          "color": "blue",
          "width": 2.7047841497476437
         },
         "lon": [
          120.9125,
          103.91
         ],
         "mode": "lines",
         "name": "OD",
         "showlegend": false,
         "type": "scattermap"
        },
        {
         "hovertemplate": "Quantity: 66066<extra></extra>",
         "lat": [
          31.60132,
          31.6025
         ],
         "legendgroup": "OD",
         "line": {
          "color": "blue",
          "width": 2.6977606455090406
         },
         "lon": [
          120.9125,
          120.9008
         ],
         "mode": "lines",
         "name": "OD",
         "showlegend": false,
         "type": "scattermap"
        },
        {
         "hovertemplate": "Quantity: 66001<extra></extra>",
         "lat": [
          31.60132,
          32.41468
         ],
         "legendgroup": "OD",
         "line": {
          "color": "blue",
          "width": 2.6951064142560806
         },
         "lon": [
          120.9125,
          104.5354
         ],
         "mode": "lines",
         "name": "OD",
         "showlegend": false,
         "type": "scattermap"
        },
        {
         "hovertemplate": "Quantity: 65782<extra></extra>",
         "lat": [
          31.60132,
          37.8686
         ],
         "legendgroup": "OD",
         "line": {
          "color": "blue",
          "width": 2.686163696649952
         },
         "lon": [
          120.9125,
          112.6184
         ],
         "mode": "lines",
         "name": "OD",
         "showlegend": false,
         "type": "scattermap"
        },
        {
         "hovertemplate": "Quantity: 65448<extra></extra>",
         "lat": [
          31.60132,
          30.37639
         ],
         "legendgroup": "OD",
         "line": {
          "color": "blue",
          "width": 2.672525031442432
         },
         "lon": [
          120.9125,
          120.1698
         ],
         "mode": "lines",
         "name": "OD",
         "showlegend": false,
         "type": "scattermap"
        },
        {
         "hovertemplate": "Quantity: 64332<extra></extra>",
         "lat": [
          31.60132,
          27.79889
         ],
         "legendgroup": "OD",
         "line": {
          "color": "blue",
          "width": 2.6269539225454483
         },
         "lon": [
          120.9125,
          113.1612
         ],
         "mode": "lines",
         "name": "OD",
         "showlegend": false,
         "type": "scattermap"
        },
        {
         "hovertemplate": "Quantity: 63915<extra></extra>",
         "lat": [
          31.60132,
          39.85929
         ],
         "legendgroup": "OD",
         "line": {
          "color": "blue",
          "width": 2.609926008199533
         },
         "lon": [
          120.9125,
          116.4707
         ],
         "mode": "lines",
         "name": "OD",
         "showlegend": false,
         "type": "scattermap"
        },
        {
         "hovertemplate": "Quantity: 63772<extra></extra>",
         "lat": [
          31.60132,
          39.52418
         ],
         "legendgroup": "OD",
         "line": {
          "color": "blue",
          "width": 2.6040866994430196
         },
         "lon": [
          120.9125,
          118.0917
         ],
         "mode": "lines",
         "name": "OD",
         "showlegend": false,
         "type": "scattermap"
        },
        {
         "hovertemplate": "Quantity: 63349<extra></extra>",
         "lat": [
          31.60132,
          39.10089
         ],
         "legendgroup": "OD",
         "line": {
          "color": "blue",
          "width": 2.5868137791352925
         },
         "lon": [
          120.9125,
          117.2588
         ],
         "mode": "lines",
         "name": "OD",
         "showlegend": false,
         "type": "scattermap"
        },
        {
         "hovertemplate": "Quantity: 63002<extra></extra>",
         "lat": [
          31.60132,
          38.84227
         ],
         "legendgroup": "OD",
         "line": {
          "color": "blue",
          "width": 2.57264426767718
         },
         "lon": [
          120.9125,
          115.5125
         ],
         "mode": "lines",
         "name": "OD",
         "showlegend": false,
         "type": "scattermap"
        },
        {
         "hovertemplate": "Quantity: 62036<extra></extra>",
         "lat": [
          31.60132,
          32.04472
         ],
         "legendgroup": "OD",
         "line": {
          "color": "blue",
          "width": 2.5331983078254905
         },
         "lon": [
          120.9125,
          112.1553
         ],
         "mode": "lines",
         "name": "OD",
         "showlegend": false,
         "type": "scattermap"
        },
        {
         "hovertemplate": "Quantity: 61951<extra></extra>",
         "lat": [
          31.60132,
          32.45936
         ],
         "legendgroup": "OD",
         "line": {
          "color": "blue",
          "width": 2.529727390033157
         },
         "lon": [
          120.9125,
          119.9178
         ],
         "mode": "lines",
         "name": "OD",
         "showlegend": false,
         "type": "scattermap"
        },
        {
         "hovertemplate": "Quantity: 61489<extra></extra>",
         "lat": [
          31.60132,
          37.8686
         ],
         "legendgroup": "OD",
         "line": {
          "color": "blue",
          "width": 2.5108619309736535
         },
         "lon": [
          120.9125,
          112.6184
         ],
         "mode": "lines",
         "name": "OD",
         "showlegend": false,
         "type": "scattermap"
        },
        {
         "hovertemplate": "Quantity: 61306<extra></extra>",
         "lat": [
          31.60132,
          38.01142
         ],
         "legendgroup": "OD",
         "line": {
          "color": "blue",
          "width": 2.5033892491383956
         },
         "lon": [
          120.9125,
          114.5071
         ],
         "mode": "lines",
         "name": "OD",
         "showlegend": false,
         "type": "scattermap"
        },
        {
         "hovertemplate": "Quantity: 61292<extra></extra>",
         "lat": [
          31.60132,
          39.04403
         ],
         "legendgroup": "OD",
         "line": {
          "color": "blue",
          "width": 2.502817568560835
         },
         "lon": [
          120.9125,
          121.6366
         ],
         "mode": "lines",
         "name": "OD",
         "showlegend": false,
         "type": "scattermap"
        },
        {
         "hovertemplate": "Quantity: 61144<extra></extra>",
         "lat": [
          31.60132,
          36.62035
         ],
         "legendgroup": "OD",
         "line": {
          "color": "blue",
          "width": 2.496774088169479
         },
         "lon": [
          120.9125,
          114.4945
         ],
         "mode": "lines",
         "name": "OD",
         "showlegend": false,
         "type": "scattermap"
        },
        {
         "hovertemplate": "Quantity: 61088<extra></extra>",
         "lat": [
          31.60132,
          38.01142
         ],
         "legendgroup": "OD",
         "line": {
          "color": "blue",
          "width": 2.4944873658592357
         },
         "lon": [
          120.9125,
          114.5071
         ],
         "mode": "lines",
         "name": "OD",
         "showlegend": false,
         "type": "scattermap"
        },
        {
         "hovertemplate": "Quantity: 61055<extra></extra>",
         "lat": [
          31.60132,
          31.50323
         ],
         "legendgroup": "OD",
         "line": {
          "color": "blue",
          "width": 2.4931398330692716
         },
         "lon": [
          120.9125,
          120.3923
         ],
         "mode": "lines",
         "name": "OD",
         "showlegend": false,
         "type": "scattermap"
        },
        {
         "hovertemplate": "Quantity: 60764<extra></extra>",
         "lat": [
          31.60132,
          32.41468
         ],
         "legendgroup": "OD",
         "line": {
          "color": "blue",
          "width": 2.481257043921402
         },
         "lon": [
          120.9125,
          104.5354
         ],
         "mode": "lines",
         "name": "OD",
         "showlegend": false,
         "type": "scattermap"
        },
        {
         "hovertemplate": "Quantity: 60724<extra></extra>",
         "lat": [
          31.60132,
          37.91037
         ],
         "legendgroup": "OD",
         "line": {
          "color": "blue",
          "width": 2.479623670842657
         },
         "lon": [
          120.9125,
          112.5177
         ],
         "mode": "lines",
         "name": "OD",
         "showlegend": false,
         "type": "scattermap"
        },
        {
         "hovertemplate": "Quantity: 60585<extra></extra>",
         "lat": [
          31.60132,
          30.68944
         ],
         "legendgroup": "OD",
         "line": {
          "color": "blue",
          "width": 2.4739476993940186
         },
         "lon": [
          120.9125,
          104.1816
         ],
         "mode": "lines",
         "name": "OD",
         "showlegend": false,
         "type": "scattermap"
        },
        {
         "hovertemplate": "Quantity: 60422<extra></extra>",
         "lat": [
          31.60132,
          36.04397
         ],
         "legendgroup": "OD",
         "line": {
          "color": "blue",
          "width": 2.467291704098133
         },
         "lon": [
          120.9125,
          103.91
         ],
         "mode": "lines",
         "name": "OD",
         "showlegend": false,
         "type": "scattermap"
        },
        {
         "hovertemplate": "Quantity: 60116<extra></extra>",
         "lat": [
          31.60132,
          30.37639
         ],
         "legendgroup": "OD",
         "line": {
          "color": "blue",
          "width": 2.4547964000457343
         },
         "lon": [
          120.9125,
          120.1698
         ],
         "mode": "lines",
         "name": "OD",
         "showlegend": false,
         "type": "scattermap"
        },
        {
         "hovertemplate": "Quantity: 60056<extra></extra>",
         "lat": [
          31.60132,
          31.30913
         ],
         "legendgroup": "OD",
         "line": {
          "color": "blue",
          "width": 2.452346340427617
         },
         "lon": [
          120.9125,
          121.3927
         ],
         "mode": "lines",
         "name": "OD",
         "showlegend": false,
         "type": "scattermap"
        },
        {
         "hovertemplate": "Quantity: 59731<extra></extra>",
         "lat": [
          31.60132,
          33.58913
         ],
         "legendgroup": "OD",
         "line": {
          "color": "blue",
          "width": 2.4390751841628147
         },
         "lon": [
          120.9125,
          119.0793
         ],
         "mode": "lines",
         "name": "OD",
         "showlegend": false,
         "type": "scattermap"
        },
        {
         "hovertemplate": "Quantity: 59127<extra></extra>",
         "lat": [
          31.60132,
          43.93276
         ],
         "legendgroup": "OD",
         "line": {
          "color": "blue",
          "width": 2.4144112506737665
         },
         "lon": [
          120.9125,
          125.299
         ],
         "mode": "lines",
         "name": "OD",
         "showlegend": false,
         "type": "scattermap"
        },
        {
         "hovertemplate": "Quantity: 59057<extra></extra>",
         "lat": [
          31.60132,
          30.61364
         ],
         "legendgroup": "OD",
         "line": {
          "color": "blue",
          "width": 2.4115528477859627
         },
         "lon": [
          120.9125,
          114.2449
         ],
         "mode": "lines",
         "name": "OD",
         "showlegend": false,
         "type": "scattermap"
        },
        {
         "hovertemplate": "Quantity: 58623<extra></extra>",
         "lat": [
          31.60132,
          31.00253
         ],
         "legendgroup": "OD",
         "line": {
          "color": "blue",
          "width": 2.3938307498815807
         },
         "lon": [
          120.9125,
          121.5149
         ],
         "mode": "lines",
         "name": "OD",
         "showlegend": false,
         "type": "scattermap"
        },
        {
         "hovertemplate": "Quantity: 58573<extra></extra>",
         "lat": [
          31.60132,
          32.00261
         ],
         "legendgroup": "OD",
         "line": {
          "color": "blue",
          "width": 2.3917890335331493
         },
         "lon": [
          120.9125,
          118.8661
         ],
         "mode": "lines",
         "name": "OD",
         "showlegend": false,
         "type": "scattermap"
        },
        {
         "hovertemplate": "Quantity: 57789<extra></extra>",
         "lat": [
          31.60132,
          36.64308
         ],
         "legendgroup": "OD",
         "line": {
          "color": "blue",
          "width": 2.359774921189749
         },
         "lon": [
          120.9125,
          116.857
         ],
         "mode": "lines",
         "name": "OD",
         "showlegend": false,
         "type": "scattermap"
        },
        {
         "hovertemplate": "Quantity: 57011<extra></extra>",
         "lat": [
          31.60132,
          36.62035
         ],
         "legendgroup": "OD",
         "line": {
          "color": "blue",
          "width": 2.32800581480816
         },
         "lon": [
          120.9125,
          114.4945
         ],
         "mode": "lines",
         "name": "OD",
         "showlegend": false,
         "type": "scattermap"
        },
        {
         "hovertemplate": "Quantity: 56992<extra></extra>",
         "lat": [
          31.60132,
          29.93326
         ],
         "legendgroup": "OD",
         "line": {
          "color": "blue",
          "width": 2.3272299625957564
         },
         "lon": [
          120.9125,
          121.6062
         ],
         "mode": "lines",
         "name": "OD",
         "showlegend": false,
         "type": "scattermap"
        },
        {
         "hovertemplate": "Quantity: 56968<extra></extra>",
         "lat": [
          31.60132,
          31.89018
         ],
         "legendgroup": "OD",
         "line": {
          "color": "blue",
          "width": 2.3262499387485094
         },
         "lon": [
          120.9125,
          117.3539
         ],
         "mode": "lines",
         "name": "OD",
         "showlegend": false,
         "type": "scattermap"
        },
        {
         "hovertemplate": "Quantity: 55701<extra></extra>",
         "lat": [
          31.60132,
          41.82855
         ],
         "legendgroup": "OD",
         "line": {
          "color": "blue",
          "width": 2.2745128464792645
         },
         "lon": [
          120.9125,
          123.5238
         ],
         "mode": "lines",
         "name": "OD",
         "showlegend": false,
         "type": "scattermap"
        },
        {
         "hovertemplate": "Quantity: 55300<extra></extra>",
         "lat": [
          31.60132,
          28.21001
         ],
         "legendgroup": "OD",
         "line": {
          "color": "blue",
          "width": 2.2581382813648467
         },
         "lon": [
          120.9125,
          113.0253
         ],
         "mode": "lines",
         "name": "OD",
         "showlegend": false,
         "type": "scattermap"
        },
        {
         "hovertemplate": "Quantity: 55287<extra></extra>",
         "lat": [
          31.60132,
          31.89018
         ],
         "legendgroup": "OD",
         "line": {
          "color": "blue",
          "width": 2.2576074351142545
         },
         "lon": [
          120.9125,
          117.3539
         ],
         "mode": "lines",
         "name": "OD",
         "showlegend": false,
         "type": "scattermap"
        },
        {
         "hovertemplate": "Quantity: 55230<extra></extra>",
         "lat": [
          31.60132,
          36.04397
         ],
         "legendgroup": "OD",
         "line": {
          "color": "blue",
          "width": 2.255279878477043
         },
         "lon": [
          120.9125,
          103.91
         ],
         "mode": "lines",
         "name": "OD",
         "showlegend": false,
         "type": "scattermap"
        },
        {
         "hovertemplate": "Quantity: 55188<extra></extra>",
         "lat": [
          31.60132,
          43.85704
         ],
         "legendgroup": "OD",
         "line": {
          "color": "blue",
          "width": 2.253564836744361
         },
         "lon": [
          120.9125,
          87.53245
         ],
         "mode": "lines",
         "name": "OD",
         "showlegend": false,
         "type": "scattermap"
        },
        {
         "hovertemplate": "Quantity: 54966<extra></extra>",
         "lat": [
          31.60132,
          36.04397
         ],
         "legendgroup": "OD",
         "line": {
          "color": "blue",
          "width": 2.2444996161573267
         },
         "lon": [
          120.9125,
          103.91
         ],
         "mode": "lines",
         "name": "OD",
         "showlegend": false,
         "type": "scattermap"
        },
        {
         "hovertemplate": "Quantity: 54318<extra></extra>",
         "lat": [
          31.60132,
          35.74759
         ],
         "legendgroup": "OD",
         "line": {
          "color": "blue",
          "width": 2.2180389722816587
         },
         "lon": [
          120.9125,
          115.0775
         ],
         "mode": "lines",
         "name": "OD",
         "showlegend": false,
         "type": "scattermap"
        },
        {
         "hovertemplate": "Quantity: 54297<extra></extra>",
         "lat": [
          31.60132,
          34.74348
         ],
         "legendgroup": "OD",
         "line": {
          "color": "blue",
          "width": 2.2171814514153176
         },
         "lon": [
          120.9125,
          113.7171
         ],
         "mode": "lines",
         "name": "OD",
         "showlegend": false,
         "type": "scattermap"
        },
        {
         "hovertemplate": "Quantity: 54254<extra></extra>",
         "lat": [
          31.60132,
          38.84227
         ],
         "legendgroup": "OD",
         "line": {
          "color": "blue",
          "width": 2.215425575355667
         },
         "lon": [
          120.9125,
          115.5125
         ],
         "mode": "lines",
         "name": "OD",
         "showlegend": false,
         "type": "scattermap"
        },
        {
         "hovertemplate": "Quantity: 54220<extra></extra>",
         "lat": [
          31.60132,
          31.6025
         ],
         "legendgroup": "OD",
         "line": {
          "color": "blue",
          "width": 2.214037208238734
         },
         "lon": [
          120.9125,
          120.9008
         ],
         "mode": "lines",
         "name": "OD",
         "showlegend": false,
         "type": "scattermap"
        },
        {
         "hovertemplate": "Quantity: 53623<extra></extra>",
         "lat": [
          31.60132,
          34.74358
         ],
         "legendgroup": "OD",
         "line": {
          "color": "blue",
          "width": 2.1896591150384657
         },
         "lon": [
          120.9125,
          113.7175
         ],
         "mode": "lines",
         "name": "OD",
         "showlegend": false,
         "type": "scattermap"
        },
        {
         "hovertemplate": "Quantity: 53552<extra></extra>",
         "lat": [
          31.60132,
          30.61364
         ],
         "legendgroup": "OD",
         "line": {
          "color": "blue",
          "width": 2.1867598778236936
         },
         "lon": [
          120.9125,
          114.2449
         ],
         "mode": "lines",
         "name": "OD",
         "showlegend": false,
         "type": "scattermap"
        },
        {
         "hovertemplate": "Quantity: 53395<extra></extra>",
         "lat": [
          31.60132,
          34.28265
         ],
         "legendgroup": "OD",
         "line": {
          "color": "blue",
          "width": 2.18034888848962
         },
         "lon": [
          120.9125,
          109.0334
         ],
         "mode": "lines",
         "name": "OD",
         "showlegend": false,
         "type": "scattermap"
        },
        {
         "hovertemplate": "Quantity: 52646<extra></extra>",
         "lat": [
          31.60132,
          43.93276
         ],
         "legendgroup": "OD",
         "line": {
          "color": "blue",
          "width": 2.1497639775901214
         },
         "lon": [
          120.9125,
          125.299
         ],
         "mode": "lines",
         "name": "OD",
         "showlegend": false,
         "type": "scattermap"
        },
        {
         "hovertemplate": "Quantity: 52307<extra></extra>",
         "lat": [
          31.60132,
          39.10089
         ],
         "legendgroup": "OD",
         "line": {
          "color": "blue",
          "width": 2.135921140747758
         },
         "lon": [
          120.9125,
          117.2588
         ],
         "mode": "lines",
         "name": "OD",
         "showlegend": false,
         "type": "scattermap"
        },
        {
         "hovertemplate": "Quantity: 52223<extra></extra>",
         "lat": [
          31.60132,
          31.30913
         ],
         "legendgroup": "OD",
         "line": {
          "color": "blue",
          "width": 2.132491057282394
         },
         "lon": [
          120.9125,
          121.3927
         ],
         "mode": "lines",
         "name": "OD",
         "showlegend": false,
         "type": "scattermap"
        },
        {
         "hovertemplate": "Quantity: 51800<extra></extra>",
         "lat": [
          31.60132,
          29.93326
         ],
         "legendgroup": "OD",
         "line": {
          "color": "blue",
          "width": 2.1152181369746663
         },
         "lon": [
          120.9125,
          121.6062
         ],
         "mode": "lines",
         "name": "OD",
         "showlegend": false,
         "type": "scattermap"
        },
        {
         "hovertemplate": "Quantity: 51066<extra></extra>",
         "lat": [
          31.60132,
          32.41468
         ],
         "legendgroup": "OD",
         "line": {
          "color": "blue",
          "width": 2.085245740979697
         },
         "lon": [
          120.9125,
          104.5354
         ],
         "mode": "lines",
         "name": "OD",
         "showlegend": false,
         "type": "scattermap"
        },
        {
         "hovertemplate": "Quantity: 50967<extra></extra>",
         "lat": [
          31.60132,
          31.50323
         ],
         "legendgroup": "OD",
         "line": {
          "color": "blue",
          "width": 2.0812031426098034
         },
         "lon": [
          120.9125,
          120.3923
         ],
         "mode": "lines",
         "name": "OD",
         "showlegend": false,
         "type": "scattermap"
        },
        {
         "hovertemplate": "Quantity: 49956<extra></extra>",
         "lat": [
          31.60132,
          31.89946
         ],
         "legendgroup": "OD",
         "line": {
          "color": "blue",
          "width": 2.039919638044526
         },
         "lon": [
          120.9125,
          117.3595
         ],
         "mode": "lines",
         "name": "OD",
         "showlegend": false,
         "type": "scattermap"
        },
        {
         "hovertemplate": "Quantity: 49901<extra></extra>",
         "lat": [
          31.60132,
          31.00253
         ],
         "legendgroup": "OD",
         "line": {
          "color": "blue",
          "width": 2.0376737500612516
         },
         "lon": [
          120.9125,
          121.5149
         ],
         "mode": "lines",
         "name": "OD",
         "showlegend": false,
         "type": "scattermap"
        },
        {
         "hovertemplate": "Quantity: 49232<extra></extra>",
         "lat": [
          31.60132,
          39.04403
         ],
         "legendgroup": "OD",
         "line": {
          "color": "blue",
          "width": 2.010355585319243
         },
         "lon": [
          120.9125,
          121.6366
         ],
         "mode": "lines",
         "name": "OD",
         "showlegend": false,
         "type": "scattermap"
        },
        {
         "hovertemplate": "Quantity: 49073<extra></extra>",
         "lat": [
          31.60132,
          28.58094
         ],
         "legendgroup": "OD",
         "line": {
          "color": "blue",
          "width": 2.0038629273312316
         },
         "lon": [
          120.9125,
          115.9156
         ],
         "mode": "lines",
         "name": "OD",
         "showlegend": false,
         "type": "scattermap"
        },
        {
         "hovertemplate": "Quantity: 48650<extra></extra>",
         "lat": [
          31.60132,
          34.74348
         ],
         "legendgroup": "OD",
         "line": {
          "color": "blue",
          "width": 1.9865900070235043
         },
         "lon": [
          120.9125,
          113.7171
         ],
         "mode": "lines",
         "name": "OD",
         "showlegend": false,
         "type": "scattermap"
        },
        {
         "hovertemplate": "Quantity: 48394<extra></extra>",
         "lat": [
          31.60132,
          24.32327
         ],
         "legendgroup": "OD",
         "line": {
          "color": "blue",
          "width": 1.9761364193195368
         },
         "lon": [
          120.9125,
          109.4133
         ],
         "mode": "lines",
         "name": "OD",
         "showlegend": false,
         "type": "scattermap"
        },
        {
         "hovertemplate": "Quantity: 48392<extra></extra>",
         "lat": [
          31.60132,
          43.85704
         ],
         "legendgroup": "OD",
         "line": {
          "color": "blue",
          "width": 1.9760547506655994
         },
         "lon": [
          120.9125,
          87.53245
         ],
         "mode": "lines",
         "name": "OD",
         "showlegend": false,
         "type": "scattermap"
        },
        {
         "hovertemplate": "Quantity: 48166<extra></extra>",
         "lat": [
          31.60132,
          34.74348
         ],
         "legendgroup": "OD",
         "line": {
          "color": "blue",
          "width": 1.9668261927706907
         },
         "lon": [
          120.9125,
          113.7171
         ],
         "mode": "lines",
         "name": "OD",
         "showlegend": false,
         "type": "scattermap"
        },
        {
         "hovertemplate": "Quantity: 48132<extra></extra>",
         "lat": [
          31.60132,
          30.37639
         ],
         "legendgroup": "OD",
         "line": {
          "color": "blue",
          "width": 1.9654378256537575
         },
         "lon": [
          120.9125,
          120.1698
         ],
         "mode": "lines",
         "name": "OD",
         "showlegend": false,
         "type": "scattermap"
        },
        {
         "hovertemplate": "Quantity: 47425<extra></extra>",
         "lat": [
          31.60132,
          36.73794
         ],
         "legendgroup": "OD",
         "line": {
          "color": "blue",
          "width": 1.9365679564869411
         },
         "lon": [
          120.9125,
          119.0358
         ],
         "mode": "lines",
         "name": "OD",
         "showlegend": false,
         "type": "scattermap"
        },
        {
         "hovertemplate": "Quantity: 46171<extra></extra>",
         "lat": [
          31.60132,
          31.89018
         ],
         "legendgroup": "OD",
         "line": {
          "color": "blue",
          "width": 1.8853617104682878
         },
         "lon": [
          120.9125,
          117.3539
         ],
         "mode": "lines",
         "name": "OD",
         "showlegend": false,
         "type": "scattermap"
        },
        {
         "hovertemplate": "Quantity: 45850<extra></extra>",
         "lat": [
          31.60132,
          30.61364
         ],
         "legendgroup": "OD",
         "line": {
          "color": "blue",
          "width": 1.87225389151136
         },
         "lon": [
          120.9125,
          114.2449
         ],
         "mode": "lines",
         "name": "OD",
         "showlegend": false,
         "type": "scattermap"
        },
        {
         "hovertemplate": "Quantity: 45759<extra></extra>",
         "lat": [
          31.60132,
          32.04472
         ],
         "legendgroup": "OD",
         "line": {
          "color": "blue",
          "width": 1.8685379677572154
         },
         "lon": [
          120.9125,
          112.1553
         ],
         "mode": "lines",
         "name": "OD",
         "showlegend": false,
         "type": "scattermap"
        },
        {
         "hovertemplate": "Quantity: 45711<extra></extra>",
         "lat": [
          31.60132,
          32.04472
         ],
         "legendgroup": "OD",
         "line": {
          "color": "blue",
          "width": 1.8665779200627217
         },
         "lon": [
          120.9125,
          112.1553
         ],
         "mode": "lines",
         "name": "OD",
         "showlegend": false,
         "type": "scattermap"
        },
        {
         "hovertemplate": "Quantity: 45660<extra></extra>",
         "lat": [
          31.60132,
          34.57746
         ],
         "legendgroup": "OD",
         "line": {
          "color": "blue",
          "width": 1.8644953693873219
         },
         "lon": [
          120.9125,
          119.1694
         ],
         "mode": "lines",
         "name": "OD",
         "showlegend": false,
         "type": "scattermap"
        },
        {
         "hovertemplate": "Quantity: 45638<extra></extra>",
         "lat": [
          31.60132,
          41.82855
         ],
         "legendgroup": "OD",
         "line": {
          "color": "blue",
          "width": 1.863597014194012
         },
         "lon": [
          120.9125,
          123.5238
         ],
         "mode": "lines",
         "name": "OD",
         "showlegend": false,
         "type": "scattermap"
        },
        {
         "hovertemplate": "Quantity: 45328<extra></extra>",
         "lat": [
          31.60132,
          28.58094
         ],
         "legendgroup": "OD",
         "line": {
          "color": "blue",
          "width": 1.850938372833739
         },
         "lon": [
          120.9125,
          115.9156
         ],
         "mode": "lines",
         "name": "OD",
         "showlegend": false,
         "type": "scattermap"
        },
        {
         "hovertemplate": "Quantity: 44790<extra></extra>",
         "lat": [
          31.60132,
          31.00253
         ],
         "legendgroup": "OD",
         "line": {
          "color": "blue",
          "width": 1.82896950492462
         },
         "lon": [
          120.9125,
          121.5149
         ],
         "mode": "lines",
         "name": "OD",
         "showlegend": false,
         "type": "scattermap"
        },
        {
         "hovertemplate": "Quantity: 44722<extra></extra>",
         "lat": [
          31.60132,
          41.82855
         ],
         "legendgroup": "OD",
         "line": {
          "color": "blue",
          "width": 1.8261927706907535
         },
         "lon": [
          120.9125,
          123.5238
         ],
         "mode": "lines",
         "name": "OD",
         "showlegend": false,
         "type": "scattermap"
        },
        {
         "hovertemplate": "Quantity: 44594<extra></extra>",
         "lat": [
          31.60132,
          37.8686
         ],
         "legendgroup": "OD",
         "line": {
          "color": "blue",
          "width": 1.8209659768387698
         },
         "lon": [
          120.9125,
          112.6184
         ],
         "mode": "lines",
         "name": "OD",
         "showlegend": false,
         "type": "scattermap"
        },
        {
         "hovertemplate": "Quantity: 44333<extra></extra>",
         "lat": [
          31.60132,
          31.00253
         ],
         "legendgroup": "OD",
         "line": {
          "color": "blue",
          "width": 1.810308217499959
         },
         "lon": [
          120.9125,
          121.5149
         ],
         "mode": "lines",
         "name": "OD",
         "showlegend": false,
         "type": "scattermap"
        },
        {
         "hovertemplate": "Quantity: 44087<extra></extra>",
         "lat": [
          31.60132,
          34.74348
         ],
         "legendgroup": "OD",
         "line": {
          "color": "blue",
          "width": 1.800262973065678
         },
         "lon": [
          120.9125,
          113.7171
         ],
         "mode": "lines",
         "name": "OD",
         "showlegend": false,
         "type": "scattermap"
        },
        {
         "hovertemplate": "Quantity: 43357<extra></extra>",
         "lat": [
          31.60132,
          43.85704
         ],
         "legendgroup": "OD",
         "line": {
          "color": "blue",
          "width": 1.7704539143785833
         },
         "lon": [
          120.9125,
          87.53245
         ],
         "mode": "lines",
         "name": "OD",
         "showlegend": false,
         "type": "scattermap"
        },
        {
         "hovertemplate": "Quantity: 43099<extra></extra>",
         "lat": [
          31.60132,
          39.10089
         ],
         "legendgroup": "OD",
         "line": {
          "color": "blue",
          "width": 1.7599186580206785
         },
         "lon": [
          120.9125,
          117.2588
         ],
         "mode": "lines",
         "name": "OD",
         "showlegend": false,
         "type": "scattermap"
        },
        {
         "hovertemplate": "Quantity: 42801<extra></extra>",
         "lat": [
          31.60132,
          37.91037
         ],
         "legendgroup": "OD",
         "line": {
          "color": "blue",
          "width": 1.7477500285840288
         },
         "lon": [
          120.9125,
          112.5177
         ],
         "mode": "lines",
         "name": "OD",
         "showlegend": false,
         "type": "scattermap"
        },
        {
         "hovertemplate": "Quantity: 42356<extra></extra>",
         "lat": [
          31.60132,
          34.57746
         ],
         "legendgroup": "OD",
         "line": {
          "color": "blue",
          "width": 1.7295787530829918
         },
         "lon": [
          120.9125,
          119.1694
         ],
         "mode": "lines",
         "name": "OD",
         "showlegend": false,
         "type": "scattermap"
        },
        {
         "hovertemplate": "Quantity: 42354<extra></extra>",
         "lat": [
          31.60132,
          31.6025
         ],
         "legendgroup": "OD",
         "line": {
          "color": "blue",
          "width": 1.7294970844290545
         },
         "lon": [
          120.9125,
          120.9008
         ],
         "mode": "lines",
         "name": "OD",
         "showlegend": false,
         "type": "scattermap"
        },
        {
         "hovertemplate": "Quantity: 42178<extra></extra>",
         "lat": [
          31.60132,
          34.28265
         ],
         "legendgroup": "OD",
         "line": {
          "color": "blue",
          "width": 1.7223102428825767
         },
         "lon": [
          120.9125,
          109.0334
         ],
         "mode": "lines",
         "name": "OD",
         "showlegend": false,
         "type": "scattermap"
        },
        {
         "hovertemplate": "Quantity: 42020<extra></extra>",
         "lat": [
          31.60132,
          34.28265
         ],
         "legendgroup": "OD",
         "line": {
          "color": "blue",
          "width": 1.7158584192215343
         },
         "lon": [
          120.9125,
          109.0334
         ],
         "mode": "lines",
         "name": "OD",
         "showlegend": false,
         "type": "scattermap"
        },
        {
         "hovertemplate": "Quantity: 41529<extra></extra>",
         "lat": [
          31.60132,
          45.74223
         ],
         "legendgroup": "OD",
         "line": {
          "color": "blue",
          "width": 1.6958087646799405
         },
         "lon": [
          120.9125,
          126.6237
         ],
         "mode": "lines",
         "name": "OD",
         "showlegend": false,
         "type": "scattermap"
        },
        {
         "hovertemplate": "Quantity: 41431<extra></extra>",
         "lat": [
          31.60132,
          36.73794
         ],
         "legendgroup": "OD",
         "line": {
          "color": "blue",
          "width": 1.6918070006370156
         },
         "lon": [
          120.9125,
          119.0358
         ],
         "mode": "lines",
         "name": "OD",
         "showlegend": false,
         "type": "scattermap"
        },
        {
         "hovertemplate": "Quantity: 41415<extra></extra>",
         "lat": [
          31.60132,
          39.10089
         ],
         "legendgroup": "OD",
         "line": {
          "color": "blue",
          "width": 1.6911536514055174
         },
         "lon": [
          120.9125,
          117.2588
         ],
         "mode": "lines",
         "name": "OD",
         "showlegend": false,
         "type": "scattermap"
        },
        {
         "hovertemplate": "Quantity: 41329<extra></extra>",
         "lat": [
          31.60132,
          29.67056
         ],
         "legendgroup": "OD",
         "line": {
          "color": "blue",
          "width": 1.687641899286216
         },
         "lon": [
          120.9125,
          106.6263
         ],
         "mode": "lines",
         "name": "OD",
         "showlegend": false,
         "type": "scattermap"
        },
        {
         "hovertemplate": "Quantity: 41125<extra></extra>",
         "lat": [
          31.60132,
          28.59099
         ],
         "legendgroup": "OD",
         "line": {
          "color": "blue",
          "width": 1.6793116965846169
         },
         "lon": [
          120.9125,
          121.3567
         ],
         "mode": "lines",
         "name": "OD",
         "showlegend": false,
         "type": "scattermap"
        },
        {
         "hovertemplate": "Quantity: 41026<extra></extra>",
         "lat": [
          31.60132,
          29.61051
         ],
         "legendgroup": "OD",
         "line": {
          "color": "blue",
          "width": 1.6752690982147234
         },
         "lon": [
          120.9125,
          105.081
         ],
         "mode": "lines",
         "name": "OD",
         "showlegend": false,
         "type": "scattermap"
        },
        {
         "hovertemplate": "Quantity: 40615<extra></extra>",
         "lat": [
          31.60132,
          39.52418
         ],
         "legendgroup": "OD",
         "line": {
          "color": "blue",
          "width": 1.6584861898306191
         },
         "lon": [
          120.9125,
          118.0917
         ],
         "mode": "lines",
         "name": "OD",
         "showlegend": false,
         "type": "scattermap"
        },
        {
         "hovertemplate": "Quantity: 39799<extra></extra>",
         "lat": [
          31.60132,
          34.32337
         ],
         "legendgroup": "OD",
         "line": {
          "color": "blue",
          "width": 1.6251653790242229
         },
         "lon": [
          120.9125,
          109.0284
         ],
         "mode": "lines",
         "name": "OD",
         "showlegend": false,
         "type": "scattermap"
        },
        {
         "hovertemplate": "Quantity: 39782<extra></extra>",
         "lat": [
          31.60132,
          39.04403
         ],
         "legendgroup": "OD",
         "line": {
          "color": "blue",
          "width": 1.6244711954657565
         },
         "lon": [
          120.9125,
          121.6366
         ],
         "mode": "lines",
         "name": "OD",
         "showlegend": false,
         "type": "scattermap"
        },
        {
         "hovertemplate": "Quantity: 39672<extra></extra>",
         "lat": [
          31.60132,
          32.04472
         ],
         "legendgroup": "OD",
         "line": {
          "color": "blue",
          "width": 1.6199794194992079
         },
         "lon": [
          120.9125,
          112.1553
         ],
         "mode": "lines",
         "name": "OD",
         "showlegend": false,
         "type": "scattermap"
        },
        {
         "hovertemplate": "Quantity: 39636<extra></extra>",
         "lat": [
          31.60132,
          29.61051
         ],
         "legendgroup": "OD",
         "line": {
          "color": "blue",
          "width": 1.6185093837283373
         },
         "lon": [
          120.9125,
          105.081
         ],
         "mode": "lines",
         "name": "OD",
         "showlegend": false,
         "type": "scattermap"
        },
        {
         "hovertemplate": "Quantity: 39092<extra></extra>",
         "lat": [
          31.60132,
          35.74759
         ],
         "legendgroup": "OD",
         "line": {
          "color": "blue",
          "width": 1.5962955098574065
         },
         "lon": [
          120.9125,
          115.0775
         ],
         "mode": "lines",
         "name": "OD",
         "showlegend": false,
         "type": "scattermap"
        },
        {
         "hovertemplate": "Quantity: 39068<extra></extra>",
         "lat": [
          31.60132,
          29.67056
         ],
         "legendgroup": "OD",
         "line": {
          "color": "blue",
          "width": 1.5953154860101595
         },
         "lon": [
          120.9125,
          106.6263
         ],
         "mode": "lines",
         "name": "OD",
         "showlegend": false,
         "type": "scattermap"
        },
        {
         "hovertemplate": "Quantity: 38415<extra></extra>",
         "lat": [
          31.60132,
          29.61051
         ],
         "legendgroup": "OD",
         "line": {
          "color": "blue",
          "width": 1.568650670499649
         },
         "lon": [
          120.9125,
          105.081
         ],
         "mode": "lines",
         "name": "OD",
         "showlegend": false,
         "type": "scattermap"
        },
        {
         "hovertemplate": "Quantity: 37808<extra></extra>",
         "lat": [
          31.60132,
          32.41468
         ],
         "legendgroup": "OD",
         "line": {
          "color": "blue",
          "width": 1.5438642340296949
         },
         "lon": [
          120.9125,
          104.5354
         ],
         "mode": "lines",
         "name": "OD",
         "showlegend": false,
         "type": "scattermap"
        },
        {
         "hovertemplate": "Quantity: 37530<extra></extra>",
         "lat": [
          31.60132,
          43.93276
         ],
         "legendgroup": "OD",
         "line": {
          "color": "blue",
          "width": 1.5325122911324176
         },
         "lon": [
          120.9125,
          125.299
         ],
         "mode": "lines",
         "name": "OD",
         "showlegend": false,
         "type": "scattermap"
        },
        {
         "hovertemplate": "Quantity: 37327<extra></extra>",
         "lat": [
          31.60132,
          30.37639
         ],
         "legendgroup": "OD",
         "line": {
          "color": "blue",
          "width": 1.5242229227577873
         },
         "lon": [
          120.9125,
          120.1698
         ],
         "mode": "lines",
         "name": "OD",
         "showlegend": false,
         "type": "scattermap"
        },
        {
         "hovertemplate": "Quantity: 37245<extra></extra>",
         "lat": [
          31.60132,
          43.93276
         ],
         "legendgroup": "OD",
         "line": {
          "color": "blue",
          "width": 1.5208745079463601
         },
         "lon": [
          120.9125,
          125.299
         ],
         "mode": "lines",
         "name": "OD",
         "showlegend": false,
         "type": "scattermap"
        },
        {
         "hovertemplate": "Quantity: 37061<extra></extra>",
         "lat": [
          31.60132,
          32.04472
         ],
         "legendgroup": "OD",
         "line": {
          "color": "blue",
          "width": 1.5133609917841335
         },
         "lon": [
          120.9125,
          112.1553
         ],
         "mode": "lines",
         "name": "OD",
         "showlegend": false,
         "type": "scattermap"
        },
        {
         "hovertemplate": "Quantity: 36614<extra></extra>",
         "lat": [
          31.60132,
          38.01142
         ],
         "legendgroup": "OD",
         "line": {
          "color": "blue",
          "width": 1.495108047629159
         },
         "lon": [
          120.9125,
          114.5071
         ],
         "mode": "lines",
         "name": "OD",
         "showlegend": false,
         "type": "scattermap"
        },
        {
         "hovertemplate": "Quantity: 36587<extra></extra>",
         "lat": [
          31.60132,
          30.09205
         ],
         "legendgroup": "OD",
         "line": {
          "color": "blue",
          "width": 1.4940055208010061
         },
         "lon": [
          120.9125,
          103.8477
         ],
         "mode": "lines",
         "name": "OD",
         "showlegend": false,
         "type": "scattermap"
        },
        {
         "hovertemplate": "Quantity: 36442<extra></extra>",
         "lat": [
          31.60132,
          34.32337
         ],
         "legendgroup": "OD",
         "line": {
          "color": "blue",
          "width": 1.4880845433905558
         },
         "lon": [
          120.9125,
          109.0284
         ],
         "mode": "lines",
         "name": "OD",
         "showlegend": false,
         "type": "scattermap"
        },
        {
         "hovertemplate": "Quantity: 36193<extra></extra>",
         "lat": [
          31.60132,
          41.09658
         ],
         "legendgroup": "OD",
         "line": {
          "color": "blue",
          "width": 1.4779167959753687
         },
         "lon": [
          120.9125,
          121.1489
         ],
         "mode": "lines",
         "name": "OD",
         "showlegend": false,
         "type": "scattermap"
        },
        {
         "hovertemplate": "Quantity: 36191<extra></extra>",
         "lat": [
          31.60132,
          39.10089
         ],
         "legendgroup": "OD",
         "line": {
          "color": "blue",
          "width": 1.4778351273214316
         },
         "lon": [
          120.9125,
          117.2588
         ],
         "mode": "lines",
         "name": "OD",
         "showlegend": false,
         "type": "scattermap"
        },
        {
         "hovertemplate": "Quantity: 36182<extra></extra>",
         "lat": [
          31.60132,
          39.52418
         ],
         "legendgroup": "OD",
         "line": {
          "color": "blue",
          "width": 1.4774676183787139
         },
         "lon": [
          120.9125,
          118.0917
         ],
         "mode": "lines",
         "name": "OD",
         "showlegend": false,
         "type": "scattermap"
        },
        {
         "hovertemplate": "Quantity: 35649<extra></extra>",
         "lat": [
          31.60132,
          38.01142
         ],
         "legendgroup": "OD",
         "line": {
          "color": "blue",
          "width": 1.455702922104438
         },
         "lon": [
          120.9125,
          114.5071
         ],
         "mode": "lines",
         "name": "OD",
         "showlegend": false,
         "type": "scattermap"
        },
        {
         "hovertemplate": "Quantity: 34530<extra></extra>",
         "lat": [
          31.60132,
          28.21001
         ],
         "legendgroup": "OD",
         "line": {
          "color": "blue",
          "width": 1.4100093102265487
         },
         "lon": [
          120.9125,
          113.0253
         ],
         "mode": "lines",
         "name": "OD",
         "showlegend": false,
         "type": "scattermap"
        },
        {
         "hovertemplate": "Quantity: 34497<extra></extra>",
         "lat": [
          31.60132,
          34.74358
         ],
         "legendgroup": "OD",
         "line": {
          "color": "blue",
          "width": 1.4086617774365842
         },
         "lon": [
          120.9125,
          113.7175
         ],
         "mode": "lines",
         "name": "OD",
         "showlegend": false,
         "type": "scattermap"
        },
        {
         "hovertemplate": "Quantity: 34376<extra></extra>",
         "lat": [
          31.60132,
          32.99897
         ],
         "legendgroup": "OD",
         "line": {
          "color": "blue",
          "width": 1.403720823873381
         },
         "lon": [
          120.9125,
          112.5379
         ],
         "mode": "lines",
         "name": "OD",
         "showlegend": false,
         "type": "scattermap"
        },
        {
         "hovertemplate": "Quantity: 34111<extra></extra>",
         "lat": [
          31.60132,
          31.66238
         ],
         "legendgroup": "OD",
         "line": {
          "color": "blue",
          "width": 1.3928997272266956
         },
         "lon": [
          120.9125,
          118.4845
         ],
         "mode": "lines",
         "name": "OD",
         "showlegend": false,
         "type": "scattermap"
        },
        {
         "hovertemplate": "Quantity: 34086<extra></extra>",
         "lat": [
          31.60132,
          39.04403
         ],
         "legendgroup": "OD",
         "line": {
          "color": "blue",
          "width": 1.3918788690524804
         },
         "lon": [
          120.9125,
          121.6366
         ],
         "mode": "lines",
         "name": "OD",
         "showlegend": false,
         "type": "scattermap"
        },
        {
         "hovertemplate": "Quantity: 33851<extra></extra>",
         "lat": [
          31.60132,
          31.30913
         ],
         "legendgroup": "OD",
         "line": {
          "color": "blue",
          "width": 1.382282802214854
         },
         "lon": [
          120.9125,
          121.3927
         ],
         "mode": "lines",
         "name": "OD",
         "showlegend": false,
         "type": "scattermap"
        },
        {
         "hovertemplate": "Quantity: 33810<extra></extra>",
         "lat": [
          31.60132,
          41.82855
         ],
         "legendgroup": "OD",
         "line": {
          "color": "blue",
          "width": 1.3806085948091404
         },
         "lon": [
          120.9125,
          123.5238
         ],
         "mode": "lines",
         "name": "OD",
         "showlegend": false,
         "type": "scattermap"
        },
        {
         "hovertemplate": "Quantity: 33553<extra></extra>",
         "lat": [
          31.60132,
          33.58913
         ],
         "legendgroup": "OD",
         "line": {
          "color": "blue",
          "width": 1.3701141727782042
         },
         "lon": [
          120.9125,
          119.0793
         ],
         "mode": "lines",
         "name": "OD",
         "showlegend": false,
         "type": "scattermap"
        },
        {
         "hovertemplate": "Quantity: 33345<extra></extra>",
         "lat": [
          31.60132,
          39.04403
         ],
         "legendgroup": "OD",
         "line": {
          "color": "blue",
          "width": 1.3616206327687308
         },
         "lon": [
          120.9125,
          121.6366
         ],
         "mode": "lines",
         "name": "OD",
         "showlegend": false,
         "type": "scattermap"
        },
        {
         "hovertemplate": "Quantity: 33278<extra></extra>",
         "lat": [
          31.60132,
          34.74358
         ],
         "legendgroup": "OD",
         "line": {
          "color": "blue",
          "width": 1.3588847328618332
         },
         "lon": [
          120.9125,
          113.7175
         ],
         "mode": "lines",
         "name": "OD",
         "showlegend": false,
         "type": "scattermap"
        },
        {
         "hovertemplate": "Quantity: 32738<extra></extra>",
         "lat": [
          31.60132,
          38.84227
         ],
         "legendgroup": "OD",
         "line": {
          "color": "blue",
          "width": 1.3368341962987764
         },
         "lon": [
          120.9125,
          115.5125
         ],
         "mode": "lines",
         "name": "OD",
         "showlegend": false,
         "type": "scattermap"
        },
        {
         "hovertemplate": "Quantity: 32582<extra></extra>",
         "lat": [
          31.60132,
          31.30913
         ],
         "legendgroup": "OD",
         "line": {
          "color": "blue",
          "width": 1.3304640412916715
         },
         "lon": [
          120.9125,
          121.3927
         ],
         "mode": "lines",
         "name": "OD",
         "showlegend": false,
         "type": "scattermap"
        },
        {
         "hovertemplate": "Quantity: 32500<extra></extra>",
         "lat": [
          31.60132,
          28.58094
         ],
         "legendgroup": "OD",
         "line": {
          "color": "blue",
          "width": 1.3271156264802444
         },
         "lon": [
          120.9125,
          115.9156
         ],
         "mode": "lines",
         "name": "OD",
         "showlegend": false,
         "type": "scattermap"
        },
        {
         "hovertemplate": "Quantity: 32417<extra></extra>",
         "lat": [
          31.60132,
          38.01142
         ],
         "legendgroup": "OD",
         "line": {
          "color": "blue",
          "width": 1.3237263773418486
         },
         "lon": [
          120.9125,
          114.5071
         ],
         "mode": "lines",
         "name": "OD",
         "showlegend": false,
         "type": "scattermap"
        },
        {
         "hovertemplate": "Quantity: 32415<extra></extra>",
         "lat": [
          31.60132,
          31.89018
         ],
         "legendgroup": "OD",
         "line": {
          "color": "blue",
          "width": 1.3236447086879113
         },
         "lon": [
          120.9125,
          117.3539
         ],
         "mode": "lines",
         "name": "OD",
         "showlegend": false,
         "type": "scattermap"
        },
        {
         "hovertemplate": "Quantity: 32341<extra></extra>",
         "lat": [
          31.60132,
          29.61051
         ],
         "legendgroup": "OD",
         "line": {
          "color": "blue",
          "width": 1.3206229684922333
         },
         "lon": [
          120.9125,
          105.081
         ],
         "mode": "lines",
         "name": "OD",
         "showlegend": false,
         "type": "scattermap"
        },
        {
         "hovertemplate": "Quantity: 32145<extra></extra>",
         "lat": [
          31.60132,
          35.74759
         ],
         "legendgroup": "OD",
         "line": {
          "color": "blue",
          "width": 1.3126194404063831
         },
         "lon": [
          120.9125,
          115.0775
         ],
         "mode": "lines",
         "name": "OD",
         "showlegend": false,
         "type": "scattermap"
        },
        {
         "hovertemplate": "Quantity: 32047<extra></extra>",
         "lat": [
          31.60132,
          29.93326
         ],
         "legendgroup": "OD",
         "line": {
          "color": "blue",
          "width": 1.3086176763634583
         },
         "lon": [
          120.9125,
          121.6062
         ],
         "mode": "lines",
         "name": "OD",
         "showlegend": false,
         "type": "scattermap"
        },
        {
         "hovertemplate": "Quantity: 31950<extra></extra>",
         "lat": [
          31.60132,
          26.60968
         ],
         "legendgroup": "OD",
         "line": {
          "color": "blue",
          "width": 1.3046567466475016
         },
         "lon": [
          120.9125,
          106.7355
         ],
         "mode": "lines",
         "name": "OD",
         "showlegend": false,
         "type": "scattermap"
        },
        {
         "hovertemplate": "Quantity: 31793<extra></extra>",
         "lat": [
          31.60132,
          31.66238
         ],
         "legendgroup": "OD",
         "line": {
          "color": "blue",
          "width": 1.2982457573134278
         },
         "lon": [
          120.9125,
          118.4845
         ],
         "mode": "lines",
         "name": "OD",
         "showlegend": false,
         "type": "scattermap"
        },
        {
         "hovertemplate": "Quantity: 31721<extra></extra>",
         "lat": [
          31.60132,
          36.73794
         ],
         "legendgroup": "OD",
         "line": {
          "color": "blue",
          "width": 1.2953056857716871
         },
         "lon": [
          120.9125,
          119.0358
         ],
         "mode": "lines",
         "name": "OD",
         "showlegend": false,
         "type": "scattermap"
        },
        {
         "hovertemplate": "Quantity: 31630<extra></extra>",
         "lat": [
          31.60132,
          40.88605
         ],
         "legendgroup": "OD",
         "line": {
          "color": "blue",
          "width": 1.2915897620175423
         },
         "lon": [
          120.9125,
          111.8036
         ],
         "mode": "lines",
         "name": "OD",
         "showlegend": false,
         "type": "scattermap"
        },
        {
         "hovertemplate": "Quantity: 31396<extra></extra>",
         "lat": [
          31.60132,
          31.50323
         ],
         "legendgroup": "OD",
         "line": {
          "color": "blue",
          "width": 1.2820345295068847
         },
         "lon": [
          120.9125,
          120.3923
         ],
         "mode": "lines",
         "name": "OD",
         "showlegend": false,
         "type": "scattermap"
        },
        {
         "hovertemplate": "Quantity: 31266<extra></extra>",
         "lat": [
          31.60132,
          31.6025
         ],
         "legendgroup": "OD",
         "line": {
          "color": "blue",
          "width": 1.2767260670009637
         },
         "lon": [
          120.9125,
          120.9008
         ],
         "mode": "lines",
         "name": "OD",
         "showlegend": false,
         "type": "scattermap"
        },
        {
         "hovertemplate": "Quantity: 31212<extra></extra>",
         "lat": [
          31.60132,
          32.45936
         ],
         "legendgroup": "OD",
         "line": {
          "color": "blue",
          "width": 1.274521013344658
         },
         "lon": [
          120.9125,
          119.9178
         ],
         "mode": "lines",
         "name": "OD",
         "showlegend": false,
         "type": "scattermap"
        },
        {
         "hovertemplate": "Quantity: 31040<extra></extra>",
         "lat": [
          31.60132,
          41.09658
         ],
         "legendgroup": "OD",
         "line": {
          "color": "blue",
          "width": 1.267497509106055
         },
         "lon": [
          120.9125,
          121.1489
         ],
         "mode": "lines",
         "name": "OD",
         "showlegend": false,
         "type": "scattermap"
        },
        {
         "hovertemplate": "Quantity: 31033<extra></extra>",
         "lat": [
          31.60132,
          32.00261
         ],
         "legendgroup": "OD",
         "line": {
          "color": "blue",
          "width": 1.2672116688172745
         },
         "lon": [
          120.9125,
          118.8661
         ],
         "mode": "lines",
         "name": "OD",
         "showlegend": false,
         "type": "scattermap"
        },
        {
         "hovertemplate": "Quantity: 30710<extra></extra>",
         "lat": [
          31.60132,
          43.85704
         ],
         "legendgroup": "OD",
         "line": {
          "color": "blue",
          "width": 1.2540221812064092
         },
         "lon": [
          120.9125,
          87.53245
         ],
         "mode": "lines",
         "name": "OD",
         "showlegend": false,
         "type": "scattermap"
        },
        {
         "hovertemplate": "Quantity: 30637<extra></extra>",
         "lat": [
          31.60132,
          38.01142
         ],
         "legendgroup": "OD",
         "line": {
          "color": "blue",
          "width": 1.2510412753376998
         },
         "lon": [
          120.9125,
          114.5071
         ],
         "mode": "lines",
         "name": "OD",
         "showlegend": false,
         "type": "scattermap"
        },
        {
         "hovertemplate": "Quantity: 30478<extra></extra>",
         "lat": [
          31.60132,
          39.52418
         ],
         "legendgroup": "OD",
         "line": {
          "color": "blue",
          "width": 1.2445486173496887
         },
         "lon": [
          120.9125,
          118.0917
         ],
         "mode": "lines",
         "name": "OD",
         "showlegend": false,
         "type": "scattermap"
        },
        {
         "hovertemplate": "Quantity: 30325<extra></extra>",
         "lat": [
          31.60132,
          31.30913
         ],
         "legendgroup": "OD",
         "line": {
          "color": "blue",
          "width": 1.2383009653234895
         },
         "lon": [
          120.9125,
          121.3927
         ],
         "mode": "lines",
         "name": "OD",
         "showlegend": false,
         "type": "scattermap"
        },
        {
         "hovertemplate": "Quantity: 30323<extra></extra>",
         "lat": [
          31.60132,
          37.91037
         ],
         "legendgroup": "OD",
         "line": {
          "color": "blue",
          "width": 1.2382192966695522
         },
         "lon": [
          120.9125,
          112.5177
         ],
         "mode": "lines",
         "name": "OD",
         "showlegend": false,
         "type": "scattermap"
        },
        {
         "hovertemplate": "Quantity: 30067<extra></extra>",
         "lat": [
          31.60132,
          28.58094
         ],
         "legendgroup": "OD",
         "line": {
          "color": "blue",
          "width": 1.227765708965585
         },
         "lon": [
          120.9125,
          115.9156
         ],
         "mode": "lines",
         "name": "OD",
         "showlegend": false,
         "type": "scattermap"
        },
        {
         "hovertemplate": "Quantity: 30020<extra></extra>",
         "lat": [
          31.60132,
          41.82855
         ],
         "legendgroup": "OD",
         "line": {
          "color": "blue",
          "width": 1.2258464955980595
         },
         "lon": [
          120.9125,
          123.5238
         ],
         "mode": "lines",
         "name": "OD",
         "showlegend": false,
         "type": "scattermap"
        },
        {
         "hovertemplate": "Quantity: 29967<extra></extra>",
         "lat": [
          31.60132,
          39.52418
         ],
         "legendgroup": "OD",
         "line": {
          "color": "blue",
          "width": 1.2236822762687225
         },
         "lon": [
          120.9125,
          118.0917
         ],
         "mode": "lines",
         "name": "OD",
         "showlegend": false,
         "type": "scattermap"
        },
        {
         "hovertemplate": "Quantity: 29938<extra></extra>",
         "lat": [
          31.60132,
          38.84227
         ],
         "legendgroup": "OD",
         "line": {
          "color": "blue",
          "width": 1.2224980807866324
         },
         "lon": [
          120.9125,
          115.5125
         ],
         "mode": "lines",
         "name": "OD",
         "showlegend": false,
         "type": "scattermap"
        },
        {
         "hovertemplate": "Quantity: 29789<extra></extra>",
         "lat": [
          31.60132,
          33.58913
         ],
         "legendgroup": "OD",
         "line": {
          "color": "blue",
          "width": 1.2164137660683076
         },
         "lon": [
          120.9125,
          119.0793
         ],
         "mode": "lines",
         "name": "OD",
         "showlegend": false,
         "type": "scattermap"
        },
        {
         "hovertemplate": "Quantity: 29662<extra></extra>",
         "lat": [
          31.60132,
          34.74358
         ],
         "legendgroup": "OD",
         "line": {
          "color": "blue",
          "width": 1.2112278065432927
         },
         "lon": [
          120.9125,
          113.7175
         ],
         "mode": "lines",
         "name": "OD",
         "showlegend": false,
         "type": "scattermap"
        },
        {
         "hovertemplate": "Quantity: 29326<extra></extra>",
         "lat": [
          31.60132,
          34.57746
         ],
         "legendgroup": "OD",
         "line": {
          "color": "blue",
          "width": 1.1975074726818353
         },
         "lon": [
          120.9125,
          119.1694
         ],
         "mode": "lines",
         "name": "OD",
         "showlegend": false,
         "type": "scattermap"
        },
        {
         "hovertemplate": "Quantity: 29326<extra></extra>",
         "lat": [
          31.60132,
          32.00261
         ],
         "legendgroup": "OD",
         "line": {
          "color": "blue",
          "width": 1.1975074726818353
         },
         "lon": [
          120.9125,
          118.8661
         ],
         "mode": "lines",
         "name": "OD",
         "showlegend": false,
         "type": "scattermap"
        },
        {
         "hovertemplate": "Quantity: 29160<extra></extra>",
         "lat": [
          31.60132,
          37.91037
         ],
         "legendgroup": "OD",
         "line": {
          "color": "blue",
          "width": 1.1907289744050438
         },
         "lon": [
          120.9125,
          112.5177
         ],
         "mode": "lines",
         "name": "OD",
         "showlegend": false,
         "type": "scattermap"
        },
        {
         "hovertemplate": "Quantity: 29100<extra></extra>",
         "lat": [
          31.60132,
          30.37639
         ],
         "legendgroup": "OD",
         "line": {
          "color": "blue",
          "width": 1.1882789147869264
         },
         "lon": [
          120.9125,
          120.1698
         ],
         "mode": "lines",
         "name": "OD",
         "showlegend": false,
         "type": "scattermap"
        },
        {
         "hovertemplate": "Quantity: 29059<extra></extra>",
         "lat": [
          31.60132,
          38.84227
         ],
         "legendgroup": "OD",
         "line": {
          "color": "blue",
          "width": 1.186604707381213
         },
         "lon": [
          120.9125,
          115.5125
         ],
         "mode": "lines",
         "name": "OD",
         "showlegend": false,
         "type": "scattermap"
        },
        {
         "hovertemplate": "Quantity: 28355<extra></extra>",
         "lat": [
          31.60132,
          37.8686
         ],
         "legendgroup": "OD",
         "line": {
          "color": "blue",
          "width": 1.1578573411953026
         },
         "lon": [
          120.9125,
          112.6184
         ],
         "mode": "lines",
         "name": "OD",
         "showlegend": false,
         "type": "scattermap"
        },
        {
         "hovertemplate": "Quantity: 28340<extra></extra>",
         "lat": [
          31.60132,
          37.91037
         ],
         "legendgroup": "OD",
         "line": {
          "color": "blue",
          "width": 1.157244826290773
         },
         "lon": [
          120.9125,
          112.5177
         ],
         "mode": "lines",
         "name": "OD",
         "showlegend": false,
         "type": "scattermap"
        },
        {
         "hovertemplate": "Quantity: 28228<extra></extra>",
         "lat": [
          31.60132,
          40.88605
         ],
         "legendgroup": "OD",
         "line": {
          "color": "blue",
          "width": 1.1526713816702874
         },
         "lon": [
          120.9125,
          111.8036
         ],
         "mode": "lines",
         "name": "OD",
         "showlegend": false,
         "type": "scattermap"
        },
        {
         "hovertemplate": "Quantity: 28122<extra></extra>",
         "lat": [
          31.60132,
          26.60968
         ],
         "legendgroup": "OD",
         "line": {
          "color": "blue",
          "width": 1.1483429430116132
         },
         "lon": [
          120.9125,
          106.7355
         ],
         "mode": "lines",
         "name": "OD",
         "showlegend": false,
         "type": "scattermap"
        },
        {
         "hovertemplate": "Quantity: 28117<extra></extra>",
         "lat": [
          31.60132,
          38.84227
         ],
         "legendgroup": "OD",
         "line": {
          "color": "blue",
          "width": 1.1481387713767701
         },
         "lon": [
          120.9125,
          115.5125
         ],
         "mode": "lines",
         "name": "OD",
         "showlegend": false,
         "type": "scattermap"
        },
        {
         "hovertemplate": "Quantity: 27890<extra></extra>",
         "lat": [
          31.60132,
          27.79889
         ],
         "legendgroup": "OD",
         "line": {
          "color": "blue",
          "width": 1.1388693791548927
         },
         "lon": [
          120.9125,
          113.1612
         ],
         "mode": "lines",
         "name": "OD",
         "showlegend": false,
         "type": "scattermap"
        },
        {
         "hovertemplate": "Quantity: 27771<extra></extra>",
         "lat": [
          31.60132,
          36.62035
         ],
         "legendgroup": "OD",
         "line": {
          "color": "blue",
          "width": 1.1340100942456266
         },
         "lon": [
          120.9125,
          114.4945
         ],
         "mode": "lines",
         "name": "OD",
         "showlegend": false,
         "type": "scattermap"
        },
        {
         "hovertemplate": "Quantity: 27195<extra></extra>",
         "lat": [
          31.60132,
          30.09205
         ],
         "legendgroup": "OD",
         "line": {
          "color": "blue",
          "width": 1.1104895219117
         },
         "lon": [
          120.9125,
          103.8477
         ],
         "mode": "lines",
         "name": "OD",
         "showlegend": false,
         "type": "scattermap"
        },
        {
         "hovertemplate": "Quantity: 27161<extra></extra>",
         "lat": [
          31.60132,
          35.74759
         ],
         "legendgroup": "OD",
         "line": {
          "color": "blue",
          "width": 1.1091011547947667
         },
         "lon": [
          120.9125,
          115.0775
         ],
         "mode": "lines",
         "name": "OD",
         "showlegend": false,
         "type": "scattermap"
        },
        {
         "hovertemplate": "Quantity: 26820<extra></extra>",
         "lat": [
          31.60132,
          31.30913
         ],
         "legendgroup": "OD",
         "line": {
          "color": "blue",
          "width": 1.0951766492984663
         },
         "lon": [
          120.9125,
          121.3927
         ],
         "mode": "lines",
         "name": "OD",
         "showlegend": false,
         "type": "scattermap"
        },
        {
         "hovertemplate": "Quantity: 26807<extra></extra>",
         "lat": [
          31.60132,
          43.93276
         ],
         "legendgroup": "OD",
         "line": {
          "color": "blue",
          "width": 1.0946458030478743
         },
         "lon": [
          120.9125,
          125.299
         ],
         "mode": "lines",
         "name": "OD",
         "showlegend": false,
         "type": "scattermap"
        },
        {
         "hovertemplate": "Quantity: 26801<extra></extra>",
         "lat": [
          31.60132,
          30.68944
         ],
         "legendgroup": "OD",
         "line": {
          "color": "blue",
          "width": 1.0944007970860623
         },
         "lon": [
          120.9125,
          104.1816
         ],
         "mode": "lines",
         "name": "OD",
         "showlegend": false,
         "type": "scattermap"
        },
        {
         "hovertemplate": "Quantity: 26786<extra></extra>",
         "lat": [
          31.60132,
          39.85929
         ],
         "legendgroup": "OD",
         "line": {
          "color": "blue",
          "width": 1.0937882821815332
         },
         "lon": [
          120.9125,
          116.4707
         ],
         "mode": "lines",
         "name": "OD",
         "showlegend": false,
         "type": "scattermap"
        },
        {
         "hovertemplate": "Quantity: 26728<extra></extra>",
         "lat": [
          31.60132,
          32.45936
         ],
         "legendgroup": "OD",
         "line": {
          "color": "blue",
          "width": 1.091419891217353
         },
         "lon": [
          120.9125,
          119.9178
         ],
         "mode": "lines",
         "name": "OD",
         "showlegend": false,
         "type": "scattermap"
        },
        {
         "hovertemplate": "Quantity: 26615<extra></extra>",
         "lat": [
          31.60132,
          41.82855
         ],
         "legendgroup": "OD",
         "line": {
          "color": "blue",
          "width": 1.0868056122698986
         },
         "lon": [
          120.9125,
          123.5238
         ],
         "mode": "lines",
         "name": "OD",
         "showlegend": false,
         "type": "scattermap"
        },
        {
         "hovertemplate": "Quantity: 26573<extra></extra>",
         "lat": [
          31.60132,
          34.57746
         ],
         "legendgroup": "OD",
         "line": {
          "color": "blue",
          "width": 1.0850905705372165
         },
         "lon": [
          120.9125,
          119.1694
         ],
         "mode": "lines",
         "name": "OD",
         "showlegend": false,
         "type": "scattermap"
        },
        {
         "hovertemplate": "Quantity: 26454<extra></extra>",
         "lat": [
          31.60132,
          34.57746
         ],
         "legendgroup": "OD",
         "line": {
          "color": "blue",
          "width": 1.0802312856279503
         },
         "lon": [
          120.9125,
          119.1694
         ],
         "mode": "lines",
         "name": "OD",
         "showlegend": false,
         "type": "scattermap"
        },
        {
         "hovertemplate": "Quantity: 26036<extra></extra>",
         "lat": [
          31.60132,
          40.88605
         ],
         "legendgroup": "OD",
         "line": {
          "color": "blue",
          "width": 1.063162536955066
         },
         "lon": [
          120.9125,
          111.8036
         ],
         "mode": "lines",
         "name": "OD",
         "showlegend": false,
         "type": "scattermap"
        },
        {
         "hovertemplate": "Quantity: 26011<extra></extra>",
         "lat": [
          31.60132,
          26.60968
         ],
         "legendgroup": "OD",
         "line": {
          "color": "blue",
          "width": 1.0621416787808504
         },
         "lon": [
          120.9125,
          106.7355
         ],
         "mode": "lines",
         "name": "OD",
         "showlegend": false,
         "type": "scattermap"
        },
        {
         "hovertemplate": "Quantity: 25854<extra></extra>",
         "lat": [
          31.60132,
          43.93276
         ],
         "legendgroup": "OD",
         "line": {
          "color": "blue",
          "width": 1.0557306894467764
         },
         "lon": [
          120.9125,
          125.299
         ],
         "mode": "lines",
         "name": "OD",
         "showlegend": false,
         "type": "scattermap"
        },
        {
         "hovertemplate": "Quantity: 25571<extra></extra>",
         "lat": [
          31.60132,
          41.09658
         ],
         "legendgroup": "OD",
         "line": {
          "color": "blue",
          "width": 1.0441745749146563
         },
         "lon": [
          120.9125,
          121.1489
         ],
         "mode": "lines",
         "name": "OD",
         "showlegend": false,
         "type": "scattermap"
        },
        {
         "hovertemplate": "Quantity: 25409<extra></extra>",
         "lat": [
          31.60132,
          40.88605
         ],
         "legendgroup": "OD",
         "line": {
          "color": "blue",
          "width": 1.0375594139457394
         },
         "lon": [
          120.9125,
          111.8036
         ],
         "mode": "lines",
         "name": "OD",
         "showlegend": false,
         "type": "scattermap"
        },
        {
         "hovertemplate": "Quantity: 25219<extra></extra>",
         "lat": [
          31.60132,
          40.88605
         ],
         "legendgroup": "OD",
         "line": {
          "color": "blue",
          "width": 1.029800891821701
         },
         "lon": [
          120.9125,
          111.8036
         ],
         "mode": "lines",
         "name": "OD",
         "showlegend": false,
         "type": "scattermap"
        },
        {
         "hovertemplate": "Quantity: 25155<extra></extra>",
         "lat": [
          31.60132,
          30.09205
         ],
         "legendgroup": "OD",
         "line": {
          "color": "blue",
          "width": 1.0271874948957092
         },
         "lon": [
          120.9125,
          103.8477
         ],
         "mode": "lines",
         "name": "OD",
         "showlegend": false,
         "type": "scattermap"
        },
        {
         "hovertemplate": "Quantity: 25115<extra></extra>",
         "lat": [
          31.60132,
          28.59099
         ],
         "legendgroup": "OD",
         "line": {
          "color": "blue",
          "width": 1.0255541218169641
         },
         "lon": [
          120.9125,
          121.3567
         ],
         "mode": "lines",
         "name": "OD",
         "showlegend": false,
         "type": "scattermap"
        },
        {
         "hovertemplate": "Quantity: 25090<extra></extra>",
         "lat": [
          31.60132,
          34.32337
         ],
         "legendgroup": "OD",
         "line": {
          "color": "blue",
          "width": 1.0245332636427487
         },
         "lon": [
          120.9125,
          109.0284
         ],
         "mode": "lines",
         "name": "OD",
         "showlegend": false,
         "type": "scattermap"
        },
        {
         "hovertemplate": "Quantity: 24914<extra></extra>",
         "lat": [
          31.60132,
          37.91037
         ],
         "legendgroup": "OD",
         "line": {
          "color": "blue",
          "width": 1.0173464220962711
         },
         "lon": [
          120.9125,
          112.5177
         ],
         "mode": "lines",
         "name": "OD",
         "showlegend": false,
         "type": "scattermap"
        },
        {
         "hovertemplate": "Quantity: 24864<extra></extra>",
         "lat": [
          31.60132,
          36.62035
         ],
         "legendgroup": "OD",
         "line": {
          "color": "blue",
          "width": 1.0153047057478397
         },
         "lon": [
          120.9125,
          114.4945
         ],
         "mode": "lines",
         "name": "OD",
         "showlegend": false,
         "type": "scattermap"
        },
        {
         "hovertemplate": "Quantity: 24717<extra></extra>",
         "lat": [
          31.60132,
          31.89946
         ],
         "legendgroup": "OD",
         "line": {
          "color": "blue",
          "width": 1.0093020596834523
         },
         "lon": [
          120.9125,
          117.3595
         ],
         "mode": "lines",
         "name": "OD",
         "showlegend": false,
         "type": "scattermap"
        },
        {
         "hovertemplate": "Quantity: 24670<extra></extra>",
         "lat": [
          31.60132,
          34.28265
         ],
         "legendgroup": "OD",
         "line": {
          "color": "blue",
          "width": 1.0073828463159271
         },
         "lon": [
          120.9125,
          109.0334
         ],
         "mode": "lines",
         "name": "OD",
         "showlegend": false,
         "type": "scattermap"
        },
        {
         "hovertemplate": "Quantity: 24650<extra></extra>",
         "lat": [
          31.60132,
          24.90263
         ],
         "legendgroup": "OD",
         "line": {
          "color": "blue",
          "width": 1.0065661597765545
         },
         "lon": [
          120.9125,
          102.9867
         ],
         "mode": "lines",
         "name": "OD",
         "showlegend": false,
         "type": "scattermap"
        },
        {
         "hovertemplate": "Quantity: 24522<extra></extra>",
         "lat": [
          31.60132,
          29.67056
         ],
         "legendgroup": "OD",
         "line": {
          "color": "blue",
          "width": 1.0013393659245708
         },
         "lon": [
          120.9125,
          106.6263
         ],
         "mode": "lines",
         "name": "OD",
         "showlegend": false,
         "type": "scattermap"
        },
        {
         "hovertemplate": "Quantity: 24309<extra></extra>",
         "lat": [
          31.60132,
          31.30913
         ],
         "legendgroup": "OD",
         "line": {
          "color": "blue",
          "width": 0.9926416542802542
         },
         "lon": [
          120.9125,
          121.3927
         ],
         "mode": "lines",
         "name": "OD",
         "showlegend": false,
         "type": "scattermap"
        },
        {
         "hovertemplate": "Quantity: 24160<extra></extra>",
         "lat": [
          31.60132,
          30.09205
         ],
         "legendgroup": "OD",
         "line": {
          "color": "blue",
          "width": 0.9865573395619294
         },
         "lon": [
          120.9125,
          103.8477
         ],
         "mode": "lines",
         "name": "OD",
         "showlegend": false,
         "type": "scattermap"
        },
        {
         "hovertemplate": "Quantity: 24086<extra></extra>",
         "lat": [
          31.60132,
          37.91037
         ],
         "legendgroup": "OD",
         "line": {
          "color": "blue",
          "width": 0.9835355993662511
         },
         "lon": [
          120.9125,
          112.5177
         ],
         "mode": "lines",
         "name": "OD",
         "showlegend": false,
         "type": "scattermap"
        },
        {
         "hovertemplate": "Quantity: 23877<extra></extra>",
         "lat": [
          31.60132,
          31.89946
         ],
         "legendgroup": "OD",
         "line": {
          "color": "blue",
          "width": 0.975001225029809
         },
         "lon": [
          120.9125,
          117.3595
         ],
         "mode": "lines",
         "name": "OD",
         "showlegend": false,
         "type": "scattermap"
        },
        {
         "hovertemplate": "Quantity: 23850<extra></extra>",
         "lat": [
          31.60132,
          34.74358
         ],
         "legendgroup": "OD",
         "line": {
          "color": "blue",
          "width": 0.9738986982016562
         },
         "lon": [
          120.9125,
          113.7175
         ],
         "mode": "lines",
         "name": "OD",
         "showlegend": false,
         "type": "scattermap"
        },
        {
         "hovertemplate": "Quantity: 23637<extra></extra>",
         "lat": [
          31.60132,
          41.09658
         ],
         "legendgroup": "OD",
         "line": {
          "color": "blue",
          "width": 0.9652009865573395
         },
         "lon": [
          120.9125,
          121.1489
         ],
         "mode": "lines",
         "name": "OD",
         "showlegend": false,
         "type": "scattermap"
        },
        {
         "hovertemplate": "Quantity: 23569<extra></extra>",
         "lat": [
          31.60132,
          30.68944
         ],
         "legendgroup": "OD",
         "line": {
          "color": "blue",
          "width": 0.9624242523234732
         },
         "lon": [
          120.9125,
          104.1816
         ],
         "mode": "lines",
         "name": "OD",
         "showlegend": false,
         "type": "scattermap"
        },
        {
         "hovertemplate": "Quantity: 22860<extra></extra>",
         "lat": [
          31.60132,
          28.59099
         ],
         "legendgroup": "OD",
         "line": {
          "color": "blue",
          "width": 0.9334727145027195
         },
         "lon": [
          120.9125,
          121.3567
         ],
         "mode": "lines",
         "name": "OD",
         "showlegend": false,
         "type": "scattermap"
        },
        {
         "hovertemplate": "Quantity: 22838<extra></extra>",
         "lat": [
          31.60132,
          35.24317
         ],
         "legendgroup": "OD",
         "line": {
          "color": "blue",
          "width": 0.9325743593094099
         },
         "lon": [
          120.9125,
          113.1965
         ],
         "mode": "lines",
         "name": "OD",
         "showlegend": false,
         "type": "scattermap"
        },
        {
         "hovertemplate": "Quantity: 22692<extra></extra>",
         "lat": [
          31.60132,
          29.61051
         ],
         "legendgroup": "OD",
         "line": {
          "color": "blue",
          "width": 0.926612547571991
         },
         "lon": [
          120.9125,
          105.081
         ],
         "mode": "lines",
         "name": "OD",
         "showlegend": false,
         "type": "scattermap"
        },
        {
         "hovertemplate": "Quantity: 22686<extra></extra>",
         "lat": [
          31.60132,
          35.10285
         ],
         "legendgroup": "OD",
         "line": {
          "color": "blue",
          "width": 0.9263675416101792
         },
         "lon": [
          120.9125,
          118.2891
         ],
         "mode": "lines",
         "name": "OD",
         "showlegend": false,
         "type": "scattermap"
        },
        {
         "hovertemplate": "Quantity: 22670<extra></extra>",
         "lat": [
          31.60132,
          32.41468
         ],
         "legendgroup": "OD",
         "line": {
          "color": "blue",
          "width": 0.9257141923786811
         },
         "lon": [
          120.9125,
          104.5354
         ],
         "mode": "lines",
         "name": "OD",
         "showlegend": false,
         "type": "scattermap"
        },
        {
         "hovertemplate": "Quantity: 22582<extra></extra>",
         "lat": [
          31.60132,
          36.62035
         ],
         "legendgroup": "OD",
         "line": {
          "color": "blue",
          "width": 0.9221207716054424
         },
         "lon": [
          120.9125,
          114.4945
         ],
         "mode": "lines",
         "name": "OD",
         "showlegend": false,
         "type": "scattermap"
        },
        {
         "hovertemplate": "Quantity: 22559<extra></extra>",
         "lat": [
          31.60132,
          40.88605
         ],
         "legendgroup": "OD",
         "line": {
          "color": "blue",
          "width": 0.9211815820851641
         },
         "lon": [
          120.9125,
          111.8036
         ],
         "mode": "lines",
         "name": "OD",
         "showlegend": false,
         "type": "scattermap"
        },
        {
         "hovertemplate": "Quantity: 22112<extra></extra>",
         "lat": [
          31.60132,
          26.60968
         ],
         "legendgroup": "OD",
         "line": {
          "color": "blue",
          "width": 0.9029286379301895
         },
         "lon": [
          120.9125,
          106.7355
         ],
         "mode": "lines",
         "name": "OD",
         "showlegend": false,
         "type": "scattermap"
        },
        {
         "hovertemplate": "Quantity: 22068<extra></extra>",
         "lat": [
          31.60132,
          31.50323
         ],
         "legendgroup": "OD",
         "line": {
          "color": "blue",
          "width": 0.9011319275435702
         },
         "lon": [
          120.9125,
          120.3923
         ],
         "mode": "lines",
         "name": "OD",
         "showlegend": false,
         "type": "scattermap"
        },
        {
         "hovertemplate": "Quantity: 21920<extra></extra>",
         "lat": [
          31.60132,
          39.04403
         ],
         "legendgroup": "OD",
         "line": {
          "color": "blue",
          "width": 0.895088447152214
         },
         "lon": [
          120.9125,
          121.6366
         ],
         "mode": "lines",
         "name": "OD",
         "showlegend": false,
         "type": "scattermap"
        },
        {
         "hovertemplate": "Quantity: 21889<extra></extra>",
         "lat": [
          31.60132,
          32.45936
         ],
         "legendgroup": "OD",
         "line": {
          "color": "blue",
          "width": 0.8938225830161867
         },
         "lon": [
          120.9125,
          119.9178
         ],
         "mode": "lines",
         "name": "OD",
         "showlegend": false,
         "type": "scattermap"
        },
        {
         "hovertemplate": "Quantity: 21842<extra></extra>",
         "lat": [
          31.60132,
          37.8686
         ],
         "legendgroup": "OD",
         "line": {
          "color": "blue",
          "width": 0.8919033696486613
         },
         "lon": [
          120.9125,
          112.6184
         ],
         "mode": "lines",
         "name": "OD",
         "showlegend": false,
         "type": "scattermap"
        },
        {
         "hovertemplate": "Quantity: 21801<extra></extra>",
         "lat": [
          31.60132,
          34.28265
         ],
         "legendgroup": "OD",
         "line": {
          "color": "blue",
          "width": 0.8902291622429479
         },
         "lon": [
          120.9125,
          109.0334
         ],
         "mode": "lines",
         "name": "OD",
         "showlegend": false,
         "type": "scattermap"
        },
        {
         "hovertemplate": "Quantity: 21703<extra></extra>",
         "lat": [
          31.60132,
          35.10285
         ],
         "legendgroup": "OD",
         "line": {
          "color": "blue",
          "width": 0.8862273982000228
         },
         "lon": [
          120.9125,
          118.2891
         ],
         "mode": "lines",
         "name": "OD",
         "showlegend": false,
         "type": "scattermap"
        },
        {
         "hovertemplate": "Quantity: 21656<extra></extra>",
         "lat": [
          31.60132,
          39.04403
         ],
         "legendgroup": "OD",
         "line": {
          "color": "blue",
          "width": 0.8843081848324975
         },
         "lon": [
          120.9125,
          121.6366
         ],
         "mode": "lines",
         "name": "OD",
         "showlegend": false,
         "type": "scattermap"
        },
        {
         "hovertemplate": "Quantity: 21260<extra></extra>",
         "lat": [
          31.60132,
          31.00253
         ],
         "legendgroup": "OD",
         "line": {
          "color": "blue",
          "width": 0.868137791352923
         },
         "lon": [
          120.9125,
          121.5149
         ],
         "mode": "lines",
         "name": "OD",
         "showlegend": false,
         "type": "scattermap"
        },
        {
         "hovertemplate": "Quantity: 20826<extra></extra>",
         "lat": [
          31.60132,
          31.89946
         ],
         "legendgroup": "OD",
         "line": {
          "color": "blue",
          "width": 0.8504156934485406
         },
         "lon": [
          120.9125,
          117.3595
         ],
         "mode": "lines",
         "name": "OD",
         "showlegend": false,
         "type": "scattermap"
        },
        {
         "hovertemplate": "Quantity: 20710<extra></extra>",
         "lat": [
          31.60132,
          31.50323
         ],
         "legendgroup": "OD",
         "line": {
          "color": "blue",
          "width": 0.8456789115201803
         },
         "lon": [
          120.9125,
          120.3923
         ],
         "mode": "lines",
         "name": "OD",
         "showlegend": false,
         "type": "scattermap"
        },
        {
         "hovertemplate": "Quantity: 20579<extra></extra>",
         "lat": [
          31.60132,
          35.24317
         ],
         "legendgroup": "OD",
         "line": {
          "color": "blue",
          "width": 0.8403296146872907
         },
         "lon": [
          120.9125,
          113.1965
         ],
         "mode": "lines",
         "name": "OD",
         "showlegend": false,
         "type": "scattermap"
        },
        {
         "hovertemplate": "Quantity: 20498<extra></extra>",
         "lat": [
          31.60132,
          29.93326
         ],
         "legendgroup": "OD",
         "line": {
          "color": "blue",
          "width": 0.8370220342028323
         },
         "lon": [
          120.9125,
          121.6062
         ],
         "mode": "lines",
         "name": "OD",
         "showlegend": false,
         "type": "scattermap"
        },
        {
         "hovertemplate": "Quantity: 20339<extra></extra>",
         "lat": [
          31.60132,
          37.8686
         ],
         "legendgroup": "OD",
         "line": {
          "color": "blue",
          "width": 0.8305293762148213
         },
         "lon": [
          120.9125,
          112.6184
         ],
         "mode": "lines",
         "name": "OD",
         "showlegend": false,
         "type": "scattermap"
        },
        {
         "hovertemplate": "Quantity: 20280<extra></extra>",
         "lat": [
          31.60132,
          24.90263
         ],
         "legendgroup": "OD",
         "line": {
          "color": "blue",
          "width": 0.8281201509236724
         },
         "lon": [
          120.9125,
          102.9867
         ],
         "mode": "lines",
         "name": "OD",
         "showlegend": false,
         "type": "scattermap"
        },
        {
         "hovertemplate": "Quantity: 19861<extra></extra>",
         "lat": [
          31.60132,
          28.59099
         ],
         "legendgroup": "OD",
         "line": {
          "color": "blue",
          "width": 0.8110105679238194
         },
         "lon": [
          120.9125,
          121.3567
         ],
         "mode": "lines",
         "name": "OD",
         "showlegend": false,
         "type": "scattermap"
        },
        {
         "hovertemplate": "Quantity: 19768<extra></extra>",
         "lat": [
          31.60132,
          31.00253
         ],
         "legendgroup": "OD",
         "line": {
          "color": "blue",
          "width": 0.8072129755157376
         },
         "lon": [
          120.9125,
          121.5149
         ],
         "mode": "lines",
         "name": "OD",
         "showlegend": false,
         "type": "scattermap"
        },
        {
         "hovertemplate": "Quantity: 19510<extra></extra>",
         "lat": [
          31.60132,
          24.90263
         ],
         "legendgroup": "OD",
         "line": {
          "color": "blue",
          "width": 0.7966777191578328
         },
         "lon": [
          120.9125,
          102.9867
         ],
         "mode": "lines",
         "name": "OD",
         "showlegend": false,
         "type": "scattermap"
        },
        {
         "hovertemplate": "Quantity: 19489<extra></extra>",
         "lat": [
          31.60132,
          30.68944
         ],
         "legendgroup": "OD",
         "line": {
          "color": "blue",
          "width": 0.7958201982914916
         },
         "lon": [
          120.9125,
          104.1816
         ],
         "mode": "lines",
         "name": "OD",
         "showlegend": false,
         "type": "scattermap"
        },
        {
         "hovertemplate": "Quantity: 19275<extra></extra>",
         "lat": [
          31.60132,
          31.66238
         ],
         "legendgroup": "OD",
         "line": {
          "color": "blue",
          "width": 0.7870816523202064
         },
         "lon": [
          120.9125,
          118.4845
         ],
         "mode": "lines",
         "name": "OD",
         "showlegend": false,
         "type": "scattermap"
        },
        {
         "hovertemplate": "Quantity: 19157<extra></extra>",
         "lat": [
          31.60132,
          32.99897
         ],
         "legendgroup": "OD",
         "line": {
          "color": "blue",
          "width": 0.782263201737909
         },
         "lon": [
          120.9125,
          112.5379
         ],
         "mode": "lines",
         "name": "OD",
         "showlegend": false,
         "type": "scattermap"
        },
        {
         "hovertemplate": "Quantity: 18976<extra></extra>",
         "lat": [
          31.60132,
          32.00261
         ],
         "legendgroup": "OD",
         "line": {
          "color": "blue",
          "width": 0.7748721885565881
         },
         "lon": [
          120.9125,
          118.8661
         ],
         "mode": "lines",
         "name": "OD",
         "showlegend": false,
         "type": "scattermap"
        },
        {
         "hovertemplate": "Quantity: 18877<extra></extra>",
         "lat": [
          31.60132,
          29.61051
         ],
         "legendgroup": "OD",
         "line": {
          "color": "blue",
          "width": 0.7708295901866945
         },
         "lon": [
          120.9125,
          105.081
         ],
         "mode": "lines",
         "name": "OD",
         "showlegend": false,
         "type": "scattermap"
        },
        {
         "hovertemplate": "Quantity: 18566<extra></extra>",
         "lat": [
          31.60132,
          32.00261
         ],
         "legendgroup": "OD",
         "line": {
          "color": "blue",
          "width": 0.7581301144994528
         },
         "lon": [
          120.9125,
          118.8661
         ],
         "mode": "lines",
         "name": "OD",
         "showlegend": false,
         "type": "scattermap"
        },
        {
         "hovertemplate": "Quantity: 18413<extra></extra>",
         "lat": [
          31.60132,
          29.61051
         ],
         "legendgroup": "OD",
         "line": {
          "color": "blue",
          "width": 0.7518824624732535
         },
         "lon": [
          120.9125,
          105.081
         ],
         "mode": "lines",
         "name": "OD",
         "showlegend": false,
         "type": "scattermap"
        },
        {
         "hovertemplate": "Quantity: 18304<extra></extra>",
         "lat": [
          31.60132,
          29.93326
         ],
         "legendgroup": "OD",
         "line": {
          "color": "blue",
          "width": 0.7474315208336736
         },
         "lon": [
          120.9125,
          121.6062
         ],
         "mode": "lines",
         "name": "OD",
         "showlegend": false,
         "type": "scattermap"
        },
        {
         "hovertemplate": "Quantity: 18302<extra></extra>",
         "lat": [
          31.60132,
          24.90263
         ],
         "legendgroup": "OD",
         "line": {
          "color": "blue",
          "width": 0.7473498521797364
         },
         "lon": [
          120.9125,
          102.9867
         ],
         "mode": "lines",
         "name": "OD",
         "showlegend": false,
         "type": "scattermap"
        },
        {
         "hovertemplate": "Quantity: 18225<extra></extra>",
         "lat": [
          31.60132,
          36.73794
         ],
         "legendgroup": "OD",
         "line": {
          "color": "blue",
          "width": 0.7442056090031524
         },
         "lon": [
          120.9125,
          119.0358
         ],
         "mode": "lines",
         "name": "OD",
         "showlegend": false,
         "type": "scattermap"
        },
        {
         "hovertemplate": "Quantity: 18188<extra></extra>",
         "lat": [
          31.60132,
          34.28265
         ],
         "legendgroup": "OD",
         "line": {
          "color": "blue",
          "width": 0.7426947389053133
         },
         "lon": [
          120.9125,
          109.0334
         ],
         "mode": "lines",
         "name": "OD",
         "showlegend": false,
         "type": "scattermap"
        },
        {
         "hovertemplate": "Quantity: 17990<extra></extra>",
         "lat": [
          31.60132,
          30.61364
         ],
         "legendgroup": "OD",
         "line": {
          "color": "blue",
          "width": 0.7346095421655261
         },
         "lon": [
          120.9125,
          114.2449
         ],
         "mode": "lines",
         "name": "OD",
         "showlegend": false,
         "type": "scattermap"
        },
        {
         "hovertemplate": "Quantity: 17912<extra></extra>",
         "lat": [
          31.60132,
          32.04472
         ],
         "legendgroup": "OD",
         "line": {
          "color": "blue",
          "width": 0.7314244646619734
         },
         "lon": [
          120.9125,
          112.1553
         ],
         "mode": "lines",
         "name": "OD",
         "showlegend": false,
         "type": "scattermap"
        },
        {
         "hovertemplate": "Quantity: 17588<extra></extra>",
         "lat": [
          31.60132,
          31.66238
         ],
         "legendgroup": "OD",
         "line": {
          "color": "blue",
          "width": 0.7181941427241396
         },
         "lon": [
          120.9125,
          118.4845
         ],
         "mode": "lines",
         "name": "OD",
         "showlegend": false,
         "type": "scattermap"
        },
        {
         "hovertemplate": "Quantity: 17587<extra></extra>",
         "lat": [
          31.60132,
          41.09658
         ],
         "legendgroup": "OD",
         "line": {
          "color": "blue",
          "width": 0.718153308397171
         },
         "lon": [
          120.9125,
          121.1489
         ],
         "mode": "lines",
         "name": "OD",
         "showlegend": false,
         "type": "scattermap"
        },
        {
         "hovertemplate": "Quantity: 17574<extra></extra>",
         "lat": [
          31.60132,
          30.68944
         ],
         "legendgroup": "OD",
         "line": {
          "color": "blue",
          "width": 0.7176224621465789
         },
         "lon": [
          120.9125,
          104.1816
         ],
         "mode": "lines",
         "name": "OD",
         "showlegend": false,
         "type": "scattermap"
        },
        {
         "hovertemplate": "Quantity: 17431<extra></extra>",
         "lat": [
          31.60132,
          35.10285
         ],
         "legendgroup": "OD",
         "line": {
          "color": "blue",
          "width": 0.7117831533900658
         },
         "lon": [
          120.9125,
          118.2891
         ],
         "mode": "lines",
         "name": "OD",
         "showlegend": false,
         "type": "scattermap"
        },
        {
         "hovertemplate": "Quantity: 17318<extra></extra>",
         "lat": [
          31.60132,
          32.99897
         ],
         "legendgroup": "OD",
         "line": {
          "color": "blue",
          "width": 0.7071688744426115
         },
         "lon": [
          120.9125,
          112.5379
         ],
         "mode": "lines",
         "name": "OD",
         "showlegend": false,
         "type": "scattermap"
        },
        {
         "hovertemplate": "Quantity: 16984<extra></extra>",
         "lat": [
          31.60132,
          34.74358
         ],
         "legendgroup": "OD",
         "line": {
          "color": "blue",
          "width": 0.6935302092350915
         },
         "lon": [
          120.9125,
          113.7175
         ],
         "mode": "lines",
         "name": "OD",
         "showlegend": false,
         "type": "scattermap"
        },
        {
         "hovertemplate": "Quantity: 16571<extra></extra>",
         "lat": [
          31.60132,
          31.6025
         ],
         "legendgroup": "OD",
         "line": {
          "color": "blue",
          "width": 0.6766656321970501
         },
         "lon": [
          120.9125,
          120.9008
         ],
         "mode": "lines",
         "name": "OD",
         "showlegend": false,
         "type": "scattermap"
        },
        {
         "hovertemplate": "Quantity: 16540<extra></extra>",
         "lat": [
          31.60132,
          33.58913
         ],
         "legendgroup": "OD",
         "line": {
          "color": "blue",
          "width": 0.6753997680610229
         },
         "lon": [
          120.9125,
          119.0793
         ],
         "mode": "lines",
         "name": "OD",
         "showlegend": false,
         "type": "scattermap"
        },
        {
         "hovertemplate": "Quantity: 16400<extra></extra>",
         "lat": [
          31.60132,
          38.01142
         ],
         "legendgroup": "OD",
         "line": {
          "color": "blue",
          "width": 0.6696829622854156
         },
         "lon": [
          120.9125,
          114.5071
         ],
         "mode": "lines",
         "name": "OD",
         "showlegend": false,
         "type": "scattermap"
        },
        {
         "hovertemplate": "Quantity: 16364<extra></extra>",
         "lat": [
          31.60132,
          35.24317
         ],
         "legendgroup": "OD",
         "line": {
          "color": "blue",
          "width": 0.6682129265145452
         },
         "lon": [
          120.9125,
          113.1965
         ],
         "mode": "lines",
         "name": "OD",
         "showlegend": false,
         "type": "scattermap"
        },
        {
         "hovertemplate": "Quantity: 16350<extra></extra>",
         "lat": [
          31.60132,
          31.07754
         ],
         "legendgroup": "OD",
         "line": {
          "color": "blue",
          "width": 0.6676412459369845
         },
         "lon": [
          120.9125,
          112.2224
         ],
         "mode": "lines",
         "name": "OD",
         "showlegend": false,
         "type": "scattermap"
        },
        {
         "hovertemplate": "Quantity: 16283<extra></extra>",
         "lat": [
          31.60132,
          29.67056
         ],
         "legendgroup": "OD",
         "line": {
          "color": "blue",
          "width": 0.6649053460300868
         },
         "lon": [
          120.9125,
          106.6263
         ],
         "mode": "lines",
         "name": "OD",
         "showlegend": false,
         "type": "scattermap"
        },
        {
         "hovertemplate": "Quantity: 15901<extra></extra>",
         "lat": [
          31.60132,
          34.32337
         ],
         "legendgroup": "OD",
         "line": {
          "color": "blue",
          "width": 0.6493066331280728
         },
         "lon": [
          120.9125,
          109.0284
         ],
         "mode": "lines",
         "name": "OD",
         "showlegend": false,
         "type": "scattermap"
        },
        {
         "hovertemplate": "Quantity: 15894<extra></extra>",
         "lat": [
          31.60132,
          33.58913
         ],
         "legendgroup": "OD",
         "line": {
          "color": "blue",
          "width": 0.6490207928392924
         },
         "lon": [
          120.9125,
          119.0793
         ],
         "mode": "lines",
         "name": "OD",
         "showlegend": false,
         "type": "scattermap"
        },
        {
         "hovertemplate": "Quantity: 15682<extra></extra>",
         "lat": [
          31.60132,
          41.09658
         ],
         "legendgroup": "OD",
         "line": {
          "color": "blue",
          "width": 0.6403639155219444
         },
         "lon": [
          120.9125,
          121.1489
         ],
         "mode": "lines",
         "name": "OD",
         "showlegend": false,
         "type": "scattermap"
        },
        {
         "hovertemplate": "Quantity: 15596<extra></extra>",
         "lat": [
          31.60132,
          32.04472
         ],
         "legendgroup": "OD",
         "line": {
          "color": "blue",
          "width": 0.6368521634026427
         },
         "lon": [
          120.9125,
          112.1553
         ],
         "mode": "lines",
         "name": "OD",
         "showlegend": false,
         "type": "scattermap"
        },
        {
         "hovertemplate": "Quantity: 15441<extra></extra>",
         "lat": [
          31.60132,
          39.52418
         ],
         "legendgroup": "OD",
         "line": {
          "color": "blue",
          "width": 0.6305228427225062
         },
         "lon": [
          120.9125,
          118.0917
         ],
         "mode": "lines",
         "name": "OD",
         "showlegend": false,
         "type": "scattermap"
        },
        {
         "hovertemplate": "Quantity: 15362<extra></extra>",
         "lat": [
          31.60132,
          31.50323
         ],
         "legendgroup": "OD",
         "line": {
          "color": "blue",
          "width": 0.627296930891985
         },
         "lon": [
          120.9125,
          120.3923
         ],
         "mode": "lines",
         "name": "OD",
         "showlegend": false,
         "type": "scattermap"
        },
        {
         "hovertemplate": "Quantity: 15285<extra></extra>",
         "lat": [
          31.60132,
          36.62035
         ],
         "legendgroup": "OD",
         "line": {
          "color": "blue",
          "width": 0.6241526877154011
         },
         "lon": [
          120.9125,
          114.4945
         ],
         "mode": "lines",
         "name": "OD",
         "showlegend": false,
         "type": "scattermap"
        },
        {
         "hovertemplate": "Quantity: 15078<extra></extra>",
         "lat": [
          31.60132,
          35.24317
         ],
         "legendgroup": "OD",
         "line": {
          "color": "blue",
          "width": 0.6156999820328961
         },
         "lon": [
          120.9125,
          113.1965
         ],
         "mode": "lines",
         "name": "OD",
         "showlegend": false,
         "type": "scattermap"
        },
        {
         "hovertemplate": "Quantity: 15020<extra></extra>",
         "lat": [
          31.60132,
          36.04397
         ],
         "legendgroup": "OD",
         "line": {
          "color": "blue",
          "width": 0.613331591068716
         },
         "lon": [
          120.9125,
          103.91
         ],
         "mode": "lines",
         "name": "OD",
         "showlegend": false,
         "type": "scattermap"
        },
        {
         "hovertemplate": "Quantity: 14945<extra></extra>",
         "lat": [
          31.60132,
          31.66238
         ],
         "legendgroup": "OD",
         "line": {
          "color": "blue",
          "width": 0.6102690165460692
         },
         "lon": [
          120.9125,
          118.4845
         ],
         "mode": "lines",
         "name": "OD",
         "showlegend": false,
         "type": "scattermap"
        },
        {
         "hovertemplate": "Quantity: 14760<extra></extra>",
         "lat": [
          31.60132,
          32.45936
         ],
         "legendgroup": "OD",
         "line": {
          "color": "blue",
          "width": 0.6027146660568741
         },
         "lon": [
          120.9125,
          119.9178
         ],
         "mode": "lines",
         "name": "OD",
         "showlegend": false,
         "type": "scattermap"
        },
        {
         "hovertemplate": "Quantity: 14703<extra></extra>",
         "lat": [
          31.60132,
          32.00261
         ],
         "legendgroup": "OD",
         "line": {
          "color": "blue",
          "width": 0.6003871094196626
         },
         "lon": [
          120.9125,
          118.8661
         ],
         "mode": "lines",
         "name": "OD",
         "showlegend": false,
         "type": "scattermap"
        },
        {
         "hovertemplate": "Quantity: 14689<extra></extra>",
         "lat": [
          31.60132,
          30.37639
         ],
         "legendgroup": "OD",
         "line": {
          "color": "blue",
          "width": 0.5998154288421018
         },
         "lon": [
          120.9125,
          120.1698
         ],
         "mode": "lines",
         "name": "OD",
         "showlegend": false,
         "type": "scattermap"
        },
        {
         "hovertemplate": "Quantity: 14641<extra></extra>",
         "lat": [
          31.60132,
          35.74759
         ],
         "legendgroup": "OD",
         "line": {
          "color": "blue",
          "width": 0.597855381147608
         },
         "lon": [
          120.9125,
          115.0775
         ],
         "mode": "lines",
         "name": "OD",
         "showlegend": false,
         "type": "scattermap"
        },
        {
         "hovertemplate": "Quantity: 14512<extra></extra>",
         "lat": [
          31.60132,
          24.90263
         ],
         "legendgroup": "OD",
         "line": {
          "color": "blue",
          "width": 0.5925877529686556
         },
         "lon": [
          120.9125,
          102.9867
         ],
         "mode": "lines",
         "name": "OD",
         "showlegend": false,
         "type": "scattermap"
        },
        {
         "hovertemplate": "Quantity: 14240<extra></extra>",
         "lat": [
          31.60132,
          39.10089
         ],
         "legendgroup": "OD",
         "line": {
          "color": "blue",
          "width": 0.5814808160331901
         },
         "lon": [
          120.9125,
          117.2588
         ],
         "mode": "lines",
         "name": "OD",
         "showlegend": false,
         "type": "scattermap"
        },
        {
         "hovertemplate": "Quantity: 14140<extra></extra>",
         "lat": [
          31.60132,
          34.32337
         ],
         "legendgroup": "OD",
         "line": {
          "color": "blue",
          "width": 0.5773973833363278
         },
         "lon": [
          120.9125,
          109.0284
         ],
         "mode": "lines",
         "name": "OD",
         "showlegend": false,
         "type": "scattermap"
        },
        {
         "hovertemplate": "Quantity: 14104<extra></extra>",
         "lat": [
          31.60132,
          34.57746
         ],
         "legendgroup": "OD",
         "line": {
          "color": "blue",
          "width": 0.5759273475654574
         },
         "lon": [
          120.9125,
          119.1694
         ],
         "mode": "lines",
         "name": "OD",
         "showlegend": false,
         "type": "scattermap"
        },
        {
         "hovertemplate": "Quantity: 14037<extra></extra>",
         "lat": [
          31.60132,
          28.21001
         ],
         "legendgroup": "OD",
         "line": {
          "color": "blue",
          "width": 0.5731914476585597
         },
         "lon": [
          120.9125,
          113.0253
         ],
         "mode": "lines",
         "name": "OD",
         "showlegend": false,
         "type": "scattermap"
        },
        {
         "hovertemplate": "Quantity: 13910<extra></extra>",
         "lat": [
          31.60132,
          29.93326
         ],
         "legendgroup": "OD",
         "line": {
          "color": "blue",
          "width": 0.5680054881335446
         },
         "lon": [
          120.9125,
          121.6062
         ],
         "mode": "lines",
         "name": "OD",
         "showlegend": false,
         "type": "scattermap"
        },
        {
         "hovertemplate": "Quantity: 13780<extra></extra>",
         "lat": [
          31.60132,
          26.66674
         ],
         "legendgroup": "OD",
         "line": {
          "color": "blue",
          "width": 0.5626970256276236
         },
         "lon": [
          120.9125,
          119.5334
         ],
         "mode": "lines",
         "name": "OD",
         "showlegend": false,
         "type": "scattermap"
        },
        {
         "hovertemplate": "Quantity: 13694<extra></extra>",
         "lat": [
          31.60132,
          26.66674
         ],
         "legendgroup": "OD",
         "line": {
          "color": "blue",
          "width": 0.559185273508322
         },
         "lon": [
          120.9125,
          119.5334
         ],
         "mode": "lines",
         "name": "OD",
         "showlegend": false,
         "type": "scattermap"
        },
        {
         "hovertemplate": "Quantity: 13559<extra></extra>",
         "lat": [
          31.60132,
          34.32337
         ],
         "legendgroup": "OD",
         "line": {
          "color": "blue",
          "width": 0.553672639367558
         },
         "lon": [
          120.9125,
          109.0284
         ],
         "mode": "lines",
         "name": "OD",
         "showlegend": false,
         "type": "scattermap"
        },
        {
         "hovertemplate": "Quantity: 13549<extra></extra>",
         "lat": [
          31.60132,
          36.73794
         ],
         "legendgroup": "OD",
         "line": {
          "color": "blue",
          "width": 0.5532642960978716
         },
         "lon": [
          120.9125,
          119.0358
         ],
         "mode": "lines",
         "name": "OD",
         "showlegend": false,
         "type": "scattermap"
        },
        {
         "hovertemplate": "Quantity: 13380<extra></extra>",
         "lat": [
          31.60132,
          31.30913
         ],
         "legendgroup": "OD",
         "line": {
          "color": "blue",
          "width": 0.5463632948401744
         },
         "lon": [
          120.9125,
          121.3927
         ],
         "mode": "lines",
         "name": "OD",
         "showlegend": false,
         "type": "scattermap"
        },
        {
         "hovertemplate": "Quantity: 13046<extra></extra>",
         "lat": [
          31.60132,
          31.89946
         ],
         "legendgroup": "OD",
         "line": {
          "color": "blue",
          "width": 0.5327246296326544
         },
         "lon": [
          120.9125,
          117.3595
         ],
         "mode": "lines",
         "name": "OD",
         "showlegend": false,
         "type": "scattermap"
        },
        {
         "hovertemplate": "Quantity: 12557<extra></extra>",
         "lat": [
          31.60132,
          35.10285
         ],
         "legendgroup": "OD",
         "line": {
          "color": "blue",
          "width": 0.5127566437449977
         },
         "lon": [
          120.9125,
          118.2891
         ],
         "mode": "lines",
         "name": "OD",
         "showlegend": false,
         "type": "scattermap"
        },
        {
         "hovertemplate": "Quantity: 12472<extra></extra>",
         "lat": [
          31.60132,
          27.79889
         ],
         "legendgroup": "OD",
         "line": {
          "color": "blue",
          "width": 0.5092857259526649
         },
         "lon": [
          120.9125,
          113.1612
         ],
         "mode": "lines",
         "name": "OD",
         "showlegend": false,
         "type": "scattermap"
        },
        {
         "hovertemplate": "Quantity: 12437<extra></extra>",
         "lat": [
          31.60132,
          36.64308
         ],
         "legendgroup": "OD",
         "line": {
          "color": "blue",
          "width": 0.5078565245087631
         },
         "lon": [
          120.9125,
          116.857
         ],
         "mode": "lines",
         "name": "OD",
         "showlegend": false,
         "type": "scattermap"
        },
        {
         "hovertemplate": "Quantity: 12300<extra></extra>",
         "lat": [
          31.60132,
          31.00253
         ],
         "legendgroup": "OD",
         "line": {
          "color": "blue",
          "width": 0.5022622217140617
         },
         "lon": [
          120.9125,
          121.5149
         ],
         "mode": "lines",
         "name": "OD",
         "showlegend": false,
         "type": "scattermap"
        },
        {
         "hovertemplate": "Quantity: 12241<extra></extra>",
         "lat": [
          31.60132,
          32.99897
         ],
         "legendgroup": "OD",
         "line": {
          "color": "blue",
          "width": 0.4998529964229129
         },
         "lon": [
          120.9125,
          112.5379
         ],
         "mode": "lines",
         "name": "OD",
         "showlegend": false,
         "type": "scattermap"
        },
        {
         "hovertemplate": "Quantity: 12130<extra></extra>",
         "lat": [
          31.60132,
          37.8686
         ],
         "legendgroup": "OD",
         "line": {
          "color": "blue",
          "width": 0.49532038612939583
         },
         "lon": [
          120.9125,
          112.6184
         ],
         "mode": "lines",
         "name": "OD",
         "showlegend": false,
         "type": "scattermap"
        },
        {
         "hovertemplate": "Quantity: 12099<extra></extra>",
         "lat": [
          31.60132,
          31.00253
         ],
         "legendgroup": "OD",
         "line": {
          "color": "blue",
          "width": 0.49405452199336847
         },
         "lon": [
          120.9125,
          121.5149
         ],
         "mode": "lines",
         "name": "OD",
         "showlegend": false,
         "type": "scattermap"
        },
        {
         "hovertemplate": "Quantity: 12090<extra></extra>",
         "lat": [
          31.60132,
          27.79889
         ],
         "legendgroup": "OD",
         "line": {
          "color": "blue",
          "width": 0.49368701305065094
         },
         "lon": [
          120.9125,
          113.1612
         ],
         "mode": "lines",
         "name": "OD",
         "showlegend": false,
         "type": "scattermap"
        },
        {
         "hovertemplate": "Quantity: 11980<extra></extra>",
         "lat": [
          31.60132,
          41.09658
         ],
         "legendgroup": "OD",
         "line": {
          "color": "blue",
          "width": 0.4891952370841024
         },
         "lon": [
          120.9125,
          121.1489
         ],
         "mode": "lines",
         "name": "OD",
         "showlegend": false,
         "type": "scattermap"
        },
        {
         "hovertemplate": "Quantity: 11841<extra></extra>",
         "lat": [
          31.60132,
          32.45936
         ],
         "legendgroup": "OD",
         "line": {
          "color": "blue",
          "width": 0.48351926563546377
         },
         "lon": [
          120.9125,
          119.9178
         ],
         "mode": "lines",
         "name": "OD",
         "showlegend": false,
         "type": "scattermap"
        },
        {
         "hovertemplate": "Quantity: 11797<extra></extra>",
         "lat": [
          31.60132,
          29.61051
         ],
         "legendgroup": "OD",
         "line": {
          "color": "blue",
          "width": 0.4817225552488444
         },
         "lon": [
          120.9125,
          105.081
         ],
         "mode": "lines",
         "name": "OD",
         "showlegend": false,
         "type": "scattermap"
        },
        {
         "hovertemplate": "Quantity: 11690<extra></extra>",
         "lat": [
          31.60132,
          30.09205
         ],
         "legendgroup": "OD",
         "line": {
          "color": "blue",
          "width": 0.47735328226320173
         },
         "lon": [
          120.9125,
          103.8477
         ],
         "mode": "lines",
         "name": "OD",
         "showlegend": false,
         "type": "scattermap"
        },
        {
         "hovertemplate": "Quantity: 11482<extra></extra>",
         "lat": [
          31.60132,
          33.58913
         ],
         "legendgroup": "OD",
         "line": {
          "color": "blue",
          "width": 0.4688597422537282
         },
         "lon": [
          120.9125,
          119.0793
         ],
         "mode": "lines",
         "name": "OD",
         "showlegend": false,
         "type": "scattermap"
        },
        {
         "hovertemplate": "Quantity: 11256<extra></extra>",
         "lat": [
          31.60132,
          31.89946
         ],
         "legendgroup": "OD",
         "line": {
          "color": "blue",
          "width": 0.4596311843588194
         },
         "lon": [
          120.9125,
          117.3595
         ],
         "mode": "lines",
         "name": "OD",
         "showlegend": false,
         "type": "scattermap"
        },
        {
         "hovertemplate": "Quantity: 11214<extra></extra>",
         "lat": [
          31.60132,
          31.07754
         ],
         "legendgroup": "OD",
         "line": {
          "color": "blue",
          "width": 0.4579161426261372
         },
         "lon": [
          120.9125,
          112.2224
         ],
         "mode": "lines",
         "name": "OD",
         "showlegend": false,
         "type": "scattermap"
        },
        {
         "hovertemplate": "Quantity: 10929<extra></extra>",
         "lat": [
          31.60132,
          36.62035
         ],
         "legendgroup": "OD",
         "line": {
          "color": "blue",
          "width": 0.44627835944007976
         },
         "lon": [
          120.9125,
          114.4945
         ],
         "mode": "lines",
         "name": "OD",
         "showlegend": false,
         "type": "scattermap"
        },
        {
         "hovertemplate": "Quantity: 10911<extra></extra>",
         "lat": [
          31.60132,
          31.50323
         ],
         "legendgroup": "OD",
         "line": {
          "color": "blue",
          "width": 0.4455433415546445
         },
         "lon": [
          120.9125,
          120.3923
         ],
         "mode": "lines",
         "name": "OD",
         "showlegend": false,
         "type": "scattermap"
        },
        {
         "hovertemplate": "Quantity: 10837<extra></extra>",
         "lat": [
          31.60132,
          38.01142
         ],
         "legendgroup": "OD",
         "line": {
          "color": "blue",
          "width": 0.4425216013589664
         },
         "lon": [
          120.9125,
          114.5071
         ],
         "mode": "lines",
         "name": "OD",
         "showlegend": false,
         "type": "scattermap"
        },
        {
         "hovertemplate": "Quantity: 10520<extra></extra>",
         "lat": [
          31.60132,
          26.66674
         ],
         "legendgroup": "OD",
         "line": {
          "color": "blue",
          "width": 0.42957711970991297
         },
         "lon": [
          120.9125,
          119.5334
         ],
         "mode": "lines",
         "name": "OD",
         "showlegend": false,
         "type": "scattermap"
        },
        {
         "hovertemplate": "Quantity: 10380<extra></extra>",
         "lat": [
          31.60132,
          30.61364
         ],
         "legendgroup": "OD",
         "line": {
          "color": "blue",
          "width": 0.4238603139343057
         },
         "lon": [
          120.9125,
          114.2449
         ],
         "mode": "lines",
         "name": "OD",
         "showlegend": false,
         "type": "scattermap"
        },
        {
         "hovertemplate": "Quantity: 10255<extra></extra>",
         "lat": [
          31.60132,
          30.09205
         ],
         "legendgroup": "OD",
         "line": {
          "color": "blue",
          "width": 0.41875602306322784
         },
         "lon": [
          120.9125,
          103.8477
         ],
         "mode": "lines",
         "name": "OD",
         "showlegend": false,
         "type": "scattermap"
        },
        {
         "hovertemplate": "Quantity: 9950<extra></extra>",
         "lat": [
          31.60132,
          37.8686
         ],
         "legendgroup": "OD",
         "line": {
          "color": "blue",
          "width": 0.4063015533377979
         },
         "lon": [
          120.9125,
          112.6184
         ],
         "mode": "lines",
         "name": "OD",
         "showlegend": false,
         "type": "scattermap"
        },
        {
         "hovertemplate": "Quantity: 9870<extra></extra>",
         "lat": [
          31.60132,
          29.93326
         ],
         "legendgroup": "OD",
         "line": {
          "color": "blue",
          "width": 0.40303480718030804
         },
         "lon": [
          120.9125,
          121.6062
         ],
         "mode": "lines",
         "name": "OD",
         "showlegend": false,
         "type": "scattermap"
        },
        {
         "hovertemplate": "Quantity: 9691<extra></extra>",
         "lat": [
          31.60132,
          29.67056
         ],
         "legendgroup": "OD",
         "line": {
          "color": "blue",
          "width": 0.3957254626529245
         },
         "lon": [
          120.9125,
          106.6263
         ],
         "mode": "lines",
         "name": "OD",
         "showlegend": false,
         "type": "scattermap"
        },
        {
         "hovertemplate": "Quantity: 9555<extra></extra>",
         "lat": [
          31.60132,
          29.67056
         ],
         "legendgroup": "OD",
         "line": {
          "color": "blue",
          "width": 0.3901719941851919
         },
         "lon": [
          120.9125,
          106.6263
         ],
         "mode": "lines",
         "name": "OD",
         "showlegend": false,
         "type": "scattermap"
        },
        {
         "hovertemplate": "Quantity: 9498<extra></extra>",
         "lat": [
          31.60132,
          31.6025
         ],
         "legendgroup": "OD",
         "line": {
          "color": "blue",
          "width": 0.3878444375479803
         },
         "lon": [
          120.9125,
          120.9008
         ],
         "mode": "lines",
         "name": "OD",
         "showlegend": false,
         "type": "scattermap"
        },
        {
         "hovertemplate": "Quantity: 9395<extra></extra>",
         "lat": [
          31.60132,
          32.99897
         ],
         "legendgroup": "OD",
         "line": {
          "color": "blue",
          "width": 0.38363850187021215
         },
         "lon": [
          120.9125,
          112.5379
         ],
         "mode": "lines",
         "name": "OD",
         "showlegend": false,
         "type": "scattermap"
        },
        {
         "hovertemplate": "Quantity: 9375<extra></extra>",
         "lat": [
          31.60132,
          39.52418
         ],
         "legendgroup": "OD",
         "line": {
          "color": "blue",
          "width": 0.3828218153308397
         },
         "lon": [
          120.9125,
          118.0917
         ],
         "mode": "lines",
         "name": "OD",
         "showlegend": false,
         "type": "scattermap"
        },
        {
         "hovertemplate": "Quantity: 9354<extra></extra>",
         "lat": [
          31.60132,
          40.88605
         ],
         "legendgroup": "OD",
         "line": {
          "color": "blue",
          "width": 0.3819642944644986
         },
         "lon": [
          120.9125,
          111.8036
         ],
         "mode": "lines",
         "name": "OD",
         "showlegend": false,
         "type": "scattermap"
        },
        {
         "hovertemplate": "Quantity: 9297<extra></extra>",
         "lat": [
          31.60132,
          30.09205
         ],
         "legendgroup": "OD",
         "line": {
          "color": "blue",
          "width": 0.37963673782728713
         },
         "lon": [
          120.9125,
          103.8477
         ],
         "mode": "lines",
         "name": "OD",
         "showlegend": false,
         "type": "scattermap"
        },
        {
         "hovertemplate": "Quantity: 9270<extra></extra>",
         "lat": [
          31.60132,
          33.58913
         ],
         "legendgroup": "OD",
         "line": {
          "color": "blue",
          "width": 0.3785342109991343
         },
         "lon": [
          120.9125,
          119.0793
         ],
         "mode": "lines",
         "name": "OD",
         "showlegend": false,
         "type": "scattermap"
        },
        {
         "hovertemplate": "Quantity: 9155<extra></extra>",
         "lat": [
          31.60132,
          30.61364
         ],
         "legendgroup": "OD",
         "line": {
          "color": "blue",
          "width": 0.3738382633977427
         },
         "lon": [
          120.9125,
          114.2449
         ],
         "mode": "lines",
         "name": "OD",
         "showlegend": false,
         "type": "scattermap"
        },
        {
         "hovertemplate": "Quantity: 9110<extra></extra>",
         "lat": [
          31.60132,
          36.62035
         ],
         "legendgroup": "OD",
         "line": {
          "color": "blue",
          "width": 0.37200071868415463
         },
         "lon": [
          120.9125,
          114.4945
         ],
         "mode": "lines",
         "name": "OD",
         "showlegend": false,
         "type": "scattermap"
        },
        {
         "hovertemplate": "Quantity: 9104<extra></extra>",
         "lat": [
          31.60132,
          27.79889
         ],
         "legendgroup": "OD",
         "line": {
          "color": "blue",
          "width": 0.37175571272234287
         },
         "lon": [
          120.9125,
          113.1612
         ],
         "mode": "lines",
         "name": "OD",
         "showlegend": false,
         "type": "scattermap"
        },
        {
         "hovertemplate": "Quantity: 9020<extra></extra>",
         "lat": [
          31.60132,
          31.6025
         ],
         "legendgroup": "OD",
         "line": {
          "color": "blue",
          "width": 0.3683256292569786
         },
         "lon": [
          120.9125,
          120.9008
         ],
         "mode": "lines",
         "name": "OD",
         "showlegend": false,
         "type": "scattermap"
        },
        {
         "hovertemplate": "Quantity: 8708<extra></extra>",
         "lat": [
          31.60132,
          34.32337
         ],
         "legendgroup": "OD",
         "line": {
          "color": "blue",
          "width": 0.35558531924276826
         },
         "lon": [
          120.9125,
          109.0284
         ],
         "mode": "lines",
         "name": "OD",
         "showlegend": false,
         "type": "scattermap"
        },
        {
         "hovertemplate": "Quantity: 8694<extra></extra>",
         "lat": [
          31.60132,
          38.84227
         ],
         "legendgroup": "OD",
         "line": {
          "color": "blue",
          "width": 0.3550136386652075
         },
         "lon": [
          120.9125,
          115.5125
         ],
         "mode": "lines",
         "name": "OD",
         "showlegend": false,
         "type": "scattermap"
        },
        {
         "hovertemplate": "Quantity: 8670<extra></extra>",
         "lat": [
          31.60132,
          35.74759
         ],
         "legendgroup": "OD",
         "line": {
          "color": "blue",
          "width": 0.3540336148179606
         },
         "lon": [
          120.9125,
          115.0775
         ],
         "mode": "lines",
         "name": "OD",
         "showlegend": false,
         "type": "scattermap"
        },
        {
         "hovertemplate": "Quantity: 8595<extra></extra>",
         "lat": [
          31.60132,
          35.10285
         ],
         "legendgroup": "OD",
         "line": {
          "color": "blue",
          "width": 0.3509710402953139
         },
         "lon": [
          120.9125,
          118.2891
         ],
         "mode": "lines",
         "name": "OD",
         "showlegend": false,
         "type": "scattermap"
        },
        {
         "hovertemplate": "Quantity: 8484<extra></extra>",
         "lat": [
          31.60132,
          31.66238
         ],
         "legendgroup": "OD",
         "line": {
          "color": "blue",
          "width": 0.3464384300017967
         },
         "lon": [
          120.9125,
          118.4845
         ],
         "mode": "lines",
         "name": "OD",
         "showlegend": false,
         "type": "scattermap"
        },
        {
         "hovertemplate": "Quantity: 8382<extra></extra>",
         "lat": [
          31.60132,
          31.07754
         ],
         "legendgroup": "OD",
         "line": {
          "color": "blue",
          "width": 0.3422733286509972
         },
         "lon": [
          120.9125,
          112.2224
         ],
         "mode": "lines",
         "name": "OD",
         "showlegend": false,
         "type": "scattermap"
        },
        {
         "hovertemplate": "Quantity: 8232<extra></extra>",
         "lat": [
          31.60132,
          24.90263
         ],
         "legendgroup": "OD",
         "line": {
          "color": "blue",
          "width": 0.3361481796057037
         },
         "lon": [
          120.9125,
          102.9867
         ],
         "mode": "lines",
         "name": "OD",
         "showlegend": false,
         "type": "scattermap"
        },
        {
         "hovertemplate": "Quantity: 8140<extra></extra>",
         "lat": [
          31.60132,
          29.67056
         ],
         "legendgroup": "OD",
         "line": {
          "color": "blue",
          "width": 0.33239142152459045
         },
         "lon": [
          120.9125,
          106.6263
         ],
         "mode": "lines",
         "name": "OD",
         "showlegend": false,
         "type": "scattermap"
        },
        {
         "hovertemplate": "Quantity: 8071<extra></extra>",
         "lat": [
          31.60132,
          32.99897
         ],
         "legendgroup": "OD",
         "line": {
          "color": "blue",
          "width": 0.32957385296375546
         },
         "lon": [
          120.9125,
          112.5379
         ],
         "mode": "lines",
         "name": "OD",
         "showlegend": false,
         "type": "scattermap"
        },
        {
         "hovertemplate": "Quantity: 8004<extra></extra>",
         "lat": [
          31.60132,
          32.45936
         ],
         "legendgroup": "OD",
         "line": {
          "color": "blue",
          "width": 0.3268379530568577
         },
         "lon": [
          120.9125,
          119.9178
         ],
         "mode": "lines",
         "name": "OD",
         "showlegend": false,
         "type": "scattermap"
        },
        {
         "hovertemplate": "Quantity: 7940<extra></extra>",
         "lat": [
          31.60132,
          32.00261
         ],
         "legendgroup": "OD",
         "line": {
          "color": "blue",
          "width": 0.32422455613086587
         },
         "lon": [
          120.9125,
          118.8661
         ],
         "mode": "lines",
         "name": "OD",
         "showlegend": false,
         "type": "scattermap"
        },
        {
         "hovertemplate": "Quantity: 7850<extra></extra>",
         "lat": [
          31.60132,
          26.66674
         ],
         "legendgroup": "OD",
         "line": {
          "color": "blue",
          "width": 0.3205494667036898
         },
         "lon": [
          120.9125,
          119.5334
         ],
         "mode": "lines",
         "name": "OD",
         "showlegend": false,
         "type": "scattermap"
        },
        {
         "hovertemplate": "Quantity: 7835<extra></extra>",
         "lat": [
          31.60132,
          32.99897
         ],
         "legendgroup": "OD",
         "line": {
          "color": "blue",
          "width": 0.31993695179916043
         },
         "lon": [
          120.9125,
          112.5379
         ],
         "mode": "lines",
         "name": "OD",
         "showlegend": false,
         "type": "scattermap"
        },
        {
         "hovertemplate": "Quantity: 7576<extra></extra>",
         "lat": [
          31.60132,
          39.04403
         ],
         "legendgroup": "OD",
         "line": {
          "color": "blue",
          "width": 0.3093608611142871
         },
         "lon": [
          120.9125,
          121.6366
         ],
         "mode": "lines",
         "name": "OD",
         "showlegend": false,
         "type": "scattermap"
        },
        {
         "hovertemplate": "Quantity: 7550<extra></extra>",
         "lat": [
          31.60132,
          30.68944
         ],
         "legendgroup": "OD",
         "line": {
          "color": "blue",
          "width": 0.3082991686131029
         },
         "lon": [
          120.9125,
          104.1816
         ],
         "mode": "lines",
         "name": "OD",
         "showlegend": false,
         "type": "scattermap"
        },
        {
         "hovertemplate": "Quantity: 7473<extra></extra>",
         "lat": [
          31.60132,
          35.24317
         ],
         "legendgroup": "OD",
         "line": {
          "color": "blue",
          "width": 0.30515492543651895
         },
         "lon": [
          120.9125,
          113.1965
         ],
         "mode": "lines",
         "name": "OD",
         "showlegend": false,
         "type": "scattermap"
        },
        {
         "hovertemplate": "Quantity: 7385<extra></extra>",
         "lat": [
          31.60132,
          24.90263
         ],
         "legendgroup": "OD",
         "line": {
          "color": "blue",
          "width": 0.30156150466328013
         },
         "lon": [
          120.9125,
          102.9867
         ],
         "mode": "lines",
         "name": "OD",
         "showlegend": false,
         "type": "scattermap"
        },
        {
         "hovertemplate": "Quantity: 7310<extra></extra>",
         "lat": [
          31.60132,
          35.74759
         ],
         "legendgroup": "OD",
         "line": {
          "color": "blue",
          "width": 0.29849893014063344
         },
         "lon": [
          120.9125,
          115.0775
         ],
         "mode": "lines",
         "name": "OD",
         "showlegend": false,
         "type": "scattermap"
        },
        {
         "hovertemplate": "Quantity: 7250<extra></extra>",
         "lat": [
          31.60132,
          31.89018
         ],
         "legendgroup": "OD",
         "line": {
          "color": "blue",
          "width": 0.29604887052251605
         },
         "lon": [
          120.9125,
          117.3539
         ],
         "mode": "lines",
         "name": "OD",
         "showlegend": false,
         "type": "scattermap"
        },
        {
         "hovertemplate": "Quantity: 7106<extra></extra>",
         "lat": [
          31.60132,
          31.07754
         ],
         "legendgroup": "OD",
         "line": {
          "color": "blue",
          "width": 0.2901687274390343
         },
         "lon": [
          120.9125,
          112.2224
         ],
         "mode": "lines",
         "name": "OD",
         "showlegend": false,
         "type": "scattermap"
        },
        {
         "hovertemplate": "Quantity: 7055<extra></extra>",
         "lat": [
          31.60132,
          32.99897
         ],
         "legendgroup": "OD",
         "line": {
          "color": "blue",
          "width": 0.28808617676363457
         },
         "lon": [
          120.9125,
          112.5379
         ],
         "mode": "lines",
         "name": "OD",
         "showlegend": false,
         "type": "scattermap"
        },
        {
         "hovertemplate": "Quantity: 7035<extra></extra>",
         "lat": [
          31.60132,
          26.60968
         ],
         "legendgroup": "OD",
         "line": {
          "color": "blue",
          "width": 0.2872694902242621
         },
         "lon": [
          120.9125,
          106.7355
         ],
         "mode": "lines",
         "name": "OD",
         "showlegend": false,
         "type": "scattermap"
        },
        {
         "hovertemplate": "Quantity: 6895<extra></extra>",
         "lat": [
          31.60132,
          26.66674
         ],
         "legendgroup": "OD",
         "line": {
          "color": "blue",
          "width": 0.28155268444865494
         },
         "lon": [
          120.9125,
          119.5334
         ],
         "mode": "lines",
         "name": "OD",
         "showlegend": false,
         "type": "scattermap"
        },
        {
         "hovertemplate": "Quantity: 6640<extra></extra>",
         "lat": [
          31.60132,
          36.73794
         ],
         "legendgroup": "OD",
         "line": {
          "color": "blue",
          "width": 0.27113993107165607
         },
         "lon": [
          120.9125,
          119.0358
         ],
         "mode": "lines",
         "name": "OD",
         "showlegend": false,
         "type": "scattermap"
        },
        {
         "hovertemplate": "Quantity: 6515<extra></extra>",
         "lat": [
          31.60132,
          26.60968
         ],
         "legendgroup": "OD",
         "line": {
          "color": "blue",
          "width": 0.2660356402005782
         },
         "lon": [
          120.9125,
          106.7355
         ],
         "mode": "lines",
         "name": "OD",
         "showlegend": false,
         "type": "scattermap"
        },
        {
         "hovertemplate": "Quantity: 6380<extra></extra>",
         "lat": [
          31.60132,
          32.41468
         ],
         "legendgroup": "OD",
         "line": {
          "color": "blue",
          "width": 0.2605230060598141
         },
         "lon": [
          120.9125,
          104.5354
         ],
         "mode": "lines",
         "name": "OD",
         "showlegend": false,
         "type": "scattermap"
        },
        {
         "hovertemplate": "Quantity: 6309<extra></extra>",
         "lat": [
          31.60132,
          35.10285
         ],
         "legendgroup": "OD",
         "line": {
          "color": "blue",
          "width": 0.2576237688450419
         },
         "lon": [
          120.9125,
          118.2891
         ],
         "mode": "lines",
         "name": "OD",
         "showlegend": false,
         "type": "scattermap"
        },
        {
         "hovertemplate": "Quantity: 6260<extra></extra>",
         "lat": [
          31.60132,
          28.59099
         ],
         "legendgroup": "OD",
         "line": {
          "color": "blue",
          "width": 0.25562288682357936
         },
         "lon": [
          120.9125,
          121.3567
         ],
         "mode": "lines",
         "name": "OD",
         "showlegend": false,
         "type": "scattermap"
        },
        {
         "hovertemplate": "Quantity: 6100<extra></extra>",
         "lat": [
          31.60132,
          38.84227
         ],
         "legendgroup": "OD",
         "line": {
          "color": "blue",
          "width": 0.24908939450859974
         },
         "lon": [
          120.9125,
          115.5125
         ],
         "mode": "lines",
         "name": "OD",
         "showlegend": false,
         "type": "scattermap"
        },
        {
         "hovertemplate": "Quantity: 5685<extra></extra>",
         "lat": [
          31.60132,
          32.45936
         ],
         "legendgroup": "OD",
         "line": {
          "color": "blue",
          "width": 0.2321431488166212
         },
         "lon": [
          120.9125,
          119.9178
         ],
         "mode": "lines",
         "name": "OD",
         "showlegend": false,
         "type": "scattermap"
        },
        {
         "hovertemplate": "Quantity: 5660<extra></extra>",
         "lat": [
          31.60132,
          41.09658
         ],
         "legendgroup": "OD",
         "line": {
          "color": "blue",
          "width": 0.23112229064240564
         },
         "lon": [
          120.9125,
          121.1489
         ],
         "mode": "lines",
         "name": "OD",
         "showlegend": false,
         "type": "scattermap"
        },
        {
         "hovertemplate": "Quantity: 5290<extra></extra>",
         "lat": [
          31.60132,
          45.74223
         ],
         "legendgroup": "OD",
         "line": {
          "color": "blue",
          "width": 0.21601358966401515
         },
         "lon": [
          120.9125,
          126.6237
         ],
         "mode": "lines",
         "name": "OD",
         "showlegend": false,
         "type": "scattermap"
        },
        {
         "hovertemplate": "Quantity: 5228<extra></extra>",
         "lat": [
          31.60132,
          31.07754
         ],
         "legendgroup": "OD",
         "line": {
          "color": "blue",
          "width": 0.21348186139196051
         },
         "lon": [
          120.9125,
          112.2224
         ],
         "mode": "lines",
         "name": "OD",
         "showlegend": false,
         "type": "scattermap"
        },
        {
         "hovertemplate": "Quantity: 5219<extra></extra>",
         "lat": [
          31.60132,
          35.24317
         ],
         "legendgroup": "OD",
         "line": {
          "color": "blue",
          "width": 0.21311435244924293
         },
         "lon": [
          120.9125,
          113.1965
         ],
         "mode": "lines",
         "name": "OD",
         "showlegend": false,
         "type": "scattermap"
        },
        {
         "hovertemplate": "Quantity: 5179<extra></extra>",
         "lat": [
          31.60132,
          30.61364
         ],
         "legendgroup": "OD",
         "line": {
          "color": "blue",
          "width": 0.211480979370498
         },
         "lon": [
          120.9125,
          114.2449
         ],
         "mode": "lines",
         "name": "OD",
         "showlegend": false,
         "type": "scattermap"
        },
        {
         "hovertemplate": "Quantity: 5160<extra></extra>",
         "lat": [
          31.60132,
          29.67056
         ],
         "legendgroup": "OD",
         "line": {
          "color": "blue",
          "width": 0.2107051271580942
         },
         "lon": [
          120.9125,
          106.6263
         ],
         "mode": "lines",
         "name": "OD",
         "showlegend": false,
         "type": "scattermap"
        },
        {
         "hovertemplate": "Quantity: 5070<extra></extra>",
         "lat": [
          31.60132,
          32.45936
         ],
         "legendgroup": "OD",
         "line": {
          "color": "blue",
          "width": 0.2070300377309181
         },
         "lon": [
          120.9125,
          119.9178
         ],
         "mode": "lines",
         "name": "OD",
         "showlegend": false,
         "type": "scattermap"
        },
        {
         "hovertemplate": "Quantity: 4960<extra></extra>",
         "lat": [
          31.60132,
          32.04472
         ],
         "legendgroup": "OD",
         "line": {
          "color": "blue",
          "width": 0.20253826176436962
         },
         "lon": [
          120.9125,
          112.1553
         ],
         "mode": "lines",
         "name": "OD",
         "showlegend": false,
         "type": "scattermap"
        },
        {
         "hovertemplate": "Quantity: 4420<extra></extra>",
         "lat": [
          31.60132,
          35.24317
         ],
         "legendgroup": "OD",
         "line": {
          "color": "blue",
          "width": 0.18048772520131323
         },
         "lon": [
          120.9125,
          113.1965
         ],
         "mode": "lines",
         "name": "OD",
         "showlegend": false,
         "type": "scattermap"
        },
        {
         "hovertemplate": "Quantity: 4060<extra></extra>",
         "lat": [
          31.60132,
          35.24317
         ],
         "legendgroup": "OD",
         "line": {
          "color": "blue",
          "width": 0.165787367492609
         },
         "lon": [
          120.9125,
          113.1965
         ],
         "mode": "lines",
         "name": "OD",
         "showlegend": false,
         "type": "scattermap"
        },
        {
         "hovertemplate": "Quantity: 3740<extra></extra>",
         "lat": [
          31.60132,
          26.60968
         ],
         "legendgroup": "OD",
         "line": {
          "color": "blue",
          "width": 0.15272038286264966
         },
         "lon": [
          120.9125,
          106.7355
         ],
         "mode": "lines",
         "name": "OD",
         "showlegend": false,
         "type": "scattermap"
        },
        {
         "hovertemplate": "Quantity: 3642<extra></extra>",
         "lat": [
          31.60132,
          31.07754
         ],
         "legendgroup": "OD",
         "line": {
          "color": "blue",
          "width": 0.14871861881972462
         },
         "lon": [
          120.9125,
          112.2224
         ],
         "mode": "lines",
         "name": "OD",
         "showlegend": false,
         "type": "scattermap"
        },
        {
         "hovertemplate": "Quantity: 3620<extra></extra>",
         "lat": [
          31.60132,
          35.10285
         ],
         "legendgroup": "OD",
         "line": {
          "color": "blue",
          "width": 0.14782026362641493
         },
         "lon": [
          120.9125,
          118.2891
         ],
         "mode": "lines",
         "name": "OD",
         "showlegend": false,
         "type": "scattermap"
        },
        {
         "hovertemplate": "Quantity: 3400<extra></extra>",
         "lat": [
          31.60132,
          31.50323
         ],
         "legendgroup": "OD",
         "line": {
          "color": "blue",
          "width": 0.13883671169331788
         },
         "lon": [
          120.9125,
          120.3923
         ],
         "mode": "lines",
         "name": "OD",
         "showlegend": false,
         "type": "scattermap"
        },
        {
         "hovertemplate": "Quantity: 3312<extra></extra>",
         "lat": [
          31.60132,
          26.66674
         ],
         "legendgroup": "OD",
         "line": {
          "color": "blue",
          "width": 0.13524329092007906
         },
         "lon": [
          120.9125,
          119.5334
         ],
         "mode": "lines",
         "name": "OD",
         "showlegend": false,
         "type": "scattermap"
        },
        {
         "hovertemplate": "Quantity: 3100<extra></extra>",
         "lat": [
          31.60132,
          31.89946
         ],
         "legendgroup": "OD",
         "line": {
          "color": "blue",
          "width": 0.12658641360273098
         },
         "lon": [
          120.9125,
          117.3595
         ],
         "mode": "lines",
         "name": "OD",
         "showlegend": false,
         "type": "scattermap"
        },
        {
         "hovertemplate": "Quantity: 3020<extra></extra>",
         "lat": [
          31.60132,
          26.60968
         ],
         "legendgroup": "OD",
         "line": {
          "color": "blue",
          "width": 0.12331966744524117
         },
         "lon": [
          120.9125,
          106.7355
         ],
         "mode": "lines",
         "name": "OD",
         "showlegend": false,
         "type": "scattermap"
        },
        {
         "hovertemplate": "Quantity: 2706<extra></extra>",
         "lat": [
          31.60132,
          26.66674
         ],
         "legendgroup": "OD",
         "line": {
          "color": "blue",
          "width": 0.11049768877709358
         },
         "lon": [
          120.9125,
          119.5334
         ],
         "mode": "lines",
         "name": "OD",
         "showlegend": false,
         "type": "scattermap"
        },
        {
         "hovertemplate": "Quantity: 2450<extra></extra>",
         "lat": [
          31.60132,
          35.10285
         ],
         "legendgroup": "OD",
         "line": {
          "color": "blue",
          "width": 0.10004410107312611
         },
         "lon": [
          120.9125,
          118.2891
         ],
         "mode": "lines",
         "name": "OD",
         "showlegend": false,
         "type": "scattermap"
        },
        {
         "hovertemplate": "Quantity: 2290<extra></extra>",
         "lat": [
          31.60132,
          29.67056
         ],
         "legendgroup": "OD",
         "line": {
          "color": "blue",
          "width": 0.09351060875814644
         },
         "lon": [
          120.9125,
          106.6263
         ],
         "mode": "lines",
         "name": "OD",
         "showlegend": false,
         "type": "scattermap"
        },
        {
         "hovertemplate": "Quantity: 1827<extra></extra>",
         "lat": [
          31.60132,
          28.21001
         ],
         "legendgroup": "OD",
         "line": {
          "color": "blue",
          "width": 0.07460431537167404
         },
         "lon": [
          120.9125,
          113.0253
         ],
         "mode": "lines",
         "name": "OD",
         "showlegend": false,
         "type": "scattermap"
        },
        {
         "hovertemplate": "Quantity: 1679<extra></extra>",
         "lat": [
          31.60132,
          28.21001
         ],
         "legendgroup": "OD",
         "line": {
          "color": "blue",
          "width": 0.06856083498031786
         },
         "lon": [
          120.9125,
          113.0253
         ],
         "mode": "lines",
         "name": "OD",
         "showlegend": false,
         "type": "scattermap"
        },
        {
         "hovertemplate": "Quantity: 1295<extra></extra>",
         "lat": [
          31.60132,
          31.07754
         ],
         "legendgroup": "OD",
         "line": {
          "color": "blue",
          "width": 0.05288045342436666
         },
         "lon": [
          120.9125,
          112.2224
         ],
         "mode": "lines",
         "name": "OD",
         "showlegend": false,
         "type": "scattermap"
        },
        {
         "hovertemplate": "Quantity: 868<extra></extra>",
         "lat": [
          31.60132,
          41.09658
         ],
         "legendgroup": "OD",
         "line": {
          "color": "blue",
          "width": 0.03544419580876468
         },
         "lon": [
          120.9125,
          121.1489
         ],
         "mode": "lines",
         "name": "OD",
         "showlegend": false,
         "type": "scattermap"
        },
        {
         "hoverinfo": "text",
         "hovertext": [
          "RDC_Jinan",
          "RDC_Nanchang",
          "RDC_Beijing",
          "RDC_Changsha",
          "RDC_Haerbin",
          "RDC_Mianyang",
          "RDC_Zhuzhou",
          "RDC_Zhengzhou",
          "RDC_Shanghai2",
          "RDC_Weifang",
          "RDC_Hangzhou",
          "RDC_Ningbo",
          "RDC_Chengdu",
          "RDC_Wuhan",
          "RDC_Tianjin",
          "RDC_Wulumuqi",
          "RDC_Xian1",
          "RDC_Puyang",
          "RDC_Shangqiu",
          "RDC_Lanzhou",
          "RDC_Changchun",
          "RDC_Nanjing",
          "RDC_Lianyungang",
          "RDC_Suzhou",
          "RDC_Hefei2",
          "RDC_Maanshan",
          "RDC_Liaoning",
          "RDC_Tangshan",
          "RDC_Huaian",
          "RDC_Taiyuan1",
          "RDC_Baoding",
          "RDC_Xiangfan",
          "RDC_Yangzhou",
          "RDC_Shijiazhuang",
          "RDC_Dalian",
          "RDC_Handan",
          "RDC_Wuxi",
          "RDC_Taiyuan2",
          "RDC_Shanghai1",
          "RDC_Hefei1",
          "RDC_Liuzhou",
          "RDC_Chongqing",
          "RDC_Taizhou",
          "RDC_Neijiang",
          "RDC_Xian2",
          "RDC_Meishan",
          "RDC_Jinzhou",
          "RDC_Nanyang",
          "RDC_Guiyang",
          "RDC_Huhehaote",
          "RDC_Kunming",
          "RDC_Jiaozuo",
          "RDC_Linyi",
          "RDC_Jingmen",
          "RDC_Ningde",
          "RDC_Qingdao",
          "RDC_Nantong"
         ],
         "lat": {
          "dtype": "f8",
          "bdata": "GFsIclBSQkAw8Nx7uJQ8QNLj9zb97UNAPdUhN8M1PEAXDoRkAd9GQBMn9zsUNUBA+BkXDoTMO0BznUZaKl9BQEZCW86lAD9AgzRj0XReQkCcilQYW2A+QDuqmiDq7j1A443MI3+wPkB3hNOCF50+QCk/qfbpjENAkq6ZfLPtRUBxGw3gLSRBQIhodAex30FA1/oioS1fQUCoABjPoAVCQCyC/61k90VAP1JEhlUAQEDEX5M16klBQArXo3A9mj9AZw+0AkPmP0BEhlW8kak/QOeMKO0N6kRA0JuKVBjDQ0DWi6GcaMtAQB6n6Egu70JAcjPcgM9rQ0ASvYxiuQVAQJeL+E7MOkBAmkLnNXYBQ0B9BWnGooVDQGwJ+aBnT0JAt11ortOAP0A4oRABh/RCQGU2yCQjTz9ApI0j1uLjP0Amx53SwVI4QHkB9tGpqz1AV0PiHkuXPECH4SNiSpw9QPZAKzBkKUFAyJi7lpAXPkBOucK7XIxEQLLXuz/ef0BAeQYN/ROcOkB2Tx4WanFEQHNjesIS5zhAJa/OMSCfQUBhMlUwKo1BQMAhVKnZEz9AX+/+eK+qOkAldQKaCBdCQPwApDZxCkBA"
         },
         "lon": {
          "dtype": "f8",
          "bdata": "AiuHFtk2XUDtDb4wmfpcQIqO5PIfHl1AryXkg55BXED5oGez6qdfQNGRXP5DIlpAXwfOGVFKXECL/WX35G1cQHctIR/0YF5AmEwVjErCXUAXt9EA3gpeQHS1FfvLZl5ACD2bVZ8LWkCWsgxxrI9cQBsN4C2QUF1AVTAqqRPiVUDu68A5I0JbQClcj8L1xFxAUrgehettXEAK16NwPfpZQEJg5dAiU19AM8SxLm63XUBQ/Bhz18pdQCgPC7WmOV5AXrpJDAJXXUBeukkMAp9dQERpb/CF4V5AxEKtad6FXUCppE5AE8VdQCv2l92TJ1xAzczMzMzgXEBnRGlv8AlcQDQRNjy9+l1ATfOOU3SgXECNKO0NvmheQM/3U+Oln1xAIo51cRsZXkDpSC7/ISFcQOlILv8hWV5Ae4MvTKZWXUD129eBc1pbQAdfmEwVqFpA7Z48LNRWXkB3vp8aL0VaQDbNO07RQVtAbjSAt0D2WUD2l92Th0leQC0hH/RsIlxAUI2XbhKvWkAzxLEubvNbQKW9wRcmv1lAf2q8dJNMXECDUUmdgJJdQFioNc07DlxA7uvAOSPiXUAZBFYOLR5eQO58PzVeOl5A"
         },
         "marker": {
          "color": "orange",
          "size": 10
         },
         "mode": "markers",
         "name": "RDCs",
         "type": "scattermap"
        },
        {
         "hoverinfo": "text",
         "hovertext": [
          "NDC_Changshu"
         ],
         "lat": {
          "dtype": "f8",
          "bdata": "RG6GG/CZP0A="
         },
         "lon": {
          "dtype": "f8",
          "bdata": "ZmZmZmY6XkA="
         },
         "marker": {
          "color": "red",
          "size": 14,
          "symbol": "diamond"
         },
         "mode": "markers",
         "name": "NDC_常熟",
         "type": "scattermap"
        }
       ],
       "layout": {
        "template": {
         "data": {
          "histogram2dcontour": [
           {
            "type": "histogram2dcontour",
            "colorbar": {
             "outlinewidth": 0,
             "ticks": ""
            },
            "colorscale": [
             [
              0.0,
              "#0d0887"
             ],
             [
              0.1111111111111111,
              "#46039f"
             ],
             [
              0.2222222222222222,
              "#7201a8"
             ],
             [
              0.3333333333333333,
              "#9c179e"
             ],
             [
              0.4444444444444444,
              "#bd3786"
             ],
             [
              0.5555555555555556,
              "#d8576b"
             ],
             [
              0.6666666666666666,
              "#ed7953"
             ],
             [
              0.7777777777777778,
              "#fb9f3a"
             ],
             [
              0.8888888888888888,
              "#fdca26"
             ],
             [
              1.0,
              "#f0f921"
             ]
            ]
           }
          ],
          "choropleth": [
           {
            "type": "choropleth",
            "colorbar": {
             "outlinewidth": 0,
             "ticks": ""
            }
           }
          ],
          "histogram2d": [
           {
            "type": "histogram2d",
            "colorbar": {
             "outlinewidth": 0,
             "ticks": ""
            },
            "colorscale": [
             [
              0.0,
              "#0d0887"
             ],
             [
              0.1111111111111111,
              "#46039f"
             ],
             [
              0.2222222222222222,
              "#7201a8"
             ],
             [
              0.3333333333333333,
              "#9c179e"
             ],
             [
              0.4444444444444444,
              "#bd3786"
             ],
             [
              0.5555555555555556,
              "#d8576b"
             ],
             [
              0.6666666666666666,
              "#ed7953"
             ],
             [
              0.7777777777777778,
              "#fb9f3a"
             ],
             [
              0.8888888888888888,
              "#fdca26"
             ],
             [
              1.0,
              "#f0f921"
             ]
            ]
           }
          ],
          "heatmap": [
           {
            "type": "heatmap",
            "colorbar": {
             "outlinewidth": 0,
             "ticks": ""
            },
            "colorscale": [
             [
              0.0,
              "#0d0887"
             ],
             [
              0.1111111111111111,
              "#46039f"
             ],
             [
              0.2222222222222222,
              "#7201a8"
             ],
             [
              0.3333333333333333,
              "#9c179e"
             ],
             [
              0.4444444444444444,
              "#bd3786"
             ],
             [
              0.5555555555555556,
              "#d8576b"
             ],
             [
              0.6666666666666666,
              "#ed7953"
             ],
             [
              0.7777777777777778,
              "#fb9f3a"
             ],
             [
              0.8888888888888888,
              "#fdca26"
             ],
             [
              1.0,
              "#f0f921"
             ]
            ]
           }
          ],
          "contourcarpet": [
           {
            "type": "contourcarpet",
            "colorbar": {
             "outlinewidth": 0,
             "ticks": ""
            }
           }
          ],
          "contour": [
           {
            "type": "contour",
            "colorbar": {
             "outlinewidth": 0,
             "ticks": ""
            },
            "colorscale": [
             [
              0.0,
              "#0d0887"
             ],
             [
              0.1111111111111111,
              "#46039f"
             ],
             [
              0.2222222222222222,
              "#7201a8"
             ],
             [
              0.3333333333333333,
              "#9c179e"
             ],
             [
              0.4444444444444444,
              "#bd3786"
             ],
             [
              0.5555555555555556,
              "#d8576b"
             ],
             [
              0.6666666666666666,
              "#ed7953"
             ],
             [
              0.7777777777777778,
              "#fb9f3a"
             ],
             [
              0.8888888888888888,
              "#fdca26"
             ],
             [
              1.0,
              "#f0f921"
             ]
            ]
           }
          ],
          "surface": [
           {
            "type": "surface",
            "colorbar": {
             "outlinewidth": 0,
             "ticks": ""
            },
            "colorscale": [
             [
              0.0,
              "#0d0887"
             ],
             [
              0.1111111111111111,
              "#46039f"
             ],
             [
              0.2222222222222222,
              "#7201a8"
             ],
             [
              0.3333333333333333,
              "#9c179e"
             ],
             [
              0.4444444444444444,
              "#bd3786"
             ],
             [
              0.5555555555555556,
              "#d8576b"
             ],
             [
              0.6666666666666666,
              "#ed7953"
             ],
             [
              0.7777777777777778,
              "#fb9f3a"
             ],
             [
              0.8888888888888888,
              "#fdca26"
             ],
             [
              1.0,
              "#f0f921"
             ]
            ]
           }
          ],
          "mesh3d": [
           {
            "type": "mesh3d",
            "colorbar": {
             "outlinewidth": 0,
             "ticks": ""
            }
           }
          ],
          "scatter": [
           {
            "fillpattern": {
             "fillmode": "overlay",
             "size": 10,
             "solidity": 0.2
            },
            "type": "scatter"
           }
          ],
          "parcoords": [
           {
            "type": "parcoords",
            "line": {
             "colorbar": {
              "outlinewidth": 0,
              "ticks": ""
             }
            }
           }
          ],
          "scatterpolargl": [
           {
            "type": "scatterpolargl",
            "marker": {
             "colorbar": {
              "outlinewidth": 0,
              "ticks": ""
             }
            }
           }
          ],
          "bar": [
           {
            "error_x": {
             "color": "#2a3f5f"
            },
            "error_y": {
             "color": "#2a3f5f"
            },
            "marker": {
             "line": {
              "color": "#E5ECF6",
              "width": 0.5
             },
             "pattern": {
              "fillmode": "overlay",
              "size": 10,
              "solidity": 0.2
             }
            },
            "type": "bar"
           }
          ],
          "scattergeo": [
           {
            "type": "scattergeo",
            "marker": {
             "colorbar": {
              "outlinewidth": 0,
              "ticks": ""
             }
            }
           }
          ],
          "scatterpolar": [
           {
            "type": "scatterpolar",
            "marker": {
             "colorbar": {
              "outlinewidth": 0,
              "ticks": ""
             }
            }
           }
          ],
          "histogram": [
           {
            "marker": {
             "pattern": {
              "fillmode": "overlay",
              "size": 10,
              "solidity": 0.2
             }
            },
            "type": "histogram"
           }
          ],
          "scattergl": [
           {
            "type": "scattergl",
            "marker": {
             "colorbar": {
              "outlinewidth": 0,
              "ticks": ""
             }
            }
           }
          ],
          "scatter3d": [
           {
            "type": "scatter3d",
            "line": {
             "colorbar": {
              "outlinewidth": 0,
              "ticks": ""
             }
            },
            "marker": {
             "colorbar": {
              "outlinewidth": 0,
              "ticks": ""
             }
            }
           }
          ],
          "scattermap": [
           {
            "type": "scattermap",
            "marker": {
             "colorbar": {
              "outlinewidth": 0,
              "ticks": ""
             }
            }
           }
          ],
          "scattermapbox": [
           {
            "type": "scattermapbox",
            "marker": {
             "colorbar": {
              "outlinewidth": 0,
              "ticks": ""
             }
            }
           }
          ],
          "scatterternary": [
           {
            "type": "scatterternary",
            "marker": {
             "colorbar": {
              "outlinewidth": 0,
              "ticks": ""
             }
            }
           }
          ],
          "scattercarpet": [
           {
            "type": "scattercarpet",
            "marker": {
             "colorbar": {
              "outlinewidth": 0,
              "ticks": ""
             }
            }
           }
          ],
          "carpet": [
           {
            "aaxis": {
             "endlinecolor": "#2a3f5f",
             "gridcolor": "white",
             "linecolor": "white",
             "minorgridcolor": "white",
             "startlinecolor": "#2a3f5f"
            },
            "baxis": {
             "endlinecolor": "#2a3f5f",
             "gridcolor": "white",
             "linecolor": "white",
             "minorgridcolor": "white",
             "startlinecolor": "#2a3f5f"
            },
            "type": "carpet"
           }
          ],
          "table": [
           {
            "cells": {
             "fill": {
              "color": "#EBF0F8"
             },
             "line": {
              "color": "white"
             }
            },
            "header": {
             "fill": {
              "color": "#C8D4E3"
             },
             "line": {
              "color": "white"
             }
            },
            "type": "table"
           }
          ],
          "barpolar": [
           {
            "marker": {
             "line": {
              "color": "#E5ECF6",
              "width": 0.5
             },
             "pattern": {
              "fillmode": "overlay",
              "size": 10,
              "solidity": 0.2
             }
            },
            "type": "barpolar"
           }
          ],
          "pie": [
           {
            "automargin": true,
            "type": "pie"
           }
          ]
         },
         "layout": {
          "autotypenumbers": "strict",
          "colorway": [
           "#636efa",
           "#EF553B",
           "#00cc96",
           "#ab63fa",
           "#FFA15A",
           "#19d3f3",
           "#FF6692",
           "#B6E880",
           "#FF97FF",
           "#FECB52"
          ],
          "font": {
           "color": "#2a3f5f"
          },
          "hovermode": "closest",
          "hoverlabel": {
           "align": "left"
          },
          "paper_bgcolor": "white",
          "plot_bgcolor": "#E5ECF6",
          "polar": {
           "bgcolor": "#E5ECF6",
           "angularaxis": {
            "gridcolor": "white",
            "linecolor": "white",
            "ticks": ""
           },
           "radialaxis": {
            "gridcolor": "white",
            "linecolor": "white",
            "ticks": ""
           }
          },
          "ternary": {
           "bgcolor": "#E5ECF6",
           "aaxis": {
            "gridcolor": "white",
            "linecolor": "white",
            "ticks": ""
           },
           "baxis": {
            "gridcolor": "white",
            "linecolor": "white",
            "ticks": ""
           },
           "caxis": {
            "gridcolor": "white",
            "linecolor": "white",
            "ticks": ""
           }
          },
          "coloraxis": {
           "colorbar": {
            "outlinewidth": 0,
            "ticks": ""
           }
          },
          "colorscale": {
           "sequential": [
            [
             0.0,
             "#0d0887"
            ],
            [
             0.1111111111111111,
             "#46039f"
            ],
            [
             0.2222222222222222,
             "#7201a8"
            ],
            [
             0.3333333333333333,
             "#9c179e"
            ],
            [
             0.4444444444444444,
             "#bd3786"
            ],
            [
             0.5555555555555556,
             "#d8576b"
            ],
            [
             0.6666666666666666,
             "#ed7953"
            ],
            [
             0.7777777777777778,
             "#fb9f3a"
            ],
            [
             0.8888888888888888,
             "#fdca26"
            ],
            [
             1.0,
             "#f0f921"
            ]
           ],
           "sequentialminus": [
            [
             0.0,
             "#0d0887"
            ],
            [
             0.1111111111111111,
             "#46039f"
            ],
            [
             0.2222222222222222,
             "#7201a8"
            ],
            [
             0.3333333333333333,
             "#9c179e"
            ],
            [
             0.4444444444444444,
             "#bd3786"
            ],
            [
             0.5555555555555556,
             "#d8576b"
            ],
            [
             0.6666666666666666,
             "#ed7953"
            ],
            [
             0.7777777777777778,
             "#fb9f3a"
            ],
            [
             0.8888888888888888,
             "#fdca26"
            ],
            [
             1.0,
             "#f0f921"
            ]
           ],
           "diverging": [
            [
             0,
             "#8e0152"
            ],
            [
             0.1,
             "#c51b7d"
            ],
            [
             0.2,
             "#de77ae"
            ],
            [
             0.3,
             "#f1b6da"
            ],
            [
             0.4,
             "#fde0ef"
            ],
            [
             0.5,
             "#f7f7f7"
            ],
            [
             0.6,
             "#e6f5d0"
            ],
            [
             0.7,
             "#b8e186"
            ],
            [
             0.8,
             "#7fbc41"
            ],
            [
             0.9,
             "#4d9221"
            ],
            [
             1,
             "#276419"
            ]
           ]
          },
          "xaxis": {
           "gridcolor": "white",
           "linecolor": "white",
           "ticks": "",
           "title": {
            "standoff": 15
           },
           "zerolinecolor": "white",
           "automargin": true,
           "zerolinewidth": 2
          },
          "yaxis": {
           "gridcolor": "white",
           "linecolor": "white",
           "ticks": "",
           "title": {
            "standoff": 15
           },
           "zerolinecolor": "white",
           "automargin": true,
           "zerolinewidth": 2
          },
          "scene": {
           "xaxis": {
            "backgroundcolor": "#E5ECF6",
            "gridcolor": "white",
            "linecolor": "white",
            "showbackground": true,
            "ticks": "",
            "zerolinecolor": "white",
            "gridwidth": 2
           },
           "yaxis": {
            "backgroundcolor": "#E5ECF6",
            "gridcolor": "white",
            "linecolor": "white",
            "showbackground": true,
            "ticks": "",
            "zerolinecolor": "white",
            "gridwidth": 2
           },
           "zaxis": {
            "backgroundcolor": "#E5ECF6",
            "gridcolor": "white",
            "linecolor": "white",
            "showbackground": true,
            "ticks": "",
            "zerolinecolor": "white",
            "gridwidth": 2
           }
          },
          "shapedefaults": {
           "line": {
            "color": "#2a3f5f"
           }
          },
          "annotationdefaults": {
           "arrowcolor": "#2a3f5f",
           "arrowhead": 0,
           "arrowwidth": 1
          },
          "geo": {
           "bgcolor": "white",
           "landcolor": "#E5ECF6",
           "subunitcolor": "white",
           "showland": true,
           "showlakes": true,
           "lakecolor": "white"
          },
          "title": {
           "x": 0.05
          },
          "mapbox": {
           "style": "light"
          }
         }
        },
        "mapbox": {
         "center": {
          "lat": 34.67644276288659,
          "lon": 112.82405579381445
         },
         "style": "carto-positron",
         "zoom": 4
        },
        "margin": {
         "l": 0,
         "r": 0,
         "t": 30,
         "b": 0
        },
        "title": {
         "text": "NDC → RDC"
        }
       },
       "config": {
        "plotlyServerURL": "https://plot.ly"
       }
      }
     },
     "metadata": {},
     "output_type": "display_data"
    }
   ],
   "execution_count": 16
  },
  {
   "metadata": {},
   "cell_type": "markdown",
   "source": "(2) 分仓-分仓",
   "id": "89f91e991c0456af"
  },
  {
   "metadata": {
    "ExecuteTime": {
     "end_time": "2025-05-24T01:59:49.559628Z",
     "start_time": "2025-05-24T01:59:49.208186Z"
    }
   },
   "cell_type": "code",
   "source": [
    "ship_ss    = pd.read_csv('data/ship_sub2sub.csv')\n",
    "nodes['category'] = nodes['node_id'].apply(\n",
    "    lambda x: 'origin' if x == origin else ('rdc' if x in rdcs else 'other')\n",
    ")\n",
    "lines = []\n",
    "for _, row in ship_ss.iterrows():\n",
    "    src_id, dst_id = row.source, row.dest\n",
    "    if src_id in rdcs and dst_id in rdcs and src_id != dst_id:\n",
    "        src = nodes.loc[nodes.node_id == src_id, ['lng','lat']].iloc[0]\n",
    "        dst = nodes.loc[nodes.node_id == dst_id, ['lng','lat']].iloc[0]\n",
    "        lines.append({\n",
    "            'lon': [src.lng, dst.lng],\n",
    "            'lat': [src.lat, dst.lat],\n",
    "            'qty': row.qty\n",
    "        })\n",
    "\n",
    "fig = go.Figure()\n",
    "max_qty = max((l['qty'] for l in lines), default=1)\n",
    "for i, l in enumerate(lines):\n",
    "    fig.add_trace(go.Scattermap(\n",
    "        lon = l['lon'],\n",
    "        lat = l['lat'],\n",
    "        mode = 'lines',\n",
    "        line = dict(width = (l['qty']/max_qty)*10, color='purple'),\n",
    "        hovertemplate = f\"Quantity: {l['qty']}<extra></extra>\",\n",
    "        name = 'RDC–RDC',            # 图例名称\n",
    "        legendgroup = 'RDC–RDC',\n",
    "        showlegend = (i == 0)        # 只显示一次\n",
    "    ))\n",
    "\n",
    "rdc_nodes = nodes[nodes.category=='rdc']\n",
    "fig.add_trace(go.Scattermap(\n",
    "    lon = rdc_nodes.lng,\n",
    "    lat = rdc_nodes.lat,\n",
    "    mode = 'markers',\n",
    "    marker = dict(size=10, color='orange'),\n",
    "    name = 'RDCs',\n",
    "    hoverinfo = 'text',\n",
    "    hovertext = rdc_nodes.node_id\n",
    "))\n",
    "\n",
    "fig.update_layout(\n",
    "    mapbox_style  = \"carto-positron\",\n",
    "    mapbox_center = dict(lat = nodes.lat.mean(), lon = nodes.lng.mean()),\n",
    "    mapbox_zoom   = 4,\n",
    "    margin        = dict(l=0, r=0, t=30, b=0),\n",
    "    title         = \"RDC → RDC\"\n",
    ")\n",
    "fig.show()"
   ],
   "id": "cfb5c00d3717eb9e",
   "outputs": [
    {
     "data": {
      "application/vnd.plotly.v1+json": {
       "data": [
        {
         "hovertemplate": "Quantity: 1300<extra></extra>",
         "lat": [
          36.17995,
          36.64308
         ],
         "legendgroup": "RDC–RDC",
         "line": {
          "color": "purple",
          "width": 0.7307476110174255
         },
         "lon": [
          120.4715,
          116.857
         ],
         "mode": "lines",
         "name": "RDC–RDC",
         "showlegend": true,
         "type": "scattermap"
        },
        {
         "hovertemplate": "Quantity: 3<extra></extra>",
         "lat": [
          36.17995,
          36.64308
         ],
         "legendgroup": "RDC–RDC",
         "line": {
          "color": "purple",
          "width": 0.0016863406408094434
         },
         "lon": [
          120.4715,
          116.857
         ],
         "mode": "lines",
         "name": "RDC–RDC",
         "showlegend": false,
         "type": "scattermap"
        },
        {
         "hovertemplate": "Quantity: 5<extra></extra>",
         "lat": [
          36.17995,
          31.30913
         ],
         "legendgroup": "RDC–RDC",
         "line": {
          "color": "purple",
          "width": 0.002810567734682406
         },
         "lon": [
          120.4715,
          121.3927
         ],
         "mode": "lines",
         "name": "RDC–RDC",
         "showlegend": false,
         "type": "scattermap"
        },
        {
         "hovertemplate": "Quantity: 10<extra></extra>",
         "lat": [
          36.17995,
          31.00253
         ],
         "legendgroup": "RDC–RDC",
         "line": {
          "color": "purple",
          "width": 0.005621135469364812
         },
         "lon": [
          120.4715,
          121.5149
         ],
         "mode": "lines",
         "name": "RDC–RDC",
         "showlegend": false,
         "type": "scattermap"
        },
        {
         "hovertemplate": "Quantity: 1000<extra></extra>",
         "lat": [
          36.17995,
          38.84227
         ],
         "legendgroup": "RDC–RDC",
         "line": {
          "color": "purple",
          "width": 0.5621135469364812
         },
         "lon": [
          120.4715,
          115.5125
         ],
         "mode": "lines",
         "name": "RDC–RDC",
         "showlegend": false,
         "type": "scattermap"
        },
        {
         "hovertemplate": "Quantity: 1<extra></extra>",
         "lat": [
          36.17995,
          34.74348
         ],
         "legendgroup": "RDC–RDC",
         "line": {
          "color": "purple",
          "width": 5.621135469364812E-4
         },
         "lon": [
          120.4715,
          113.7171
         ],
         "mode": "lines",
         "name": "RDC–RDC",
         "showlegend": false,
         "type": "scattermap"
        },
        {
         "hovertemplate": "Quantity: 30<extra></extra>",
         "lat": [
          36.17995,
          27.79889
         ],
         "legendgroup": "RDC–RDC",
         "line": {
          "color": "purple",
          "width": 0.016863406408094434
         },
         "lon": [
          120.4715,
          113.1612
         ],
         "mode": "lines",
         "name": "RDC–RDC",
         "showlegend": false,
         "type": "scattermap"
        },
        {
         "hovertemplate": "Quantity: 10<extra></extra>",
         "lat": [
          36.17995,
          28.58094
         ],
         "legendgroup": "RDC–RDC",
         "line": {
          "color": "purple",
          "width": 0.005621135469364812
         },
         "lon": [
          120.4715,
          115.9156
         ],
         "mode": "lines",
         "name": "RDC–RDC",
         "showlegend": false,
         "type": "scattermap"
        },
        {
         "hovertemplate": "Quantity: 900<extra></extra>",
         "lat": [
          36.17995,
          31.66238
         ],
         "legendgroup": "RDC–RDC",
         "line": {
          "color": "purple",
          "width": 0.5059021922428331
         },
         "lon": [
          120.4715,
          118.4845
         ],
         "mode": "lines",
         "name": "RDC–RDC",
         "showlegend": false,
         "type": "scattermap"
        },
        {
         "hovertemplate": "Quantity: 400<extra></extra>",
         "lat": [
          36.73794,
          36.17995
         ],
         "legendgroup": "RDC–RDC",
         "line": {
          "color": "purple",
          "width": 0.22484541877459246
         },
         "lon": [
          119.0358,
          120.4715
         ],
         "mode": "lines",
         "name": "RDC–RDC",
         "showlegend": false,
         "type": "scattermap"
        },
        {
         "hovertemplate": "Quantity: 3<extra></extra>",
         "lat": [
          36.73794,
          30.68944
         ],
         "legendgroup": "RDC–RDC",
         "line": {
          "color": "purple",
          "width": 0.0016863406408094434
         },
         "lon": [
          119.0358,
          104.1816
         ],
         "mode": "lines",
         "name": "RDC–RDC",
         "showlegend": false,
         "type": "scattermap"
        },
        {
         "hovertemplate": "Quantity: 1<extra></extra>",
         "lat": [
          35.10285,
          36.17995
         ],
         "legendgroup": "RDC–RDC",
         "line": {
          "color": "purple",
          "width": 5.621135469364812E-4
         },
         "lon": [
          118.2891,
          120.4715
         ],
         "mode": "lines",
         "name": "RDC–RDC",
         "showlegend": false,
         "type": "scattermap"
        },
        {
         "hovertemplate": "Quantity: 9<extra></extra>",
         "lat": [
          35.10285,
          36.64308
         ],
         "legendgroup": "RDC–RDC",
         "line": {
          "color": "purple",
          "width": 0.00505902192242833
         },
         "lon": [
          118.2891,
          116.857
         ],
         "mode": "lines",
         "name": "RDC–RDC",
         "showlegend": false,
         "type": "scattermap"
        },
        {
         "hovertemplate": "Quantity: 360<extra></extra>",
         "lat": [
          35.10285,
          34.74358
         ],
         "legendgroup": "RDC–RDC",
         "line": {
          "color": "purple",
          "width": 0.20236087689713322
         },
         "lon": [
          118.2891,
          113.7175
         ],
         "mode": "lines",
         "name": "RDC–RDC",
         "showlegend": false,
         "type": "scattermap"
        },
        {
         "hovertemplate": "Quantity: 300<extra></extra>",
         "lat": [
          35.10285,
          34.28265
         ],
         "legendgroup": "RDC–RDC",
         "line": {
          "color": "purple",
          "width": 0.16863406408094433
         },
         "lon": [
          118.2891,
          109.0334
         ],
         "mode": "lines",
         "name": "RDC–RDC",
         "showlegend": false,
         "type": "scattermap"
        },
        {
         "hovertemplate": "Quantity: 1520<extra></extra>",
         "lat": [
          35.10285,
          31.89946
         ],
         "legendgroup": "RDC–RDC",
         "line": {
          "color": "purple",
          "width": 0.8544125913434514
         },
         "lon": [
          118.2891,
          117.3595
         ],
         "mode": "lines",
         "name": "RDC–RDC",
         "showlegend": false,
         "type": "scattermap"
        },
        {
         "hovertemplate": "Quantity: 3<extra></extra>",
         "lat": [
          35.10285,
          30.09205
         ],
         "legendgroup": "RDC–RDC",
         "line": {
          "color": "purple",
          "width": 0.0016863406408094434
         },
         "lon": [
          118.2891,
          103.8477
         ],
         "mode": "lines",
         "name": "RDC–RDC",
         "showlegend": false,
         "type": "scattermap"
        },
        {
         "hovertemplate": "Quantity: 2380<extra></extra>",
         "lat": [
          36.64308,
          36.17995
         ],
         "legendgroup": "RDC–RDC",
         "line": {
          "color": "purple",
          "width": 1.3378302417088253
         },
         "lon": [
          116.857,
          120.4715
         ],
         "mode": "lines",
         "name": "RDC–RDC",
         "showlegend": false,
         "type": "scattermap"
        },
        {
         "hovertemplate": "Quantity: 2725<extra></extra>",
         "lat": [
          36.64308,
          36.73794
         ],
         "legendgroup": "RDC–RDC",
         "line": {
          "color": "purple",
          "width": 1.5317594154019112
         },
         "lon": [
          116.857,
          119.0358
         ],
         "mode": "lines",
         "name": "RDC–RDC",
         "showlegend": false,
         "type": "scattermap"
        },
        {
         "hovertemplate": "Quantity: 1<extra></extra>",
         "lat": [
          36.64308,
          32.00261
         ],
         "legendgroup": "RDC–RDC",
         "line": {
          "color": "purple",
          "width": 5.621135469364812E-4
         },
         "lon": [
          116.857,
          118.8661
         ],
         "mode": "lines",
         "name": "RDC–RDC",
         "showlegend": false,
         "type": "scattermap"
        },
        {
         "hovertemplate": "Quantity: 2<extra></extra>",
         "lat": [
          36.64308,
          33.58913
         ],
         "legendgroup": "RDC–RDC",
         "line": {
          "color": "purple",
          "width": 0.0011242270938729624
         },
         "lon": [
          116.857,
          119.0793
         ],
         "mode": "lines",
         "name": "RDC–RDC",
         "showlegend": false,
         "type": "scattermap"
        },
        {
         "hovertemplate": "Quantity: 600<extra></extra>",
         "lat": [
          36.64308,
          43.93276
         ],
         "legendgroup": "RDC–RDC",
         "line": {
          "color": "purple",
          "width": 0.33726812816188867
         },
         "lon": [
          116.857,
          125.299
         ],
         "mode": "lines",
         "name": "RDC–RDC",
         "showlegend": false,
         "type": "scattermap"
        },
        {
         "hovertemplate": "Quantity: 1<extra></extra>",
         "lat": [
          36.64308,
          31.66238
         ],
         "legendgroup": "RDC–RDC",
         "line": {
          "color": "purple",
          "width": 5.621135469364812E-4
         },
         "lon": [
          116.857,
          118.4845
         ],
         "mode": "lines",
         "name": "RDC–RDC",
         "showlegend": false,
         "type": "scattermap"
        },
        {
         "hovertemplate": "Quantity: 5<extra></extra>",
         "lat": [
          31.6025,
          36.17995
         ],
         "legendgroup": "RDC–RDC",
         "line": {
          "color": "purple",
          "width": 0.002810567734682406
         },
         "lon": [
          120.9008,
          120.4715
         ],
         "mode": "lines",
         "name": "RDC–RDC",
         "showlegend": false,
         "type": "scattermap"
        },
        {
         "hovertemplate": "Quantity: 115<extra></extra>",
         "lat": [
          31.6025,
          36.17995
         ],
         "legendgroup": "RDC–RDC",
         "line": {
          "color": "purple",
          "width": 0.06464305789769534
         },
         "lon": [
          120.9008,
          120.4715
         ],
         "mode": "lines",
         "name": "RDC–RDC",
         "showlegend": false,
         "type": "scattermap"
        },
        {
         "hovertemplate": "Quantity: 2<extra></extra>",
         "lat": [
          31.6025,
          36.17995
         ],
         "legendgroup": "RDC–RDC",
         "line": {
          "color": "purple",
          "width": 0.0011242270938729624
         },
         "lon": [
          120.9008,
          120.4715
         ],
         "mode": "lines",
         "name": "RDC–RDC",
         "showlegend": false,
         "type": "scattermap"
        },
        {
         "hovertemplate": "Quantity: 200<extra></extra>",
         "lat": [
          31.6025,
          36.73794
         ],
         "legendgroup": "RDC–RDC",
         "line": {
          "color": "purple",
          "width": 0.11242270938729623
         },
         "lon": [
          120.9008,
          119.0358
         ],
         "mode": "lines",
         "name": "RDC–RDC",
         "showlegend": false,
         "type": "scattermap"
        },
        {
         "hovertemplate": "Quantity: 15<extra></extra>",
         "lat": [
          31.6025,
          36.73794
         ],
         "legendgroup": "RDC–RDC",
         "line": {
          "color": "purple",
          "width": 0.008431703204047217
         },
         "lon": [
          120.9008,
          119.0358
         ],
         "mode": "lines",
         "name": "RDC–RDC",
         "showlegend": false,
         "type": "scattermap"
        },
        {
         "hovertemplate": "Quantity: 10<extra></extra>",
         "lat": [
          31.6025,
          35.10285
         ],
         "legendgroup": "RDC–RDC",
         "line": {
          "color": "purple",
          "width": 0.005621135469364812
         },
         "lon": [
          120.9008,
          118.2891
         ],
         "mode": "lines",
         "name": "RDC–RDC",
         "showlegend": false,
         "type": "scattermap"
        },
        {
         "hovertemplate": "Quantity: 27<extra></extra>",
         "lat": [
          31.6025,
          36.64308
         ],
         "legendgroup": "RDC–RDC",
         "line": {
          "color": "purple",
          "width": 0.01517706576728499
         },
         "lon": [
          120.9008,
          116.857
         ],
         "mode": "lines",
         "name": "RDC–RDC",
         "showlegend": false,
         "type": "scattermap"
        },
        {
         "hovertemplate": "Quantity: 5<extra></extra>",
         "lat": [
          31.6025,
          31.50323
         ],
         "legendgroup": "RDC–RDC",
         "line": {
          "color": "purple",
          "width": 0.002810567734682406
         },
         "lon": [
          120.9008,
          120.3923
         ],
         "mode": "lines",
         "name": "RDC–RDC",
         "showlegend": false,
         "type": "scattermap"
        },
        {
         "hovertemplate": "Quantity: 1733<extra></extra>",
         "lat": [
          31.6025,
          32.00261
         ],
         "legendgroup": "RDC–RDC",
         "line": {
          "color": "purple",
          "width": 0.9741427768409219
         },
         "lon": [
          120.9008,
          118.8661
         ],
         "mode": "lines",
         "name": "RDC–RDC",
         "showlegend": false,
         "type": "scattermap"
        },
        {
         "hovertemplate": "Quantity: 1<extra></extra>",
         "lat": [
          31.6025,
          32.08158
         ],
         "legendgroup": "RDC–RDC",
         "line": {
          "color": "purple",
          "width": 5.621135469364812E-4
         },
         "lon": [
          120.9008,
          120.912
         ],
         "mode": "lines",
         "name": "RDC–RDC",
         "showlegend": false,
         "type": "scattermap"
        },
        {
         "hovertemplate": "Quantity: 1545<extra></extra>",
         "lat": [
          31.6025,
          33.58913
         ],
         "legendgroup": "RDC–RDC",
         "line": {
          "color": "purple",
          "width": 0.8684654300168635
         },
         "lon": [
          120.9008,
          119.0793
         ],
         "mode": "lines",
         "name": "RDC–RDC",
         "showlegend": false,
         "type": "scattermap"
        },
        {
         "hovertemplate": "Quantity: 5<extra></extra>",
         "lat": [
          31.6025,
          33.58913
         ],
         "legendgroup": "RDC–RDC",
         "line": {
          "color": "purple",
          "width": 0.002810567734682406
         },
         "lon": [
          120.9008,
          119.0793
         ],
         "mode": "lines",
         "name": "RDC–RDC",
         "showlegend": false,
         "type": "scattermap"
        },
        {
         "hovertemplate": "Quantity: 1<extra></extra>",
         "lat": [
          31.6025,
          33.58913
         ],
         "legendgroup": "RDC–RDC",
         "line": {
          "color": "purple",
          "width": 5.621135469364812E-4
         },
         "lon": [
          120.9008,
          119.0793
         ],
         "mode": "lines",
         "name": "RDC–RDC",
         "showlegend": false,
         "type": "scattermap"
        },
        {
         "hovertemplate": "Quantity: 10<extra></extra>",
         "lat": [
          31.6025,
          33.58913
         ],
         "legendgroup": "RDC–RDC",
         "line": {
          "color": "purple",
          "width": 0.005621135469364812
         },
         "lon": [
          120.9008,
          119.0793
         ],
         "mode": "lines",
         "name": "RDC–RDC",
         "showlegend": false,
         "type": "scattermap"
        },
        {
         "hovertemplate": "Quantity: 1<extra></extra>",
         "lat": [
          31.6025,
          34.57746
         ],
         "legendgroup": "RDC–RDC",
         "line": {
          "color": "purple",
          "width": 5.621135469364812E-4
         },
         "lon": [
          120.9008,
          119.1694
         ],
         "mode": "lines",
         "name": "RDC–RDC",
         "showlegend": false,
         "type": "scattermap"
        },
        {
         "hovertemplate": "Quantity: 4<extra></extra>",
         "lat": [
          31.6025,
          29.93326
         ],
         "legendgroup": "RDC–RDC",
         "line": {
          "color": "purple",
          "width": 0.0022484541877459247
         },
         "lon": [
          120.9008,
          121.6062
         ],
         "mode": "lines",
         "name": "RDC–RDC",
         "showlegend": false,
         "type": "scattermap"
        },
        {
         "hovertemplate": "Quantity: 8<extra></extra>",
         "lat": [
          31.6025,
          29.93326
         ],
         "legendgroup": "RDC–RDC",
         "line": {
          "color": "purple",
          "width": 0.004496908375491849
         },
         "lon": [
          120.9008,
          121.6062
         ],
         "mode": "lines",
         "name": "RDC–RDC",
         "showlegend": false,
         "type": "scattermap"
        },
        {
         "hovertemplate": "Quantity: 5<extra></extra>",
         "lat": [
          31.6025,
          29.93326
         ],
         "legendgroup": "RDC–RDC",
         "line": {
          "color": "purple",
          "width": 0.002810567734682406
         },
         "lon": [
          120.9008,
          121.6062
         ],
         "mode": "lines",
         "name": "RDC–RDC",
         "showlegend": false,
         "type": "scattermap"
        },
        {
         "hovertemplate": "Quantity: 5<extra></extra>",
         "lat": [
          31.6025,
          30.37639
         ],
         "legendgroup": "RDC–RDC",
         "line": {
          "color": "purple",
          "width": 0.002810567734682406
         },
         "lon": [
          120.9008,
          120.1698
         ],
         "mode": "lines",
         "name": "RDC–RDC",
         "showlegend": false,
         "type": "scattermap"
        },
        {
         "hovertemplate": "Quantity: 1<extra></extra>",
         "lat": [
          31.6025,
          30.37639
         ],
         "legendgroup": "RDC–RDC",
         "line": {
          "color": "purple",
          "width": 5.621135469364812E-4
         },
         "lon": [
          120.9008,
          120.1698
         ],
         "mode": "lines",
         "name": "RDC–RDC",
         "showlegend": false,
         "type": "scattermap"
        },
        {
         "hovertemplate": "Quantity: 1<extra></extra>",
         "lat": [
          31.6025,
          30.37639
         ],
         "legendgroup": "RDC–RDC",
         "line": {
          "color": "purple",
          "width": 5.621135469364812E-4
         },
         "lon": [
          120.9008,
          120.1698
         ],
         "mode": "lines",
         "name": "RDC–RDC",
         "showlegend": false,
         "type": "scattermap"
        },
        {
         "hovertemplate": "Quantity: 200<extra></extra>",
         "lat": [
          31.6025,
          28.59099
         ],
         "legendgroup": "RDC–RDC",
         "line": {
          "color": "purple",
          "width": 0.11242270938729623
         },
         "lon": [
          120.9008,
          121.3567
         ],
         "mode": "lines",
         "name": "RDC–RDC",
         "showlegend": false,
         "type": "scattermap"
        },
        {
         "hovertemplate": "Quantity: 7<extra></extra>",
         "lat": [
          31.6025,
          31.30913
         ],
         "legendgroup": "RDC–RDC",
         "line": {
          "color": "purple",
          "width": 0.0039347948285553686
         },
         "lon": [
          120.9008,
          121.3927
         ],
         "mode": "lines",
         "name": "RDC–RDC",
         "showlegend": false,
         "type": "scattermap"
        },
        {
         "hovertemplate": "Quantity: 100<extra></extra>",
         "lat": [
          31.6025,
          31.00253
         ],
         "legendgroup": "RDC–RDC",
         "line": {
          "color": "purple",
          "width": 0.056211354693648116
         },
         "lon": [
          120.9008,
          121.5149
         ],
         "mode": "lines",
         "name": "RDC–RDC",
         "showlegend": false,
         "type": "scattermap"
        },
        {
         "hovertemplate": "Quantity: 2<extra></extra>",
         "lat": [
          31.6025,
          39.85929
         ],
         "legendgroup": "RDC–RDC",
         "line": {
          "color": "purple",
          "width": 0.0011242270938729624
         },
         "lon": [
          120.9008,
          116.4707
         ],
         "mode": "lines",
         "name": "RDC–RDC",
         "showlegend": false,
         "type": "scattermap"
        },
        {
         "hovertemplate": "Quantity: 3<extra></extra>",
         "lat": [
          31.6025,
          39.10089
         ],
         "legendgroup": "RDC–RDC",
         "line": {
          "color": "purple",
          "width": 0.0016863406408094434
         },
         "lon": [
          120.9008,
          117.2588
         ],
         "mode": "lines",
         "name": "RDC–RDC",
         "showlegend": false,
         "type": "scattermap"
        },
        {
         "hovertemplate": "Quantity: 1<extra></extra>",
         "lat": [
          31.6025,
          31.66238
         ],
         "legendgroup": "RDC–RDC",
         "line": {
          "color": "purple",
          "width": 5.621135469364812E-4
         },
         "lon": [
          120.9008,
          118.4845
         ],
         "mode": "lines",
         "name": "RDC–RDC",
         "showlegend": false,
         "type": "scattermap"
        },
        {
         "hovertemplate": "Quantity: 1<extra></extra>",
         "lat": [
          31.6025,
          31.89018
         ],
         "legendgroup": "RDC–RDC",
         "line": {
          "color": "purple",
          "width": 5.621135469364812E-4
         },
         "lon": [
          120.9008,
          117.3539
         ],
         "mode": "lines",
         "name": "RDC–RDC",
         "showlegend": false,
         "type": "scattermap"
        },
        {
         "hovertemplate": "Quantity: 2<extra></extra>",
         "lat": [
          31.6025,
          31.89946
         ],
         "legendgroup": "RDC–RDC",
         "line": {
          "color": "purple",
          "width": 0.0011242270938729624
         },
         "lon": [
          120.9008,
          117.3595
         ],
         "mode": "lines",
         "name": "RDC–RDC",
         "showlegend": false,
         "type": "scattermap"
        },
        {
         "hovertemplate": "Quantity: 2<extra></extra>",
         "lat": [
          31.6025,
          32.45936
         ],
         "legendgroup": "RDC–RDC",
         "line": {
          "color": "purple",
          "width": 0.0011242270938729624
         },
         "lon": [
          120.9008,
          119.9178
         ],
         "mode": "lines",
         "name": "RDC–RDC",
         "showlegend": false,
         "type": "scattermap"
        },
        {
         "hovertemplate": "Quantity: 40<extra></extra>",
         "lat": [
          31.50323,
          36.17995
         ],
         "legendgroup": "RDC–RDC",
         "line": {
          "color": "purple",
          "width": 0.022484541877459248
         },
         "lon": [
          120.3923,
          120.4715
         ],
         "mode": "lines",
         "name": "RDC–RDC",
         "showlegend": false,
         "type": "scattermap"
        },
        {
         "hovertemplate": "Quantity: 145<extra></extra>",
         "lat": [
          31.50323,
          36.73794
         ],
         "legendgroup": "RDC–RDC",
         "line": {
          "color": "purple",
          "width": 0.08150646430578976
         },
         "lon": [
          120.3923,
          119.0358
         ],
         "mode": "lines",
         "name": "RDC–RDC",
         "showlegend": false,
         "type": "scattermap"
        },
        {
         "hovertemplate": "Quantity: 270<extra></extra>",
         "lat": [
          31.50323,
          36.64308
         ],
         "legendgroup": "RDC–RDC",
         "line": {
          "color": "purple",
          "width": 0.15177065767284992
         },
         "lon": [
          120.3923,
          116.857
         ],
         "mode": "lines",
         "name": "RDC–RDC",
         "showlegend": false,
         "type": "scattermap"
        },
        {
         "hovertemplate": "Quantity: 110<extra></extra>",
         "lat": [
          31.50323,
          36.64308
         ],
         "legendgroup": "RDC–RDC",
         "line": {
          "color": "purple",
          "width": 0.061832490163012926
         },
         "lon": [
          120.3923,
          116.857
         ],
         "mode": "lines",
         "name": "RDC–RDC",
         "showlegend": false,
         "type": "scattermap"
        },
        {
         "hovertemplate": "Quantity: 2<extra></extra>",
         "lat": [
          31.50323,
          31.6025
         ],
         "legendgroup": "RDC–RDC",
         "line": {
          "color": "purple",
          "width": 0.0011242270938729624
         },
         "lon": [
          120.3923,
          120.9008
         ],
         "mode": "lines",
         "name": "RDC–RDC",
         "showlegend": false,
         "type": "scattermap"
        },
        {
         "hovertemplate": "Quantity: 12<extra></extra>",
         "lat": [
          31.50323,
          33.58913
         ],
         "legendgroup": "RDC–RDC",
         "line": {
          "color": "purple",
          "width": 0.006745362563237774
         },
         "lon": [
          120.3923,
          119.0793
         ],
         "mode": "lines",
         "name": "RDC–RDC",
         "showlegend": false,
         "type": "scattermap"
        },
        {
         "hovertemplate": "Quantity: 1<extra></extra>",
         "lat": [
          31.50323,
          33.58913
         ],
         "legendgroup": "RDC–RDC",
         "line": {
          "color": "purple",
          "width": 5.621135469364812E-4
         },
         "lon": [
          120.3923,
          119.0793
         ],
         "mode": "lines",
         "name": "RDC–RDC",
         "showlegend": false,
         "type": "scattermap"
        },
        {
         "hovertemplate": "Quantity: 1200<extra></extra>",
         "lat": [
          31.50323,
          30.37639
         ],
         "legendgroup": "RDC–RDC",
         "line": {
          "color": "purple",
          "width": 0.6745362563237773
         },
         "lon": [
          120.3923,
          120.1698
         ],
         "mode": "lines",
         "name": "RDC–RDC",
         "showlegend": false,
         "type": "scattermap"
        },
        {
         "hovertemplate": "Quantity: 1<extra></extra>",
         "lat": [
          31.50323,
          31.30913
         ],
         "legendgroup": "RDC–RDC",
         "line": {
          "color": "purple",
          "width": 5.621135469364812E-4
         },
         "lon": [
          120.3923,
          121.3927
         ],
         "mode": "lines",
         "name": "RDC–RDC",
         "showlegend": false,
         "type": "scattermap"
        },
        {
         "hovertemplate": "Quantity: 2<extra></extra>",
         "lat": [
          31.50323,
          28.58094
         ],
         "legendgroup": "RDC–RDC",
         "line": {
          "color": "purple",
          "width": 0.0011242270938729624
         },
         "lon": [
          120.3923,
          115.9156
         ],
         "mode": "lines",
         "name": "RDC–RDC",
         "showlegend": false,
         "type": "scattermap"
        },
        {
         "hovertemplate": "Quantity: 2207<extra></extra>",
         "lat": [
          31.50323,
          31.66238
         ],
         "legendgroup": "RDC–RDC",
         "line": {
          "color": "purple",
          "width": 1.240584598088814
         },
         "lon": [
          120.3923,
          118.4845
         ],
         "mode": "lines",
         "name": "RDC–RDC",
         "showlegend": false,
         "type": "scattermap"
        },
        {
         "hovertemplate": "Quantity: 60<extra></extra>",
         "lat": [
          31.50323,
          36.04397
         ],
         "legendgroup": "RDC–RDC",
         "line": {
          "color": "purple",
          "width": 0.03372681281618887
         },
         "lon": [
          120.3923,
          103.91
         ],
         "mode": "lines",
         "name": "RDC–RDC",
         "showlegend": false,
         "type": "scattermap"
        },
        {
         "hovertemplate": "Quantity: 100<extra></extra>",
         "lat": [
          32.00261,
          36.17995
         ],
         "legendgroup": "RDC–RDC",
         "line": {
          "color": "purple",
          "width": 0.056211354693648116
         },
         "lon": [
          118.8661,
          120.4715
         ],
         "mode": "lines",
         "name": "RDC–RDC",
         "showlegend": false,
         "type": "scattermap"
        },
        {
         "hovertemplate": "Quantity: 65<extra></extra>",
         "lat": [
          32.00261,
          36.17995
         ],
         "legendgroup": "RDC–RDC",
         "line": {
          "color": "purple",
          "width": 0.03653738055087127
         },
         "lon": [
          118.8661,
          120.4715
         ],
         "mode": "lines",
         "name": "RDC–RDC",
         "showlegend": false,
         "type": "scattermap"
        },
        {
         "hovertemplate": "Quantity: 2<extra></extra>",
         "lat": [
          32.00261,
          36.17995
         ],
         "legendgroup": "RDC–RDC",
         "line": {
          "color": "purple",
          "width": 0.0011242270938729624
         },
         "lon": [
          118.8661,
          120.4715
         ],
         "mode": "lines",
         "name": "RDC–RDC",
         "showlegend": false,
         "type": "scattermap"
        },
        {
         "hovertemplate": "Quantity: 280<extra></extra>",
         "lat": [
          32.00261,
          36.73794
         ],
         "legendgroup": "RDC–RDC",
         "line": {
          "color": "purple",
          "width": 0.15739179314221474
         },
         "lon": [
          118.8661,
          119.0358
         ],
         "mode": "lines",
         "name": "RDC–RDC",
         "showlegend": false,
         "type": "scattermap"
        },
        {
         "hovertemplate": "Quantity: 30<extra></extra>",
         "lat": [
          32.00261,
          36.73794
         ],
         "legendgroup": "RDC–RDC",
         "line": {
          "color": "purple",
          "width": 0.016863406408094434
         },
         "lon": [
          118.8661,
          119.0358
         ],
         "mode": "lines",
         "name": "RDC–RDC",
         "showlegend": false,
         "type": "scattermap"
        },
        {
         "hovertemplate": "Quantity: 10<extra></extra>",
         "lat": [
          32.00261,
          35.10285
         ],
         "legendgroup": "RDC–RDC",
         "line": {
          "color": "purple",
          "width": 0.005621135469364812
         },
         "lon": [
          118.8661,
          118.2891
         ],
         "mode": "lines",
         "name": "RDC–RDC",
         "showlegend": false,
         "type": "scattermap"
        },
        {
         "hovertemplate": "Quantity: 45<extra></extra>",
         "lat": [
          32.00261,
          36.64308
         ],
         "legendgroup": "RDC–RDC",
         "line": {
          "color": "purple",
          "width": 0.025295109612141653
         },
         "lon": [
          118.8661,
          116.857
         ],
         "mode": "lines",
         "name": "RDC–RDC",
         "showlegend": false,
         "type": "scattermap"
        },
        {
         "hovertemplate": "Quantity: 175<extra></extra>",
         "lat": [
          32.00261,
          36.64308
         ],
         "legendgroup": "RDC–RDC",
         "line": {
          "color": "purple",
          "width": 0.0983698707138842
         },
         "lon": [
          118.8661,
          116.857
         ],
         "mode": "lines",
         "name": "RDC–RDC",
         "showlegend": false,
         "type": "scattermap"
        },
        {
         "hovertemplate": "Quantity: 9<extra></extra>",
         "lat": [
          32.00261,
          36.64308
         ],
         "legendgroup": "RDC–RDC",
         "line": {
          "color": "purple",
          "width": 0.00505902192242833
         },
         "lon": [
          118.8661,
          116.857
         ],
         "mode": "lines",
         "name": "RDC–RDC",
         "showlegend": false,
         "type": "scattermap"
        },
        {
         "hovertemplate": "Quantity: 2300<extra></extra>",
         "lat": [
          32.00261,
          31.6025
         ],
         "legendgroup": "RDC–RDC",
         "line": {
          "color": "purple",
          "width": 1.2928611579539067
         },
         "lon": [
          118.8661,
          120.9008
         ],
         "mode": "lines",
         "name": "RDC–RDC",
         "showlegend": false,
         "type": "scattermap"
        },
        {
         "hovertemplate": "Quantity: 15<extra></extra>",
         "lat": [
          32.00261,
          31.6025
         ],
         "legendgroup": "RDC–RDC",
         "line": {
          "color": "purple",
          "width": 0.008431703204047217
         },
         "lon": [
          118.8661,
          120.9008
         ],
         "mode": "lines",
         "name": "RDC–RDC",
         "showlegend": false,
         "type": "scattermap"
        },
        {
         "hovertemplate": "Quantity: 120<extra></extra>",
         "lat": [
          32.00261,
          31.50323
         ],
         "legendgroup": "RDC–RDC",
         "line": {
          "color": "purple",
          "width": 0.06745362563237774
         },
         "lon": [
          118.8661,
          120.3923
         ],
         "mode": "lines",
         "name": "RDC–RDC",
         "showlegend": false,
         "type": "scattermap"
        },
        {
         "hovertemplate": "Quantity: 100<extra></extra>",
         "lat": [
          32.00261,
          33.58913
         ],
         "legendgroup": "RDC–RDC",
         "line": {
          "color": "purple",
          "width": 0.056211354693648116
         },
         "lon": [
          118.8661,
          119.0793
         ],
         "mode": "lines",
         "name": "RDC–RDC",
         "showlegend": false,
         "type": "scattermap"
        },
        {
         "hovertemplate": "Quantity: 231<extra></extra>",
         "lat": [
          32.00261,
          33.58913
         ],
         "legendgroup": "RDC–RDC",
         "line": {
          "color": "purple",
          "width": 0.12984822934232715
         },
         "lon": [
          118.8661,
          119.0793
         ],
         "mode": "lines",
         "name": "RDC–RDC",
         "showlegend": false,
         "type": "scattermap"
        },
        {
         "hovertemplate": "Quantity: 1<extra></extra>",
         "lat": [
          32.00261,
          34.57746
         ],
         "legendgroup": "RDC–RDC",
         "line": {
          "color": "purple",
          "width": 5.621135469364812E-4
         },
         "lon": [
          118.8661,
          119.1694
         ],
         "mode": "lines",
         "name": "RDC–RDC",
         "showlegend": false,
         "type": "scattermap"
        },
        {
         "hovertemplate": "Quantity: 130<extra></extra>",
         "lat": [
          32.00261,
          30.37639
         ],
         "legendgroup": "RDC–RDC",
         "line": {
          "color": "purple",
          "width": 0.07307476110174255
         },
         "lon": [
          118.8661,
          120.1698
         ],
         "mode": "lines",
         "name": "RDC–RDC",
         "showlegend": false,
         "type": "scattermap"
        },
        {
         "hovertemplate": "Quantity: 1<extra></extra>",
         "lat": [
          32.00261,
          30.37639
         ],
         "legendgroup": "RDC–RDC",
         "line": {
          "color": "purple",
          "width": 5.621135469364812E-4
         },
         "lon": [
          118.8661,
          120.1698
         ],
         "mode": "lines",
         "name": "RDC–RDC",
         "showlegend": false,
         "type": "scattermap"
        },
        {
         "hovertemplate": "Quantity: 2<extra></extra>",
         "lat": [
          32.00261,
          30.37639
         ],
         "legendgroup": "RDC–RDC",
         "line": {
          "color": "purple",
          "width": 0.0011242270938729624
         },
         "lon": [
          118.8661,
          120.1698
         ],
         "mode": "lines",
         "name": "RDC–RDC",
         "showlegend": false,
         "type": "scattermap"
        },
        {
         "hovertemplate": "Quantity: 5<extra></extra>",
         "lat": [
          32.00261,
          43.93276
         ],
         "legendgroup": "RDC–RDC",
         "line": {
          "color": "purple",
          "width": 0.002810567734682406
         },
         "lon": [
          118.8661,
          125.299
         ],
         "mode": "lines",
         "name": "RDC–RDC",
         "showlegend": false,
         "type": "scattermap"
        },
        {
         "hovertemplate": "Quantity: 700<extra></extra>",
         "lat": [
          32.00261,
          43.93276
         ],
         "legendgroup": "RDC–RDC",
         "line": {
          "color": "purple",
          "width": 0.3934794828555368
         },
         "lon": [
          118.8661,
          125.299
         ],
         "mode": "lines",
         "name": "RDC–RDC",
         "showlegend": false,
         "type": "scattermap"
        },
        {
         "hovertemplate": "Quantity: 100<extra></extra>",
         "lat": [
          32.08158,
          36.17995
         ],
         "legendgroup": "RDC–RDC",
         "line": {
          "color": "purple",
          "width": 0.056211354693648116
         },
         "lon": [
          120.912,
          120.4715
         ],
         "mode": "lines",
         "name": "RDC–RDC",
         "showlegend": false,
         "type": "scattermap"
        },
        {
         "hovertemplate": "Quantity: 21<extra></extra>",
         "lat": [
          32.08158,
          36.17995
         ],
         "legendgroup": "RDC–RDC",
         "line": {
          "color": "purple",
          "width": 0.011804384485666106
         },
         "lon": [
          120.912,
          120.4715
         ],
         "mode": "lines",
         "name": "RDC–RDC",
         "showlegend": false,
         "type": "scattermap"
        },
        {
         "hovertemplate": "Quantity: 1587<extra></extra>",
         "lat": [
          32.08158,
          36.73794
         ],
         "legendgroup": "RDC–RDC",
         "line": {
          "color": "purple",
          "width": 0.8920741989881955
         },
         "lon": [
          120.912,
          119.0358
         ],
         "mode": "lines",
         "name": "RDC–RDC",
         "showlegend": false,
         "type": "scattermap"
        },
        {
         "hovertemplate": "Quantity: 130<extra></extra>",
         "lat": [
          32.08158,
          36.64308
         ],
         "legendgroup": "RDC–RDC",
         "line": {
          "color": "purple",
          "width": 0.07307476110174255
         },
         "lon": [
          120.912,
          116.857
         ],
         "mode": "lines",
         "name": "RDC–RDC",
         "showlegend": false,
         "type": "scattermap"
        },
        {
         "hovertemplate": "Quantity: 124<extra></extra>",
         "lat": [
          32.08158,
          36.64308
         ],
         "legendgroup": "RDC–RDC",
         "line": {
          "color": "purple",
          "width": 0.06970207982012366
         },
         "lon": [
          120.912,
          116.857
         ],
         "mode": "lines",
         "name": "RDC–RDC",
         "showlegend": false,
         "type": "scattermap"
        },
        {
         "hovertemplate": "Quantity: 1<extra></extra>",
         "lat": [
          32.08158,
          36.64308
         ],
         "legendgroup": "RDC–RDC",
         "line": {
          "color": "purple",
          "width": 5.621135469364812E-4
         },
         "lon": [
          120.912,
          116.857
         ],
         "mode": "lines",
         "name": "RDC–RDC",
         "showlegend": false,
         "type": "scattermap"
        },
        {
         "hovertemplate": "Quantity: 10<extra></extra>",
         "lat": [
          32.08158,
          32.00261
         ],
         "legendgroup": "RDC–RDC",
         "line": {
          "color": "purple",
          "width": 0.005621135469364812
         },
         "lon": [
          120.912,
          118.8661
         ],
         "mode": "lines",
         "name": "RDC–RDC",
         "showlegend": false,
         "type": "scattermap"
        },
        {
         "hovertemplate": "Quantity: 2<extra></extra>",
         "lat": [
          32.08158,
          33.58913
         ],
         "legendgroup": "RDC–RDC",
         "line": {
          "color": "purple",
          "width": 0.0011242270938729624
         },
         "lon": [
          120.912,
          119.0793
         ],
         "mode": "lines",
         "name": "RDC–RDC",
         "showlegend": false,
         "type": "scattermap"
        },
        {
         "hovertemplate": "Quantity: 218<extra></extra>",
         "lat": [
          32.08158,
          33.58913
         ],
         "legendgroup": "RDC–RDC",
         "line": {
          "color": "purple",
          "width": 0.1225407532321529
         },
         "lon": [
          120.912,
          119.0793
         ],
         "mode": "lines",
         "name": "RDC–RDC",
         "showlegend": false,
         "type": "scattermap"
        },
        {
         "hovertemplate": "Quantity: 21<extra></extra>",
         "lat": [
          32.08158,
          33.58913
         ],
         "legendgroup": "RDC–RDC",
         "line": {
          "color": "purple",
          "width": 0.011804384485666106
         },
         "lon": [
          120.912,
          119.0793
         ],
         "mode": "lines",
         "name": "RDC–RDC",
         "showlegend": false,
         "type": "scattermap"
        },
        {
         "hovertemplate": "Quantity: 100<extra></extra>",
         "lat": [
          32.08158,
          31.30913
         ],
         "legendgroup": "RDC–RDC",
         "line": {
          "color": "purple",
          "width": 0.056211354693648116
         },
         "lon": [
          120.912,
          121.3927
         ],
         "mode": "lines",
         "name": "RDC–RDC",
         "showlegend": false,
         "type": "scattermap"
        },
        {
         "hovertemplate": "Quantity: 80<extra></extra>",
         "lat": [
          32.08158,
          31.00253
         ],
         "legendgroup": "RDC–RDC",
         "line": {
          "color": "purple",
          "width": 0.044969083754918496
         },
         "lon": [
          120.912,
          121.5149
         ],
         "mode": "lines",
         "name": "RDC–RDC",
         "showlegend": false,
         "type": "scattermap"
        },
        {
         "hovertemplate": "Quantity: 2<extra></extra>",
         "lat": [
          32.08158,
          41.82855
         ],
         "legendgroup": "RDC–RDC",
         "line": {
          "color": "purple",
          "width": 0.0011242270938729624
         },
         "lon": [
          120.912,
          123.5238
         ],
         "mode": "lines",
         "name": "RDC–RDC",
         "showlegend": false,
         "type": "scattermap"
        },
        {
         "hovertemplate": "Quantity: 120<extra></extra>",
         "lat": [
          32.08158,
          37.91037
         ],
         "legendgroup": "RDC–RDC",
         "line": {
          "color": "purple",
          "width": 0.06745362563237774
         },
         "lon": [
          120.912,
          112.5177
         ],
         "mode": "lines",
         "name": "RDC–RDC",
         "showlegend": false,
         "type": "scattermap"
        },
        {
         "hovertemplate": "Quantity: 130<extra></extra>",
         "lat": [
          33.58913,
          36.73794
         ],
         "legendgroup": "RDC–RDC",
         "line": {
          "color": "purple",
          "width": 0.07307476110174255
         },
         "lon": [
          119.0793,
          119.0358
         ],
         "mode": "lines",
         "name": "RDC–RDC",
         "showlegend": false,
         "type": "scattermap"
        },
        {
         "hovertemplate": "Quantity: 120<extra></extra>",
         "lat": [
          33.58913,
          36.73794
         ],
         "legendgroup": "RDC–RDC",
         "line": {
          "color": "purple",
          "width": 0.06745362563237774
         },
         "lon": [
          119.0793,
          119.0358
         ],
         "mode": "lines",
         "name": "RDC–RDC",
         "showlegend": false,
         "type": "scattermap"
        },
        {
         "hovertemplate": "Quantity: 29<extra></extra>",
         "lat": [
          33.58913,
          36.73794
         ],
         "legendgroup": "RDC–RDC",
         "line": {
          "color": "purple",
          "width": 0.016301292861157956
         },
         "lon": [
          119.0793,
          119.0358
         ],
         "mode": "lines",
         "name": "RDC–RDC",
         "showlegend": false,
         "type": "scattermap"
        },
        {
         "hovertemplate": "Quantity: 220<extra></extra>",
         "lat": [
          33.58913,
          36.64308
         ],
         "legendgroup": "RDC–RDC",
         "line": {
          "color": "purple",
          "width": 0.12366498032602585
         },
         "lon": [
          119.0793,
          116.857
         ],
         "mode": "lines",
         "name": "RDC–RDC",
         "showlegend": false,
         "type": "scattermap"
        },
        {
         "hovertemplate": "Quantity: 1<extra></extra>",
         "lat": [
          33.58913,
          31.6025
         ],
         "legendgroup": "RDC–RDC",
         "line": {
          "color": "purple",
          "width": 5.621135469364812E-4
         },
         "lon": [
          119.0793,
          120.9008
         ],
         "mode": "lines",
         "name": "RDC–RDC",
         "showlegend": false,
         "type": "scattermap"
        },
        {
         "hovertemplate": "Quantity: 22<extra></extra>",
         "lat": [
          33.58913,
          31.50323
         ],
         "legendgroup": "RDC–RDC",
         "line": {
          "color": "purple",
          "width": 0.012366498032602584
         },
         "lon": [
          119.0793,
          120.3923
         ],
         "mode": "lines",
         "name": "RDC–RDC",
         "showlegend": false,
         "type": "scattermap"
        },
        {
         "hovertemplate": "Quantity: 11<extra></extra>",
         "lat": [
          33.58913,
          32.00261
         ],
         "legendgroup": "RDC–RDC",
         "line": {
          "color": "purple",
          "width": 0.006183249016301292
         },
         "lon": [
          119.0793,
          118.8661
         ],
         "mode": "lines",
         "name": "RDC–RDC",
         "showlegend": false,
         "type": "scattermap"
        },
        {
         "hovertemplate": "Quantity: 180<extra></extra>",
         "lat": [
          33.58913,
          32.08158
         ],
         "legendgroup": "RDC–RDC",
         "line": {
          "color": "purple",
          "width": 0.10118043844856661
         },
         "lon": [
          119.0793,
          120.912
         ],
         "mode": "lines",
         "name": "RDC–RDC",
         "showlegend": false,
         "type": "scattermap"
        },
        {
         "hovertemplate": "Quantity: 29<extra></extra>",
         "lat": [
          33.58913,
          32.08158
         ],
         "legendgroup": "RDC–RDC",
         "line": {
          "color": "purple",
          "width": 0.016301292861157956
         },
         "lon": [
          119.0793,
          120.912
         ],
         "mode": "lines",
         "name": "RDC–RDC",
         "showlegend": false,
         "type": "scattermap"
        },
        {
         "hovertemplate": "Quantity: 150<extra></extra>",
         "lat": [
          33.58913,
          39.85929
         ],
         "legendgroup": "RDC–RDC",
         "line": {
          "color": "purple",
          "width": 0.08431703204047217
         },
         "lon": [
          119.0793,
          116.4707
         ],
         "mode": "lines",
         "name": "RDC–RDC",
         "showlegend": false,
         "type": "scattermap"
        },
        {
         "hovertemplate": "Quantity: 4<extra></extra>",
         "lat": [
          33.58913,
          39.10089
         ],
         "legendgroup": "RDC–RDC",
         "line": {
          "color": "purple",
          "width": 0.0022484541877459247
         },
         "lon": [
          119.0793,
          117.2588
         ],
         "mode": "lines",
         "name": "RDC–RDC",
         "showlegend": false,
         "type": "scattermap"
        },
        {
         "hovertemplate": "Quantity: 8<extra></extra>",
         "lat": [
          33.58913,
          28.58094
         ],
         "legendgroup": "RDC–RDC",
         "line": {
          "color": "purple",
          "width": 0.004496908375491849
         },
         "lon": [
          119.0793,
          115.9156
         ],
         "mode": "lines",
         "name": "RDC–RDC",
         "showlegend": false,
         "type": "scattermap"
        },
        {
         "hovertemplate": "Quantity: 7<extra></extra>",
         "lat": [
          33.58913,
          36.04397
         ],
         "legendgroup": "RDC–RDC",
         "line": {
          "color": "purple",
          "width": 0.0039347948285553686
         },
         "lon": [
          119.0793,
          103.91
         ],
         "mode": "lines",
         "name": "RDC–RDC",
         "showlegend": false,
         "type": "scattermap"
        },
        {
         "hovertemplate": "Quantity: 80<extra></extra>",
         "lat": [
          33.58913,
          24.90263
         ],
         "legendgroup": "RDC–RDC",
         "line": {
          "color": "purple",
          "width": 0.044969083754918496
         },
         "lon": [
          119.0793,
          102.9867
         ],
         "mode": "lines",
         "name": "RDC–RDC",
         "showlegend": false,
         "type": "scattermap"
        },
        {
         "hovertemplate": "Quantity: 1<extra></extra>",
         "lat": [
          33.58913,
          30.09205
         ],
         "legendgroup": "RDC–RDC",
         "line": {
          "color": "purple",
          "width": 5.621135469364812E-4
         },
         "lon": [
          119.0793,
          103.8477
         ],
         "mode": "lines",
         "name": "RDC–RDC",
         "showlegend": false,
         "type": "scattermap"
        },
        {
         "hovertemplate": "Quantity: 22<extra></extra>",
         "lat": [
          34.57746,
          32.00261
         ],
         "legendgroup": "RDC–RDC",
         "line": {
          "color": "purple",
          "width": 0.012366498032602584
         },
         "lon": [
          119.1694,
          118.8661
         ],
         "mode": "lines",
         "name": "RDC–RDC",
         "showlegend": false,
         "type": "scattermap"
        },
        {
         "hovertemplate": "Quantity: 13<extra></extra>",
         "lat": [
          34.57746,
          32.08158
         ],
         "legendgroup": "RDC–RDC",
         "line": {
          "color": "purple",
          "width": 0.0073074761101742545
         },
         "lon": [
          119.1694,
          120.912
         ],
         "mode": "lines",
         "name": "RDC–RDC",
         "showlegend": false,
         "type": "scattermap"
        },
        {
         "hovertemplate": "Quantity: 18<extra></extra>",
         "lat": [
          34.57746,
          33.58913
         ],
         "legendgroup": "RDC–RDC",
         "line": {
          "color": "purple",
          "width": 0.01011804384485666
         },
         "lon": [
          119.1694,
          119.0793
         ],
         "mode": "lines",
         "name": "RDC–RDC",
         "showlegend": false,
         "type": "scattermap"
        },
        {
         "hovertemplate": "Quantity: 31<extra></extra>",
         "lat": [
          34.57746,
          28.59099
         ],
         "legendgroup": "RDC–RDC",
         "line": {
          "color": "purple",
          "width": 0.017425519955030916
         },
         "lon": [
          119.1694,
          121.3567
         ],
         "mode": "lines",
         "name": "RDC–RDC",
         "showlegend": false,
         "type": "scattermap"
        },
        {
         "hovertemplate": "Quantity: 2<extra></extra>",
         "lat": [
          34.57746,
          31.30913
         ],
         "legendgroup": "RDC–RDC",
         "line": {
          "color": "purple",
          "width": 0.0011242270938729624
         },
         "lon": [
          119.1694,
          121.3927
         ],
         "mode": "lines",
         "name": "RDC–RDC",
         "showlegend": false,
         "type": "scattermap"
        },
        {
         "hovertemplate": "Quantity: 33<extra></extra>",
         "lat": [
          34.57746,
          31.00253
         ],
         "legendgroup": "RDC–RDC",
         "line": {
          "color": "purple",
          "width": 0.01854974704890388
         },
         "lon": [
          119.1694,
          121.5149
         ],
         "mode": "lines",
         "name": "RDC–RDC",
         "showlegend": false,
         "type": "scattermap"
        },
        {
         "hovertemplate": "Quantity: 10<extra></extra>",
         "lat": [
          34.57746,
          31.00253
         ],
         "legendgroup": "RDC–RDC",
         "line": {
          "color": "purple",
          "width": 0.005621135469364812
         },
         "lon": [
          119.1694,
          121.5149
         ],
         "mode": "lines",
         "name": "RDC–RDC",
         "showlegend": false,
         "type": "scattermap"
        },
        {
         "hovertemplate": "Quantity: 55<extra></extra>",
         "lat": [
          34.57746,
          41.09658
         ],
         "legendgroup": "RDC–RDC",
         "line": {
          "color": "purple",
          "width": 0.030916245081506463
         },
         "lon": [
          119.1694,
          121.1489
         ],
         "mode": "lines",
         "name": "RDC–RDC",
         "showlegend": false,
         "type": "scattermap"
        },
        {
         "hovertemplate": "Quantity: 2<extra></extra>",
         "lat": [
          34.57746,
          38.01142
         ],
         "legendgroup": "RDC–RDC",
         "line": {
          "color": "purple",
          "width": 0.0011242270938729624
         },
         "lon": [
          119.1694,
          114.5071
         ],
         "mode": "lines",
         "name": "RDC–RDC",
         "showlegend": false,
         "type": "scattermap"
        },
        {
         "hovertemplate": "Quantity: 2<extra></extra>",
         "lat": [
          34.57746,
          31.66238
         ],
         "legendgroup": "RDC–RDC",
         "line": {
          "color": "purple",
          "width": 0.0011242270938729624
         },
         "lon": [
          119.1694,
          118.4845
         ],
         "mode": "lines",
         "name": "RDC–RDC",
         "showlegend": false,
         "type": "scattermap"
        },
        {
         "hovertemplate": "Quantity: 2<extra></extra>",
         "lat": [
          34.57746,
          34.28265
         ],
         "legendgroup": "RDC–RDC",
         "line": {
          "color": "purple",
          "width": 0.0011242270938729624
         },
         "lon": [
          119.1694,
          109.0334
         ],
         "mode": "lines",
         "name": "RDC–RDC",
         "showlegend": false,
         "type": "scattermap"
        },
        {
         "hovertemplate": "Quantity: 10<extra></extra>",
         "lat": [
          34.57746,
          36.04397
         ],
         "legendgroup": "RDC–RDC",
         "line": {
          "color": "purple",
          "width": 0.005621135469364812
         },
         "lon": [
          119.1694,
          103.91
         ],
         "mode": "lines",
         "name": "RDC–RDC",
         "showlegend": false,
         "type": "scattermap"
        },
        {
         "hovertemplate": "Quantity: 2788<extra></extra>",
         "lat": [
          29.93326,
          36.73794
         ],
         "legendgroup": "RDC–RDC",
         "line": {
          "color": "purple",
          "width": 1.5671725688589095
         },
         "lon": [
          121.6062,
          119.0358
         ],
         "mode": "lines",
         "name": "RDC–RDC",
         "showlegend": false,
         "type": "scattermap"
        },
        {
         "hovertemplate": "Quantity: 21<extra></extra>",
         "lat": [
          29.93326,
          36.64308
         ],
         "legendgroup": "RDC–RDC",
         "line": {
          "color": "purple",
          "width": 0.011804384485666106
         },
         "lon": [
          121.6062,
          116.857
         ],
         "mode": "lines",
         "name": "RDC–RDC",
         "showlegend": false,
         "type": "scattermap"
        },
        {
         "hovertemplate": "Quantity: 81<extra></extra>",
         "lat": [
          29.93326,
          31.6025
         ],
         "legendgroup": "RDC–RDC",
         "line": {
          "color": "purple",
          "width": 0.045531197301854974
         },
         "lon": [
          121.6062,
          120.9008
         ],
         "mode": "lines",
         "name": "RDC–RDC",
         "showlegend": false,
         "type": "scattermap"
        },
        {
         "hovertemplate": "Quantity: 400<extra></extra>",
         "lat": [
          29.93326,
          31.6025
         ],
         "legendgroup": "RDC–RDC",
         "line": {
          "color": "purple",
          "width": 0.22484541877459246
         },
         "lon": [
          121.6062,
          120.9008
         ],
         "mode": "lines",
         "name": "RDC–RDC",
         "showlegend": false,
         "type": "scattermap"
        },
        {
         "hovertemplate": "Quantity: 4610<extra></extra>",
         "lat": [
          29.93326,
          32.08158
         ],
         "legendgroup": "RDC–RDC",
         "line": {
          "color": "purple",
          "width": 2.5913434513771785
         },
         "lon": [
          121.6062,
          120.912
         ],
         "mode": "lines",
         "name": "RDC–RDC",
         "showlegend": false,
         "type": "scattermap"
        },
        {
         "hovertemplate": "Quantity: 100<extra></extra>",
         "lat": [
          29.93326,
          28.59099
         ],
         "legendgroup": "RDC–RDC",
         "line": {
          "color": "purple",
          "width": 0.056211354693648116
         },
         "lon": [
          121.6062,
          121.3567
         ],
         "mode": "lines",
         "name": "RDC–RDC",
         "showlegend": false,
         "type": "scattermap"
        },
        {
         "hovertemplate": "Quantity: 225<extra></extra>",
         "lat": [
          29.93326,
          39.10089
         ],
         "legendgroup": "RDC–RDC",
         "line": {
          "color": "purple",
          "width": 0.12647554806070826
         },
         "lon": [
          121.6062,
          117.2588
         ],
         "mode": "lines",
         "name": "RDC–RDC",
         "showlegend": false,
         "type": "scattermap"
        },
        {
         "hovertemplate": "Quantity: 30<extra></extra>",
         "lat": [
          29.93326,
          38.01142
         ],
         "legendgroup": "RDC–RDC",
         "line": {
          "color": "purple",
          "width": 0.016863406408094434
         },
         "lon": [
          121.6062,
          114.5071
         ],
         "mode": "lines",
         "name": "RDC–RDC",
         "showlegend": false,
         "type": "scattermap"
        },
        {
         "hovertemplate": "Quantity: 2100<extra></extra>",
         "lat": [
          29.93326,
          29.67056
         ],
         "legendgroup": "RDC–RDC",
         "line": {
          "color": "purple",
          "width": 1.1804384485666104
         },
         "lon": [
          121.6062,
          106.6263
         ],
         "mode": "lines",
         "name": "RDC–RDC",
         "showlegend": false,
         "type": "scattermap"
        },
        {
         "hovertemplate": "Quantity: 273<extra></extra>",
         "lat": [
          29.93326,
          31.89946
         ],
         "legendgroup": "RDC–RDC",
         "line": {
          "color": "purple",
          "width": 0.15345699831365936
         },
         "lon": [
          121.6062,
          117.3595
         ],
         "mode": "lines",
         "name": "RDC–RDC",
         "showlegend": false,
         "type": "scattermap"
        },
        {
         "hovertemplate": "Quantity: 1<extra></extra>",
         "lat": [
          29.93326,
          31.89946
         ],
         "legendgroup": "RDC–RDC",
         "line": {
          "color": "purple",
          "width": 5.621135469364812E-4
         },
         "lon": [
          121.6062,
          117.3595
         ],
         "mode": "lines",
         "name": "RDC–RDC",
         "showlegend": false,
         "type": "scattermap"
        },
        {
         "hovertemplate": "Quantity: 110<extra></extra>",
         "lat": [
          29.93326,
          37.91037
         ],
         "legendgroup": "RDC–RDC",
         "line": {
          "color": "purple",
          "width": 0.061832490163012926
         },
         "lon": [
          121.6062,
          112.5177
         ],
         "mode": "lines",
         "name": "RDC–RDC",
         "showlegend": false,
         "type": "scattermap"
        },
        {
         "hovertemplate": "Quantity: 5<extra></extra>",
         "lat": [
          29.93326,
          32.45936
         ],
         "legendgroup": "RDC–RDC",
         "line": {
          "color": "purple",
          "width": 0.002810567734682406
         },
         "lon": [
          121.6062,
          119.9178
         ],
         "mode": "lines",
         "name": "RDC–RDC",
         "showlegend": false,
         "type": "scattermap"
        },
        {
         "hovertemplate": "Quantity: 60<extra></extra>",
         "lat": [
          30.37639,
          36.17995
         ],
         "legendgroup": "RDC–RDC",
         "line": {
          "color": "purple",
          "width": 0.03372681281618887
         },
         "lon": [
          120.1698,
          120.4715
         ],
         "mode": "lines",
         "name": "RDC–RDC",
         "showlegend": false,
         "type": "scattermap"
        },
        {
         "hovertemplate": "Quantity: 70<extra></extra>",
         "lat": [
          30.37639,
          36.73794
         ],
         "legendgroup": "RDC–RDC",
         "line": {
          "color": "purple",
          "width": 0.039347948285553686
         },
         "lon": [
          120.1698,
          119.0358
         ],
         "mode": "lines",
         "name": "RDC–RDC",
         "showlegend": false,
         "type": "scattermap"
        },
        {
         "hovertemplate": "Quantity: 40<extra></extra>",
         "lat": [
          30.37639,
          35.10285
         ],
         "legendgroup": "RDC–RDC",
         "line": {
          "color": "purple",
          "width": 0.022484541877459248
         },
         "lon": [
          120.1698,
          118.2891
         ],
         "mode": "lines",
         "name": "RDC–RDC",
         "showlegend": false,
         "type": "scattermap"
        },
        {
         "hovertemplate": "Quantity: 160<extra></extra>",
         "lat": [
          30.37639,
          36.64308
         ],
         "legendgroup": "RDC–RDC",
         "line": {
          "color": "purple",
          "width": 0.08993816750983699
         },
         "lon": [
          120.1698,
          116.857
         ],
         "mode": "lines",
         "name": "RDC–RDC",
         "showlegend": false,
         "type": "scattermap"
        },
        {
         "hovertemplate": "Quantity: 3986<extra></extra>",
         "lat": [
          30.37639,
          31.6025
         ],
         "legendgroup": "RDC–RDC",
         "line": {
          "color": "purple",
          "width": 2.240584598088814
         },
         "lon": [
          120.1698,
          120.9008
         ],
         "mode": "lines",
         "name": "RDC–RDC",
         "showlegend": false,
         "type": "scattermap"
        },
        {
         "hovertemplate": "Quantity: 7400<extra></extra>",
         "lat": [
          30.37639,
          31.50323
         ],
         "legendgroup": "RDC–RDC",
         "line": {
          "color": "purple",
          "width": 4.1596402473299605
         },
         "lon": [
          120.1698,
          120.3923
         ],
         "mode": "lines",
         "name": "RDC–RDC",
         "showlegend": false,
         "type": "scattermap"
        },
        {
         "hovertemplate": "Quantity: 1<extra></extra>",
         "lat": [
          30.37639,
          31.50323
         ],
         "legendgroup": "RDC–RDC",
         "line": {
          "color": "purple",
          "width": 5.621135469364812E-4
         },
         "lon": [
          120.1698,
          120.3923
         ],
         "mode": "lines",
         "name": "RDC–RDC",
         "showlegend": false,
         "type": "scattermap"
        },
        {
         "hovertemplate": "Quantity: 49<extra></extra>",
         "lat": [
          30.37639,
          32.08158
         ],
         "legendgroup": "RDC–RDC",
         "line": {
          "color": "purple",
          "width": 0.02754356379988758
         },
         "lon": [
          120.1698,
          120.912
         ],
         "mode": "lines",
         "name": "RDC–RDC",
         "showlegend": false,
         "type": "scattermap"
        },
        {
         "hovertemplate": "Quantity: 2<extra></extra>",
         "lat": [
          30.37639,
          34.57746
         ],
         "legendgroup": "RDC–RDC",
         "line": {
          "color": "purple",
          "width": 0.0011242270938729624
         },
         "lon": [
          120.1698,
          119.1694
         ],
         "mode": "lines",
         "name": "RDC–RDC",
         "showlegend": false,
         "type": "scattermap"
        },
        {
         "hovertemplate": "Quantity: 104<extra></extra>",
         "lat": [
          30.37639,
          28.59099
         ],
         "legendgroup": "RDC–RDC",
         "line": {
          "color": "purple",
          "width": 0.058459808881394036
         },
         "lon": [
          120.1698,
          121.3567
         ],
         "mode": "lines",
         "name": "RDC–RDC",
         "showlegend": false,
         "type": "scattermap"
        },
        {
         "hovertemplate": "Quantity: 100<extra></extra>",
         "lat": [
          30.37639,
          31.30913
         ],
         "legendgroup": "RDC–RDC",
         "line": {
          "color": "purple",
          "width": 0.056211354693648116
         },
         "lon": [
          120.1698,
          121.3927
         ],
         "mode": "lines",
         "name": "RDC–RDC",
         "showlegend": false,
         "type": "scattermap"
        },
        {
         "hovertemplate": "Quantity: 2<extra></extra>",
         "lat": [
          30.37639,
          39.04403
         ],
         "legendgroup": "RDC–RDC",
         "line": {
          "color": "purple",
          "width": 0.0011242270938729624
         },
         "lon": [
          120.1698,
          121.6366
         ],
         "mode": "lines",
         "name": "RDC–RDC",
         "showlegend": false,
         "type": "scattermap"
        },
        {
         "hovertemplate": "Quantity: 2570<extra></extra>",
         "lat": [
          30.37639,
          31.66238
         ],
         "legendgroup": "RDC–RDC",
         "line": {
          "color": "purple",
          "width": 1.4446318156267566
         },
         "lon": [
          120.1698,
          118.4845
         ],
         "mode": "lines",
         "name": "RDC–RDC",
         "showlegend": false,
         "type": "scattermap"
        },
        {
         "hovertemplate": "Quantity: 2<extra></extra>",
         "lat": [
          30.37639,
          31.66238
         ],
         "legendgroup": "RDC–RDC",
         "line": {
          "color": "purple",
          "width": 0.0011242270938729624
         },
         "lon": [
          120.1698,
          118.4845
         ],
         "mode": "lines",
         "name": "RDC–RDC",
         "showlegend": false,
         "type": "scattermap"
        },
        {
         "hovertemplate": "Quantity: 5<extra></extra>",
         "lat": [
          30.37639,
          31.89018
         ],
         "legendgroup": "RDC–RDC",
         "line": {
          "color": "purple",
          "width": 0.002810567734682406
         },
         "lon": [
          120.1698,
          117.3539
         ],
         "mode": "lines",
         "name": "RDC–RDC",
         "showlegend": false,
         "type": "scattermap"
        },
        {
         "hovertemplate": "Quantity: 13<extra></extra>",
         "lat": [
          30.37639,
          31.89018
         ],
         "legendgroup": "RDC–RDC",
         "line": {
          "color": "purple",
          "width": 0.0073074761101742545
         },
         "lon": [
          120.1698,
          117.3539
         ],
         "mode": "lines",
         "name": "RDC–RDC",
         "showlegend": false,
         "type": "scattermap"
        },
        {
         "hovertemplate": "Quantity: 3<extra></extra>",
         "lat": [
          30.37639,
          30.68944
         ],
         "legendgroup": "RDC–RDC",
         "line": {
          "color": "purple",
          "width": 0.0016863406408094434
         },
         "lon": [
          120.1698,
          104.1816
         ],
         "mode": "lines",
         "name": "RDC–RDC",
         "showlegend": false,
         "type": "scattermap"
        },
        {
         "hovertemplate": "Quantity: 1<extra></extra>",
         "lat": [
          28.59099,
          30.37639
         ],
         "legendgroup": "RDC–RDC",
         "line": {
          "color": "purple",
          "width": 5.621135469364812E-4
         },
         "lon": [
          121.3567,
          120.1698
         ],
         "mode": "lines",
         "name": "RDC–RDC",
         "showlegend": false,
         "type": "scattermap"
        },
        {
         "hovertemplate": "Quantity: 7<extra></extra>",
         "lat": [
          28.59099,
          31.30913
         ],
         "legendgroup": "RDC–RDC",
         "line": {
          "color": "purple",
          "width": 0.0039347948285553686
         },
         "lon": [
          121.3567,
          121.3927
         ],
         "mode": "lines",
         "name": "RDC–RDC",
         "showlegend": false,
         "type": "scattermap"
        },
        {
         "hovertemplate": "Quantity: 157<extra></extra>",
         "lat": [
          28.59099,
          31.30913
         ],
         "legendgroup": "RDC–RDC",
         "line": {
          "color": "purple",
          "width": 0.08825182686902755
         },
         "lon": [
          121.3567,
          121.3927
         ],
         "mode": "lines",
         "name": "RDC–RDC",
         "showlegend": false,
         "type": "scattermap"
        },
        {
         "hovertemplate": "Quantity: 65<extra></extra>",
         "lat": [
          28.59099,
          31.00253
         ],
         "legendgroup": "RDC–RDC",
         "line": {
          "color": "purple",
          "width": 0.03653738055087127
         },
         "lon": [
          121.3567,
          121.5149
         ],
         "mode": "lines",
         "name": "RDC–RDC",
         "showlegend": false,
         "type": "scattermap"
        },
        {
         "hovertemplate": "Quantity: 55<extra></extra>",
         "lat": [
          28.59099,
          38.01142
         ],
         "legendgroup": "RDC–RDC",
         "line": {
          "color": "purple",
          "width": 0.030916245081506463
         },
         "lon": [
          121.3567,
          114.5071
         ],
         "mode": "lines",
         "name": "RDC–RDC",
         "showlegend": false,
         "type": "scattermap"
        },
        {
         "hovertemplate": "Quantity: 105<extra></extra>",
         "lat": [
          31.30913,
          36.17995
         ],
         "legendgroup": "RDC–RDC",
         "line": {
          "color": "purple",
          "width": 0.05902192242833052
         },
         "lon": [
          121.3927,
          120.4715
         ],
         "mode": "lines",
         "name": "RDC–RDC",
         "showlegend": false,
         "type": "scattermap"
        },
        {
         "hovertemplate": "Quantity: 130<extra></extra>",
         "lat": [
          31.30913,
          36.73794
         ],
         "legendgroup": "RDC–RDC",
         "line": {
          "color": "purple",
          "width": 0.07307476110174255
         },
         "lon": [
          121.3927,
          119.0358
         ],
         "mode": "lines",
         "name": "RDC–RDC",
         "showlegend": false,
         "type": "scattermap"
        },
        {
         "hovertemplate": "Quantity: 50<extra></extra>",
         "lat": [
          31.30913,
          35.10285
         ],
         "legendgroup": "RDC–RDC",
         "line": {
          "color": "purple",
          "width": 0.028105677346824058
         },
         "lon": [
          121.3927,
          118.2891
         ],
         "mode": "lines",
         "name": "RDC–RDC",
         "showlegend": false,
         "type": "scattermap"
        },
        {
         "hovertemplate": "Quantity: 315<extra></extra>",
         "lat": [
          31.30913,
          36.64308
         ],
         "legendgroup": "RDC–RDC",
         "line": {
          "color": "purple",
          "width": 0.17706576728499157
         },
         "lon": [
          121.3927,
          116.857
         ],
         "mode": "lines",
         "name": "RDC–RDC",
         "showlegend": false,
         "type": "scattermap"
        },
        {
         "hovertemplate": "Quantity: 16<extra></extra>",
         "lat": [
          31.30913,
          29.93326
         ],
         "legendgroup": "RDC–RDC",
         "line": {
          "color": "purple",
          "width": 0.008993816750983699
         },
         "lon": [
          121.3927,
          121.6062
         ],
         "mode": "lines",
         "name": "RDC–RDC",
         "showlegend": false,
         "type": "scattermap"
        },
        {
         "hovertemplate": "Quantity: 3<extra></extra>",
         "lat": [
          31.30913,
          30.37639
         ],
         "legendgroup": "RDC–RDC",
         "line": {
          "color": "purple",
          "width": 0.0016863406408094434
         },
         "lon": [
          121.3927,
          120.1698
         ],
         "mode": "lines",
         "name": "RDC–RDC",
         "showlegend": false,
         "type": "scattermap"
        },
        {
         "hovertemplate": "Quantity: 11<extra></extra>",
         "lat": [
          31.30913,
          39.85929
         ],
         "legendgroup": "RDC–RDC",
         "line": {
          "color": "purple",
          "width": 0.006183249016301292
         },
         "lon": [
          121.3927,
          116.4707
         ],
         "mode": "lines",
         "name": "RDC–RDC",
         "showlegend": false,
         "type": "scattermap"
        },
        {
         "hovertemplate": "Quantity: 28<extra></extra>",
         "lat": [
          31.30913,
          36.62035
         ],
         "legendgroup": "RDC–RDC",
         "line": {
          "color": "purple",
          "width": 0.015739179314221474
         },
         "lon": [
          121.3927,
          114.4945
         ],
         "mode": "lines",
         "name": "RDC–RDC",
         "showlegend": false,
         "type": "scattermap"
        },
        {
         "hovertemplate": "Quantity: 21<extra></extra>",
         "lat": [
          31.30913,
          43.85704
         ],
         "legendgroup": "RDC–RDC",
         "line": {
          "color": "purple",
          "width": 0.011804384485666106
         },
         "lon": [
          121.3927,
          87.53245
         ],
         "mode": "lines",
         "name": "RDC–RDC",
         "showlegend": false,
         "type": "scattermap"
        },
        {
         "hovertemplate": "Quantity: 10<extra></extra>",
         "lat": [
          31.00253,
          36.17995
         ],
         "legendgroup": "RDC–RDC",
         "line": {
          "color": "purple",
          "width": 0.005621135469364812
         },
         "lon": [
          121.5149,
          120.4715
         ],
         "mode": "lines",
         "name": "RDC–RDC",
         "showlegend": false,
         "type": "scattermap"
        },
        {
         "hovertemplate": "Quantity: 4<extra></extra>",
         "lat": [
          31.00253,
          31.6025
         ],
         "legendgroup": "RDC–RDC",
         "line": {
          "color": "purple",
          "width": 0.0022484541877459247
         },
         "lon": [
          121.5149,
          120.9008
         ],
         "mode": "lines",
         "name": "RDC–RDC",
         "showlegend": false,
         "type": "scattermap"
        },
        {
         "hovertemplate": "Quantity: 1080<extra></extra>",
         "lat": [
          31.00253,
          32.00261
         ],
         "legendgroup": "RDC–RDC",
         "line": {
          "color": "purple",
          "width": 0.6070826306913997
         },
         "lon": [
          121.5149,
          118.8661
         ],
         "mode": "lines",
         "name": "RDC–RDC",
         "showlegend": false,
         "type": "scattermap"
        },
        {
         "hovertemplate": "Quantity: 150<extra></extra>",
         "lat": [
          31.00253,
          28.59099
         ],
         "legendgroup": "RDC–RDC",
         "line": {
          "color": "purple",
          "width": 0.08431703204047217
         },
         "lon": [
          121.5149,
          121.3567
         ],
         "mode": "lines",
         "name": "RDC–RDC",
         "showlegend": false,
         "type": "scattermap"
        },
        {
         "hovertemplate": "Quantity: 95<extra></extra>",
         "lat": [
          31.00253,
          31.30913
         ],
         "legendgroup": "RDC–RDC",
         "line": {
          "color": "purple",
          "width": 0.05340078695896571
         },
         "lon": [
          121.5149,
          121.3927
         ],
         "mode": "lines",
         "name": "RDC–RDC",
         "showlegend": false,
         "type": "scattermap"
        },
        {
         "hovertemplate": "Quantity: 263<extra></extra>",
         "lat": [
          31.00253,
          36.62035
         ],
         "legendgroup": "RDC–RDC",
         "line": {
          "color": "purple",
          "width": 0.14783586284429456
         },
         "lon": [
          121.5149,
          114.4945
         ],
         "mode": "lines",
         "name": "RDC–RDC",
         "showlegend": false,
         "type": "scattermap"
        },
        {
         "hovertemplate": "Quantity: 231<extra></extra>",
         "lat": [
          31.00253,
          24.90263
         ],
         "legendgroup": "RDC–RDC",
         "line": {
          "color": "purple",
          "width": 0.12984822934232715
         },
         "lon": [
          121.5149,
          102.9867
         ],
         "mode": "lines",
         "name": "RDC–RDC",
         "showlegend": false,
         "type": "scattermap"
        },
        {
         "hovertemplate": "Quantity: 5457<extra></extra>",
         "lat": [
          31.00253,
          31.89946
         ],
         "legendgroup": "RDC–RDC",
         "line": {
          "color": "purple",
          "width": 3.0674536256323774
         },
         "lon": [
          121.5149,
          117.3595
         ],
         "mode": "lines",
         "name": "RDC–RDC",
         "showlegend": false,
         "type": "scattermap"
        },
        {
         "hovertemplate": "Quantity: 43<extra></extra>",
         "lat": [
          45.74223,
          36.64308
         ],
         "legendgroup": "RDC–RDC",
         "line": {
          "color": "purple",
          "width": 0.024170882518268693
         },
         "lon": [
          126.6237,
          116.857
         ],
         "mode": "lines",
         "name": "RDC–RDC",
         "showlegend": false,
         "type": "scattermap"
        },
        {
         "hovertemplate": "Quantity: 7<extra></extra>",
         "lat": [
          45.74223,
          36.64308
         ],
         "legendgroup": "RDC–RDC",
         "line": {
          "color": "purple",
          "width": 0.0039347948285553686
         },
         "lon": [
          126.6237,
          116.857
         ],
         "mode": "lines",
         "name": "RDC–RDC",
         "showlegend": false,
         "type": "scattermap"
        },
        {
         "hovertemplate": "Quantity: 8<extra></extra>",
         "lat": [
          45.74223,
          41.82855
         ],
         "legendgroup": "RDC–RDC",
         "line": {
          "color": "purple",
          "width": 0.004496908375491849
         },
         "lon": [
          126.6237,
          123.5238
         ],
         "mode": "lines",
         "name": "RDC–RDC",
         "showlegend": false,
         "type": "scattermap"
        },
        {
         "hovertemplate": "Quantity: 40<extra></extra>",
         "lat": [
          45.74223,
          41.82855
         ],
         "legendgroup": "RDC–RDC",
         "line": {
          "color": "purple",
          "width": 0.022484541877459248
         },
         "lon": [
          126.6237,
          123.5238
         ],
         "mode": "lines",
         "name": "RDC–RDC",
         "showlegend": false,
         "type": "scattermap"
        },
        {
         "hovertemplate": "Quantity: 9<extra></extra>",
         "lat": [
          45.74223,
          39.04403
         ],
         "legendgroup": "RDC–RDC",
         "line": {
          "color": "purple",
          "width": 0.00505902192242833
         },
         "lon": [
          126.6237,
          121.6366
         ],
         "mode": "lines",
         "name": "RDC–RDC",
         "showlegend": false,
         "type": "scattermap"
        },
        {
         "hovertemplate": "Quantity: 2<extra></extra>",
         "lat": [
          43.93276,
          41.82855
         ],
         "legendgroup": "RDC–RDC",
         "line": {
          "color": "purple",
          "width": 0.0011242270938729624
         },
         "lon": [
          125.299,
          123.5238
         ],
         "mode": "lines",
         "name": "RDC–RDC",
         "showlegend": false,
         "type": "scattermap"
        },
        {
         "hovertemplate": "Quantity: 1<extra></extra>",
         "lat": [
          43.93276,
          39.04403
         ],
         "legendgroup": "RDC–RDC",
         "line": {
          "color": "purple",
          "width": 5.621135469364812E-4
         },
         "lon": [
          125.299,
          121.6366
         ],
         "mode": "lines",
         "name": "RDC–RDC",
         "showlegend": false,
         "type": "scattermap"
        },
        {
         "hovertemplate": "Quantity: 30<extra></extra>",
         "lat": [
          43.93276,
          34.74348
         ],
         "legendgroup": "RDC–RDC",
         "line": {
          "color": "purple",
          "width": 0.016863406408094434
         },
         "lon": [
          125.299,
          113.7171
         ],
         "mode": "lines",
         "name": "RDC–RDC",
         "showlegend": false,
         "type": "scattermap"
        },
        {
         "hovertemplate": "Quantity: 12<extra></extra>",
         "lat": [
          43.93276,
          35.74759
         ],
         "legendgroup": "RDC–RDC",
         "line": {
          "color": "purple",
          "width": 0.006745362563237774
         },
         "lon": [
          125.299,
          115.0775
         ],
         "mode": "lines",
         "name": "RDC–RDC",
         "showlegend": false,
         "type": "scattermap"
        },
        {
         "hovertemplate": "Quantity: 5<extra></extra>",
         "lat": [
          41.82855,
          43.93276
         ],
         "legendgroup": "RDC–RDC",
         "line": {
          "color": "purple",
          "width": 0.002810567734682406
         },
         "lon": [
          123.5238,
          125.299
         ],
         "mode": "lines",
         "name": "RDC–RDC",
         "showlegend": false,
         "type": "scattermap"
        },
        {
         "hovertemplate": "Quantity: 178<extra></extra>",
         "lat": [
          41.82855,
          39.04403
         ],
         "legendgroup": "RDC–RDC",
         "line": {
          "color": "purple",
          "width": 0.10005621135469364
         },
         "lon": [
          123.5238,
          121.6366
         ],
         "mode": "lines",
         "name": "RDC–RDC",
         "showlegend": false,
         "type": "scattermap"
        },
        {
         "hovertemplate": "Quantity: 1<extra></extra>",
         "lat": [
          41.82855,
          39.04403
         ],
         "legendgroup": "RDC–RDC",
         "line": {
          "color": "purple",
          "width": 5.621135469364812E-4
         },
         "lon": [
          123.5238,
          121.6366
         ],
         "mode": "lines",
         "name": "RDC–RDC",
         "showlegend": false,
         "type": "scattermap"
        },
        {
         "hovertemplate": "Quantity: 2<extra></extra>",
         "lat": [
          41.82855,
          36.62035
         ],
         "legendgroup": "RDC–RDC",
         "line": {
          "color": "purple",
          "width": 0.0011242270938729624
         },
         "lon": [
          123.5238,
          114.4945
         ],
         "mode": "lines",
         "name": "RDC–RDC",
         "showlegend": false,
         "type": "scattermap"
        },
        {
         "hovertemplate": "Quantity: 21<extra></extra>",
         "lat": [
          41.82855,
          34.28265
         ],
         "legendgroup": "RDC–RDC",
         "line": {
          "color": "purple",
          "width": 0.011804384485666106
         },
         "lon": [
          123.5238,
          109.0334
         ],
         "mode": "lines",
         "name": "RDC–RDC",
         "showlegend": false,
         "type": "scattermap"
        },
        {
         "hovertemplate": "Quantity: 2<extra></extra>",
         "lat": [
          41.09658,
          41.82855
         ],
         "legendgroup": "RDC–RDC",
         "line": {
          "color": "purple",
          "width": 0.0011242270938729624
         },
         "lon": [
          121.1489,
          123.5238
         ],
         "mode": "lines",
         "name": "RDC–RDC",
         "showlegend": false,
         "type": "scattermap"
        },
        {
         "hovertemplate": "Quantity: 2404<extra></extra>",
         "lat": [
          41.09658,
          39.04403
         ],
         "legendgroup": "RDC–RDC",
         "line": {
          "color": "purple",
          "width": 1.3513209668353008
         },
         "lon": [
          121.1489,
          121.6366
         ],
         "mode": "lines",
         "name": "RDC–RDC",
         "showlegend": false,
         "type": "scattermap"
        },
        {
         "hovertemplate": "Quantity: 3119<extra></extra>",
         "lat": [
          41.09658,
          39.04403
         ],
         "legendgroup": "RDC–RDC",
         "line": {
          "color": "purple",
          "width": 1.7532321528948847
         },
         "lon": [
          121.1489,
          121.6366
         ],
         "mode": "lines",
         "name": "RDC–RDC",
         "showlegend": false,
         "type": "scattermap"
        },
        {
         "hovertemplate": "Quantity: 2<extra></extra>",
         "lat": [
          41.09658,
          38.01142
         ],
         "legendgroup": "RDC–RDC",
         "line": {
          "color": "purple",
          "width": 0.0011242270938729624
         },
         "lon": [
          121.1489,
          114.5071
         ],
         "mode": "lines",
         "name": "RDC–RDC",
         "showlegend": false,
         "type": "scattermap"
        },
        {
         "hovertemplate": "Quantity: 9<extra></extra>",
         "lat": [
          41.09658,
          37.91037
         ],
         "legendgroup": "RDC–RDC",
         "line": {
          "color": "purple",
          "width": 0.00505902192242833
         },
         "lon": [
          121.1489,
          112.5177
         ],
         "mode": "lines",
         "name": "RDC–RDC",
         "showlegend": false,
         "type": "scattermap"
        },
        {
         "hovertemplate": "Quantity: 1<extra></extra>",
         "lat": [
          39.04403,
          43.93276
         ],
         "legendgroup": "RDC–RDC",
         "line": {
          "color": "purple",
          "width": 5.621135469364812E-4
         },
         "lon": [
          121.6366,
          125.299
         ],
         "mode": "lines",
         "name": "RDC–RDC",
         "showlegend": false,
         "type": "scattermap"
        },
        {
         "hovertemplate": "Quantity: 15699<extra></extra>",
         "lat": [
          39.04403,
          41.82855
         ],
         "legendgroup": "RDC–RDC",
         "line": {
          "color": "purple",
          "width": 8.824620573355817
         },
         "lon": [
          121.6366,
          123.5238
         ],
         "mode": "lines",
         "name": "RDC–RDC",
         "showlegend": false,
         "type": "scattermap"
        },
        {
         "hovertemplate": "Quantity: 1<extra></extra>",
         "lat": [
          39.04403,
          41.82855
         ],
         "legendgroup": "RDC–RDC",
         "line": {
          "color": "purple",
          "width": 5.621135469364812E-4
         },
         "lon": [
          121.6366,
          123.5238
         ],
         "mode": "lines",
         "name": "RDC–RDC",
         "showlegend": false,
         "type": "scattermap"
        },
        {
         "hovertemplate": "Quantity: 6896<extra></extra>",
         "lat": [
          39.04403,
          41.09658
         ],
         "legendgroup": "RDC–RDC",
         "line": {
          "color": "purple",
          "width": 3.8763350196739745
         },
         "lon": [
          121.6366,
          121.1489
         ],
         "mode": "lines",
         "name": "RDC–RDC",
         "showlegend": false,
         "type": "scattermap"
        },
        {
         "hovertemplate": "Quantity: 17790<extra></extra>",
         "lat": [
          39.85929,
          36.17995
         ],
         "legendgroup": "RDC–RDC",
         "line": {
          "color": "purple",
          "width": 10.0
         },
         "lon": [
          116.4707,
          120.4715
         ],
         "mode": "lines",
         "name": "RDC–RDC",
         "showlegend": false,
         "type": "scattermap"
        },
        {
         "hovertemplate": "Quantity: 3<extra></extra>",
         "lat": [
          39.85929,
          36.64308
         ],
         "legendgroup": "RDC–RDC",
         "line": {
          "color": "purple",
          "width": 0.0016863406408094434
         },
         "lon": [
          116.4707,
          116.857
         ],
         "mode": "lines",
         "name": "RDC–RDC",
         "showlegend": false,
         "type": "scattermap"
        },
        {
         "hovertemplate": "Quantity: 3<extra></extra>",
         "lat": [
          39.85929,
          31.50323
         ],
         "legendgroup": "RDC–RDC",
         "line": {
          "color": "purple",
          "width": 0.0016863406408094434
         },
         "lon": [
          116.4707,
          120.3923
         ],
         "mode": "lines",
         "name": "RDC–RDC",
         "showlegend": false,
         "type": "scattermap"
        },
        {
         "hovertemplate": "Quantity: 10<extra></extra>",
         "lat": [
          39.85929,
          29.93326
         ],
         "legendgroup": "RDC–RDC",
         "line": {
          "color": "purple",
          "width": 0.005621135469364812
         },
         "lon": [
          116.4707,
          121.6062
         ],
         "mode": "lines",
         "name": "RDC–RDC",
         "showlegend": false,
         "type": "scattermap"
        },
        {
         "hovertemplate": "Quantity: 20<extra></extra>",
         "lat": [
          39.85929,
          30.37639
         ],
         "legendgroup": "RDC–RDC",
         "line": {
          "color": "purple",
          "width": 0.011242270938729624
         },
         "lon": [
          116.4707,
          120.1698
         ],
         "mode": "lines",
         "name": "RDC–RDC",
         "showlegend": false,
         "type": "scattermap"
        },
        {
         "hovertemplate": "Quantity: 4<extra></extra>",
         "lat": [
          39.85929,
          30.37639
         ],
         "legendgroup": "RDC–RDC",
         "line": {
          "color": "purple",
          "width": 0.0022484541877459247
         },
         "lon": [
          116.4707,
          120.1698
         ],
         "mode": "lines",
         "name": "RDC–RDC",
         "showlegend": false,
         "type": "scattermap"
        },
        {
         "hovertemplate": "Quantity: 1<extra></extra>",
         "lat": [
          39.85929,
          45.74223
         ],
         "legendgroup": "RDC–RDC",
         "line": {
          "color": "purple",
          "width": 5.621135469364812E-4
         },
         "lon": [
          116.4707,
          126.6237
         ],
         "mode": "lines",
         "name": "RDC–RDC",
         "showlegend": false,
         "type": "scattermap"
        },
        {
         "hovertemplate": "Quantity: 41<extra></extra>",
         "lat": [
          39.85929,
          39.10089
         ],
         "legendgroup": "RDC–RDC",
         "line": {
          "color": "purple",
          "width": 0.02304665542439573
         },
         "lon": [
          116.4707,
          117.2588
         ],
         "mode": "lines",
         "name": "RDC–RDC",
         "showlegend": false,
         "type": "scattermap"
        },
        {
         "hovertemplate": "Quantity: 2<extra></extra>",
         "lat": [
          39.85929,
          27.79889
         ],
         "legendgroup": "RDC–RDC",
         "line": {
          "color": "purple",
          "width": 0.0011242270938729624
         },
         "lon": [
          116.4707,
          113.1612
         ],
         "mode": "lines",
         "name": "RDC–RDC",
         "showlegend": false,
         "type": "scattermap"
        },
        {
         "hovertemplate": "Quantity: 300<extra></extra>",
         "lat": [
          39.85929,
          36.04397
         ],
         "legendgroup": "RDC–RDC",
         "line": {
          "color": "purple",
          "width": 0.16863406408094433
         },
         "lon": [
          116.4707,
          103.91
         ],
         "mode": "lines",
         "name": "RDC–RDC",
         "showlegend": false,
         "type": "scattermap"
        },
        {
         "hovertemplate": "Quantity: 500<extra></extra>",
         "lat": [
          39.85929,
          29.61051
         ],
         "legendgroup": "RDC–RDC",
         "line": {
          "color": "purple",
          "width": 0.2810567734682406
         },
         "lon": [
          116.4707,
          105.081
         ],
         "mode": "lines",
         "name": "RDC–RDC",
         "showlegend": false,
         "type": "scattermap"
        },
        {
         "hovertemplate": "Quantity: 3<extra></extra>",
         "lat": [
          39.85929,
          29.67056
         ],
         "legendgroup": "RDC–RDC",
         "line": {
          "color": "purple",
          "width": 0.0016863406408094434
         },
         "lon": [
          116.4707,
          106.6263
         ],
         "mode": "lines",
         "name": "RDC–RDC",
         "showlegend": false,
         "type": "scattermap"
        },
        {
         "hovertemplate": "Quantity: 200<extra></extra>",
         "lat": [
          39.10089,
          36.73794
         ],
         "legendgroup": "RDC–RDC",
         "line": {
          "color": "purple",
          "width": 0.11242270938729623
         },
         "lon": [
          117.2588,
          119.0358
         ],
         "mode": "lines",
         "name": "RDC–RDC",
         "showlegend": false,
         "type": "scattermap"
        },
        {
         "hovertemplate": "Quantity: 2733<extra></extra>",
         "lat": [
          39.10089,
          35.10285
         ],
         "legendgroup": "RDC–RDC",
         "line": {
          "color": "purple",
          "width": 1.536256323777403
         },
         "lon": [
          117.2588,
          118.2891
         ],
         "mode": "lines",
         "name": "RDC–RDC",
         "showlegend": false,
         "type": "scattermap"
        },
        {
         "hovertemplate": "Quantity: 100<extra></extra>",
         "lat": [
          39.10089,
          36.64308
         ],
         "legendgroup": "RDC–RDC",
         "line": {
          "color": "purple",
          "width": 0.056211354693648116
         },
         "lon": [
          117.2588,
          116.857
         ],
         "mode": "lines",
         "name": "RDC–RDC",
         "showlegend": false,
         "type": "scattermap"
        },
        {
         "hovertemplate": "Quantity: 80<extra></extra>",
         "lat": [
          39.10089,
          31.6025
         ],
         "legendgroup": "RDC–RDC",
         "line": {
          "color": "purple",
          "width": 0.044969083754918496
         },
         "lon": [
          117.2588,
          120.9008
         ],
         "mode": "lines",
         "name": "RDC–RDC",
         "showlegend": false,
         "type": "scattermap"
        },
        {
         "hovertemplate": "Quantity: 200<extra></extra>",
         "lat": [
          39.10089,
          29.93326
         ],
         "legendgroup": "RDC–RDC",
         "line": {
          "color": "purple",
          "width": 0.11242270938729623
         },
         "lon": [
          117.2588,
          121.6062
         ],
         "mode": "lines",
         "name": "RDC–RDC",
         "showlegend": false,
         "type": "scattermap"
        },
        {
         "hovertemplate": "Quantity: 2<extra></extra>",
         "lat": [
          39.10089,
          41.82855
         ],
         "legendgroup": "RDC–RDC",
         "line": {
          "color": "purple",
          "width": 0.0011242270938729624
         },
         "lon": [
          117.2588,
          123.5238
         ],
         "mode": "lines",
         "name": "RDC–RDC",
         "showlegend": false,
         "type": "scattermap"
        },
        {
         "hovertemplate": "Quantity: 70<extra></extra>",
         "lat": [
          39.10089,
          39.04403
         ],
         "legendgroup": "RDC–RDC",
         "line": {
          "color": "purple",
          "width": 0.039347948285553686
         },
         "lon": [
          117.2588,
          121.6366
         ],
         "mode": "lines",
         "name": "RDC–RDC",
         "showlegend": false,
         "type": "scattermap"
        },
        {
         "hovertemplate": "Quantity: 50<extra></extra>",
         "lat": [
          39.10089,
          39.04403
         ],
         "legendgroup": "RDC–RDC",
         "line": {
          "color": "purple",
          "width": 0.028105677346824058
         },
         "lon": [
          117.2588,
          121.6366
         ],
         "mode": "lines",
         "name": "RDC–RDC",
         "showlegend": false,
         "type": "scattermap"
        },
        {
         "hovertemplate": "Quantity: 3<extra></extra>",
         "lat": [
          39.10089,
          39.85929
         ],
         "legendgroup": "RDC–RDC",
         "line": {
          "color": "purple",
          "width": 0.0016863406408094434
         },
         "lon": [
          117.2588,
          116.4707
         ],
         "mode": "lines",
         "name": "RDC–RDC",
         "showlegend": false,
         "type": "scattermap"
        },
        {
         "hovertemplate": "Quantity: 1<extra></extra>",
         "lat": [
          39.10089,
          38.01142
         ],
         "legendgroup": "RDC–RDC",
         "line": {
          "color": "purple",
          "width": 5.621135469364812E-4
         },
         "lon": [
          117.2588,
          114.5071
         ],
         "mode": "lines",
         "name": "RDC–RDC",
         "showlegend": false,
         "type": "scattermap"
        },
        {
         "hovertemplate": "Quantity: 80<extra></extra>",
         "lat": [
          39.10089,
          36.62035
         ],
         "legendgroup": "RDC–RDC",
         "line": {
          "color": "purple",
          "width": 0.044969083754918496
         },
         "lon": [
          117.2588,
          114.4945
         ],
         "mode": "lines",
         "name": "RDC–RDC",
         "showlegend": false,
         "type": "scattermap"
        },
        {
         "hovertemplate": "Quantity: 240<extra></extra>",
         "lat": [
          39.10089,
          36.62035
         ],
         "legendgroup": "RDC–RDC",
         "line": {
          "color": "purple",
          "width": 0.13490725126475547
         },
         "lon": [
          117.2588,
          114.4945
         ],
         "mode": "lines",
         "name": "RDC–RDC",
         "showlegend": false,
         "type": "scattermap"
        },
        {
         "hovertemplate": "Quantity: 3<extra></extra>",
         "lat": [
          39.10089,
          37.8686
         ],
         "legendgroup": "RDC–RDC",
         "line": {
          "color": "purple",
          "width": 0.0016863406408094434
         },
         "lon": [
          117.2588,
          112.6184
         ],
         "mode": "lines",
         "name": "RDC–RDC",
         "showlegend": false,
         "type": "scattermap"
        },
        {
         "hovertemplate": "Quantity: 6<extra></extra>",
         "lat": [
          39.10089,
          40.88605
         ],
         "legendgroup": "RDC–RDC",
         "line": {
          "color": "purple",
          "width": 0.003372681281618887
         },
         "lon": [
          117.2588,
          111.8036
         ],
         "mode": "lines",
         "name": "RDC–RDC",
         "showlegend": false,
         "type": "scattermap"
        },
        {
         "hovertemplate": "Quantity: 110<extra></extra>",
         "lat": [
          39.10089,
          37.91037
         ],
         "legendgroup": "RDC–RDC",
         "line": {
          "color": "purple",
          "width": 0.061832490163012926
         },
         "lon": [
          117.2588,
          112.5177
         ],
         "mode": "lines",
         "name": "RDC–RDC",
         "showlegend": false,
         "type": "scattermap"
        },
        {
         "hovertemplate": "Quantity: 140<extra></extra>",
         "lat": [
          39.10089,
          37.91037
         ],
         "legendgroup": "RDC–RDC",
         "line": {
          "color": "purple",
          "width": 0.07869589657110737
         },
         "lon": [
          117.2588,
          112.5177
         ],
         "mode": "lines",
         "name": "RDC–RDC",
         "showlegend": false,
         "type": "scattermap"
        },
        {
         "hovertemplate": "Quantity: 119<extra></extra>",
         "lat": [
          38.01142,
          36.73794
         ],
         "legendgroup": "RDC–RDC",
         "line": {
          "color": "purple",
          "width": 0.06689151208544125
         },
         "lon": [
          114.5071,
          119.0358
         ],
         "mode": "lines",
         "name": "RDC–RDC",
         "showlegend": false,
         "type": "scattermap"
        },
        {
         "hovertemplate": "Quantity: 200<extra></extra>",
         "lat": [
          38.01142,
          36.73794
         ],
         "legendgroup": "RDC–RDC",
         "line": {
          "color": "purple",
          "width": 0.11242270938729623
         },
         "lon": [
          114.5071,
          119.0358
         ],
         "mode": "lines",
         "name": "RDC–RDC",
         "showlegend": false,
         "type": "scattermap"
        },
        {
         "hovertemplate": "Quantity: 320<extra></extra>",
         "lat": [
          38.01142,
          36.64308
         ],
         "legendgroup": "RDC–RDC",
         "line": {
          "color": "purple",
          "width": 0.17987633501967398
         },
         "lon": [
          114.5071,
          116.857
         ],
         "mode": "lines",
         "name": "RDC–RDC",
         "showlegend": false,
         "type": "scattermap"
        },
        {
         "hovertemplate": "Quantity: 300<extra></extra>",
         "lat": [
          38.01142,
          36.64308
         ],
         "legendgroup": "RDC–RDC",
         "line": {
          "color": "purple",
          "width": 0.16863406408094433
         },
         "lon": [
          114.5071,
          116.857
         ],
         "mode": "lines",
         "name": "RDC–RDC",
         "showlegend": false,
         "type": "scattermap"
        },
        {
         "hovertemplate": "Quantity: 20<extra></extra>",
         "lat": [
          38.01142,
          31.6025
         ],
         "legendgroup": "RDC–RDC",
         "line": {
          "color": "purple",
          "width": 0.011242270938729624
         },
         "lon": [
          114.5071,
          120.9008
         ],
         "mode": "lines",
         "name": "RDC–RDC",
         "showlegend": false,
         "type": "scattermap"
        },
        {
         "hovertemplate": "Quantity: 8<extra></extra>",
         "lat": [
          38.01142,
          31.6025
         ],
         "legendgroup": "RDC–RDC",
         "line": {
          "color": "purple",
          "width": 0.004496908375491849
         },
         "lon": [
          114.5071,
          120.9008
         ],
         "mode": "lines",
         "name": "RDC–RDC",
         "showlegend": false,
         "type": "scattermap"
        },
        {
         "hovertemplate": "Quantity: 40<extra></extra>",
         "lat": [
          38.01142,
          34.57746
         ],
         "legendgroup": "RDC–RDC",
         "line": {
          "color": "purple",
          "width": 0.022484541877459248
         },
         "lon": [
          114.5071,
          119.1694
         ],
         "mode": "lines",
         "name": "RDC–RDC",
         "showlegend": false,
         "type": "scattermap"
        },
        {
         "hovertemplate": "Quantity: 220<extra></extra>",
         "lat": [
          38.01142,
          31.30913
         ],
         "legendgroup": "RDC–RDC",
         "line": {
          "color": "purple",
          "width": 0.12366498032602585
         },
         "lon": [
          114.5071,
          121.3927
         ],
         "mode": "lines",
         "name": "RDC–RDC",
         "showlegend": false,
         "type": "scattermap"
        },
        {
         "hovertemplate": "Quantity: 264<extra></extra>",
         "lat": [
          38.01142,
          41.82855
         ],
         "legendgroup": "RDC–RDC",
         "line": {
          "color": "purple",
          "width": 0.14839797639123103
         },
         "lon": [
          114.5071,
          123.5238
         ],
         "mode": "lines",
         "name": "RDC–RDC",
         "showlegend": false,
         "type": "scattermap"
        },
        {
         "hovertemplate": "Quantity: 10<extra></extra>",
         "lat": [
          38.01142,
          39.85929
         ],
         "legendgroup": "RDC–RDC",
         "line": {
          "color": "purple",
          "width": 0.005621135469364812
         },
         "lon": [
          114.5071,
          116.4707
         ],
         "mode": "lines",
         "name": "RDC–RDC",
         "showlegend": false,
         "type": "scattermap"
        },
        {
         "hovertemplate": "Quantity: 3<extra></extra>",
         "lat": [
          38.01142,
          39.85929
         ],
         "legendgroup": "RDC–RDC",
         "line": {
          "color": "purple",
          "width": 0.0016863406408094434
         },
         "lon": [
          114.5071,
          116.4707
         ],
         "mode": "lines",
         "name": "RDC–RDC",
         "showlegend": false,
         "type": "scattermap"
        },
        {
         "hovertemplate": "Quantity: 100<extra></extra>",
         "lat": [
          38.01142,
          39.85929
         ],
         "legendgroup": "RDC–RDC",
         "line": {
          "color": "purple",
          "width": 0.056211354693648116
         },
         "lon": [
          114.5071,
          116.4707
         ],
         "mode": "lines",
         "name": "RDC–RDC",
         "showlegend": false,
         "type": "scattermap"
        },
        {
         "hovertemplate": "Quantity: 40<extra></extra>",
         "lat": [
          38.01142,
          39.10089
         ],
         "legendgroup": "RDC–RDC",
         "line": {
          "color": "purple",
          "width": 0.022484541877459248
         },
         "lon": [
          114.5071,
          117.2588
         ],
         "mode": "lines",
         "name": "RDC–RDC",
         "showlegend": false,
         "type": "scattermap"
        },
        {
         "hovertemplate": "Quantity: 20<extra></extra>",
         "lat": [
          38.01142,
          39.10089
         ],
         "legendgroup": "RDC–RDC",
         "line": {
          "color": "purple",
          "width": 0.011242270938729624
         },
         "lon": [
          114.5071,
          117.2588
         ],
         "mode": "lines",
         "name": "RDC–RDC",
         "showlegend": false,
         "type": "scattermap"
        },
        {
         "hovertemplate": "Quantity: 1<extra></extra>",
         "lat": [
          38.01142,
          39.10089
         ],
         "legendgroup": "RDC–RDC",
         "line": {
          "color": "purple",
          "width": 5.621135469364812E-4
         },
         "lon": [
          114.5071,
          117.2588
         ],
         "mode": "lines",
         "name": "RDC–RDC",
         "showlegend": false,
         "type": "scattermap"
        },
        {
         "hovertemplate": "Quantity: 1<extra></extra>",
         "lat": [
          38.01142,
          38.84227
         ],
         "legendgroup": "RDC–RDC",
         "line": {
          "color": "purple",
          "width": 5.621135469364812E-4
         },
         "lon": [
          114.5071,
          115.5125
         ],
         "mode": "lines",
         "name": "RDC–RDC",
         "showlegend": false,
         "type": "scattermap"
        },
        {
         "hovertemplate": "Quantity: 1<extra></extra>",
         "lat": [
          38.01142,
          39.52418
         ],
         "legendgroup": "RDC–RDC",
         "line": {
          "color": "purple",
          "width": 5.621135469364812E-4
         },
         "lon": [
          114.5071,
          118.0917
         ],
         "mode": "lines",
         "name": "RDC–RDC",
         "showlegend": false,
         "type": "scattermap"
        },
        {
         "hovertemplate": "Quantity: 102<extra></extra>",
         "lat": [
          38.01142,
          36.62035
         ],
         "legendgroup": "RDC–RDC",
         "line": {
          "color": "purple",
          "width": 0.05733558178752109
         },
         "lon": [
          114.5071,
          114.4945
         ],
         "mode": "lines",
         "name": "RDC–RDC",
         "showlegend": false,
         "type": "scattermap"
        },
        {
         "hovertemplate": "Quantity: 10<extra></extra>",
         "lat": [
          38.01142,
          36.62035
         ],
         "legendgroup": "RDC–RDC",
         "line": {
          "color": "purple",
          "width": 0.005621135469364812
         },
         "lon": [
          114.5071,
          114.4945
         ],
         "mode": "lines",
         "name": "RDC–RDC",
         "showlegend": false,
         "type": "scattermap"
        },
        {
         "hovertemplate": "Quantity: 1<extra></extra>",
         "lat": [
          38.01142,
          36.62035
         ],
         "legendgroup": "RDC–RDC",
         "line": {
          "color": "purple",
          "width": 5.621135469364812E-4
         },
         "lon": [
          114.5071,
          114.4945
         ],
         "mode": "lines",
         "name": "RDC–RDC",
         "showlegend": false,
         "type": "scattermap"
        },
        {
         "hovertemplate": "Quantity: 150<extra></extra>",
         "lat": [
          38.01142,
          34.74358
         ],
         "legendgroup": "RDC–RDC",
         "line": {
          "color": "purple",
          "width": 0.08431703204047217
         },
         "lon": [
          114.5071,
          113.7175
         ],
         "mode": "lines",
         "name": "RDC–RDC",
         "showlegend": false,
         "type": "scattermap"
        },
        {
         "hovertemplate": "Quantity: 100<extra></extra>",
         "lat": [
          38.01142,
          37.8686
         ],
         "legendgroup": "RDC–RDC",
         "line": {
          "color": "purple",
          "width": 0.056211354693648116
         },
         "lon": [
          114.5071,
          112.6184
         ],
         "mode": "lines",
         "name": "RDC–RDC",
         "showlegend": false,
         "type": "scattermap"
        },
        {
         "hovertemplate": "Quantity: 292<extra></extra>",
         "lat": [
          38.01142,
          37.8686
         ],
         "legendgroup": "RDC–RDC",
         "line": {
          "color": "purple",
          "width": 0.16413715570545248
         },
         "lon": [
          114.5071,
          112.6184
         ],
         "mode": "lines",
         "name": "RDC–RDC",
         "showlegend": false,
         "type": "scattermap"
        },
        {
         "hovertemplate": "Quantity: 410<extra></extra>",
         "lat": [
          38.01142,
          30.68944
         ],
         "legendgroup": "RDC–RDC",
         "line": {
          "color": "purple",
          "width": 0.2304665542439573
         },
         "lon": [
          114.5071,
          104.1816
         ],
         "mode": "lines",
         "name": "RDC–RDC",
         "showlegend": false,
         "type": "scattermap"
        },
        {
         "hovertemplate": "Quantity: 250<extra></extra>",
         "lat": [
          38.01142,
          32.41468
         ],
         "legendgroup": "RDC–RDC",
         "line": {
          "color": "purple",
          "width": 0.1405283867341203
         },
         "lon": [
          114.5071,
          104.5354
         ],
         "mode": "lines",
         "name": "RDC–RDC",
         "showlegend": false,
         "type": "scattermap"
        },
        {
         "hovertemplate": "Quantity: 1<extra></extra>",
         "lat": [
          38.01142,
          35.74759
         ],
         "legendgroup": "RDC–RDC",
         "line": {
          "color": "purple",
          "width": 5.621135469364812E-4
         },
         "lon": [
          114.5071,
          115.0775
         ],
         "mode": "lines",
         "name": "RDC–RDC",
         "showlegend": false,
         "type": "scattermap"
        },
        {
         "hovertemplate": "Quantity: 1<extra></extra>",
         "lat": [
          38.01142,
          31.89946
         ],
         "legendgroup": "RDC–RDC",
         "line": {
          "color": "purple",
          "width": 5.621135469364812E-4
         },
         "lon": [
          114.5071,
          117.3595
         ],
         "mode": "lines",
         "name": "RDC–RDC",
         "showlegend": false,
         "type": "scattermap"
        },
        {
         "hovertemplate": "Quantity: 47<extra></extra>",
         "lat": [
          38.84227,
          36.73794
         ],
         "legendgroup": "RDC–RDC",
         "line": {
          "color": "purple",
          "width": 0.026419336706014616
         },
         "lon": [
          115.5125,
          119.0358
         ],
         "mode": "lines",
         "name": "RDC–RDC",
         "showlegend": false,
         "type": "scattermap"
        },
        {
         "hovertemplate": "Quantity: 2094<extra></extra>",
         "lat": [
          38.84227,
          35.10285
         ],
         "legendgroup": "RDC–RDC",
         "line": {
          "color": "purple",
          "width": 1.1770657672849916
         },
         "lon": [
          115.5125,
          118.2891
         ],
         "mode": "lines",
         "name": "RDC–RDC",
         "showlegend": false,
         "type": "scattermap"
        },
        {
         "hovertemplate": "Quantity: 220<extra></extra>",
         "lat": [
          38.84227,
          28.59099
         ],
         "legendgroup": "RDC–RDC",
         "line": {
          "color": "purple",
          "width": 0.12366498032602585
         },
         "lon": [
          115.5125,
          121.3567
         ],
         "mode": "lines",
         "name": "RDC–RDC",
         "showlegend": false,
         "type": "scattermap"
        },
        {
         "hovertemplate": "Quantity: 620<extra></extra>",
         "lat": [
          38.84227,
          31.30913
         ],
         "legendgroup": "RDC–RDC",
         "line": {
          "color": "purple",
          "width": 0.3485103991006183
         },
         "lon": [
          115.5125,
          121.3927
         ],
         "mode": "lines",
         "name": "RDC–RDC",
         "showlegend": false,
         "type": "scattermap"
        },
        {
         "hovertemplate": "Quantity: 960<extra></extra>",
         "lat": [
          38.84227,
          45.74223
         ],
         "legendgroup": "RDC–RDC",
         "line": {
          "color": "purple",
          "width": 0.5396290050590219
         },
         "lon": [
          115.5125,
          126.6237
         ],
         "mode": "lines",
         "name": "RDC–RDC",
         "showlegend": false,
         "type": "scattermap"
        },
        {
         "hovertemplate": "Quantity: 150<extra></extra>",
         "lat": [
          38.84227,
          39.04403
         ],
         "legendgroup": "RDC–RDC",
         "line": {
          "color": "purple",
          "width": 0.08431703204047217
         },
         "lon": [
          115.5125,
          121.6366
         ],
         "mode": "lines",
         "name": "RDC–RDC",
         "showlegend": false,
         "type": "scattermap"
        },
        {
         "hovertemplate": "Quantity: 32<extra></extra>",
         "lat": [
          38.84227,
          39.04403
         ],
         "legendgroup": "RDC–RDC",
         "line": {
          "color": "purple",
          "width": 0.017987633501967398
         },
         "lon": [
          115.5125,
          121.6366
         ],
         "mode": "lines",
         "name": "RDC–RDC",
         "showlegend": false,
         "type": "scattermap"
        },
        {
         "hovertemplate": "Quantity: 50<extra></extra>",
         "lat": [
          38.84227,
          39.85929
         ],
         "legendgroup": "RDC–RDC",
         "line": {
          "color": "purple",
          "width": 0.028105677346824058
         },
         "lon": [
          115.5125,
          116.4707
         ],
         "mode": "lines",
         "name": "RDC–RDC",
         "showlegend": false,
         "type": "scattermap"
        },
        {
         "hovertemplate": "Quantity: 60<extra></extra>",
         "lat": [
          38.84227,
          38.01142
         ],
         "legendgroup": "RDC–RDC",
         "line": {
          "color": "purple",
          "width": 0.03372681281618887
         },
         "lon": [
          115.5125,
          114.5071
         ],
         "mode": "lines",
         "name": "RDC–RDC",
         "showlegend": false,
         "type": "scattermap"
        },
        {
         "hovertemplate": "Quantity: 4<extra></extra>",
         "lat": [
          38.84227,
          38.01142
         ],
         "legendgroup": "RDC–RDC",
         "line": {
          "color": "purple",
          "width": 0.0022484541877459247
         },
         "lon": [
          115.5125,
          114.5071
         ],
         "mode": "lines",
         "name": "RDC–RDC",
         "showlegend": false,
         "type": "scattermap"
        },
        {
         "hovertemplate": "Quantity: 82<extra></extra>",
         "lat": [
          38.84227,
          36.62035
         ],
         "legendgroup": "RDC–RDC",
         "line": {
          "color": "purple",
          "width": 0.04609331084879146
         },
         "lon": [
          115.5125,
          114.4945
         ],
         "mode": "lines",
         "name": "RDC–RDC",
         "showlegend": false,
         "type": "scattermap"
        },
        {
         "hovertemplate": "Quantity: 2<extra></extra>",
         "lat": [
          38.84227,
          36.62035
         ],
         "legendgroup": "RDC–RDC",
         "line": {
          "color": "purple",
          "width": 0.0011242270938729624
         },
         "lon": [
          115.5125,
          114.4945
         ],
         "mode": "lines",
         "name": "RDC–RDC",
         "showlegend": false,
         "type": "scattermap"
        },
        {
         "hovertemplate": "Quantity: 20<extra></extra>",
         "lat": [
          38.84227,
          34.28265
         ],
         "legendgroup": "RDC–RDC",
         "line": {
          "color": "purple",
          "width": 0.011242270938729624
         },
         "lon": [
          115.5125,
          109.0334
         ],
         "mode": "lines",
         "name": "RDC–RDC",
         "showlegend": false,
         "type": "scattermap"
        },
        {
         "hovertemplate": "Quantity: 225<extra></extra>",
         "lat": [
          38.84227,
          37.91037
         ],
         "legendgroup": "RDC–RDC",
         "line": {
          "color": "purple",
          "width": 0.12647554806070826
         },
         "lon": [
          115.5125,
          112.5177
         ],
         "mode": "lines",
         "name": "RDC–RDC",
         "showlegend": false,
         "type": "scattermap"
        },
        {
         "hovertemplate": "Quantity: 620<extra></extra>",
         "lat": [
          38.84227,
          37.91037
         ],
         "legendgroup": "RDC–RDC",
         "line": {
          "color": "purple",
          "width": 0.3485103991006183
         },
         "lon": [
          115.5125,
          112.5177
         ],
         "mode": "lines",
         "name": "RDC–RDC",
         "showlegend": false,
         "type": "scattermap"
        },
        {
         "hovertemplate": "Quantity: 1<extra></extra>",
         "lat": [
          39.52418,
          36.17995
         ],
         "legendgroup": "RDC–RDC",
         "line": {
          "color": "purple",
          "width": 5.621135469364812E-4
         },
         "lon": [
          118.0917,
          120.4715
         ],
         "mode": "lines",
         "name": "RDC–RDC",
         "showlegend": false,
         "type": "scattermap"
        },
        {
         "hovertemplate": "Quantity: 180<extra></extra>",
         "lat": [
          39.52418,
          36.64308
         ],
         "legendgroup": "RDC–RDC",
         "line": {
          "color": "purple",
          "width": 0.10118043844856661
         },
         "lon": [
          118.0917,
          116.857
         ],
         "mode": "lines",
         "name": "RDC–RDC",
         "showlegend": false,
         "type": "scattermap"
        },
        {
         "hovertemplate": "Quantity: 1<extra></extra>",
         "lat": [
          39.52418,
          31.6025
         ],
         "legendgroup": "RDC–RDC",
         "line": {
          "color": "purple",
          "width": 5.621135469364812E-4
         },
         "lon": [
          118.0917,
          120.9008
         ],
         "mode": "lines",
         "name": "RDC–RDC",
         "showlegend": false,
         "type": "scattermap"
        },
        {
         "hovertemplate": "Quantity: 2658<extra></extra>",
         "lat": [
          39.52418,
          39.85929
         ],
         "legendgroup": "RDC–RDC",
         "line": {
          "color": "purple",
          "width": 1.494097807757167
         },
         "lon": [
          118.0917,
          116.4707
         ],
         "mode": "lines",
         "name": "RDC–RDC",
         "showlegend": false,
         "type": "scattermap"
        },
        {
         "hovertemplate": "Quantity: 2<extra></extra>",
         "lat": [
          39.52418,
          39.10089
         ],
         "legendgroup": "RDC–RDC",
         "line": {
          "color": "purple",
          "width": 0.0011242270938729624
         },
         "lon": [
          118.0917,
          117.2588
         ],
         "mode": "lines",
         "name": "RDC–RDC",
         "showlegend": false,
         "type": "scattermap"
        },
        {
         "hovertemplate": "Quantity: 5<extra></extra>",
         "lat": [
          39.52418,
          39.10089
         ],
         "legendgroup": "RDC–RDC",
         "line": {
          "color": "purple",
          "width": 0.002810567734682406
         },
         "lon": [
          118.0917,
          117.2588
         ],
         "mode": "lines",
         "name": "RDC–RDC",
         "showlegend": false,
         "type": "scattermap"
        },
        {
         "hovertemplate": "Quantity: 2<extra></extra>",
         "lat": [
          39.52418,
          38.01142
         ],
         "legendgroup": "RDC–RDC",
         "line": {
          "color": "purple",
          "width": 0.0011242270938729624
         },
         "lon": [
          118.0917,
          114.5071
         ],
         "mode": "lines",
         "name": "RDC–RDC",
         "showlegend": false,
         "type": "scattermap"
        },
        {
         "hovertemplate": "Quantity: 1660<extra></extra>",
         "lat": [
          39.52418,
          38.01142
         ],
         "legendgroup": "RDC–RDC",
         "line": {
          "color": "purple",
          "width": 0.9331084879145588
         },
         "lon": [
          118.0917,
          114.5071
         ],
         "mode": "lines",
         "name": "RDC–RDC",
         "showlegend": false,
         "type": "scattermap"
        },
        {
         "hovertemplate": "Quantity: 4<extra></extra>",
         "lat": [
          39.52418,
          34.74348
         ],
         "legendgroup": "RDC–RDC",
         "line": {
          "color": "purple",
          "width": 0.0022484541877459247
         },
         "lon": [
          118.0917,
          113.7171
         ],
         "mode": "lines",
         "name": "RDC–RDC",
         "showlegend": false,
         "type": "scattermap"
        },
        {
         "hovertemplate": "Quantity: 480<extra></extra>",
         "lat": [
          39.52418,
          37.8686
         ],
         "legendgroup": "RDC–RDC",
         "line": {
          "color": "purple",
          "width": 0.26981450252951095
         },
         "lon": [
          118.0917,
          112.6184
         ],
         "mode": "lines",
         "name": "RDC–RDC",
         "showlegend": false,
         "type": "scattermap"
        },
        {
         "hovertemplate": "Quantity: 90<extra></extra>",
         "lat": [
          39.52418,
          37.91037
         ],
         "legendgroup": "RDC–RDC",
         "line": {
          "color": "purple",
          "width": 0.050590219224283306
         },
         "lon": [
          118.0917,
          112.5177
         ],
         "mode": "lines",
         "name": "RDC–RDC",
         "showlegend": false,
         "type": "scattermap"
        },
        {
         "hovertemplate": "Quantity: 370<extra></extra>",
         "lat": [
          39.52418,
          37.91037
         ],
         "legendgroup": "RDC–RDC",
         "line": {
          "color": "purple",
          "width": 0.20798201236649802
         },
         "lon": [
          118.0917,
          112.5177
         ],
         "mode": "lines",
         "name": "RDC–RDC",
         "showlegend": false,
         "type": "scattermap"
        },
        {
         "hovertemplate": "Quantity: 100<extra></extra>",
         "lat": [
          36.62035,
          39.10089
         ],
         "legendgroup": "RDC–RDC",
         "line": {
          "color": "purple",
          "width": 0.056211354693648116
         },
         "lon": [
          114.4945,
          117.2588
         ],
         "mode": "lines",
         "name": "RDC–RDC",
         "showlegend": false,
         "type": "scattermap"
        },
        {
         "hovertemplate": "Quantity: 1<extra></extra>",
         "lat": [
          36.62035,
          38.01142
         ],
         "legendgroup": "RDC–RDC",
         "line": {
          "color": "purple",
          "width": 5.621135469364812E-4
         },
         "lon": [
          114.4945,
          114.5071
         ],
         "mode": "lines",
         "name": "RDC–RDC",
         "showlegend": false,
         "type": "scattermap"
        },
        {
         "hovertemplate": "Quantity: 1<extra></extra>",
         "lat": [
          36.62035,
          38.84227
         ],
         "legendgroup": "RDC–RDC",
         "line": {
          "color": "purple",
          "width": 5.621135469364812E-4
         },
         "lon": [
          114.4945,
          115.5125
         ],
         "mode": "lines",
         "name": "RDC–RDC",
         "showlegend": false,
         "type": "scattermap"
        },
        {
         "hovertemplate": "Quantity: 500<extra></extra>",
         "lat": [
          34.74348,
          34.74358
         ],
         "legendgroup": "RDC–RDC",
         "line": {
          "color": "purple",
          "width": 0.2810567734682406
         },
         "lon": [
          113.7171,
          113.7175
         ],
         "mode": "lines",
         "name": "RDC–RDC",
         "showlegend": false,
         "type": "scattermap"
        },
        {
         "hovertemplate": "Quantity: 150<extra></extra>",
         "lat": [
          34.74348,
          34.74358
         ],
         "legendgroup": "RDC–RDC",
         "line": {
          "color": "purple",
          "width": 0.08431703204047217
         },
         "lon": [
          113.7171,
          113.7175
         ],
         "mode": "lines",
         "name": "RDC–RDC",
         "showlegend": false,
         "type": "scattermap"
        },
        {
         "hovertemplate": "Quantity: 150<extra></extra>",
         "lat": [
          34.74348,
          28.21001
         ],
         "legendgroup": "RDC–RDC",
         "line": {
          "color": "purple",
          "width": 0.08431703204047217
         },
         "lon": [
          113.7171,
          113.0253
         ],
         "mode": "lines",
         "name": "RDC–RDC",
         "showlegend": false,
         "type": "scattermap"
        },
        {
         "hovertemplate": "Quantity: 200<extra></extra>",
         "lat": [
          34.74358,
          36.64308
         ],
         "legendgroup": "RDC–RDC",
         "line": {
          "color": "purple",
          "width": 0.11242270938729623
         },
         "lon": [
          113.7175,
          116.857
         ],
         "mode": "lines",
         "name": "RDC–RDC",
         "showlegend": false,
         "type": "scattermap"
        },
        {
         "hovertemplate": "Quantity: 1000<extra></extra>",
         "lat": [
          34.74358,
          39.10089
         ],
         "legendgroup": "RDC–RDC",
         "line": {
          "color": "purple",
          "width": 0.5621135469364812
         },
         "lon": [
          113.7175,
          117.2588
         ],
         "mode": "lines",
         "name": "RDC–RDC",
         "showlegend": false,
         "type": "scattermap"
        },
        {
         "hovertemplate": "Quantity: 500<extra></extra>",
         "lat": [
          34.74358,
          34.74348
         ],
         "legendgroup": "RDC–RDC",
         "line": {
          "color": "purple",
          "width": 0.2810567734682406
         },
         "lon": [
          113.7175,
          113.7171
         ],
         "mode": "lines",
         "name": "RDC–RDC",
         "showlegend": false,
         "type": "scattermap"
        },
        {
         "hovertemplate": "Quantity: 650<extra></extra>",
         "lat": [
          34.74358,
          34.74348
         ],
         "legendgroup": "RDC–RDC",
         "line": {
          "color": "purple",
          "width": 0.36537380550871273
         },
         "lon": [
          113.7175,
          113.7171
         ],
         "mode": "lines",
         "name": "RDC–RDC",
         "showlegend": false,
         "type": "scattermap"
        },
        {
         "hovertemplate": "Quantity: 500<extra></extra>",
         "lat": [
          34.74358,
          34.74348
         ],
         "legendgroup": "RDC–RDC",
         "line": {
          "color": "purple",
          "width": 0.2810567734682406
         },
         "lon": [
          113.7175,
          113.7171
         ],
         "mode": "lines",
         "name": "RDC–RDC",
         "showlegend": false,
         "type": "scattermap"
        },
        {
         "hovertemplate": "Quantity: 411<extra></extra>",
         "lat": [
          34.74358,
          34.74348
         ],
         "legendgroup": "RDC–RDC",
         "line": {
          "color": "purple",
          "width": 0.23102866779089376
         },
         "lon": [
          113.7175,
          113.7171
         ],
         "mode": "lines",
         "name": "RDC–RDC",
         "showlegend": false,
         "type": "scattermap"
        },
        {
         "hovertemplate": "Quantity: 10<extra></extra>",
         "lat": [
          34.74358,
          32.04472
         ],
         "legendgroup": "RDC–RDC",
         "line": {
          "color": "purple",
          "width": 0.005621135469364812
         },
         "lon": [
          113.7175,
          112.1553
         ],
         "mode": "lines",
         "name": "RDC–RDC",
         "showlegend": false,
         "type": "scattermap"
        },
        {
         "hovertemplate": "Quantity: 1<extra></extra>",
         "lat": [
          34.74358,
          35.74759
         ],
         "legendgroup": "RDC–RDC",
         "line": {
          "color": "purple",
          "width": 5.621135469364812E-4
         },
         "lon": [
          113.7175,
          115.0775
         ],
         "mode": "lines",
         "name": "RDC–RDC",
         "showlegend": false,
         "type": "scattermap"
        },
        {
         "hovertemplate": "Quantity: 760<extra></extra>",
         "lat": [
          28.21001,
          35.74759
         ],
         "legendgroup": "RDC–RDC",
         "line": {
          "color": "purple",
          "width": 0.4272062956717257
         },
         "lon": [
          113.0253,
          115.0775
         ],
         "mode": "lines",
         "name": "RDC–RDC",
         "showlegend": false,
         "type": "scattermap"
        },
        {
         "hovertemplate": "Quantity: 130<extra></extra>",
         "lat": [
          28.21001,
          32.99897
         ],
         "legendgroup": "RDC–RDC",
         "line": {
          "color": "purple",
          "width": 0.07307476110174255
         },
         "lon": [
          113.0253,
          112.5379
         ],
         "mode": "lines",
         "name": "RDC–RDC",
         "showlegend": false,
         "type": "scattermap"
        },
        {
         "hovertemplate": "Quantity: 360<extra></extra>",
         "lat": [
          27.79889,
          34.74348
         ],
         "legendgroup": "RDC–RDC",
         "line": {
          "color": "purple",
          "width": 0.20236087689713322
         },
         "lon": [
          113.1612,
          113.7171
         ],
         "mode": "lines",
         "name": "RDC–RDC",
         "showlegend": false,
         "type": "scattermap"
        },
        {
         "hovertemplate": "Quantity: 1<extra></extra>",
         "lat": [
          27.79889,
          28.58094
         ],
         "legendgroup": "RDC–RDC",
         "line": {
          "color": "purple",
          "width": 5.621135469364812E-4
         },
         "lon": [
          113.1612,
          115.9156
         ],
         "mode": "lines",
         "name": "RDC–RDC",
         "showlegend": false,
         "type": "scattermap"
        },
        {
         "hovertemplate": "Quantity: 1<extra></extra>",
         "lat": [
          27.79889,
          32.45936
         ],
         "legendgroup": "RDC–RDC",
         "line": {
          "color": "purple",
          "width": 5.621135469364812E-4
         },
         "lon": [
          113.1612,
          119.9178
         ],
         "mode": "lines",
         "name": "RDC–RDC",
         "showlegend": false,
         "type": "scattermap"
        },
        {
         "hovertemplate": "Quantity: 277<extra></extra>",
         "lat": [
          30.61364,
          31.50323
         ],
         "legendgroup": "RDC–RDC",
         "line": {
          "color": "purple",
          "width": 0.15570545250140527
         },
         "lon": [
          114.2449,
          120.3923
         ],
         "mode": "lines",
         "name": "RDC–RDC",
         "showlegend": false,
         "type": "scattermap"
        },
        {
         "hovertemplate": "Quantity: 50<extra></extra>",
         "lat": [
          30.61364,
          29.93326
         ],
         "legendgroup": "RDC–RDC",
         "line": {
          "color": "purple",
          "width": 0.028105677346824058
         },
         "lon": [
          114.2449,
          121.6062
         ],
         "mode": "lines",
         "name": "RDC–RDC",
         "showlegend": false,
         "type": "scattermap"
        },
        {
         "hovertemplate": "Quantity: 400<extra></extra>",
         "lat": [
          30.61364,
          29.93326
         ],
         "legendgroup": "RDC–RDC",
         "line": {
          "color": "purple",
          "width": 0.22484541877459246
         },
         "lon": [
          114.2449,
          121.6062
         ],
         "mode": "lines",
         "name": "RDC–RDC",
         "showlegend": false,
         "type": "scattermap"
        },
        {
         "hovertemplate": "Quantity: 50<extra></extra>",
         "lat": [
          30.61364,
          30.37639
         ],
         "legendgroup": "RDC–RDC",
         "line": {
          "color": "purple",
          "width": 0.028105677346824058
         },
         "lon": [
          114.2449,
          120.1698
         ],
         "mode": "lines",
         "name": "RDC–RDC",
         "showlegend": false,
         "type": "scattermap"
        },
        {
         "hovertemplate": "Quantity: 60<extra></extra>",
         "lat": [
          30.61364,
          31.30913
         ],
         "legendgroup": "RDC–RDC",
         "line": {
          "color": "purple",
          "width": 0.03372681281618887
         },
         "lon": [
          114.2449,
          121.3927
         ],
         "mode": "lines",
         "name": "RDC–RDC",
         "showlegend": false,
         "type": "scattermap"
        },
        {
         "hovertemplate": "Quantity: 160<extra></extra>",
         "lat": [
          30.61364,
          34.74358
         ],
         "legendgroup": "RDC–RDC",
         "line": {
          "color": "purple",
          "width": 0.08993816750983699
         },
         "lon": [
          114.2449,
          113.7175
         ],
         "mode": "lines",
         "name": "RDC–RDC",
         "showlegend": false,
         "type": "scattermap"
        },
        {
         "hovertemplate": "Quantity: 40<extra></extra>",
         "lat": [
          30.61364,
          28.21001
         ],
         "legendgroup": "RDC–RDC",
         "line": {
          "color": "purple",
          "width": 0.022484541877459248
         },
         "lon": [
          114.2449,
          113.0253
         ],
         "mode": "lines",
         "name": "RDC–RDC",
         "showlegend": false,
         "type": "scattermap"
        },
        {
         "hovertemplate": "Quantity: 55<extra></extra>",
         "lat": [
          30.61364,
          27.79889
         ],
         "legendgroup": "RDC–RDC",
         "line": {
          "color": "purple",
          "width": 0.030916245081506463
         },
         "lon": [
          114.2449,
          113.1612
         ],
         "mode": "lines",
         "name": "RDC–RDC",
         "showlegend": false,
         "type": "scattermap"
        },
        {
         "hovertemplate": "Quantity: 111<extra></extra>",
         "lat": [
          30.61364,
          27.79889
         ],
         "legendgroup": "RDC–RDC",
         "line": {
          "color": "purple",
          "width": 0.06239460370994941
         },
         "lon": [
          114.2449,
          113.1612
         ],
         "mode": "lines",
         "name": "RDC–RDC",
         "showlegend": false,
         "type": "scattermap"
        },
        {
         "hovertemplate": "Quantity: 20<extra></extra>",
         "lat": [
          30.61364,
          32.04472
         ],
         "legendgroup": "RDC–RDC",
         "line": {
          "color": "purple",
          "width": 0.011242270938729624
         },
         "lon": [
          114.2449,
          112.1553
         ],
         "mode": "lines",
         "name": "RDC–RDC",
         "showlegend": false,
         "type": "scattermap"
        },
        {
         "hovertemplate": "Quantity: 1<extra></extra>",
         "lat": [
          30.61364,
          28.58094
         ],
         "legendgroup": "RDC–RDC",
         "line": {
          "color": "purple",
          "width": 5.621135469364812E-4
         },
         "lon": [
          114.2449,
          115.9156
         ],
         "mode": "lines",
         "name": "RDC–RDC",
         "showlegend": false,
         "type": "scattermap"
        },
        {
         "hovertemplate": "Quantity: 1<extra></extra>",
         "lat": [
          30.61364,
          28.58094
         ],
         "legendgroup": "RDC–RDC",
         "line": {
          "color": "purple",
          "width": 5.621135469364812E-4
         },
         "lon": [
          114.2449,
          115.9156
         ],
         "mode": "lines",
         "name": "RDC–RDC",
         "showlegend": false,
         "type": "scattermap"
        },
        {
         "hovertemplate": "Quantity: 10<extra></extra>",
         "lat": [
          30.61364,
          31.89018
         ],
         "legendgroup": "RDC–RDC",
         "line": {
          "color": "purple",
          "width": 0.005621135469364812
         },
         "lon": [
          114.2449,
          117.3539
         ],
         "mode": "lines",
         "name": "RDC–RDC",
         "showlegend": false,
         "type": "scattermap"
        },
        {
         "hovertemplate": "Quantity: 60<extra></extra>",
         "lat": [
          30.61364,
          43.85704
         ],
         "legendgroup": "RDC–RDC",
         "line": {
          "color": "purple",
          "width": 0.03372681281618887
         },
         "lon": [
          114.2449,
          87.53245
         ],
         "mode": "lines",
         "name": "RDC–RDC",
         "showlegend": false,
         "type": "scattermap"
        },
        {
         "hovertemplate": "Quantity: 200<extra></extra>",
         "lat": [
          30.61364,
          29.67056
         ],
         "legendgroup": "RDC–RDC",
         "line": {
          "color": "purple",
          "width": 0.11242270938729623
         },
         "lon": [
          114.2449,
          106.6263
         ],
         "mode": "lines",
         "name": "RDC–RDC",
         "showlegend": false,
         "type": "scattermap"
        },
        {
         "hovertemplate": "Quantity: 2<extra></extra>",
         "lat": [
          30.61364,
          29.67056
         ],
         "legendgroup": "RDC–RDC",
         "line": {
          "color": "purple",
          "width": 0.0011242270938729624
         },
         "lon": [
          114.2449,
          106.6263
         ],
         "mode": "lines",
         "name": "RDC–RDC",
         "showlegend": false,
         "type": "scattermap"
        },
        {
         "hovertemplate": "Quantity: 220<extra></extra>",
         "lat": [
          30.61364,
          31.07754
         ],
         "legendgroup": "RDC–RDC",
         "line": {
          "color": "purple",
          "width": 0.12366498032602585
         },
         "lon": [
          114.2449,
          112.2224
         ],
         "mode": "lines",
         "name": "RDC–RDC",
         "showlegend": false,
         "type": "scattermap"
        },
        {
         "hovertemplate": "Quantity: 1203<extra></extra>",
         "lat": [
          30.61364,
          31.89946
         ],
         "legendgroup": "RDC–RDC",
         "line": {
          "color": "purple",
          "width": 0.6762225969645869
         },
         "lon": [
          114.2449,
          117.3595
         ],
         "mode": "lines",
         "name": "RDC–RDC",
         "showlegend": false,
         "type": "scattermap"
        },
        {
         "hovertemplate": "Quantity: 200<extra></extra>",
         "lat": [
          30.61364,
          37.91037
         ],
         "legendgroup": "RDC–RDC",
         "line": {
          "color": "purple",
          "width": 0.11242270938729623
         },
         "lon": [
          114.2449,
          112.5177
         ],
         "mode": "lines",
         "name": "RDC–RDC",
         "showlegend": false,
         "type": "scattermap"
        },
        {
         "hovertemplate": "Quantity: 7<extra></extra>",
         "lat": [
          30.61364,
          32.45936
         ],
         "legendgroup": "RDC–RDC",
         "line": {
          "color": "purple",
          "width": 0.0039347948285553686
         },
         "lon": [
          114.2449,
          119.9178
         ],
         "mode": "lines",
         "name": "RDC–RDC",
         "showlegend": false,
         "type": "scattermap"
        },
        {
         "hovertemplate": "Quantity: 4<extra></extra>",
         "lat": [
          32.04472,
          36.64308
         ],
         "legendgroup": "RDC–RDC",
         "line": {
          "color": "purple",
          "width": 0.0022484541877459247
         },
         "lon": [
          112.1553,
          116.857
         ],
         "mode": "lines",
         "name": "RDC–RDC",
         "showlegend": false,
         "type": "scattermap"
        },
        {
         "hovertemplate": "Quantity: 10<extra></extra>",
         "lat": [
          32.04472,
          34.74348
         ],
         "legendgroup": "RDC–RDC",
         "line": {
          "color": "purple",
          "width": 0.005621135469364812
         },
         "lon": [
          112.1553,
          113.7171
         ],
         "mode": "lines",
         "name": "RDC–RDC",
         "showlegend": false,
         "type": "scattermap"
        },
        {
         "hovertemplate": "Quantity: 35<extra></extra>",
         "lat": [
          32.04472,
          34.74358
         ],
         "legendgroup": "RDC–RDC",
         "line": {
          "color": "purple",
          "width": 0.019673974142776843
         },
         "lon": [
          112.1553,
          113.7175
         ],
         "mode": "lines",
         "name": "RDC–RDC",
         "showlegend": false,
         "type": "scattermap"
        },
        {
         "hovertemplate": "Quantity: 30<extra></extra>",
         "lat": [
          32.04472,
          24.32327
         ],
         "legendgroup": "RDC–RDC",
         "line": {
          "color": "purple",
          "width": 0.016863406408094434
         },
         "lon": [
          112.1553,
          109.4133
         ],
         "mode": "lines",
         "name": "RDC–RDC",
         "showlegend": false,
         "type": "scattermap"
        },
        {
         "hovertemplate": "Quantity: 40<extra></extra>",
         "lat": [
          32.04472,
          30.68944
         ],
         "legendgroup": "RDC–RDC",
         "line": {
          "color": "purple",
          "width": 0.022484541877459248
         },
         "lon": [
          112.1553,
          104.1816
         ],
         "mode": "lines",
         "name": "RDC–RDC",
         "showlegend": false,
         "type": "scattermap"
        },
        {
         "hovertemplate": "Quantity: 50<extra></extra>",
         "lat": [
          32.04472,
          29.61051
         ],
         "legendgroup": "RDC–RDC",
         "line": {
          "color": "purple",
          "width": 0.028105677346824058
         },
         "lon": [
          112.1553,
          105.081
         ],
         "mode": "lines",
         "name": "RDC–RDC",
         "showlegend": false,
         "type": "scattermap"
        },
        {
         "hovertemplate": "Quantity: 2<extra></extra>",
         "lat": [
          32.04472,
          24.90263
         ],
         "legendgroup": "RDC–RDC",
         "line": {
          "color": "purple",
          "width": 0.0011242270938729624
         },
         "lon": [
          112.1553,
          102.9867
         ],
         "mode": "lines",
         "name": "RDC–RDC",
         "showlegend": false,
         "type": "scattermap"
        },
        {
         "hovertemplate": "Quantity: 3350<extra></extra>",
         "lat": [
          32.04472,
          31.89946
         ],
         "legendgroup": "RDC–RDC",
         "line": {
          "color": "purple",
          "width": 1.883080382237212
         },
         "lon": [
          112.1553,
          117.3595
         ],
         "mode": "lines",
         "name": "RDC–RDC",
         "showlegend": false,
         "type": "scattermap"
        },
        {
         "hovertemplate": "Quantity: 40<extra></extra>",
         "lat": [
          32.04472,
          34.32337
         ],
         "legendgroup": "RDC–RDC",
         "line": {
          "color": "purple",
          "width": 0.022484541877459248
         },
         "lon": [
          112.1553,
          109.0284
         ],
         "mode": "lines",
         "name": "RDC–RDC",
         "showlegend": false,
         "type": "scattermap"
        },
        {
         "hovertemplate": "Quantity: 99<extra></extra>",
         "lat": [
          28.58094,
          36.73794
         ],
         "legendgroup": "RDC–RDC",
         "line": {
          "color": "purple",
          "width": 0.05564924114671164
         },
         "lon": [
          115.9156,
          119.0358
         ],
         "mode": "lines",
         "name": "RDC–RDC",
         "showlegend": false,
         "type": "scattermap"
        },
        {
         "hovertemplate": "Quantity: 1037<extra></extra>",
         "lat": [
          28.58094,
          36.73794
         ],
         "legendgroup": "RDC–RDC",
         "line": {
          "color": "purple",
          "width": 0.582911748173131
         },
         "lon": [
          115.9156,
          119.0358
         ],
         "mode": "lines",
         "name": "RDC–RDC",
         "showlegend": false,
         "type": "scattermap"
        },
        {
         "hovertemplate": "Quantity: 2<extra></extra>",
         "lat": [
          28.58094,
          31.50323
         ],
         "legendgroup": "RDC–RDC",
         "line": {
          "color": "purple",
          "width": 0.0011242270938729624
         },
         "lon": [
          115.9156,
          120.3923
         ],
         "mode": "lines",
         "name": "RDC–RDC",
         "showlegend": false,
         "type": "scattermap"
        },
        {
         "hovertemplate": "Quantity: 75<extra></extra>",
         "lat": [
          28.58094,
          34.74348
         ],
         "legendgroup": "RDC–RDC",
         "line": {
          "color": "purple",
          "width": 0.042158516020236084
         },
         "lon": [
          115.9156,
          113.7171
         ],
         "mode": "lines",
         "name": "RDC–RDC",
         "showlegend": false,
         "type": "scattermap"
        },
        {
         "hovertemplate": "Quantity: 100<extra></extra>",
         "lat": [
          28.58094,
          32.99897
         ],
         "legendgroup": "RDC–RDC",
         "line": {
          "color": "purple",
          "width": 0.056211354693648116
         },
         "lon": [
          115.9156,
          112.5379
         ],
         "mode": "lines",
         "name": "RDC–RDC",
         "showlegend": false,
         "type": "scattermap"
        },
        {
         "hovertemplate": "Quantity: 30<extra></extra>",
         "lat": [
          28.58094,
          32.99897
         ],
         "legendgroup": "RDC–RDC",
         "line": {
          "color": "purple",
          "width": 0.016863406408094434
         },
         "lon": [
          115.9156,
          112.5379
         ],
         "mode": "lines",
         "name": "RDC–RDC",
         "showlegend": false,
         "type": "scattermap"
        },
        {
         "hovertemplate": "Quantity: 4464<extra></extra>",
         "lat": [
          28.58094,
          37.91037
         ],
         "legendgroup": "RDC–RDC",
         "line": {
          "color": "purple",
          "width": 2.509274873524452
         },
         "lon": [
          115.9156,
          112.5177
         ],
         "mode": "lines",
         "name": "RDC–RDC",
         "showlegend": false,
         "type": "scattermap"
        },
        {
         "hovertemplate": "Quantity: 614<extra></extra>",
         "lat": [
          28.58094,
          37.91037
         ],
         "legendgroup": "RDC–RDC",
         "line": {
          "color": "purple",
          "width": 0.3451377178189995
         },
         "lon": [
          115.9156,
          112.5177
         ],
         "mode": "lines",
         "name": "RDC–RDC",
         "showlegend": false,
         "type": "scattermap"
        },
        {
         "hovertemplate": "Quantity: 20<extra></extra>",
         "lat": [
          24.32327,
          30.68944
         ],
         "legendgroup": "RDC–RDC",
         "line": {
          "color": "purple",
          "width": 0.011242270938729624
         },
         "lon": [
          109.4133,
          104.1816
         ],
         "mode": "lines",
         "name": "RDC–RDC",
         "showlegend": false,
         "type": "scattermap"
        },
        {
         "hovertemplate": "Quantity: 1<extra></extra>",
         "lat": [
          31.66238,
          36.17995
         ],
         "legendgroup": "RDC–RDC",
         "line": {
          "color": "purple",
          "width": 5.621135469364812E-4
         },
         "lon": [
          118.4845,
          120.4715
         ],
         "mode": "lines",
         "name": "RDC–RDC",
         "showlegend": false,
         "type": "scattermap"
        },
        {
         "hovertemplate": "Quantity: 1<extra></extra>",
         "lat": [
          31.66238,
          36.17995
         ],
         "legendgroup": "RDC–RDC",
         "line": {
          "color": "purple",
          "width": 5.621135469364812E-4
         },
         "lon": [
          118.4845,
          120.4715
         ],
         "mode": "lines",
         "name": "RDC–RDC",
         "showlegend": false,
         "type": "scattermap"
        },
        {
         "hovertemplate": "Quantity: 64<extra></extra>",
         "lat": [
          31.66238,
          36.73794
         ],
         "legendgroup": "RDC–RDC",
         "line": {
          "color": "purple",
          "width": 0.035975267003934795
         },
         "lon": [
          118.4845,
          119.0358
         ],
         "mode": "lines",
         "name": "RDC–RDC",
         "showlegend": false,
         "type": "scattermap"
        },
        {
         "hovertemplate": "Quantity: 1<extra></extra>",
         "lat": [
          31.66238,
          36.64308
         ],
         "legendgroup": "RDC–RDC",
         "line": {
          "color": "purple",
          "width": 5.621135469364812E-4
         },
         "lon": [
          118.4845,
          116.857
         ],
         "mode": "lines",
         "name": "RDC–RDC",
         "showlegend": false,
         "type": "scattermap"
        },
        {
         "hovertemplate": "Quantity: 132<extra></extra>",
         "lat": [
          31.66238,
          31.6025
         ],
         "legendgroup": "RDC–RDC",
         "line": {
          "color": "purple",
          "width": 0.07419898819561552
         },
         "lon": [
          118.4845,
          120.9008
         ],
         "mode": "lines",
         "name": "RDC–RDC",
         "showlegend": false,
         "type": "scattermap"
        },
        {
         "hovertemplate": "Quantity: 1<extra></extra>",
         "lat": [
          31.66238,
          31.50323
         ],
         "legendgroup": "RDC–RDC",
         "line": {
          "color": "purple",
          "width": 5.621135469364812E-4
         },
         "lon": [
          118.4845,
          120.3923
         ],
         "mode": "lines",
         "name": "RDC–RDC",
         "showlegend": false,
         "type": "scattermap"
        },
        {
         "hovertemplate": "Quantity: 41<extra></extra>",
         "lat": [
          31.66238,
          31.50323
         ],
         "legendgroup": "RDC–RDC",
         "line": {
          "color": "purple",
          "width": 0.02304665542439573
         },
         "lon": [
          118.4845,
          120.3923
         ],
         "mode": "lines",
         "name": "RDC–RDC",
         "showlegend": false,
         "type": "scattermap"
        },
        {
         "hovertemplate": "Quantity: 1<extra></extra>",
         "lat": [
          31.66238,
          32.00261
         ],
         "legendgroup": "RDC–RDC",
         "line": {
          "color": "purple",
          "width": 5.621135469364812E-4
         },
         "lon": [
          118.4845,
          118.8661
         ],
         "mode": "lines",
         "name": "RDC–RDC",
         "showlegend": false,
         "type": "scattermap"
        },
        {
         "hovertemplate": "Quantity: 1<extra></extra>",
         "lat": [
          31.66238,
          32.08158
         ],
         "legendgroup": "RDC–RDC",
         "line": {
          "color": "purple",
          "width": 5.621135469364812E-4
         },
         "lon": [
          118.4845,
          120.912
         ],
         "mode": "lines",
         "name": "RDC–RDC",
         "showlegend": false,
         "type": "scattermap"
        },
        {
         "hovertemplate": "Quantity: 2<extra></extra>",
         "lat": [
          31.66238,
          34.57746
         ],
         "legendgroup": "RDC–RDC",
         "line": {
          "color": "purple",
          "width": 0.0011242270938729624
         },
         "lon": [
          118.4845,
          119.1694
         ],
         "mode": "lines",
         "name": "RDC–RDC",
         "showlegend": false,
         "type": "scattermap"
        },
        {
         "hovertemplate": "Quantity: 1<extra></extra>",
         "lat": [
          31.66238,
          31.00253
         ],
         "legendgroup": "RDC–RDC",
         "line": {
          "color": "purple",
          "width": 5.621135469364812E-4
         },
         "lon": [
          118.4845,
          121.5149
         ],
         "mode": "lines",
         "name": "RDC–RDC",
         "showlegend": false,
         "type": "scattermap"
        },
        {
         "hovertemplate": "Quantity: 1<extra></extra>",
         "lat": [
          31.66238,
          39.85929
         ],
         "legendgroup": "RDC–RDC",
         "line": {
          "color": "purple",
          "width": 5.621135469364812E-4
         },
         "lon": [
          118.4845,
          116.4707
         ],
         "mode": "lines",
         "name": "RDC–RDC",
         "showlegend": false,
         "type": "scattermap"
        },
        {
         "hovertemplate": "Quantity: 1<extra></extra>",
         "lat": [
          31.66238,
          31.89018
         ],
         "legendgroup": "RDC–RDC",
         "line": {
          "color": "purple",
          "width": 5.621135469364812E-4
         },
         "lon": [
          118.4845,
          117.3539
         ],
         "mode": "lines",
         "name": "RDC–RDC",
         "showlegend": false,
         "type": "scattermap"
        },
        {
         "hovertemplate": "Quantity: 1<extra></extra>",
         "lat": [
          31.66238,
          31.89946
         ],
         "legendgroup": "RDC–RDC",
         "line": {
          "color": "purple",
          "width": 5.621135469364812E-4
         },
         "lon": [
          118.4845,
          117.3595
         ],
         "mode": "lines",
         "name": "RDC–RDC",
         "showlegend": false,
         "type": "scattermap"
        },
        {
         "hovertemplate": "Quantity: 6<extra></extra>",
         "lat": [
          31.66238,
          31.89946
         ],
         "legendgroup": "RDC–RDC",
         "line": {
          "color": "purple",
          "width": 0.003372681281618887
         },
         "lon": [
          118.4845,
          117.3595
         ],
         "mode": "lines",
         "name": "RDC–RDC",
         "showlegend": false,
         "type": "scattermap"
        },
        {
         "hovertemplate": "Quantity: 3<extra></extra>",
         "lat": [
          31.89018,
          36.73794
         ],
         "legendgroup": "RDC–RDC",
         "line": {
          "color": "purple",
          "width": 0.0016863406408094434
         },
         "lon": [
          117.3539,
          119.0358
         ],
         "mode": "lines",
         "name": "RDC–RDC",
         "showlegend": false,
         "type": "scattermap"
        },
        {
         "hovertemplate": "Quantity: 2<extra></extra>",
         "lat": [
          31.89018,
          34.57746
         ],
         "legendgroup": "RDC–RDC",
         "line": {
          "color": "purple",
          "width": 0.0011242270938729624
         },
         "lon": [
          117.3539,
          119.1694
         ],
         "mode": "lines",
         "name": "RDC–RDC",
         "showlegend": false,
         "type": "scattermap"
        },
        {
         "hovertemplate": "Quantity: 4<extra></extra>",
         "lat": [
          31.89018,
          30.37639
         ],
         "legendgroup": "RDC–RDC",
         "line": {
          "color": "purple",
          "width": 0.0022484541877459247
         },
         "lon": [
          117.3539,
          120.1698
         ],
         "mode": "lines",
         "name": "RDC–RDC",
         "showlegend": false,
         "type": "scattermap"
        },
        {
         "hovertemplate": "Quantity: 9<extra></extra>",
         "lat": [
          31.89018,
          30.37639
         ],
         "legendgroup": "RDC–RDC",
         "line": {
          "color": "purple",
          "width": 0.00505902192242833
         },
         "lon": [
          117.3539,
          120.1698
         ],
         "mode": "lines",
         "name": "RDC–RDC",
         "showlegend": false,
         "type": "scattermap"
        },
        {
         "hovertemplate": "Quantity: 2<extra></extra>",
         "lat": [
          31.89018,
          34.74348
         ],
         "legendgroup": "RDC–RDC",
         "line": {
          "color": "purple",
          "width": 0.0011242270938729624
         },
         "lon": [
          117.3539,
          113.7171
         ],
         "mode": "lines",
         "name": "RDC–RDC",
         "showlegend": false,
         "type": "scattermap"
        },
        {
         "hovertemplate": "Quantity: 2<extra></extra>",
         "lat": [
          31.89018,
          31.89946
         ],
         "legendgroup": "RDC–RDC",
         "line": {
          "color": "purple",
          "width": 0.0011242270938729624
         },
         "lon": [
          117.3539,
          117.3595
         ],
         "mode": "lines",
         "name": "RDC–RDC",
         "showlegend": false,
         "type": "scattermap"
        },
        {
         "hovertemplate": "Quantity: 3<extra></extra>",
         "lat": [
          37.8686,
          36.17995
         ],
         "legendgroup": "RDC–RDC",
         "line": {
          "color": "purple",
          "width": 0.0016863406408094434
         },
         "lon": [
          112.6184,
          120.4715
         ],
         "mode": "lines",
         "name": "RDC–RDC",
         "showlegend": false,
         "type": "scattermap"
        },
        {
         "hovertemplate": "Quantity: 3<extra></extra>",
         "lat": [
          37.8686,
          36.17995
         ],
         "legendgroup": "RDC–RDC",
         "line": {
          "color": "purple",
          "width": 0.0016863406408094434
         },
         "lon": [
          112.6184,
          120.4715
         ],
         "mode": "lines",
         "name": "RDC–RDC",
         "showlegend": false,
         "type": "scattermap"
        },
        {
         "hovertemplate": "Quantity: 19<extra></extra>",
         "lat": [
          37.8686,
          36.17995
         ],
         "legendgroup": "RDC–RDC",
         "line": {
          "color": "purple",
          "width": 0.010680157391793142
         },
         "lon": [
          112.6184,
          120.4715
         ],
         "mode": "lines",
         "name": "RDC–RDC",
         "showlegend": false,
         "type": "scattermap"
        },
        {
         "hovertemplate": "Quantity: 1<extra></extra>",
         "lat": [
          37.8686,
          30.37639
         ],
         "legendgroup": "RDC–RDC",
         "line": {
          "color": "purple",
          "width": 5.621135469364812E-4
         },
         "lon": [
          112.6184,
          120.1698
         ],
         "mode": "lines",
         "name": "RDC–RDC",
         "showlegend": false,
         "type": "scattermap"
        },
        {
         "hovertemplate": "Quantity: 5<extra></extra>",
         "lat": [
          37.8686,
          45.74223
         ],
         "legendgroup": "RDC–RDC",
         "line": {
          "color": "purple",
          "width": 0.002810567734682406
         },
         "lon": [
          112.6184,
          126.6237
         ],
         "mode": "lines",
         "name": "RDC–RDC",
         "showlegend": false,
         "type": "scattermap"
        },
        {
         "hovertemplate": "Quantity: 45<extra></extra>",
         "lat": [
          37.8686,
          39.10089
         ],
         "legendgroup": "RDC–RDC",
         "line": {
          "color": "purple",
          "width": 0.025295109612141653
         },
         "lon": [
          112.6184,
          117.2588
         ],
         "mode": "lines",
         "name": "RDC–RDC",
         "showlegend": false,
         "type": "scattermap"
        },
        {
         "hovertemplate": "Quantity: 500<extra></extra>",
         "lat": [
          37.8686,
          38.01142
         ],
         "legendgroup": "RDC–RDC",
         "line": {
          "color": "purple",
          "width": 0.2810567734682406
         },
         "lon": [
          112.6184,
          114.5071
         ],
         "mode": "lines",
         "name": "RDC–RDC",
         "showlegend": false,
         "type": "scattermap"
        },
        {
         "hovertemplate": "Quantity: 54<extra></extra>",
         "lat": [
          37.8686,
          39.52418
         ],
         "legendgroup": "RDC–RDC",
         "line": {
          "color": "purple",
          "width": 0.03035413153456998
         },
         "lon": [
          112.6184,
          118.0917
         ],
         "mode": "lines",
         "name": "RDC–RDC",
         "showlegend": false,
         "type": "scattermap"
        },
        {
         "hovertemplate": "Quantity: 490<extra></extra>",
         "lat": [
          37.8686,
          37.91037
         ],
         "legendgroup": "RDC–RDC",
         "line": {
          "color": "purple",
          "width": 0.27543563799887577
         },
         "lon": [
          112.6184,
          112.5177
         ],
         "mode": "lines",
         "name": "RDC–RDC",
         "showlegend": false,
         "type": "scattermap"
        },
        {
         "hovertemplate": "Quantity: 3797<extra></extra>",
         "lat": [
          34.28265,
          35.10285
         ],
         "legendgroup": "RDC–RDC",
         "line": {
          "color": "purple",
          "width": 2.134345137717819
         },
         "lon": [
          109.0334,
          118.2891
         ],
         "mode": "lines",
         "name": "RDC–RDC",
         "showlegend": false,
         "type": "scattermap"
        },
        {
         "hovertemplate": "Quantity: 20<extra></extra>",
         "lat": [
          34.28265,
          32.00261
         ],
         "legendgroup": "RDC–RDC",
         "line": {
          "color": "purple",
          "width": 0.011242270938729624
         },
         "lon": [
          109.0334,
          118.8661
         ],
         "mode": "lines",
         "name": "RDC–RDC",
         "showlegend": false,
         "type": "scattermap"
        },
        {
         "hovertemplate": "Quantity: 600<extra></extra>",
         "lat": [
          34.28265,
          34.57746
         ],
         "legendgroup": "RDC–RDC",
         "line": {
          "color": "purple",
          "width": 0.33726812816188867
         },
         "lon": [
          109.0334,
          119.1694
         ],
         "mode": "lines",
         "name": "RDC–RDC",
         "showlegend": false,
         "type": "scattermap"
        },
        {
         "hovertemplate": "Quantity: 1500<extra></extra>",
         "lat": [
          34.28265,
          43.93276
         ],
         "legendgroup": "RDC–RDC",
         "line": {
          "color": "purple",
          "width": 0.8431703204047218
         },
         "lon": [
          109.0334,
          125.299
         ],
         "mode": "lines",
         "name": "RDC–RDC",
         "showlegend": false,
         "type": "scattermap"
        },
        {
         "hovertemplate": "Quantity: 8<extra></extra>",
         "lat": [
          34.28265,
          41.82855
         ],
         "legendgroup": "RDC–RDC",
         "line": {
          "color": "purple",
          "width": 0.004496908375491849
         },
         "lon": [
          109.0334,
          123.5238
         ],
         "mode": "lines",
         "name": "RDC–RDC",
         "showlegend": false,
         "type": "scattermap"
        },
        {
         "hovertemplate": "Quantity: 28<extra></extra>",
         "lat": [
          34.28265,
          39.85929
         ],
         "legendgroup": "RDC–RDC",
         "line": {
          "color": "purple",
          "width": 0.015739179314221474
         },
         "lon": [
          109.0334,
          116.4707
         ],
         "mode": "lines",
         "name": "RDC–RDC",
         "showlegend": false,
         "type": "scattermap"
        },
        {
         "hovertemplate": "Quantity: 57<extra></extra>",
         "lat": [
          34.28265,
          38.01142
         ],
         "legendgroup": "RDC–RDC",
         "line": {
          "color": "purple",
          "width": 0.03204047217537943
         },
         "lon": [
          109.0334,
          114.5071
         ],
         "mode": "lines",
         "name": "RDC–RDC",
         "showlegend": false,
         "type": "scattermap"
        },
        {
         "hovertemplate": "Quantity: 122<extra></extra>",
         "lat": [
          34.28265,
          34.74358
         ],
         "legendgroup": "RDC–RDC",
         "line": {
          "color": "purple",
          "width": 0.0685778527262507
         },
         "lon": [
          109.0334,
          113.7175
         ],
         "mode": "lines",
         "name": "RDC–RDC",
         "showlegend": false,
         "type": "scattermap"
        },
        {
         "hovertemplate": "Quantity: 600<extra></extra>",
         "lat": [
          34.28265,
          34.74358
         ],
         "legendgroup": "RDC–RDC",
         "line": {
          "color": "purple",
          "width": 0.33726812816188867
         },
         "lon": [
          109.0334,
          113.7175
         ],
         "mode": "lines",
         "name": "RDC–RDC",
         "showlegend": false,
         "type": "scattermap"
        },
        {
         "hovertemplate": "Quantity: 2<extra></extra>",
         "lat": [
          34.28265,
          28.58094
         ],
         "legendgroup": "RDC–RDC",
         "line": {
          "color": "purple",
          "width": 0.0011242270938729624
         },
         "lon": [
          109.0334,
          115.9156
         ],
         "mode": "lines",
         "name": "RDC–RDC",
         "showlegend": false,
         "type": "scattermap"
        },
        {
         "hovertemplate": "Quantity: 280<extra></extra>",
         "lat": [
          34.28265,
          28.58094
         ],
         "legendgroup": "RDC–RDC",
         "line": {
          "color": "purple",
          "width": 0.15739179314221474
         },
         "lon": [
          109.0334,
          115.9156
         ],
         "mode": "lines",
         "name": "RDC–RDC",
         "showlegend": false,
         "type": "scattermap"
        },
        {
         "hovertemplate": "Quantity: 27<extra></extra>",
         "lat": [
          34.28265,
          36.04397
         ],
         "legendgroup": "RDC–RDC",
         "line": {
          "color": "purple",
          "width": 0.01517706576728499
         },
         "lon": [
          109.0334,
          103.91
         ],
         "mode": "lines",
         "name": "RDC–RDC",
         "showlegend": false,
         "type": "scattermap"
        },
        {
         "hovertemplate": "Quantity: 40<extra></extra>",
         "lat": [
          34.28265,
          35.74759
         ],
         "legendgroup": "RDC–RDC",
         "line": {
          "color": "purple",
          "width": 0.022484541877459248
         },
         "lon": [
          109.0334,
          115.0775
         ],
         "mode": "lines",
         "name": "RDC–RDC",
         "showlegend": false,
         "type": "scattermap"
        },
        {
         "hovertemplate": "Quantity: 40<extra></extra>",
         "lat": [
          34.28265,
          40.88605
         ],
         "legendgroup": "RDC–RDC",
         "line": {
          "color": "purple",
          "width": 0.022484541877459248
         },
         "lon": [
          109.0334,
          111.8036
         ],
         "mode": "lines",
         "name": "RDC–RDC",
         "showlegend": false,
         "type": "scattermap"
        },
        {
         "hovertemplate": "Quantity: 170<extra></extra>",
         "lat": [
          34.28265,
          37.91037
         ],
         "legendgroup": "RDC–RDC",
         "line": {
          "color": "purple",
          "width": 0.0955593029792018
         },
         "lon": [
          109.0334,
          112.5177
         ],
         "mode": "lines",
         "name": "RDC–RDC",
         "showlegend": false,
         "type": "scattermap"
        },
        {
         "hovertemplate": "Quantity: 10<extra></extra>",
         "lat": [
          34.28265,
          34.32337
         ],
         "legendgroup": "RDC–RDC",
         "line": {
          "color": "purple",
          "width": 0.005621135469364812
         },
         "lon": [
          109.0334,
          109.0284
         ],
         "mode": "lines",
         "name": "RDC–RDC",
         "showlegend": false,
         "type": "scattermap"
        },
        {
         "hovertemplate": "Quantity: 3778<extra></extra>",
         "lat": [
          43.85704,
          35.10285
         ],
         "legendgroup": "RDC–RDC",
         "line": {
          "color": "purple",
          "width": 2.123664980326026
         },
         "lon": [
          87.53245,
          118.2891
         ],
         "mode": "lines",
         "name": "RDC–RDC",
         "showlegend": false,
         "type": "scattermap"
        },
        {
         "hovertemplate": "Quantity: 11538<extra></extra>",
         "lat": [
          43.85704,
          31.6025
         ],
         "legendgroup": "RDC–RDC",
         "line": {
          "color": "purple",
          "width": 6.485666104553119
         },
         "lon": [
          87.53245,
          120.9008
         ],
         "mode": "lines",
         "name": "RDC–RDC",
         "showlegend": false,
         "type": "scattermap"
        },
        {
         "hovertemplate": "Quantity: 160<extra></extra>",
         "lat": [
          43.85704,
          36.04397
         ],
         "legendgroup": "RDC–RDC",
         "line": {
          "color": "purple",
          "width": 0.08993816750983699
         },
         "lon": [
          87.53245,
          103.91
         ],
         "mode": "lines",
         "name": "RDC–RDC",
         "showlegend": false,
         "type": "scattermap"
        },
        {
         "hovertemplate": "Quantity: 3100<extra></extra>",
         "lat": [
          43.85704,
          36.04397
         ],
         "legendgroup": "RDC–RDC",
         "line": {
          "color": "purple",
          "width": 1.7425519955030917
         },
         "lon": [
          87.53245,
          103.91
         ],
         "mode": "lines",
         "name": "RDC–RDC",
         "showlegend": false,
         "type": "scattermap"
        },
        {
         "hovertemplate": "Quantity: 2200<extra></extra>",
         "lat": [
          43.85704,
          36.04397
         ],
         "legendgroup": "RDC–RDC",
         "line": {
          "color": "purple",
          "width": 1.2366498032602586
         },
         "lon": [
          87.53245,
          103.91
         ],
         "mode": "lines",
         "name": "RDC–RDC",
         "showlegend": false,
         "type": "scattermap"
        },
        {
         "hovertemplate": "Quantity: 72<extra></extra>",
         "lat": [
          43.85704,
          36.04397
         ],
         "legendgroup": "RDC–RDC",
         "line": {
          "color": "purple",
          "width": 0.04047217537942664
         },
         "lon": [
          87.53245,
          103.91
         ],
         "mode": "lines",
         "name": "RDC–RDC",
         "showlegend": false,
         "type": "scattermap"
        },
        {
         "hovertemplate": "Quantity: 3230<extra></extra>",
         "lat": [
          43.85704,
          36.04397
         ],
         "legendgroup": "RDC–RDC",
         "line": {
          "color": "purple",
          "width": 1.8156267566048343
         },
         "lon": [
          87.53245,
          103.91
         ],
         "mode": "lines",
         "name": "RDC–RDC",
         "showlegend": false,
         "type": "scattermap"
        },
        {
         "hovertemplate": "Quantity: 70<extra></extra>",
         "lat": [
          43.85704,
          37.91037
         ],
         "legendgroup": "RDC–RDC",
         "line": {
          "color": "purple",
          "width": 0.039347948285553686
         },
         "lon": [
          87.53245,
          112.5177
         ],
         "mode": "lines",
         "name": "RDC–RDC",
         "showlegend": false,
         "type": "scattermap"
        },
        {
         "hovertemplate": "Quantity: 1334<extra></extra>",
         "lat": [
          43.85704,
          37.91037
         ],
         "legendgroup": "RDC–RDC",
         "line": {
          "color": "purple",
          "width": 0.7498594716132658
         },
         "lon": [
          87.53245,
          112.5177
         ],
         "mode": "lines",
         "name": "RDC–RDC",
         "showlegend": false,
         "type": "scattermap"
        },
        {
         "hovertemplate": "Quantity: 120<extra></extra>",
         "lat": [
          36.04397,
          36.73794
         ],
         "legendgroup": "RDC–RDC",
         "line": {
          "color": "purple",
          "width": 0.06745362563237774
         },
         "lon": [
          103.91,
          119.0358
         ],
         "mode": "lines",
         "name": "RDC–RDC",
         "showlegend": false,
         "type": "scattermap"
        },
        {
         "hovertemplate": "Quantity: 3790<extra></extra>",
         "lat": [
          36.04397,
          43.85704
         ],
         "legendgroup": "RDC–RDC",
         "line": {
          "color": "purple",
          "width": 2.1304103428892636
         },
         "lon": [
          103.91,
          87.53245
         ],
         "mode": "lines",
         "name": "RDC–RDC",
         "showlegend": false,
         "type": "scattermap"
        },
        {
         "hovertemplate": "Quantity: 4470<extra></extra>",
         "lat": [
          36.04397,
          43.85704
         ],
         "legendgroup": "RDC–RDC",
         "line": {
          "color": "purple",
          "width": 2.5126475548060707
         },
         "lon": [
          103.91,
          87.53245
         ],
         "mode": "lines",
         "name": "RDC–RDC",
         "showlegend": false,
         "type": "scattermap"
        },
        {
         "hovertemplate": "Quantity: 5725<extra></extra>",
         "lat": [
          36.04397,
          43.85704
         ],
         "legendgroup": "RDC–RDC",
         "line": {
          "color": "purple",
          "width": 3.218100056211355
         },
         "lon": [
          103.91,
          87.53245
         ],
         "mode": "lines",
         "name": "RDC–RDC",
         "showlegend": false,
         "type": "scattermap"
        },
        {
         "hovertemplate": "Quantity: 199<extra></extra>",
         "lat": [
          36.04397,
          43.85704
         ],
         "legendgroup": "RDC–RDC",
         "line": {
          "color": "purple",
          "width": 0.11186059584035976
         },
         "lon": [
          103.91,
          87.53245
         ],
         "mode": "lines",
         "name": "RDC–RDC",
         "showlegend": false,
         "type": "scattermap"
        },
        {
         "hovertemplate": "Quantity: 1856<extra></extra>",
         "lat": [
          36.04397,
          43.85704
         ],
         "legendgroup": "RDC–RDC",
         "line": {
          "color": "purple",
          "width": 1.0432827431141092
         },
         "lon": [
          103.91,
          87.53245
         ],
         "mode": "lines",
         "name": "RDC–RDC",
         "showlegend": false,
         "type": "scattermap"
        },
        {
         "hovertemplate": "Quantity: 60<extra></extra>",
         "lat": [
          36.04397,
          31.50323
         ],
         "legendgroup": "RDC–RDC",
         "line": {
          "color": "purple",
          "width": 0.03372681281618887
         },
         "lon": [
          103.91,
          120.3923
         ],
         "mode": "lines",
         "name": "RDC–RDC",
         "showlegend": false,
         "type": "scattermap"
        },
        {
         "hovertemplate": "Quantity: 200<extra></extra>",
         "lat": [
          36.04397,
          38.01142
         ],
         "legendgroup": "RDC–RDC",
         "line": {
          "color": "purple",
          "width": 0.11242270938729623
         },
         "lon": [
          103.91,
          114.5071
         ],
         "mode": "lines",
         "name": "RDC–RDC",
         "showlegend": false,
         "type": "scattermap"
        },
        {
         "hovertemplate": "Quantity: 240<extra></extra>",
         "lat": [
          36.04397,
          36.62035
         ],
         "legendgroup": "RDC–RDC",
         "line": {
          "color": "purple",
          "width": 0.13490725126475547
         },
         "lon": [
          103.91,
          114.4945
         ],
         "mode": "lines",
         "name": "RDC–RDC",
         "showlegend": false,
         "type": "scattermap"
        },
        {
         "hovertemplate": "Quantity: 80<extra></extra>",
         "lat": [
          36.04397,
          34.28265
         ],
         "legendgroup": "RDC–RDC",
         "line": {
          "color": "purple",
          "width": 0.044969083754918496
         },
         "lon": [
          103.91,
          109.0334
         ],
         "mode": "lines",
         "name": "RDC–RDC",
         "showlegend": false,
         "type": "scattermap"
        },
        {
         "hovertemplate": "Quantity: 260<extra></extra>",
         "lat": [
          36.04397,
          37.91037
         ],
         "legendgroup": "RDC–RDC",
         "line": {
          "color": "purple",
          "width": 0.1461495222034851
         },
         "lon": [
          103.91,
          112.5177
         ],
         "mode": "lines",
         "name": "RDC–RDC",
         "showlegend": false,
         "type": "scattermap"
        },
        {
         "hovertemplate": "Quantity: 3781<extra></extra>",
         "lat": [
          30.68944,
          35.10285
         ],
         "legendgroup": "RDC–RDC",
         "line": {
          "color": "purple",
          "width": 2.1253513209668355
         },
         "lon": [
          104.1816,
          118.2891
         ],
         "mode": "lines",
         "name": "RDC–RDC",
         "showlegend": false,
         "type": "scattermap"
        },
        {
         "hovertemplate": "Quantity: 1<extra></extra>",
         "lat": [
          30.68944,
          34.57746
         ],
         "legendgroup": "RDC–RDC",
         "line": {
          "color": "purple",
          "width": 5.621135469364812E-4
         },
         "lon": [
          104.1816,
          119.1694
         ],
         "mode": "lines",
         "name": "RDC–RDC",
         "showlegend": false,
         "type": "scattermap"
        },
        {
         "hovertemplate": "Quantity: 33<extra></extra>",
         "lat": [
          30.68944,
          30.37639
         ],
         "legendgroup": "RDC–RDC",
         "line": {
          "color": "purple",
          "width": 0.01854974704890388
         },
         "lon": [
          104.1816,
          120.1698
         ],
         "mode": "lines",
         "name": "RDC–RDC",
         "showlegend": false,
         "type": "scattermap"
        },
        {
         "hovertemplate": "Quantity: 430<extra></extra>",
         "lat": [
          30.68944,
          39.85929
         ],
         "legendgroup": "RDC–RDC",
         "line": {
          "color": "purple",
          "width": 0.24170882518268688
         },
         "lon": [
          104.1816,
          116.4707
         ],
         "mode": "lines",
         "name": "RDC–RDC",
         "showlegend": false,
         "type": "scattermap"
        },
        {
         "hovertemplate": "Quantity: 35<extra></extra>",
         "lat": [
          30.68944,
          39.85929
         ],
         "legendgroup": "RDC–RDC",
         "line": {
          "color": "purple",
          "width": 0.019673974142776843
         },
         "lon": [
          104.1816,
          116.4707
         ],
         "mode": "lines",
         "name": "RDC–RDC",
         "showlegend": false,
         "type": "scattermap"
        },
        {
         "hovertemplate": "Quantity: 400<extra></extra>",
         "lat": [
          30.68944,
          38.01142
         ],
         "legendgroup": "RDC–RDC",
         "line": {
          "color": "purple",
          "width": 0.22484541877459246
         },
         "lon": [
          104.1816,
          114.5071
         ],
         "mode": "lines",
         "name": "RDC–RDC",
         "showlegend": false,
         "type": "scattermap"
        },
        {
         "hovertemplate": "Quantity: 1<extra></extra>",
         "lat": [
          30.68944,
          38.84227
         ],
         "legendgroup": "RDC–RDC",
         "line": {
          "color": "purple",
          "width": 5.621135469364812E-4
         },
         "lon": [
          104.1816,
          115.5125
         ],
         "mode": "lines",
         "name": "RDC–RDC",
         "showlegend": false,
         "type": "scattermap"
        },
        {
         "hovertemplate": "Quantity: 300<extra></extra>",
         "lat": [
          30.68944,
          38.84227
         ],
         "legendgroup": "RDC–RDC",
         "line": {
          "color": "purple",
          "width": 0.16863406408094433
         },
         "lon": [
          104.1816,
          115.5125
         ],
         "mode": "lines",
         "name": "RDC–RDC",
         "showlegend": false,
         "type": "scattermap"
        },
        {
         "hovertemplate": "Quantity: 50<extra></extra>",
         "lat": [
          30.68944,
          34.74348
         ],
         "legendgroup": "RDC–RDC",
         "line": {
          "color": "purple",
          "width": 0.028105677346824058
         },
         "lon": [
          104.1816,
          113.7171
         ],
         "mode": "lines",
         "name": "RDC–RDC",
         "showlegend": false,
         "type": "scattermap"
        },
        {
         "hovertemplate": "Quantity: 10<extra></extra>",
         "lat": [
          30.68944,
          34.74348
         ],
         "legendgroup": "RDC–RDC",
         "line": {
          "color": "purple",
          "width": 0.005621135469364812
         },
         "lon": [
          104.1816,
          113.7171
         ],
         "mode": "lines",
         "name": "RDC–RDC",
         "showlegend": false,
         "type": "scattermap"
        },
        {
         "hovertemplate": "Quantity: 8<extra></extra>",
         "lat": [
          30.68944,
          34.74348
         ],
         "legendgroup": "RDC–RDC",
         "line": {
          "color": "purple",
          "width": 0.004496908375491849
         },
         "lon": [
          104.1816,
          113.7171
         ],
         "mode": "lines",
         "name": "RDC–RDC",
         "showlegend": false,
         "type": "scattermap"
        },
        {
         "hovertemplate": "Quantity: 330<extra></extra>",
         "lat": [
          30.68944,
          34.74358
         ],
         "legendgroup": "RDC–RDC",
         "line": {
          "color": "purple",
          "width": 0.1854974704890388
         },
         "lon": [
          104.1816,
          113.7175
         ],
         "mode": "lines",
         "name": "RDC–RDC",
         "showlegend": false,
         "type": "scattermap"
        },
        {
         "hovertemplate": "Quantity: 480<extra></extra>",
         "lat": [
          30.68944,
          27.79889
         ],
         "legendgroup": "RDC–RDC",
         "line": {
          "color": "purple",
          "width": 0.26981450252951095
         },
         "lon": [
          104.1816,
          113.1612
         ],
         "mode": "lines",
         "name": "RDC–RDC",
         "showlegend": false,
         "type": "scattermap"
        },
        {
         "hovertemplate": "Quantity: 9<extra></extra>",
         "lat": [
          30.68944,
          31.66238
         ],
         "legendgroup": "RDC–RDC",
         "line": {
          "color": "purple",
          "width": 0.00505902192242833
         },
         "lon": [
          104.1816,
          118.4845
         ],
         "mode": "lines",
         "name": "RDC–RDC",
         "showlegend": false,
         "type": "scattermap"
        },
        {
         "hovertemplate": "Quantity: 30<extra></extra>",
         "lat": [
          30.68944,
          24.90263
         ],
         "legendgroup": "RDC–RDC",
         "line": {
          "color": "purple",
          "width": 0.016863406408094434
         },
         "lon": [
          104.1816,
          102.9867
         ],
         "mode": "lines",
         "name": "RDC–RDC",
         "showlegend": false,
         "type": "scattermap"
        },
        {
         "hovertemplate": "Quantity: 2<extra></extra>",
         "lat": [
          30.68944,
          35.74759
         ],
         "legendgroup": "RDC–RDC",
         "line": {
          "color": "purple",
          "width": 0.0011242270938729624
         },
         "lon": [
          104.1816,
          115.0775
         ],
         "mode": "lines",
         "name": "RDC–RDC",
         "showlegend": false,
         "type": "scattermap"
        },
        {
         "hovertemplate": "Quantity: 3351<extra></extra>",
         "lat": [
          32.41468,
          35.10285
         ],
         "legendgroup": "RDC–RDC",
         "line": {
          "color": "purple",
          "width": 1.8836424957841482
         },
         "lon": [
          104.5354,
          118.2891
         ],
         "mode": "lines",
         "name": "RDC–RDC",
         "showlegend": false,
         "type": "scattermap"
        },
        {
         "hovertemplate": "Quantity: 887<extra></extra>",
         "lat": [
          32.41468,
          39.10089
         ],
         "legendgroup": "RDC–RDC",
         "line": {
          "color": "purple",
          "width": 0.49859471613265877
         },
         "lon": [
          104.5354,
          117.2588
         ],
         "mode": "lines",
         "name": "RDC–RDC",
         "showlegend": false,
         "type": "scattermap"
        },
        {
         "hovertemplate": "Quantity: 698<extra></extra>",
         "lat": [
          32.41468,
          36.62035
         ],
         "legendgroup": "RDC–RDC",
         "line": {
          "color": "purple",
          "width": 0.39235525576166386
         },
         "lon": [
          104.5354,
          114.4945
         ],
         "mode": "lines",
         "name": "RDC–RDC",
         "showlegend": false,
         "type": "scattermap"
        },
        {
         "hovertemplate": "Quantity: 220<extra></extra>",
         "lat": [
          32.41468,
          36.04397
         ],
         "legendgroup": "RDC–RDC",
         "line": {
          "color": "purple",
          "width": 0.12366498032602585
         },
         "lon": [
          104.5354,
          103.91
         ],
         "mode": "lines",
         "name": "RDC–RDC",
         "showlegend": false,
         "type": "scattermap"
        },
        {
         "hovertemplate": "Quantity: 2<extra></extra>",
         "lat": [
          32.41468,
          30.68944
         ],
         "legendgroup": "RDC–RDC",
         "line": {
          "color": "purple",
          "width": 0.0011242270938729624
         },
         "lon": [
          104.5354,
          104.1816
         ],
         "mode": "lines",
         "name": "RDC–RDC",
         "showlegend": false,
         "type": "scattermap"
        },
        {
         "hovertemplate": "Quantity: 163<extra></extra>",
         "lat": [
          32.41468,
          37.91037
         ],
         "legendgroup": "RDC–RDC",
         "line": {
          "color": "purple",
          "width": 0.09162450815064643
         },
         "lon": [
          104.5354,
          112.5177
         ],
         "mode": "lines",
         "name": "RDC–RDC",
         "showlegend": false,
         "type": "scattermap"
        },
        {
         "hovertemplate": "Quantity: 1<extra></extra>",
         "lat": [
          29.61051,
          29.67056
         ],
         "legendgroup": "RDC–RDC",
         "line": {
          "color": "purple",
          "width": 5.621135469364812E-4
         },
         "lon": [
          105.081,
          106.6263
         ],
         "mode": "lines",
         "name": "RDC–RDC",
         "showlegend": false,
         "type": "scattermap"
        },
        {
         "hovertemplate": "Quantity: 4<extra></extra>",
         "lat": [
          29.61051,
          26.60968
         ],
         "legendgroup": "RDC–RDC",
         "line": {
          "color": "purple",
          "width": 0.0022484541877459247
         },
         "lon": [
          105.081,
          106.7355
         ],
         "mode": "lines",
         "name": "RDC–RDC",
         "showlegend": false,
         "type": "scattermap"
        },
        {
         "hovertemplate": "Quantity: 1<extra></extra>",
         "lat": [
          29.61051,
          24.90263
         ],
         "legendgroup": "RDC–RDC",
         "line": {
          "color": "purple",
          "width": 5.621135469364812E-4
         },
         "lon": [
          105.081,
          102.9867
         ],
         "mode": "lines",
         "name": "RDC–RDC",
         "showlegend": false,
         "type": "scattermap"
        },
        {
         "hovertemplate": "Quantity: 10<extra></extra>",
         "lat": [
          29.61051,
          30.09205
         ],
         "legendgroup": "RDC–RDC",
         "line": {
          "color": "purple",
          "width": 0.005621135469364812
         },
         "lon": [
          105.081,
          103.8477
         ],
         "mode": "lines",
         "name": "RDC–RDC",
         "showlegend": false,
         "type": "scattermap"
        },
        {
         "hovertemplate": "Quantity: 2<extra></extra>",
         "lat": [
          29.67056,
          34.74358
         ],
         "legendgroup": "RDC–RDC",
         "line": {
          "color": "purple",
          "width": 0.0011242270938729624
         },
         "lon": [
          106.6263,
          113.7175
         ],
         "mode": "lines",
         "name": "RDC–RDC",
         "showlegend": false,
         "type": "scattermap"
        },
        {
         "hovertemplate": "Quantity: 3<extra></extra>",
         "lat": [
          29.67056,
          34.28265
         ],
         "legendgroup": "RDC–RDC",
         "line": {
          "color": "purple",
          "width": 0.0016863406408094434
         },
         "lon": [
          106.6263,
          109.0334
         ],
         "mode": "lines",
         "name": "RDC–RDC",
         "showlegend": false,
         "type": "scattermap"
        },
        {
         "hovertemplate": "Quantity: 1<extra></extra>",
         "lat": [
          29.67056,
          43.85704
         ],
         "legendgroup": "RDC–RDC",
         "line": {
          "color": "purple",
          "width": 5.621135469364812E-4
         },
         "lon": [
          106.6263,
          87.53245
         ],
         "mode": "lines",
         "name": "RDC–RDC",
         "showlegend": false,
         "type": "scattermap"
        },
        {
         "hovertemplate": "Quantity: 100<extra></extra>",
         "lat": [
          29.67056,
          32.99897
         ],
         "legendgroup": "RDC–RDC",
         "line": {
          "color": "purple",
          "width": 0.056211354693648116
         },
         "lon": [
          106.6263,
          112.5379
         ],
         "mode": "lines",
         "name": "RDC–RDC",
         "showlegend": false,
         "type": "scattermap"
        },
        {
         "hovertemplate": "Quantity: 3<extra></extra>",
         "lat": [
          26.60968,
          28.58094
         ],
         "legendgroup": "RDC–RDC",
         "line": {
          "color": "purple",
          "width": 0.0016863406408094434
         },
         "lon": [
          106.7355,
          115.9156
         ],
         "mode": "lines",
         "name": "RDC–RDC",
         "showlegend": false,
         "type": "scattermap"
        },
        {
         "hovertemplate": "Quantity: 1<extra></extra>",
         "lat": [
          26.60968,
          28.58094
         ],
         "legendgroup": "RDC–RDC",
         "line": {
          "color": "purple",
          "width": 5.621135469364812E-4
         },
         "lon": [
          106.7355,
          115.9156
         ],
         "mode": "lines",
         "name": "RDC–RDC",
         "showlegend": false,
         "type": "scattermap"
        },
        {
         "hovertemplate": "Quantity: 2<extra></extra>",
         "lat": [
          26.60968,
          30.68944
         ],
         "legendgroup": "RDC–RDC",
         "line": {
          "color": "purple",
          "width": 0.0011242270938729624
         },
         "lon": [
          106.7355,
          104.1816
         ],
         "mode": "lines",
         "name": "RDC–RDC",
         "showlegend": false,
         "type": "scattermap"
        },
        {
         "hovertemplate": "Quantity: 1<extra></extra>",
         "lat": [
          26.60968,
          29.61051
         ],
         "legendgroup": "RDC–RDC",
         "line": {
          "color": "purple",
          "width": 5.621135469364812E-4
         },
         "lon": [
          106.7355,
          105.081
         ],
         "mode": "lines",
         "name": "RDC–RDC",
         "showlegend": false,
         "type": "scattermap"
        },
        {
         "hovertemplate": "Quantity: 140<extra></extra>",
         "lat": [
          26.60968,
          29.61051
         ],
         "legendgroup": "RDC–RDC",
         "line": {
          "color": "purple",
          "width": 0.07869589657110737
         },
         "lon": [
          106.7355,
          105.081
         ],
         "mode": "lines",
         "name": "RDC–RDC",
         "showlegend": false,
         "type": "scattermap"
        },
        {
         "hovertemplate": "Quantity: 280<extra></extra>",
         "lat": [
          24.90263,
          34.74348
         ],
         "legendgroup": "RDC–RDC",
         "line": {
          "color": "purple",
          "width": 0.15739179314221474
         },
         "lon": [
          102.9867,
          113.7171
         ],
         "mode": "lines",
         "name": "RDC–RDC",
         "showlegend": false,
         "type": "scattermap"
        },
        {
         "hovertemplate": "Quantity: 41<extra></extra>",
         "lat": [
          24.90263,
          34.74358
         ],
         "legendgroup": "RDC–RDC",
         "line": {
          "color": "purple",
          "width": 0.02304665542439573
         },
         "lon": [
          102.9867,
          113.7175
         ],
         "mode": "lines",
         "name": "RDC–RDC",
         "showlegend": false,
         "type": "scattermap"
        },
        {
         "hovertemplate": "Quantity: 86<extra></extra>",
         "lat": [
          24.90263,
          34.74358
         ],
         "legendgroup": "RDC–RDC",
         "line": {
          "color": "purple",
          "width": 0.048341765036537386
         },
         "lon": [
          102.9867,
          113.7175
         ],
         "mode": "lines",
         "name": "RDC–RDC",
         "showlegend": false,
         "type": "scattermap"
        },
        {
         "hovertemplate": "Quantity: 9<extra></extra>",
         "lat": [
          24.90263,
          32.04472
         ],
         "legendgroup": "RDC–RDC",
         "line": {
          "color": "purple",
          "width": 0.00505902192242833
         },
         "lon": [
          102.9867,
          112.1553
         ],
         "mode": "lines",
         "name": "RDC–RDC",
         "showlegend": false,
         "type": "scattermap"
        },
        {
         "hovertemplate": "Quantity: 12<extra></extra>",
         "lat": [
          24.90263,
          29.61051
         ],
         "legendgroup": "RDC–RDC",
         "line": {
          "color": "purple",
          "width": 0.006745362563237774
         },
         "lon": [
          102.9867,
          105.081
         ],
         "mode": "lines",
         "name": "RDC–RDC",
         "showlegend": false,
         "type": "scattermap"
        },
        {
         "hovertemplate": "Quantity: 1<extra></extra>",
         "lat": [
          24.90263,
          29.67056
         ],
         "legendgroup": "RDC–RDC",
         "line": {
          "color": "purple",
          "width": 5.621135469364812E-4
         },
         "lon": [
          102.9867,
          106.6263
         ],
         "mode": "lines",
         "name": "RDC–RDC",
         "showlegend": false,
         "type": "scattermap"
        },
        {
         "hovertemplate": "Quantity: 86<extra></extra>",
         "lat": [
          24.90263,
          35.74759
         ],
         "legendgroup": "RDC–RDC",
         "line": {
          "color": "purple",
          "width": 0.048341765036537386
         },
         "lon": [
          102.9867,
          115.0775
         ],
         "mode": "lines",
         "name": "RDC–RDC",
         "showlegend": false,
         "type": "scattermap"
        },
        {
         "hovertemplate": "Quantity: 15<extra></extra>",
         "lat": [
          31.07754,
          30.68944
         ],
         "legendgroup": "RDC–RDC",
         "line": {
          "color": "purple",
          "width": 0.008431703204047217
         },
         "lon": [
          112.2224,
          104.1816
         ],
         "mode": "lines",
         "name": "RDC–RDC",
         "showlegend": false,
         "type": "scattermap"
        },
        {
         "hovertemplate": "Quantity: 355<extra></extra>",
         "lat": [
          35.74759,
          36.64308
         ],
         "legendgroup": "RDC–RDC",
         "line": {
          "color": "purple",
          "width": 0.1995503091624508
         },
         "lon": [
          115.0775,
          116.857
         ],
         "mode": "lines",
         "name": "RDC–RDC",
         "showlegend": false,
         "type": "scattermap"
        },
        {
         "hovertemplate": "Quantity: 15<extra></extra>",
         "lat": [
          35.74759,
          36.64308
         ],
         "legendgroup": "RDC–RDC",
         "line": {
          "color": "purple",
          "width": 0.008431703204047217
         },
         "lon": [
          115.0775,
          116.857
         ],
         "mode": "lines",
         "name": "RDC–RDC",
         "showlegend": false,
         "type": "scattermap"
        },
        {
         "hovertemplate": "Quantity: 1<extra></extra>",
         "lat": [
          35.74759,
          30.37639
         ],
         "legendgroup": "RDC–RDC",
         "line": {
          "color": "purple",
          "width": 5.621135469364812E-4
         },
         "lon": [
          115.0775,
          120.1698
         ],
         "mode": "lines",
         "name": "RDC–RDC",
         "showlegend": false,
         "type": "scattermap"
        },
        {
         "hovertemplate": "Quantity: 8<extra></extra>",
         "lat": [
          35.74759,
          28.59099
         ],
         "legendgroup": "RDC–RDC",
         "line": {
          "color": "purple",
          "width": 0.004496908375491849
         },
         "lon": [
          115.0775,
          121.3567
         ],
         "mode": "lines",
         "name": "RDC–RDC",
         "showlegend": false,
         "type": "scattermap"
        },
        {
         "hovertemplate": "Quantity: 4<extra></extra>",
         "lat": [
          35.74759,
          43.93276
         ],
         "legendgroup": "RDC–RDC",
         "line": {
          "color": "purple",
          "width": 0.0022484541877459247
         },
         "lon": [
          115.0775,
          125.299
         ],
         "mode": "lines",
         "name": "RDC–RDC",
         "showlegend": false,
         "type": "scattermap"
        },
        {
         "hovertemplate": "Quantity: 3<extra></extra>",
         "lat": [
          35.74759,
          39.04403
         ],
         "legendgroup": "RDC–RDC",
         "line": {
          "color": "purple",
          "width": 0.0016863406408094434
         },
         "lon": [
          115.0775,
          121.6366
         ],
         "mode": "lines",
         "name": "RDC–RDC",
         "showlegend": false,
         "type": "scattermap"
        },
        {
         "hovertemplate": "Quantity: 5<extra></extra>",
         "lat": [
          35.74759,
          34.74348
         ],
         "legendgroup": "RDC–RDC",
         "line": {
          "color": "purple",
          "width": 0.002810567734682406
         },
         "lon": [
          115.0775,
          113.7171
         ],
         "mode": "lines",
         "name": "RDC–RDC",
         "showlegend": false,
         "type": "scattermap"
        },
        {
         "hovertemplate": "Quantity: 95<extra></extra>",
         "lat": [
          35.74759,
          34.74358
         ],
         "legendgroup": "RDC–RDC",
         "line": {
          "color": "purple",
          "width": 0.05340078695896571
         },
         "lon": [
          115.0775,
          113.7175
         ],
         "mode": "lines",
         "name": "RDC–RDC",
         "showlegend": false,
         "type": "scattermap"
        },
        {
         "hovertemplate": "Quantity: 52<extra></extra>",
         "lat": [
          35.74759,
          34.74358
         ],
         "legendgroup": "RDC–RDC",
         "line": {
          "color": "purple",
          "width": 0.029229904440697018
         },
         "lon": [
          115.0775,
          113.7175
         ],
         "mode": "lines",
         "name": "RDC–RDC",
         "showlegend": false,
         "type": "scattermap"
        },
        {
         "hovertemplate": "Quantity: 6<extra></extra>",
         "lat": [
          35.74759,
          28.21001
         ],
         "legendgroup": "RDC–RDC",
         "line": {
          "color": "purple",
          "width": 0.003372681281618887
         },
         "lon": [
          115.0775,
          113.0253
         ],
         "mode": "lines",
         "name": "RDC–RDC",
         "showlegend": false,
         "type": "scattermap"
        },
        {
         "hovertemplate": "Quantity: 5<extra></extra>",
         "lat": [
          35.74759,
          28.58094
         ],
         "legendgroup": "RDC–RDC",
         "line": {
          "color": "purple",
          "width": 0.002810567734682406
         },
         "lon": [
          115.0775,
          115.9156
         ],
         "mode": "lines",
         "name": "RDC–RDC",
         "showlegend": false,
         "type": "scattermap"
        },
        {
         "hovertemplate": "Quantity: 2<extra></extra>",
         "lat": [
          35.74759,
          30.68944
         ],
         "legendgroup": "RDC–RDC",
         "line": {
          "color": "purple",
          "width": 0.0011242270938729624
         },
         "lon": [
          115.0775,
          104.1816
         ],
         "mode": "lines",
         "name": "RDC–RDC",
         "showlegend": false,
         "type": "scattermap"
        },
        {
         "hovertemplate": "Quantity: 10<extra></extra>",
         "lat": [
          35.74759,
          24.90263
         ],
         "legendgroup": "RDC–RDC",
         "line": {
          "color": "purple",
          "width": 0.005621135469364812
         },
         "lon": [
          115.0775,
          102.9867
         ],
         "mode": "lines",
         "name": "RDC–RDC",
         "showlegend": false,
         "type": "scattermap"
        },
        {
         "hovertemplate": "Quantity: 70<extra></extra>",
         "lat": [
          31.89946,
          36.17995
         ],
         "legendgroup": "RDC–RDC",
         "line": {
          "color": "purple",
          "width": 0.039347948285553686
         },
         "lon": [
          117.3595,
          120.4715
         ],
         "mode": "lines",
         "name": "RDC–RDC",
         "showlegend": false,
         "type": "scattermap"
        },
        {
         "hovertemplate": "Quantity: 232<extra></extra>",
         "lat": [
          31.89946,
          36.73794
         ],
         "legendgroup": "RDC–RDC",
         "line": {
          "color": "purple",
          "width": 0.13041034288926365
         },
         "lon": [
          117.3595,
          119.0358
         ],
         "mode": "lines",
         "name": "RDC–RDC",
         "showlegend": false,
         "type": "scattermap"
        },
        {
         "hovertemplate": "Quantity: 15<extra></extra>",
         "lat": [
          31.89946,
          36.73794
         ],
         "legendgroup": "RDC–RDC",
         "line": {
          "color": "purple",
          "width": 0.008431703204047217
         },
         "lon": [
          117.3595,
          119.0358
         ],
         "mode": "lines",
         "name": "RDC–RDC",
         "showlegend": false,
         "type": "scattermap"
        },
        {
         "hovertemplate": "Quantity: 10<extra></extra>",
         "lat": [
          31.89946,
          35.10285
         ],
         "legendgroup": "RDC–RDC",
         "line": {
          "color": "purple",
          "width": 0.005621135469364812
         },
         "lon": [
          117.3595,
          118.2891
         ],
         "mode": "lines",
         "name": "RDC–RDC",
         "showlegend": false,
         "type": "scattermap"
        },
        {
         "hovertemplate": "Quantity: 365<extra></extra>",
         "lat": [
          31.89946,
          36.64308
         ],
         "legendgroup": "RDC–RDC",
         "line": {
          "color": "purple",
          "width": 0.20517144463181564
         },
         "lon": [
          117.3595,
          116.857
         ],
         "mode": "lines",
         "name": "RDC–RDC",
         "showlegend": false,
         "type": "scattermap"
        },
        {
         "hovertemplate": "Quantity: 15<extra></extra>",
         "lat": [
          31.89946,
          36.64308
         ],
         "legendgroup": "RDC–RDC",
         "line": {
          "color": "purple",
          "width": 0.008431703204047217
         },
         "lon": [
          117.3595,
          116.857
         ],
         "mode": "lines",
         "name": "RDC–RDC",
         "showlegend": false,
         "type": "scattermap"
        },
        {
         "hovertemplate": "Quantity: 2<extra></extra>",
         "lat": [
          31.89946,
          31.50323
         ],
         "legendgroup": "RDC–RDC",
         "line": {
          "color": "purple",
          "width": 0.0011242270938729624
         },
         "lon": [
          117.3595,
          120.3923
         ],
         "mode": "lines",
         "name": "RDC–RDC",
         "showlegend": false,
         "type": "scattermap"
        },
        {
         "hovertemplate": "Quantity: 7<extra></extra>",
         "lat": [
          31.89946,
          32.00261
         ],
         "legendgroup": "RDC–RDC",
         "line": {
          "color": "purple",
          "width": 0.0039347948285553686
         },
         "lon": [
          117.3595,
          118.8661
         ],
         "mode": "lines",
         "name": "RDC–RDC",
         "showlegend": false,
         "type": "scattermap"
        },
        {
         "hovertemplate": "Quantity: 48<extra></extra>",
         "lat": [
          31.89946,
          32.08158
         ],
         "legendgroup": "RDC–RDC",
         "line": {
          "color": "purple",
          "width": 0.026981450252951095
         },
         "lon": [
          117.3595,
          120.912
         ],
         "mode": "lines",
         "name": "RDC–RDC",
         "showlegend": false,
         "type": "scattermap"
        },
        {
         "hovertemplate": "Quantity: 250<extra></extra>",
         "lat": [
          31.89946,
          29.93326
         ],
         "legendgroup": "RDC–RDC",
         "line": {
          "color": "purple",
          "width": 0.1405283867341203
         },
         "lon": [
          117.3595,
          121.6062
         ],
         "mode": "lines",
         "name": "RDC–RDC",
         "showlegend": false,
         "type": "scattermap"
        },
        {
         "hovertemplate": "Quantity: 2<extra></extra>",
         "lat": [
          31.89946,
          31.30913
         ],
         "legendgroup": "RDC–RDC",
         "line": {
          "color": "purple",
          "width": 0.0011242270938729624
         },
         "lon": [
          117.3595,
          121.3927
         ],
         "mode": "lines",
         "name": "RDC–RDC",
         "showlegend": false,
         "type": "scattermap"
        },
        {
         "hovertemplate": "Quantity: 1<extra></extra>",
         "lat": [
          31.89946,
          31.00253
         ],
         "legendgroup": "RDC–RDC",
         "line": {
          "color": "purple",
          "width": 5.621135469364812E-4
         },
         "lon": [
          117.3595,
          121.5149
         ],
         "mode": "lines",
         "name": "RDC–RDC",
         "showlegend": false,
         "type": "scattermap"
        },
        {
         "hovertemplate": "Quantity: 1<extra></extra>",
         "lat": [
          31.89946,
          31.66238
         ],
         "legendgroup": "RDC–RDC",
         "line": {
          "color": "purple",
          "width": 5.621135469364812E-4
         },
         "lon": [
          117.3595,
          118.4845
         ],
         "mode": "lines",
         "name": "RDC–RDC",
         "showlegend": false,
         "type": "scattermap"
        },
        {
         "hovertemplate": "Quantity: 26<extra></extra>",
         "lat": [
          31.89946,
          31.66238
         ],
         "legendgroup": "RDC–RDC",
         "line": {
          "color": "purple",
          "width": 0.014614952220348509
         },
         "lon": [
          117.3595,
          118.4845
         ],
         "mode": "lines",
         "name": "RDC–RDC",
         "showlegend": false,
         "type": "scattermap"
        },
        {
         "hovertemplate": "Quantity: 1<extra></extra>",
         "lat": [
          31.89946,
          31.89018
         ],
         "legendgroup": "RDC–RDC",
         "line": {
          "color": "purple",
          "width": 5.621135469364812E-4
         },
         "lon": [
          117.3595,
          117.3539
         ],
         "mode": "lines",
         "name": "RDC–RDC",
         "showlegend": false,
         "type": "scattermap"
        },
        {
         "hovertemplate": "Quantity: 298<extra></extra>",
         "lat": [
          31.89946,
          29.67056
         ],
         "legendgroup": "RDC–RDC",
         "line": {
          "color": "purple",
          "width": 0.1675098369870714
         },
         "lon": [
          117.3595,
          106.6263
         ],
         "mode": "lines",
         "name": "RDC–RDC",
         "showlegend": false,
         "type": "scattermap"
        },
        {
         "hovertemplate": "Quantity: 1<extra></extra>",
         "lat": [
          31.89946,
          26.66674
         ],
         "legendgroup": "RDC–RDC",
         "line": {
          "color": "purple",
          "width": 5.621135469364812E-4
         },
         "lon": [
          117.3595,
          119.5334
         ],
         "mode": "lines",
         "name": "RDC–RDC",
         "showlegend": false,
         "type": "scattermap"
        },
        {
         "hovertemplate": "Quantity: 1<extra></extra>",
         "lat": [
          40.88605,
          36.17995
         ],
         "legendgroup": "RDC–RDC",
         "line": {
          "color": "purple",
          "width": 5.621135469364812E-4
         },
         "lon": [
          111.8036,
          120.4715
         ],
         "mode": "lines",
         "name": "RDC–RDC",
         "showlegend": false,
         "type": "scattermap"
        },
        {
         "hovertemplate": "Quantity: 581<extra></extra>",
         "lat": [
          40.88605,
          31.66238
         ],
         "legendgroup": "RDC–RDC",
         "line": {
          "color": "purple",
          "width": 0.32658797077009555
         },
         "lon": [
          111.8036,
          118.4845
         ],
         "mode": "lines",
         "name": "RDC–RDC",
         "showlegend": false,
         "type": "scattermap"
        },
        {
         "hovertemplate": "Quantity: 340<extra></extra>",
         "lat": [
          40.88605,
          34.28265
         ],
         "legendgroup": "RDC–RDC",
         "line": {
          "color": "purple",
          "width": 0.1911186059584036
         },
         "lon": [
          111.8036,
          109.0334
         ],
         "mode": "lines",
         "name": "RDC–RDC",
         "showlegend": false,
         "type": "scattermap"
        },
        {
         "hovertemplate": "Quantity: 3<extra></extra>",
         "lat": [
          40.88605,
          34.28265
         ],
         "legendgroup": "RDC–RDC",
         "line": {
          "color": "purple",
          "width": 0.0016863406408094434
         },
         "lon": [
          111.8036,
          109.0334
         ],
         "mode": "lines",
         "name": "RDC–RDC",
         "showlegend": false,
         "type": "scattermap"
        },
        {
         "hovertemplate": "Quantity: 3<extra></extra>",
         "lat": [
          40.88605,
          36.04397
         ],
         "legendgroup": "RDC–RDC",
         "line": {
          "color": "purple",
          "width": 0.0016863406408094434
         },
         "lon": [
          111.8036,
          103.91
         ],
         "mode": "lines",
         "name": "RDC–RDC",
         "showlegend": false,
         "type": "scattermap"
        },
        {
         "hovertemplate": "Quantity: 500<extra></extra>",
         "lat": [
          40.88605,
          29.61051
         ],
         "legendgroup": "RDC–RDC",
         "line": {
          "color": "purple",
          "width": 0.2810567734682406
         },
         "lon": [
          111.8036,
          105.081
         ],
         "mode": "lines",
         "name": "RDC–RDC",
         "showlegend": false,
         "type": "scattermap"
        },
        {
         "hovertemplate": "Quantity: 407<extra></extra>",
         "lat": [
          40.88605,
          32.45936
         ],
         "legendgroup": "RDC–RDC",
         "line": {
          "color": "purple",
          "width": 0.22878021360314782
         },
         "lon": [
          111.8036,
          119.9178
         ],
         "mode": "lines",
         "name": "RDC–RDC",
         "showlegend": false,
         "type": "scattermap"
        },
        {
         "hovertemplate": "Quantity: 50<extra></extra>",
         "lat": [
          32.99897,
          43.93276
         ],
         "legendgroup": "RDC–RDC",
         "line": {
          "color": "purple",
          "width": 0.028105677346824058
         },
         "lon": [
          112.5379,
          125.299
         ],
         "mode": "lines",
         "name": "RDC–RDC",
         "showlegend": false,
         "type": "scattermap"
        },
        {
         "hovertemplate": "Quantity: 29<extra></extra>",
         "lat": [
          32.99897,
          34.74348
         ],
         "legendgroup": "RDC–RDC",
         "line": {
          "color": "purple",
          "width": 0.016301292861157956
         },
         "lon": [
          112.5379,
          113.7171
         ],
         "mode": "lines",
         "name": "RDC–RDC",
         "showlegend": false,
         "type": "scattermap"
        },
        {
         "hovertemplate": "Quantity: 2<extra></extra>",
         "lat": [
          32.99897,
          32.41468
         ],
         "legendgroup": "RDC–RDC",
         "line": {
          "color": "purple",
          "width": 0.0011242270938729624
         },
         "lon": [
          112.5379,
          104.5354
         ],
         "mode": "lines",
         "name": "RDC–RDC",
         "showlegend": false,
         "type": "scattermap"
        },
        {
         "hovertemplate": "Quantity: 6<extra></extra>",
         "lat": [
          32.99897,
          31.89946
         ],
         "legendgroup": "RDC–RDC",
         "line": {
          "color": "purple",
          "width": 0.003372681281618887
         },
         "lon": [
          112.5379,
          117.3595
         ],
         "mode": "lines",
         "name": "RDC–RDC",
         "showlegend": false,
         "type": "scattermap"
        },
        {
         "hovertemplate": "Quantity: 236<extra></extra>",
         "lat": [
          30.09205,
          35.10285
         ],
         "legendgroup": "RDC–RDC",
         "line": {
          "color": "purple",
          "width": 0.13265879707700956
         },
         "lon": [
          103.8477,
          118.2891
         ],
         "mode": "lines",
         "name": "RDC–RDC",
         "showlegend": false,
         "type": "scattermap"
        },
        {
         "hovertemplate": "Quantity: 50<extra></extra>",
         "lat": [
          30.09205,
          34.74358
         ],
         "legendgroup": "RDC–RDC",
         "line": {
          "color": "purple",
          "width": 0.028105677346824058
         },
         "lon": [
          103.8477,
          113.7175
         ],
         "mode": "lines",
         "name": "RDC–RDC",
         "showlegend": false,
         "type": "scattermap"
        },
        {
         "hovertemplate": "Quantity: 80<extra></extra>",
         "lat": [
          30.09205,
          27.79889
         ],
         "legendgroup": "RDC–RDC",
         "line": {
          "color": "purple",
          "width": 0.044969083754918496
         },
         "lon": [
          103.8477,
          113.1612
         ],
         "mode": "lines",
         "name": "RDC–RDC",
         "showlegend": false,
         "type": "scattermap"
        },
        {
         "hovertemplate": "Quantity: 140<extra></extra>",
         "lat": [
          30.09205,
          30.68944
         ],
         "legendgroup": "RDC–RDC",
         "line": {
          "color": "purple",
          "width": 0.07869589657110737
         },
         "lon": [
          103.8477,
          104.1816
         ],
         "mode": "lines",
         "name": "RDC–RDC",
         "showlegend": false,
         "type": "scattermap"
        },
        {
         "hovertemplate": "Quantity: 80<extra></extra>",
         "lat": [
          30.09205,
          30.68944
         ],
         "legendgroup": "RDC–RDC",
         "line": {
          "color": "purple",
          "width": 0.044969083754918496
         },
         "lon": [
          103.8477,
          104.1816
         ],
         "mode": "lines",
         "name": "RDC–RDC",
         "showlegend": false,
         "type": "scattermap"
        },
        {
         "hovertemplate": "Quantity: 320<extra></extra>",
         "lat": [
          30.09205,
          30.68944
         ],
         "legendgroup": "RDC–RDC",
         "line": {
          "color": "purple",
          "width": 0.17987633501967398
         },
         "lon": [
          103.8477,
          104.1816
         ],
         "mode": "lines",
         "name": "RDC–RDC",
         "showlegend": false,
         "type": "scattermap"
        },
        {
         "hovertemplate": "Quantity: 9<extra></extra>",
         "lat": [
          30.09205,
          29.61051
         ],
         "legendgroup": "RDC–RDC",
         "line": {
          "color": "purple",
          "width": 0.00505902192242833
         },
         "lon": [
          103.8477,
          105.081
         ],
         "mode": "lines",
         "name": "RDC–RDC",
         "showlegend": false,
         "type": "scattermap"
        },
        {
         "hovertemplate": "Quantity: 10<extra></extra>",
         "lat": [
          30.09205,
          29.61051
         ],
         "legendgroup": "RDC–RDC",
         "line": {
          "color": "purple",
          "width": 0.005621135469364812
         },
         "lon": [
          103.8477,
          105.081
         ],
         "mode": "lines",
         "name": "RDC–RDC",
         "showlegend": false,
         "type": "scattermap"
        },
        {
         "hovertemplate": "Quantity: 90<extra></extra>",
         "lat": [
          30.09205,
          32.99897
         ],
         "legendgroup": "RDC–RDC",
         "line": {
          "color": "purple",
          "width": 0.050590219224283306
         },
         "lon": [
          103.8477,
          112.5379
         ],
         "mode": "lines",
         "name": "RDC–RDC",
         "showlegend": false,
         "type": "scattermap"
        },
        {
         "hovertemplate": "Quantity: 132<extra></extra>",
         "lat": [
          30.09205,
          37.91037
         ],
         "legendgroup": "RDC–RDC",
         "line": {
          "color": "purple",
          "width": 0.07419898819561552
         },
         "lon": [
          103.8477,
          112.5177
         ],
         "mode": "lines",
         "name": "RDC–RDC",
         "showlegend": false,
         "type": "scattermap"
        },
        {
         "hovertemplate": "Quantity: 21<extra></extra>",
         "lat": [
          37.91037,
          31.30913
         ],
         "legendgroup": "RDC–RDC",
         "line": {
          "color": "purple",
          "width": 0.011804384485666106
         },
         "lon": [
          112.5177,
          121.3927
         ],
         "mode": "lines",
         "name": "RDC–RDC",
         "showlegend": false,
         "type": "scattermap"
        },
        {
         "hovertemplate": "Quantity: 5<extra></extra>",
         "lat": [
          37.91037,
          37.8686
         ],
         "legendgroup": "RDC–RDC",
         "line": {
          "color": "purple",
          "width": 0.002810567734682406
         },
         "lon": [
          112.5177,
          112.6184
         ],
         "mode": "lines",
         "name": "RDC–RDC",
         "showlegend": false,
         "type": "scattermap"
        },
        {
         "hovertemplate": "Quantity: 160<extra></extra>",
         "lat": [
          37.91037,
          37.8686
         ],
         "legendgroup": "RDC–RDC",
         "line": {
          "color": "purple",
          "width": 0.08993816750983699
         },
         "lon": [
          112.5177,
          112.6184
         ],
         "mode": "lines",
         "name": "RDC–RDC",
         "showlegend": false,
         "type": "scattermap"
        },
        {
         "hovertemplate": "Quantity: 1<extra></extra>",
         "lat": [
          37.91037,
          32.41468
         ],
         "legendgroup": "RDC–RDC",
         "line": {
          "color": "purple",
          "width": 5.621135469364812E-4
         },
         "lon": [
          112.5177,
          104.5354
         ],
         "mode": "lines",
         "name": "RDC–RDC",
         "showlegend": false,
         "type": "scattermap"
        },
        {
         "hovertemplate": "Quantity: 45<extra></extra>",
         "lat": [
          34.32337,
          36.64308
         ],
         "legendgroup": "RDC–RDC",
         "line": {
          "color": "purple",
          "width": 0.025295109612141653
         },
         "lon": [
          109.0284,
          116.857
         ],
         "mode": "lines",
         "name": "RDC–RDC",
         "showlegend": false,
         "type": "scattermap"
        },
        {
         "hovertemplate": "Quantity: 90<extra></extra>",
         "lat": [
          34.32337,
          32.00261
         ],
         "legendgroup": "RDC–RDC",
         "line": {
          "color": "purple",
          "width": 0.050590219224283306
         },
         "lon": [
          109.0284,
          118.8661
         ],
         "mode": "lines",
         "name": "RDC–RDC",
         "showlegend": false,
         "type": "scattermap"
        },
        {
         "hovertemplate": "Quantity: 100<extra></extra>",
         "lat": [
          34.32337,
          39.10089
         ],
         "legendgroup": "RDC–RDC",
         "line": {
          "color": "purple",
          "width": 0.056211354693648116
         },
         "lon": [
          109.0284,
          117.2588
         ],
         "mode": "lines",
         "name": "RDC–RDC",
         "showlegend": false,
         "type": "scattermap"
        },
        {
         "hovertemplate": "Quantity: 4<extra></extra>",
         "lat": [
          34.32337,
          34.28265
         ],
         "legendgroup": "RDC–RDC",
         "line": {
          "color": "purple",
          "width": 0.0022484541877459247
         },
         "lon": [
          109.0284,
          109.0334
         ],
         "mode": "lines",
         "name": "RDC–RDC",
         "showlegend": false,
         "type": "scattermap"
        },
        {
         "hovertemplate": "Quantity: 28<extra></extra>",
         "lat": [
          34.32337,
          34.28265
         ],
         "legendgroup": "RDC–RDC",
         "line": {
          "color": "purple",
          "width": 0.015739179314221474
         },
         "lon": [
          109.0284,
          109.0334
         ],
         "mode": "lines",
         "name": "RDC–RDC",
         "showlegend": false,
         "type": "scattermap"
        },
        {
         "hovertemplate": "Quantity: 400<extra></extra>",
         "lat": [
          34.32337,
          43.85704
         ],
         "legendgroup": "RDC–RDC",
         "line": {
          "color": "purple",
          "width": 0.22484541877459246
         },
         "lon": [
          109.0284,
          87.53245
         ],
         "mode": "lines",
         "name": "RDC–RDC",
         "showlegend": false,
         "type": "scattermap"
        },
        {
         "hovertemplate": "Quantity: 80<extra></extra>",
         "lat": [
          34.32337,
          43.85704
         ],
         "legendgroup": "RDC–RDC",
         "line": {
          "color": "purple",
          "width": 0.044969083754918496
         },
         "lon": [
          109.0284,
          87.53245
         ],
         "mode": "lines",
         "name": "RDC–RDC",
         "showlegend": false,
         "type": "scattermap"
        },
        {
         "hovertemplate": "Quantity: 89<extra></extra>",
         "lat": [
          32.45936,
          36.17995
         ],
         "legendgroup": "RDC–RDC",
         "line": {
          "color": "purple",
          "width": 0.05002810567734682
         },
         "lon": [
          119.9178,
          120.4715
         ],
         "mode": "lines",
         "name": "RDC–RDC",
         "showlegend": false,
         "type": "scattermap"
        },
        {
         "hovertemplate": "Quantity: 470<extra></extra>",
         "lat": [
          32.45936,
          36.73794
         ],
         "legendgroup": "RDC–RDC",
         "line": {
          "color": "purple",
          "width": 0.2641933670601462
         },
         "lon": [
          119.9178,
          119.0358
         ],
         "mode": "lines",
         "name": "RDC–RDC",
         "showlegend": false,
         "type": "scattermap"
        },
        {
         "hovertemplate": "Quantity: 831<extra></extra>",
         "lat": [
          32.45936,
          36.73794
         ],
         "legendgroup": "RDC–RDC",
         "line": {
          "color": "purple",
          "width": 0.4671163575042159
         },
         "lon": [
          119.9178,
          119.0358
         ],
         "mode": "lines",
         "name": "RDC–RDC",
         "showlegend": false,
         "type": "scattermap"
        },
        {
         "hovertemplate": "Quantity: 140<extra></extra>",
         "lat": [
          32.45936,
          36.64308
         ],
         "legendgroup": "RDC–RDC",
         "line": {
          "color": "purple",
          "width": 0.07869589657110737
         },
         "lon": [
          119.9178,
          116.857
         ],
         "mode": "lines",
         "name": "RDC–RDC",
         "showlegend": false,
         "type": "scattermap"
        },
        {
         "hovertemplate": "Quantity: 7<extra></extra>",
         "lat": [
          32.45936,
          31.6025
         ],
         "legendgroup": "RDC–RDC",
         "line": {
          "color": "purple",
          "width": 0.0039347948285553686
         },
         "lon": [
          119.9178,
          120.9008
         ],
         "mode": "lines",
         "name": "RDC–RDC",
         "showlegend": false,
         "type": "scattermap"
        },
        {
         "hovertemplate": "Quantity: 40<extra></extra>",
         "lat": [
          32.45936,
          33.58913
         ],
         "legendgroup": "RDC–RDC",
         "line": {
          "color": "purple",
          "width": 0.022484541877459248
         },
         "lon": [
          119.9178,
          119.0793
         ],
         "mode": "lines",
         "name": "RDC–RDC",
         "showlegend": false,
         "type": "scattermap"
        },
        {
         "hovertemplate": "Quantity: 4<extra></extra>",
         "lat": [
          32.45936,
          30.37639
         ],
         "legendgroup": "RDC–RDC",
         "line": {
          "color": "purple",
          "width": 0.0022484541877459247
         },
         "lon": [
          119.9178,
          120.1698
         ],
         "mode": "lines",
         "name": "RDC–RDC",
         "showlegend": false,
         "type": "scattermap"
        },
        {
         "hovertemplate": "Quantity: 150<extra></extra>",
         "lat": [
          32.45936,
          28.59099
         ],
         "legendgroup": "RDC–RDC",
         "line": {
          "color": "purple",
          "width": 0.08431703204047217
         },
         "lon": [
          119.9178,
          121.3567
         ],
         "mode": "lines",
         "name": "RDC–RDC",
         "showlegend": false,
         "type": "scattermap"
        },
        {
         "hovertemplate": "Quantity: 400<extra></extra>",
         "lat": [
          32.45936,
          43.93276
         ],
         "legendgroup": "RDC–RDC",
         "line": {
          "color": "purple",
          "width": 0.22484541877459246
         },
         "lon": [
          119.9178,
          125.299
         ],
         "mode": "lines",
         "name": "RDC–RDC",
         "showlegend": false,
         "type": "scattermap"
        },
        {
         "hovertemplate": "Quantity: 30<extra></extra>",
         "lat": [
          32.45936,
          39.10089
         ],
         "legendgroup": "RDC–RDC",
         "line": {
          "color": "purple",
          "width": 0.016863406408094434
         },
         "lon": [
          119.9178,
          117.2588
         ],
         "mode": "lines",
         "name": "RDC–RDC",
         "showlegend": false,
         "type": "scattermap"
        },
        {
         "hovertemplate": "Quantity: 5<extra></extra>",
         "lat": [
          32.45936,
          36.04397
         ],
         "legendgroup": "RDC–RDC",
         "line": {
          "color": "purple",
          "width": 0.002810567734682406
         },
         "lon": [
          119.9178,
          103.91
         ],
         "mode": "lines",
         "name": "RDC–RDC",
         "showlegend": false,
         "type": "scattermap"
        },
        {
         "hovertemplate": "Quantity: 900<extra></extra>",
         "lat": [
          32.45936,
          30.68944
         ],
         "legendgroup": "RDC–RDC",
         "line": {
          "color": "purple",
          "width": 0.5059021922428331
         },
         "lon": [
          119.9178,
          104.1816
         ],
         "mode": "lines",
         "name": "RDC–RDC",
         "showlegend": false,
         "type": "scattermap"
        },
        {
         "hoverinfo": "text",
         "hovertext": [
          "RDC_Jinan",
          "RDC_Nanchang",
          "RDC_Beijing",
          "RDC_Changsha",
          "RDC_Haerbin",
          "RDC_Mianyang",
          "RDC_Zhuzhou",
          "RDC_Zhengzhou",
          "RDC_Shanghai2",
          "RDC_Weifang",
          "RDC_Hangzhou",
          "RDC_Ningbo",
          "RDC_Chengdu",
          "RDC_Wuhan",
          "RDC_Tianjin",
          "RDC_Wulumuqi",
          "RDC_Xian1",
          "RDC_Puyang",
          "RDC_Shangqiu",
          "RDC_Lanzhou",
          "RDC_Changchun",
          "RDC_Nanjing",
          "RDC_Lianyungang",
          "RDC_Suzhou",
          "RDC_Hefei2",
          "RDC_Maanshan",
          "RDC_Liaoning",
          "RDC_Tangshan",
          "RDC_Huaian",
          "RDC_Taiyuan1",
          "RDC_Baoding",
          "RDC_Xiangfan",
          "RDC_Yangzhou",
          "RDC_Shijiazhuang",
          "RDC_Dalian",
          "RDC_Handan",
          "RDC_Wuxi",
          "RDC_Taiyuan2",
          "RDC_Shanghai1",
          "RDC_Hefei1",
          "RDC_Liuzhou",
          "RDC_Chongqing",
          "RDC_Taizhou",
          "RDC_Neijiang",
          "RDC_Xian2",
          "RDC_Meishan",
          "RDC_Jinzhou",
          "RDC_Nanyang",
          "RDC_Guiyang",
          "RDC_Huhehaote",
          "RDC_Kunming",
          "RDC_Jiaozuo",
          "RDC_Linyi",
          "RDC_Jingmen",
          "RDC_Ningde",
          "RDC_Qingdao",
          "RDC_Nantong"
         ],
         "lat": {
          "dtype": "f8",
          "bdata": "GFsIclBSQkAw8Nx7uJQ8QNLj9zb97UNAPdUhN8M1PEAXDoRkAd9GQBMn9zsUNUBA+BkXDoTMO0BznUZaKl9BQEZCW86lAD9AgzRj0XReQkCcilQYW2A+QDuqmiDq7j1A443MI3+wPkB3hNOCF50+QCk/qfbpjENAkq6ZfLPtRUBxGw3gLSRBQIhodAex30FA1/oioS1fQUCoABjPoAVCQCyC/61k90VAP1JEhlUAQEDEX5M16klBQArXo3A9mj9AZw+0AkPmP0BEhlW8kak/QOeMKO0N6kRA0JuKVBjDQ0DWi6GcaMtAQB6n6Egu70JAcjPcgM9rQ0ASvYxiuQVAQJeL+E7MOkBAmkLnNXYBQ0B9BWnGooVDQGwJ+aBnT0JAt11ortOAP0A4oRABh/RCQGU2yCQjTz9ApI0j1uLjP0Amx53SwVI4QHkB9tGpqz1AV0PiHkuXPECH4SNiSpw9QPZAKzBkKUFAyJi7lpAXPkBOucK7XIxEQLLXuz/ef0BAeQYN/ROcOkB2Tx4WanFEQHNjesIS5zhAJa/OMSCfQUBhMlUwKo1BQMAhVKnZEz9AX+/+eK+qOkAldQKaCBdCQPwApDZxCkBA"
         },
         "lon": {
          "dtype": "f8",
          "bdata": "AiuHFtk2XUDtDb4wmfpcQIqO5PIfHl1AryXkg55BXED5oGez6qdfQNGRXP5DIlpAXwfOGVFKXECL/WX35G1cQHctIR/0YF5AmEwVjErCXUAXt9EA3gpeQHS1FfvLZl5ACD2bVZ8LWkCWsgxxrI9cQBsN4C2QUF1AVTAqqRPiVUDu68A5I0JbQClcj8L1xFxAUrgehettXEAK16NwPfpZQEJg5dAiU19AM8SxLm63XUBQ/Bhz18pdQCgPC7WmOV5AXrpJDAJXXUBeukkMAp9dQERpb/CF4V5AxEKtad6FXUCppE5AE8VdQCv2l92TJ1xAzczMzMzgXEBnRGlv8AlcQDQRNjy9+l1ATfOOU3SgXECNKO0NvmheQM/3U+Oln1xAIo51cRsZXkDpSC7/ISFcQOlILv8hWV5Ae4MvTKZWXUD129eBc1pbQAdfmEwVqFpA7Z48LNRWXkB3vp8aL0VaQDbNO07RQVtAbjSAt0D2WUD2l92Th0leQC0hH/RsIlxAUI2XbhKvWkAzxLEubvNbQKW9wRcmv1lAf2q8dJNMXECDUUmdgJJdQFioNc07DlxA7uvAOSPiXUAZBFYOLR5eQO58PzVeOl5A"
         },
         "marker": {
          "color": "orange",
          "size": 10
         },
         "mode": "markers",
         "name": "RDCs",
         "type": "scattermap"
        }
       ],
       "layout": {
        "template": {
         "data": {
          "histogram2dcontour": [
           {
            "type": "histogram2dcontour",
            "colorbar": {
             "outlinewidth": 0,
             "ticks": ""
            },
            "colorscale": [
             [
              0.0,
              "#0d0887"
             ],
             [
              0.1111111111111111,
              "#46039f"
             ],
             [
              0.2222222222222222,
              "#7201a8"
             ],
             [
              0.3333333333333333,
              "#9c179e"
             ],
             [
              0.4444444444444444,
              "#bd3786"
             ],
             [
              0.5555555555555556,
              "#d8576b"
             ],
             [
              0.6666666666666666,
              "#ed7953"
             ],
             [
              0.7777777777777778,
              "#fb9f3a"
             ],
             [
              0.8888888888888888,
              "#fdca26"
             ],
             [
              1.0,
              "#f0f921"
             ]
            ]
           }
          ],
          "choropleth": [
           {
            "type": "choropleth",
            "colorbar": {
             "outlinewidth": 0,
             "ticks": ""
            }
           }
          ],
          "histogram2d": [
           {
            "type": "histogram2d",
            "colorbar": {
             "outlinewidth": 0,
             "ticks": ""
            },
            "colorscale": [
             [
              0.0,
              "#0d0887"
             ],
             [
              0.1111111111111111,
              "#46039f"
             ],
             [
              0.2222222222222222,
              "#7201a8"
             ],
             [
              0.3333333333333333,
              "#9c179e"
             ],
             [
              0.4444444444444444,
              "#bd3786"
             ],
             [
              0.5555555555555556,
              "#d8576b"
             ],
             [
              0.6666666666666666,
              "#ed7953"
             ],
             [
              0.7777777777777778,
              "#fb9f3a"
             ],
             [
              0.8888888888888888,
              "#fdca26"
             ],
             [
              1.0,
              "#f0f921"
             ]
            ]
           }
          ],
          "heatmap": [
           {
            "type": "heatmap",
            "colorbar": {
             "outlinewidth": 0,
             "ticks": ""
            },
            "colorscale": [
             [
              0.0,
              "#0d0887"
             ],
             [
              0.1111111111111111,
              "#46039f"
             ],
             [
              0.2222222222222222,
              "#7201a8"
             ],
             [
              0.3333333333333333,
              "#9c179e"
             ],
             [
              0.4444444444444444,
              "#bd3786"
             ],
             [
              0.5555555555555556,
              "#d8576b"
             ],
             [
              0.6666666666666666,
              "#ed7953"
             ],
             [
              0.7777777777777778,
              "#fb9f3a"
             ],
             [
              0.8888888888888888,
              "#fdca26"
             ],
             [
              1.0,
              "#f0f921"
             ]
            ]
           }
          ],
          "contourcarpet": [
           {
            "type": "contourcarpet",
            "colorbar": {
             "outlinewidth": 0,
             "ticks": ""
            }
           }
          ],
          "contour": [
           {
            "type": "contour",
            "colorbar": {
             "outlinewidth": 0,
             "ticks": ""
            },
            "colorscale": [
             [
              0.0,
              "#0d0887"
             ],
             [
              0.1111111111111111,
              "#46039f"
             ],
             [
              0.2222222222222222,
              "#7201a8"
             ],
             [
              0.3333333333333333,
              "#9c179e"
             ],
             [
              0.4444444444444444,
              "#bd3786"
             ],
             [
              0.5555555555555556,
              "#d8576b"
             ],
             [
              0.6666666666666666,
              "#ed7953"
             ],
             [
              0.7777777777777778,
              "#fb9f3a"
             ],
             [
              0.8888888888888888,
              "#fdca26"
             ],
             [
              1.0,
              "#f0f921"
             ]
            ]
           }
          ],
          "surface": [
           {
            "type": "surface",
            "colorbar": {
             "outlinewidth": 0,
             "ticks": ""
            },
            "colorscale": [
             [
              0.0,
              "#0d0887"
             ],
             [
              0.1111111111111111,
              "#46039f"
             ],
             [
              0.2222222222222222,
              "#7201a8"
             ],
             [
              0.3333333333333333,
              "#9c179e"
             ],
             [
              0.4444444444444444,
              "#bd3786"
             ],
             [
              0.5555555555555556,
              "#d8576b"
             ],
             [
              0.6666666666666666,
              "#ed7953"
             ],
             [
              0.7777777777777778,
              "#fb9f3a"
             ],
             [
              0.8888888888888888,
              "#fdca26"
             ],
             [
              1.0,
              "#f0f921"
             ]
            ]
           }
          ],
          "mesh3d": [
           {
            "type": "mesh3d",
            "colorbar": {
             "outlinewidth": 0,
             "ticks": ""
            }
           }
          ],
          "scatter": [
           {
            "fillpattern": {
             "fillmode": "overlay",
             "size": 10,
             "solidity": 0.2
            },
            "type": "scatter"
           }
          ],
          "parcoords": [
           {
            "type": "parcoords",
            "line": {
             "colorbar": {
              "outlinewidth": 0,
              "ticks": ""
             }
            }
           }
          ],
          "scatterpolargl": [
           {
            "type": "scatterpolargl",
            "marker": {
             "colorbar": {
              "outlinewidth": 0,
              "ticks": ""
             }
            }
           }
          ],
          "bar": [
           {
            "error_x": {
             "color": "#2a3f5f"
            },
            "error_y": {
             "color": "#2a3f5f"
            },
            "marker": {
             "line": {
              "color": "#E5ECF6",
              "width": 0.5
             },
             "pattern": {
              "fillmode": "overlay",
              "size": 10,
              "solidity": 0.2
             }
            },
            "type": "bar"
           }
          ],
          "scattergeo": [
           {
            "type": "scattergeo",
            "marker": {
             "colorbar": {
              "outlinewidth": 0,
              "ticks": ""
             }
            }
           }
          ],
          "scatterpolar": [
           {
            "type": "scatterpolar",
            "marker": {
             "colorbar": {
              "outlinewidth": 0,
              "ticks": ""
             }
            }
           }
          ],
          "histogram": [
           {
            "marker": {
             "pattern": {
              "fillmode": "overlay",
              "size": 10,
              "solidity": 0.2
             }
            },
            "type": "histogram"
           }
          ],
          "scattergl": [
           {
            "type": "scattergl",
            "marker": {
             "colorbar": {
              "outlinewidth": 0,
              "ticks": ""
             }
            }
           }
          ],
          "scatter3d": [
           {
            "type": "scatter3d",
            "line": {
             "colorbar": {
              "outlinewidth": 0,
              "ticks": ""
             }
            },
            "marker": {
             "colorbar": {
              "outlinewidth": 0,
              "ticks": ""
             }
            }
           }
          ],
          "scattermap": [
           {
            "type": "scattermap",
            "marker": {
             "colorbar": {
              "outlinewidth": 0,
              "ticks": ""
             }
            }
           }
          ],
          "scattermapbox": [
           {
            "type": "scattermapbox",
            "marker": {
             "colorbar": {
              "outlinewidth": 0,
              "ticks": ""
             }
            }
           }
          ],
          "scatterternary": [
           {
            "type": "scatterternary",
            "marker": {
             "colorbar": {
              "outlinewidth": 0,
              "ticks": ""
             }
            }
           }
          ],
          "scattercarpet": [
           {
            "type": "scattercarpet",
            "marker": {
             "colorbar": {
              "outlinewidth": 0,
              "ticks": ""
             }
            }
           }
          ],
          "carpet": [
           {
            "aaxis": {
             "endlinecolor": "#2a3f5f",
             "gridcolor": "white",
             "linecolor": "white",
             "minorgridcolor": "white",
             "startlinecolor": "#2a3f5f"
            },
            "baxis": {
             "endlinecolor": "#2a3f5f",
             "gridcolor": "white",
             "linecolor": "white",
             "minorgridcolor": "white",
             "startlinecolor": "#2a3f5f"
            },
            "type": "carpet"
           }
          ],
          "table": [
           {
            "cells": {
             "fill": {
              "color": "#EBF0F8"
             },
             "line": {
              "color": "white"
             }
            },
            "header": {
             "fill": {
              "color": "#C8D4E3"
             },
             "line": {
              "color": "white"
             }
            },
            "type": "table"
           }
          ],
          "barpolar": [
           {
            "marker": {
             "line": {
              "color": "#E5ECF6",
              "width": 0.5
             },
             "pattern": {
              "fillmode": "overlay",
              "size": 10,
              "solidity": 0.2
             }
            },
            "type": "barpolar"
           }
          ],
          "pie": [
           {
            "automargin": true,
            "type": "pie"
           }
          ]
         },
         "layout": {
          "autotypenumbers": "strict",
          "colorway": [
           "#636efa",
           "#EF553B",
           "#00cc96",
           "#ab63fa",
           "#FFA15A",
           "#19d3f3",
           "#FF6692",
           "#B6E880",
           "#FF97FF",
           "#FECB52"
          ],
          "font": {
           "color": "#2a3f5f"
          },
          "hovermode": "closest",
          "hoverlabel": {
           "align": "left"
          },
          "paper_bgcolor": "white",
          "plot_bgcolor": "#E5ECF6",
          "polar": {
           "bgcolor": "#E5ECF6",
           "angularaxis": {
            "gridcolor": "white",
            "linecolor": "white",
            "ticks": ""
           },
           "radialaxis": {
            "gridcolor": "white",
            "linecolor": "white",
            "ticks": ""
           }
          },
          "ternary": {
           "bgcolor": "#E5ECF6",
           "aaxis": {
            "gridcolor": "white",
            "linecolor": "white",
            "ticks": ""
           },
           "baxis": {
            "gridcolor": "white",
            "linecolor": "white",
            "ticks": ""
           },
           "caxis": {
            "gridcolor": "white",
            "linecolor": "white",
            "ticks": ""
           }
          },
          "coloraxis": {
           "colorbar": {
            "outlinewidth": 0,
            "ticks": ""
           }
          },
          "colorscale": {
           "sequential": [
            [
             0.0,
             "#0d0887"
            ],
            [
             0.1111111111111111,
             "#46039f"
            ],
            [
             0.2222222222222222,
             "#7201a8"
            ],
            [
             0.3333333333333333,
             "#9c179e"
            ],
            [
             0.4444444444444444,
             "#bd3786"
            ],
            [
             0.5555555555555556,
             "#d8576b"
            ],
            [
             0.6666666666666666,
             "#ed7953"
            ],
            [
             0.7777777777777778,
             "#fb9f3a"
            ],
            [
             0.8888888888888888,
             "#fdca26"
            ],
            [
             1.0,
             "#f0f921"
            ]
           ],
           "sequentialminus": [
            [
             0.0,
             "#0d0887"
            ],
            [
             0.1111111111111111,
             "#46039f"
            ],
            [
             0.2222222222222222,
             "#7201a8"
            ],
            [
             0.3333333333333333,
             "#9c179e"
            ],
            [
             0.4444444444444444,
             "#bd3786"
            ],
            [
             0.5555555555555556,
             "#d8576b"
            ],
            [
             0.6666666666666666,
             "#ed7953"
            ],
            [
             0.7777777777777778,
             "#fb9f3a"
            ],
            [
             0.8888888888888888,
             "#fdca26"
            ],
            [
             1.0,
             "#f0f921"
            ]
           ],
           "diverging": [
            [
             0,
             "#8e0152"
            ],
            [
             0.1,
             "#c51b7d"
            ],
            [
             0.2,
             "#de77ae"
            ],
            [
             0.3,
             "#f1b6da"
            ],
            [
             0.4,
             "#fde0ef"
            ],
            [
             0.5,
             "#f7f7f7"
            ],
            [
             0.6,
             "#e6f5d0"
            ],
            [
             0.7,
             "#b8e186"
            ],
            [
             0.8,
             "#7fbc41"
            ],
            [
             0.9,
             "#4d9221"
            ],
            [
             1,
             "#276419"
            ]
           ]
          },
          "xaxis": {
           "gridcolor": "white",
           "linecolor": "white",
           "ticks": "",
           "title": {
            "standoff": 15
           },
           "zerolinecolor": "white",
           "automargin": true,
           "zerolinewidth": 2
          },
          "yaxis": {
           "gridcolor": "white",
           "linecolor": "white",
           "ticks": "",
           "title": {
            "standoff": 15
           },
           "zerolinecolor": "white",
           "automargin": true,
           "zerolinewidth": 2
          },
          "scene": {
           "xaxis": {
            "backgroundcolor": "#E5ECF6",
            "gridcolor": "white",
            "linecolor": "white",
            "showbackground": true,
            "ticks": "",
            "zerolinecolor": "white",
            "gridwidth": 2
           },
           "yaxis": {
            "backgroundcolor": "#E5ECF6",
            "gridcolor": "white",
            "linecolor": "white",
            "showbackground": true,
            "ticks": "",
            "zerolinecolor": "white",
            "gridwidth": 2
           },
           "zaxis": {
            "backgroundcolor": "#E5ECF6",
            "gridcolor": "white",
            "linecolor": "white",
            "showbackground": true,
            "ticks": "",
            "zerolinecolor": "white",
            "gridwidth": 2
           }
          },
          "shapedefaults": {
           "line": {
            "color": "#2a3f5f"
           }
          },
          "annotationdefaults": {
           "arrowcolor": "#2a3f5f",
           "arrowhead": 0,
           "arrowwidth": 1
          },
          "geo": {
           "bgcolor": "white",
           "landcolor": "#E5ECF6",
           "subunitcolor": "white",
           "showland": true,
           "showlakes": true,
           "lakecolor": "white"
          },
          "title": {
           "x": 0.05
          },
          "mapbox": {
           "style": "light"
          }
         }
        },
        "mapbox": {
         "center": {
          "lat": 34.67644276288659,
          "lon": 112.82405579381445
         },
         "style": "carto-positron",
         "zoom": 4
        },
        "margin": {
         "l": 0,
         "r": 0,
         "t": 30,
         "b": 0
        },
        "title": {
         "text": "RDC → RDC"
        }
       },
       "config": {
        "plotlyServerURL": "https://plot.ly"
       }
      }
     },
     "metadata": {},
     "output_type": "display_data"
    }
   ],
   "execution_count": 17
  },
  {
   "metadata": {},
   "cell_type": "markdown",
   "source": "3. 分仓-门店",
   "id": "e97a9abc2df24387"
  },
  {
   "metadata": {},
   "cell_type": "code",
   "source": [
    "# 1. 读取中国地图 shapefile\n",
    "china = gpd.read_file('map/china.shp')\n",
    "\n",
    "# 2. 读取节点和线路数据\n",
    "nodes = pd.read_csv('data/nodes.csv')\n",
    "ship_st = pd.read_csv('data/ship_sub2store.csv')\n",
    "rdcs = pd.read_csv('data/warehouses.csv')['warehouse_name'].tolist()[1:]\n",
    "stores = pd.read_csv('data/stores.csv')['store_name'].tolist()\n",
    "\n",
    "# 3. 给节点打上类别标签\n",
    "def label_node(n):\n",
    "    if n in rdcs:\n",
    "        return 'rdc'\n",
    "    elif n in stores:\n",
    "        return 'store'\n",
    "    else:\n",
    "        return 'other'\n",
    "\n",
    "nodes['category'] = nodes['node_id'].apply(label_node)\n",
    "\n",
    "# 4. 准备分仓→门店线路\n",
    "lines = []\n",
    "for _, row in ship_st.iterrows():\n",
    "    src_id, dst_id, qty = row.source, row.dest, row.qty\n",
    "    if src_id in rdcs and dst_id in stores:\n",
    "        src = nodes.loc[nodes.node_id == src_id, ['lng','lat']].iloc[0]\n",
    "        dst = nodes.loc[nodes.node_id == dst_id, ['lng','lat']].iloc[0]\n",
    "        lines.append((src.lng, src.lat, dst.lng, dst.lat, qty))\n",
    "\n",
    "# 5. 绘图\n",
    "fig, ax = plt.subplots(figsize=(12, 10),dpi=300)\n",
    "\n",
    "# 5.1 绘制底图\n",
    "china.plot(ax=ax, color='whitesmoke', edgecolor='gray')\n",
    "\n",
    "# 5.2 绘制所有分仓→门店线路\n",
    "max_qty = max([qty for *_, qty in lines] + [1])\n",
    "for lon1, lat1, lon2, lat2, qty in lines:\n",
    "    lw = (qty / max_qty) * 2  # 线宽比例\n",
    "    ax.plot([lon1, lon2], [lat1, lat2], color='green', linewidth=lw, alpha=0.4)\n",
    "\n",
    "# 5.3 绘制 RDC 节点\n",
    "rdc_nodes = nodes[nodes.category == 'rdc']\n",
    "ax.scatter(rdc_nodes.lng, rdc_nodes.lat, s=60, c='orange', label='RDCs', edgecolor='k')\n",
    "\n",
    "# 5.4 绘制 Store 节点\n",
    "store_nodes = nodes[nodes.category == 'store']\n",
    "ax.scatter(store_nodes.lng, store_nodes.lat, s=40, c='blue', label='Stores', edgecolor='k')\n",
    "\n",
    "# 6. 美化\n",
    "ax.set_title('RDCs → Stores')\n",
    "ax.set_xlabel('Longitude')\n",
    "ax.set_ylabel('Latitude')\n",
    "ax.legend(loc='upper left')\n",
    "ax.set_aspect('equal')\n",
    "ax.set_axis_off()\n",
    "\n",
    "plt.show()"
   ],
   "id": "580e2685a9fee647",
   "outputs": [],
   "execution_count": null
  }
 ],
 "metadata": {
  "kernelspec": {
   "display_name": "Python 3",
   "language": "python",
   "name": "python3"
  },
  "language_info": {
   "codemirror_mode": {
    "name": "ipython",
    "version": 2
   },
   "file_extension": ".py",
   "mimetype": "text/x-python",
   "name": "python",
   "nbconvert_exporter": "python",
   "pygments_lexer": "ipython2",
   "version": "2.7.6"
  }
 },
 "nbformat": 4,
 "nbformat_minor": 5
}
