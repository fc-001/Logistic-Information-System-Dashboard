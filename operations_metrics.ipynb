{
 "cells": [
  {
   "cell_type": "code",
   "id": "initial_id",
   "metadata": {
    "collapsed": true,
    "ExecuteTime": {
     "end_time": "2025-05-27T09:07:07.017592Z",
     "start_time": "2025-05-27T09:07:06.506901Z"
    }
   },
   "source": [
    "import pandas as pd\n",
    "import numpy as np\n",
    "import dash\n",
    "from dash import dcc, html, Input, Output\n",
    "import plotly.express as px\n",
    "import plotly.graph_objects as go\n",
    "from plotly.subplots import make_subplots\n",
    "from datetime import datetime\n"
   ],
   "outputs": [],
   "execution_count": 2
  },
  {
   "metadata": {
    "ExecuteTime": {
     "end_time": "2025-05-27T09:07:07.583566Z",
     "start_time": "2025-05-27T09:07:07.022010Z"
    }
   },
   "cell_type": "code",
   "source": [
    "tot2sub   = pd.read_csv('data/ship_tot2sub.csv')[['month','qty']].assign(type='Total→Sub')\n",
    "sub2sub   = pd.read_csv('data/ship_sub2sub.csv')[['month','qty']].assign(type='Sub→Sub')\n",
    "sub2store = pd.read_csv('data/ship_sub2store.csv')[['month','qty']].assign(type='Sub→Store')\n",
    "ship_vol  = pd.concat([tot2sub, sub2sub, sub2store], ignore_index=True)\n",
    "\n",
    "nodes = pd.read_csv('data/nodes.csv')[['node_id','lat','lng']] # 经纬度\n",
    "ship_all = pd.concat([\n",
    "    pd.read_csv('data/ship_tot2sub.csv'),\n",
    "    pd.read_csv('data/ship_sub2sub.csv'),\n",
    "    pd.read_csv('data/ship_sub2store.csv')\n",
    "], ignore_index=True)\n",
    "\n",
    "ship_all = (ship_all.merge(nodes.rename(columns={'node_id':'source','lat':'lat_s','lng':'lng_s'}),on='source', how='left').merge(nodes.rename(columns={'node_id':'dest','lat':'lat_d','lng':'lng_d'}),on='dest', how='left'))\n",
    "\n",
    "def haversine(row): # 计算球面距离（不是直接经纬度相减开根号*111这种）\n",
    "    phi1, lam1, phi2, lam2 = np.radians([row.lat_s, row.lng_s, row.lat_d, row.lng_d])\n",
    "    dphi = phi2 - phi1\n",
    "    dlam = lam2 - lam1\n",
    "    a = np.sin(dphi/2)**2 + np.cos(phi1)*np.cos(phi2)*np.sin(dlam/2)**2\n",
    "    return 6371 * 2 * np.arcsin(np.sqrt(a))\n",
    "\n",
    "ship_all['distance_km'] = ship_all.apply(haversine, axis=1)\n",
    "\n",
    "\n",
    "rates    = pd.read_csv('data/rates.csv')\n",
    "ltl_rate = rates.loc[rates['mode']=='LTL', 'rate_per_km'].iloc[0]\n",
    "ship_all['estimated_cost'] = ship_all['qty'] * ship_all['distance_km'] * ltl_rate  # 全零担 LTL\n",
    "cost_df = ship_all.groupby('month')['estimated_cost'].sum().reset_index()\n",
    "\n",
    "# 分仓到门店的服务水平\n",
    "ss = pd.read_csv('data/ship_sub2store.csv')\n",
    "stores  = (pd.read_csv('data/stores.csv')[['store_name','region']].rename(columns={'store_name':'dest'}))\n",
    "svc_req = pd.read_csv('data/service_requirements.csv')\n",
    "\n",
    "df_ss = (ss.merge(nodes.rename(columns={'node_id':'source','lat':'lat_s','lng':'lng_s'}), on='source').merge(nodes.rename(columns={'node_id':'dest','lat':'lat_d','lng':'lng_d'}),   on='dest').merge(stores, on='dest').merge(svc_req, on='region'))\n",
    "df_ss['distance_km'] = df_ss.apply(haversine, axis=1)\n",
    "\n",
    "df_ss['service_hrs'] = (df_ss['service_window'].str.extract(r'(\\d+)').astype(float))\n",
    "df_ss['lead_time_hrs'] = df_ss['distance_km'] / df_ss['speed_kmph']\n",
    "df_ss['on_time'] = df_ss['lead_time_hrs'] <= df_ss['service_hrs']  # 判断是否准时\n",
    "\n",
    "\n",
    "service_df = (\n",
    "    df_ss\n",
    "    .groupby('month')\n",
    "    .agg(\n",
    "        actual_rate = ('on_time', 'mean'),\n",
    "        target_rate = ('fill_rate', lambda x: x.iloc[0] / 100)\n",
    "    )\n",
    "    .reset_index()\n",
    ")"
   ],
   "id": "45cb88b59d60bd66",
   "outputs": [],
   "execution_count": 3
  },
  {
   "metadata": {
    "ExecuteTime": {
     "end_time": "2025-05-27T09:07:07.739447Z",
     "start_time": "2025-05-27T09:07:07.601889Z"
    }
   },
   "cell_type": "code",
   "source": [
    "# 先按月、按类型汇总发运量\n",
    "vol_month = ( ship_vol.groupby(['month','type'], as_index=False)['qty'].sum())\n",
    "fig_vol = px.line(\n",
    "    vol_month,\n",
    "    x='month',\n",
    "    y='qty',\n",
    "    color='type',\n",
    "    title='各环节月度发运量趋势（按月汇总）',\n",
    "    labels={'month':'月份', 'qty':'发运量', 'type':'类型'}\n",
    ")\n",
    "fig_vol.update_layout(\n",
    "    xaxis=dict(tickmode='linear'),\n",
    "    yaxis=dict(tickformat=',')\n",
    ")\n",
    "\n",
    "fig_vol.show()\n",
    "fig_op1 = fig_vol\n"
   ],
   "id": "d3061a77dfed1a1b",
   "outputs": [
    {
     "data": {
      "application/vnd.plotly.v1+json": {
       "data": [
        {
         "hovertemplate": "类型=Sub→Store<br>月份=%{x}<br>发运量=%{y}<extra></extra>",
         "legendgroup": "Sub→Store",
         "line": {
          "color": "#636efa",
          "dash": "solid"
         },
         "marker": {
          "symbol": "circle"
         },
         "mode": "lines",
         "name": "Sub→Store",
         "orientation": "v",
         "showlegend": true,
         "x": {
          "dtype": "i1",
          "bdata": "AQQFBgcICQoLDA=="
         },
         "xaxis": "x",
         "y": {
          "dtype": "i4",
          "bdata": "GSwAAC3EAAC0KwIAGFYPAAVwEgAgChYAl+EjAOgBIgA1ozQAnwI/AA=="
         },
         "yaxis": "y",
         "type": "scatter"
        },
        {
         "hovertemplate": "类型=Sub→Sub<br>月份=%{x}<br>发运量=%{y}<extra></extra>",
         "legendgroup": "Sub→Sub",
         "line": {
          "color": "#EF553B",
          "dash": "solid"
         },
         "marker": {
          "symbol": "circle"
         },
         "mode": "lines",
         "name": "Sub→Sub",
         "orientation": "v",
         "showlegend": true,
         "x": {
          "dtype": "i1",
          "bdata": "AQIDBQYHCAkKCww="
         },
         "xaxis": "x",
         "y": {
          "dtype": "i4",
          "bdata": "F3wAABEOAACpEAAAmEABAK6XAAA5HQAAugYAAPYIAAAvIwAAt0UAANZFAAA="
         },
         "yaxis": "y",
         "type": "scatter"
        },
        {
         "hovertemplate": "类型=Total→Sub<br>月份=%{x}<br>发运量=%{y}<extra></extra>",
         "legendgroup": "Total→Sub",
         "line": {
          "color": "#00cc96",
          "dash": "solid"
         },
         "marker": {
          "symbol": "circle"
         },
         "mode": "lines",
         "name": "Total→Sub",
         "orientation": "v",
         "showlegend": true,
         "x": {
          "dtype": "i1",
          "bdata": "AQQFBgcICQoLDA=="
         },
         "xaxis": "x",
         "y": {
          "dtype": "i4",
          "bdata": "E18BAC3EAACGrgYAWDESAM9WEwD4ehYARJQkANc8IwAHhzUAA4pAAA=="
         },
         "yaxis": "y",
         "type": "scatter"
        }
       ],
       "layout": {
        "template": {
         "data": {
          "histogram2dcontour": [
           {
            "type": "histogram2dcontour",
            "colorbar": {
             "outlinewidth": 0,
             "ticks": ""
            },
            "colorscale": [
             [
              0.0,
              "#0d0887"
             ],
             [
              0.1111111111111111,
              "#46039f"
             ],
             [
              0.2222222222222222,
              "#7201a8"
             ],
             [
              0.3333333333333333,
              "#9c179e"
             ],
             [
              0.4444444444444444,
              "#bd3786"
             ],
             [
              0.5555555555555556,
              "#d8576b"
             ],
             [
              0.6666666666666666,
              "#ed7953"
             ],
             [
              0.7777777777777778,
              "#fb9f3a"
             ],
             [
              0.8888888888888888,
              "#fdca26"
             ],
             [
              1.0,
              "#f0f921"
             ]
            ]
           }
          ],
          "choropleth": [
           {
            "type": "choropleth",
            "colorbar": {
             "outlinewidth": 0,
             "ticks": ""
            }
           }
          ],
          "histogram2d": [
           {
            "type": "histogram2d",
            "colorbar": {
             "outlinewidth": 0,
             "ticks": ""
            },
            "colorscale": [
             [
              0.0,
              "#0d0887"
             ],
             [
              0.1111111111111111,
              "#46039f"
             ],
             [
              0.2222222222222222,
              "#7201a8"
             ],
             [
              0.3333333333333333,
              "#9c179e"
             ],
             [
              0.4444444444444444,
              "#bd3786"
             ],
             [
              0.5555555555555556,
              "#d8576b"
             ],
             [
              0.6666666666666666,
              "#ed7953"
             ],
             [
              0.7777777777777778,
              "#fb9f3a"
             ],
             [
              0.8888888888888888,
              "#fdca26"
             ],
             [
              1.0,
              "#f0f921"
             ]
            ]
           }
          ],
          "heatmap": [
           {
            "type": "heatmap",
            "colorbar": {
             "outlinewidth": 0,
             "ticks": ""
            },
            "colorscale": [
             [
              0.0,
              "#0d0887"
             ],
             [
              0.1111111111111111,
              "#46039f"
             ],
             [
              0.2222222222222222,
              "#7201a8"
             ],
             [
              0.3333333333333333,
              "#9c179e"
             ],
             [
              0.4444444444444444,
              "#bd3786"
             ],
             [
              0.5555555555555556,
              "#d8576b"
             ],
             [
              0.6666666666666666,
              "#ed7953"
             ],
             [
              0.7777777777777778,
              "#fb9f3a"
             ],
             [
              0.8888888888888888,
              "#fdca26"
             ],
             [
              1.0,
              "#f0f921"
             ]
            ]
           }
          ],
          "contourcarpet": [
           {
            "type": "contourcarpet",
            "colorbar": {
             "outlinewidth": 0,
             "ticks": ""
            }
           }
          ],
          "contour": [
           {
            "type": "contour",
            "colorbar": {
             "outlinewidth": 0,
             "ticks": ""
            },
            "colorscale": [
             [
              0.0,
              "#0d0887"
             ],
             [
              0.1111111111111111,
              "#46039f"
             ],
             [
              0.2222222222222222,
              "#7201a8"
             ],
             [
              0.3333333333333333,
              "#9c179e"
             ],
             [
              0.4444444444444444,
              "#bd3786"
             ],
             [
              0.5555555555555556,
              "#d8576b"
             ],
             [
              0.6666666666666666,
              "#ed7953"
             ],
             [
              0.7777777777777778,
              "#fb9f3a"
             ],
             [
              0.8888888888888888,
              "#fdca26"
             ],
             [
              1.0,
              "#f0f921"
             ]
            ]
           }
          ],
          "surface": [
           {
            "type": "surface",
            "colorbar": {
             "outlinewidth": 0,
             "ticks": ""
            },
            "colorscale": [
             [
              0.0,
              "#0d0887"
             ],
             [
              0.1111111111111111,
              "#46039f"
             ],
             [
              0.2222222222222222,
              "#7201a8"
             ],
             [
              0.3333333333333333,
              "#9c179e"
             ],
             [
              0.4444444444444444,
              "#bd3786"
             ],
             [
              0.5555555555555556,
              "#d8576b"
             ],
             [
              0.6666666666666666,
              "#ed7953"
             ],
             [
              0.7777777777777778,
              "#fb9f3a"
             ],
             [
              0.8888888888888888,
              "#fdca26"
             ],
             [
              1.0,
              "#f0f921"
             ]
            ]
           }
          ],
          "mesh3d": [
           {
            "type": "mesh3d",
            "colorbar": {
             "outlinewidth": 0,
             "ticks": ""
            }
           }
          ],
          "scatter": [
           {
            "fillpattern": {
             "fillmode": "overlay",
             "size": 10,
             "solidity": 0.2
            },
            "type": "scatter"
           }
          ],
          "parcoords": [
           {
            "type": "parcoords",
            "line": {
             "colorbar": {
              "outlinewidth": 0,
              "ticks": ""
             }
            }
           }
          ],
          "scatterpolargl": [
           {
            "type": "scatterpolargl",
            "marker": {
             "colorbar": {
              "outlinewidth": 0,
              "ticks": ""
             }
            }
           }
          ],
          "bar": [
           {
            "error_x": {
             "color": "#2a3f5f"
            },
            "error_y": {
             "color": "#2a3f5f"
            },
            "marker": {
             "line": {
              "color": "#E5ECF6",
              "width": 0.5
             },
             "pattern": {
              "fillmode": "overlay",
              "size": 10,
              "solidity": 0.2
             }
            },
            "type": "bar"
           }
          ],
          "scattergeo": [
           {
            "type": "scattergeo",
            "marker": {
             "colorbar": {
              "outlinewidth": 0,
              "ticks": ""
             }
            }
           }
          ],
          "scatterpolar": [
           {
            "type": "scatterpolar",
            "marker": {
             "colorbar": {
              "outlinewidth": 0,
              "ticks": ""
             }
            }
           }
          ],
          "histogram": [
           {
            "marker": {
             "pattern": {
              "fillmode": "overlay",
              "size": 10,
              "solidity": 0.2
             }
            },
            "type": "histogram"
           }
          ],
          "scattergl": [
           {
            "type": "scattergl",
            "marker": {
             "colorbar": {
              "outlinewidth": 0,
              "ticks": ""
             }
            }
           }
          ],
          "scatter3d": [
           {
            "type": "scatter3d",
            "line": {
             "colorbar": {
              "outlinewidth": 0,
              "ticks": ""
             }
            },
            "marker": {
             "colorbar": {
              "outlinewidth": 0,
              "ticks": ""
             }
            }
           }
          ],
          "scattermap": [
           {
            "type": "scattermap",
            "marker": {
             "colorbar": {
              "outlinewidth": 0,
              "ticks": ""
             }
            }
           }
          ],
          "scattermapbox": [
           {
            "type": "scattermapbox",
            "marker": {
             "colorbar": {
              "outlinewidth": 0,
              "ticks": ""
             }
            }
           }
          ],
          "scatterternary": [
           {
            "type": "scatterternary",
            "marker": {
             "colorbar": {
              "outlinewidth": 0,
              "ticks": ""
             }
            }
           }
          ],
          "scattercarpet": [
           {
            "type": "scattercarpet",
            "marker": {
             "colorbar": {
              "outlinewidth": 0,
              "ticks": ""
             }
            }
           }
          ],
          "carpet": [
           {
            "aaxis": {
             "endlinecolor": "#2a3f5f",
             "gridcolor": "white",
             "linecolor": "white",
             "minorgridcolor": "white",
             "startlinecolor": "#2a3f5f"
            },
            "baxis": {
             "endlinecolor": "#2a3f5f",
             "gridcolor": "white",
             "linecolor": "white",
             "minorgridcolor": "white",
             "startlinecolor": "#2a3f5f"
            },
            "type": "carpet"
           }
          ],
          "table": [
           {
            "cells": {
             "fill": {
              "color": "#EBF0F8"
             },
             "line": {
              "color": "white"
             }
            },
            "header": {
             "fill": {
              "color": "#C8D4E3"
             },
             "line": {
              "color": "white"
             }
            },
            "type": "table"
           }
          ],
          "barpolar": [
           {
            "marker": {
             "line": {
              "color": "#E5ECF6",
              "width": 0.5
             },
             "pattern": {
              "fillmode": "overlay",
              "size": 10,
              "solidity": 0.2
             }
            },
            "type": "barpolar"
           }
          ],
          "pie": [
           {
            "automargin": true,
            "type": "pie"
           }
          ]
         },
         "layout": {
          "autotypenumbers": "strict",
          "colorway": [
           "#636efa",
           "#EF553B",
           "#00cc96",
           "#ab63fa",
           "#FFA15A",
           "#19d3f3",
           "#FF6692",
           "#B6E880",
           "#FF97FF",
           "#FECB52"
          ],
          "font": {
           "color": "#2a3f5f"
          },
          "hovermode": "closest",
          "hoverlabel": {
           "align": "left"
          },
          "paper_bgcolor": "white",
          "plot_bgcolor": "#E5ECF6",
          "polar": {
           "bgcolor": "#E5ECF6",
           "angularaxis": {
            "gridcolor": "white",
            "linecolor": "white",
            "ticks": ""
           },
           "radialaxis": {
            "gridcolor": "white",
            "linecolor": "white",
            "ticks": ""
           }
          },
          "ternary": {
           "bgcolor": "#E5ECF6",
           "aaxis": {
            "gridcolor": "white",
            "linecolor": "white",
            "ticks": ""
           },
           "baxis": {
            "gridcolor": "white",
            "linecolor": "white",
            "ticks": ""
           },
           "caxis": {
            "gridcolor": "white",
            "linecolor": "white",
            "ticks": ""
           }
          },
          "coloraxis": {
           "colorbar": {
            "outlinewidth": 0,
            "ticks": ""
           }
          },
          "colorscale": {
           "sequential": [
            [
             0.0,
             "#0d0887"
            ],
            [
             0.1111111111111111,
             "#46039f"
            ],
            [
             0.2222222222222222,
             "#7201a8"
            ],
            [
             0.3333333333333333,
             "#9c179e"
            ],
            [
             0.4444444444444444,
             "#bd3786"
            ],
            [
             0.5555555555555556,
             "#d8576b"
            ],
            [
             0.6666666666666666,
             "#ed7953"
            ],
            [
             0.7777777777777778,
             "#fb9f3a"
            ],
            [
             0.8888888888888888,
             "#fdca26"
            ],
            [
             1.0,
             "#f0f921"
            ]
           ],
           "sequentialminus": [
            [
             0.0,
             "#0d0887"
            ],
            [
             0.1111111111111111,
             "#46039f"
            ],
            [
             0.2222222222222222,
             "#7201a8"
            ],
            [
             0.3333333333333333,
             "#9c179e"
            ],
            [
             0.4444444444444444,
             "#bd3786"
            ],
            [
             0.5555555555555556,
             "#d8576b"
            ],
            [
             0.6666666666666666,
             "#ed7953"
            ],
            [
             0.7777777777777778,
             "#fb9f3a"
            ],
            [
             0.8888888888888888,
             "#fdca26"
            ],
            [
             1.0,
             "#f0f921"
            ]
           ],
           "diverging": [
            [
             0,
             "#8e0152"
            ],
            [
             0.1,
             "#c51b7d"
            ],
            [
             0.2,
             "#de77ae"
            ],
            [
             0.3,
             "#f1b6da"
            ],
            [
             0.4,
             "#fde0ef"
            ],
            [
             0.5,
             "#f7f7f7"
            ],
            [
             0.6,
             "#e6f5d0"
            ],
            [
             0.7,
             "#b8e186"
            ],
            [
             0.8,
             "#7fbc41"
            ],
            [
             0.9,
             "#4d9221"
            ],
            [
             1,
             "#276419"
            ]
           ]
          },
          "xaxis": {
           "gridcolor": "white",
           "linecolor": "white",
           "ticks": "",
           "title": {
            "standoff": 15
           },
           "zerolinecolor": "white",
           "automargin": true,
           "zerolinewidth": 2
          },
          "yaxis": {
           "gridcolor": "white",
           "linecolor": "white",
           "ticks": "",
           "title": {
            "standoff": 15
           },
           "zerolinecolor": "white",
           "automargin": true,
           "zerolinewidth": 2
          },
          "scene": {
           "xaxis": {
            "backgroundcolor": "#E5ECF6",
            "gridcolor": "white",
            "linecolor": "white",
            "showbackground": true,
            "ticks": "",
            "zerolinecolor": "white",
            "gridwidth": 2
           },
           "yaxis": {
            "backgroundcolor": "#E5ECF6",
            "gridcolor": "white",
            "linecolor": "white",
            "showbackground": true,
            "ticks": "",
            "zerolinecolor": "white",
            "gridwidth": 2
           },
           "zaxis": {
            "backgroundcolor": "#E5ECF6",
            "gridcolor": "white",
            "linecolor": "white",
            "showbackground": true,
            "ticks": "",
            "zerolinecolor": "white",
            "gridwidth": 2
           }
          },
          "shapedefaults": {
           "line": {
            "color": "#2a3f5f"
           }
          },
          "annotationdefaults": {
           "arrowcolor": "#2a3f5f",
           "arrowhead": 0,
           "arrowwidth": 1
          },
          "geo": {
           "bgcolor": "white",
           "landcolor": "#E5ECF6",
           "subunitcolor": "white",
           "showland": true,
           "showlakes": true,
           "lakecolor": "white"
          },
          "title": {
           "x": 0.05
          },
          "mapbox": {
           "style": "light"
          }
         }
        },
        "xaxis": {
         "anchor": "y",
         "domain": [
          0.0,
          1.0
         ],
         "title": {
          "text": "月份"
         },
         "tickmode": "linear"
        },
        "yaxis": {
         "anchor": "x",
         "domain": [
          0.0,
          1.0
         ],
         "title": {
          "text": "发运量"
         },
         "tickformat": ","
        },
        "legend": {
         "title": {
          "text": "类型"
         },
         "tracegroupgap": 0
        },
        "title": {
         "text": "各环节月度发运量趋势（按月汇总）"
        }
       },
       "config": {
        "plotlyServerURL": "https://plot.ly"
       }
      }
     },
     "metadata": {},
     "output_type": "display_data"
    }
   ],
   "execution_count": 4
  },
  {
   "metadata": {
    "ExecuteTime": {
     "end_time": "2025-05-27T09:07:07.805772Z",
     "start_time": "2025-05-27T09:07:07.761623Z"
    }
   },
   "cell_type": "code",
   "source": [
    "rate_map = service_df.set_index('month')['actual_rate'].to_dict()\n",
    "daily_cost_list = []\n",
    "daily_svc_list  = []\n",
    "year = datetime.now().year\n",
    "\n",
    "for _, row in cost_df.iterrows():\n",
    "    m = int(row.month)\n",
    "    total_cost   = row.estimated_cost\n",
    "    monthly_rate = rate_map.get(row.month, np.nan)\n",
    "    n_days = pd.Period(f\"{year}-{m:02d}\").days_in_month\n",
    "    dates  = pd.date_range(f\"{year}-{m:02d}-01\", periods=n_days)\n",
    "    w = np.random.rand(n_days); w /= w.sum()\n",
    "    if np.isnan(monthly_rate):\n",
    "        rates = np.full(n_days, np.nan)\n",
    "    else:\n",
    "        rates = np.clip(\n",
    "            np.random.normal(loc=monthly_rate, scale=0.02, size=n_days),\n",
    "            0, 1\n",
    "        )\n",
    "\n",
    "    for d, wt, rt in zip(dates, w, rates):\n",
    "        daily_cost_list.append({ \"date\": d,           \"daily_cost\": total_cost * wt })\n",
    "        daily_svc_list.append({  \"date\": d,           \"daily_rate\": rt      })\n",
    "\n",
    "daily_cost_df    = pd.DataFrame(daily_cost_list)\n",
    "daily_service_df = pd.DataFrame(daily_svc_list)\n",
    "cost_df[\"date\"]    = pd.to_datetime(cost_df.month.astype(int).apply(lambda x: f\"{year}-{x:02d}-01\"))\n",
    "service_df[\"date\"] = pd.to_datetime(service_df.month.astype(int).apply(lambda x: f\"{year}-{x:02d}-01\"))\n",
    "\n",
    "fig = make_subplots(specs=[[{\"secondary_y\": True}]])\n",
    "\n",
    "# 月度成本\n",
    "fig.add_trace(go.Scatter(\n",
    "    x=cost_df[\"date\"], y=cost_df[\"estimated_cost\"],\n",
    "    mode=\"lines+markers\", name=\"月度成本(元)\",\n",
    "    line=dict(color=\"royalblue\", width=2),\n",
    "    hovertemplate=\"月度成本：%{y:,.0f} 元<extra></extra>\"\n",
    "), secondary_y=False)\n",
    "\n",
    "# 月度服务水平\n",
    "fig.add_trace(go.Scatter(\n",
    "    x=service_df[\"date\"], y=service_df[\"actual_rate\"],\n",
    "    mode=\"lines+markers\", name=\"月服务水平\",\n",
    "    line=dict(color=\"firebrick\", width=2),\n",
    "    hovertemplate=\"月服务水平：%{y:.1%}<extra></extra>\"\n",
    "), secondary_y=True)\n",
    "\n",
    "# 每日成本\n",
    "fig.add_trace(go.Scatter(\n",
    "    x=daily_cost_df[\"date\"], y=daily_cost_df[\"daily_cost\"],\n",
    "    mode=\"lines+markers\", name=\"每日成本\",\n",
    "    line=dict(color=\"royalblue\", width=1, dash=\"dash\"),\n",
    "    marker=dict(size=4),\n",
    "    hovertemplate=\"每日成本：%{y:,.0f} 元<extra></extra>\",\n",
    "    visible=\"legendonly\"\n",
    "), secondary_y=False)\n",
    "\n",
    "# 每日服务水平\n",
    "fig.add_trace(go.Scatter(\n",
    "    x=daily_service_df[\"date\"], y=daily_service_df[\"daily_rate\"],\n",
    "    mode=\"lines+markers\", name=\"每日服务水平\",\n",
    "    line=dict(color=\"firebrick\", width=1, dash=\"dash\"),\n",
    "    marker=dict(size=4),\n",
    "    hovertemplate=\"每日达成率：%{y:.1%}<extra></extra>\",\n",
    "    visible=\"legendonly\"\n",
    "), secondary_y=True)\n",
    "\n",
    "#菜单\n",
    "fig.update_layout(\n",
    "    updatemenus=[dict(\n",
    "        type=\"dropdown\", x=1.15, y=1.1,\n",
    "        buttons=[\n",
    "            dict(label=\"all\",\n",
    "                 method=\"update\",\n",
    "                 args=[{\"visible\": [True, True, True, True]}, {\"title\":\"all\"}]),\n",
    "            dict(label=\"月\",\n",
    "                 method=\"update\",\n",
    "                 args=[{\"visible\": [True, True, False, False]}, {\"title\":\"月\"}]),\n",
    "            dict(label=\"日\",\n",
    "                 method=\"update\",\n",
    "                 args=[{\"visible\": [False, False, True, True]}, {\"title\":\"日\"}]),\n",
    "        ]\n",
    "    )],\n",
    "    xaxis=dict(\n",
    "        title=\"日期\", type=\"date\",\n",
    "        tickformat=\"%m-%d\",\n",
    "        rangeslider=dict(visible=True),\n",
    "        rangeselector=dict(buttons=[\n",
    "            dict(count=7,  label=\"最近7天\",  step=\"day\",   stepmode=\"backward\"),\n",
    "            dict(count=1,  label=\"最近1月\",  step=\"month\", stepmode=\"backward\"),\n",
    "            dict(count=3,  label=\"最近3月\",  step=\"month\", stepmode=\"backward\"),\n",
    "            dict(step=\"all\", label=\"全部\")\n",
    "        ])\n",
    "    ),\n",
    "    yaxis=dict(title=\"成本(元)\", tickformat=\",\"),\n",
    "    yaxis2=dict(title=\"服务水平(%)\", tickformat=\".0%\"),\n",
    "    title=\"成本和服务水平变化\",\n",
    "    legend=dict(orientation=\"h\", yanchor=\"bottom\", y=1.02, xanchor=\"right\", x=1)\n",
    ")\n",
    "\n",
    "fig.show()\n",
    "fig_op2 = fig\n"
   ],
   "id": "5d0dcc67e8362868",
   "outputs": [
    {
     "data": {
      "application/vnd.plotly.v1+json": {
       "data": [
        {
         "hovertemplate": "月度成本：%{y:,.0f} 元<extra></extra>",
         "line": {
          "color": "royalblue",
          "width": 2
         },
         "mode": "lines+markers",
         "name": "月度成本(元)",
         "x": [
          "2025-01-01T00:00:00.000000000",
          "2025-02-01T00:00:00.000000000",
          "2025-03-01T00:00:00.000000000",
          "2025-04-01T00:00:00.000000000",
          "2025-05-01T00:00:00.000000000",
          "2025-06-01T00:00:00.000000000",
          "2025-07-01T00:00:00.000000000",
          "2025-08-01T00:00:00.000000000",
          "2025-09-01T00:00:00.000000000",
          "2025-10-01T00:00:00.000000000",
          "2025-11-01T00:00:00.000000000",
          "2025-12-01T00:00:00.000000000"
         ],
         "y": {
          "dtype": "f8",
          "bdata": "wkQag4DQIUE7IliiZavcQELtVtg2/7JAdTtAZu8oGUH5CcYv46tEQXYYFLcBHF1BlTNFNljTXEEp5KgBjO5fQcuvKwT4QGpBYuxffVl4aUFydAV+WEpyQeCZu9pkcnRB"
         },
         "type": "scatter",
         "xaxis": "x",
         "yaxis": "y"
        },
        {
         "hovertemplate": "月服务水平：%{y:.1%}<extra></extra>",
         "line": {
          "color": "firebrick",
          "width": 2
         },
         "mode": "lines+markers",
         "name": "月服务水平",
         "x": [
          "2025-01-01T00:00:00.000000000",
          "2025-04-01T00:00:00.000000000",
          "2025-05-01T00:00:00.000000000",
          "2025-06-01T00:00:00.000000000",
          "2025-07-01T00:00:00.000000000",
          "2025-08-01T00:00:00.000000000",
          "2025-09-01T00:00:00.000000000",
          "2025-10-01T00:00:00.000000000",
          "2025-11-01T00:00:00.000000000",
          "2025-12-01T00:00:00.000000000"
         ],
         "y": {
          "dtype": "f8",
          "bdata": "AAAAAAAA8D8AAAAAAADwP2X8dqkn4+8/UcL6FiWs7z8bb3nvD8zvP5c6pFur2u8/sy2krIjh7z/X1VGztNnvP5hRENBc3+8/4gqAiqHc7z8="
         },
         "type": "scatter",
         "xaxis": "x",
         "yaxis": "y2"
        },
        {
         "hovertemplate": "每日成本：%{y:,.0f} 元<extra></extra>",
         "line": {
          "color": "royalblue",
          "dash": "dash",
          "width": 1
         },
         "marker": {
          "size": 4
         },
         "mode": "lines+markers",
         "name": "每日成本",
         "visible": "legendonly",
         "x": [
          "2025-01-01T00:00:00.000000000",
          "2025-01-02T00:00:00.000000000",
          "2025-01-03T00:00:00.000000000",
          "2025-01-04T00:00:00.000000000",
          "2025-01-05T00:00:00.000000000",
          "2025-01-06T00:00:00.000000000",
          "2025-01-07T00:00:00.000000000",
          "2025-01-08T00:00:00.000000000",
          "2025-01-09T00:00:00.000000000",
          "2025-01-10T00:00:00.000000000",
          "2025-01-11T00:00:00.000000000",
          "2025-01-12T00:00:00.000000000",
          "2025-01-13T00:00:00.000000000",
          "2025-01-14T00:00:00.000000000",
          "2025-01-15T00:00:00.000000000",
          "2025-01-16T00:00:00.000000000",
          "2025-01-17T00:00:00.000000000",
          "2025-01-18T00:00:00.000000000",
          "2025-01-19T00:00:00.000000000",
          "2025-01-20T00:00:00.000000000",
          "2025-01-21T00:00:00.000000000",
          "2025-01-22T00:00:00.000000000",
          "2025-01-23T00:00:00.000000000",
          "2025-01-24T00:00:00.000000000",
          "2025-01-25T00:00:00.000000000",
          "2025-01-26T00:00:00.000000000",
          "2025-01-27T00:00:00.000000000",
          "2025-01-28T00:00:00.000000000",
          "2025-01-29T00:00:00.000000000",
          "2025-01-30T00:00:00.000000000",
          "2025-01-31T00:00:00.000000000",
          "2025-02-01T00:00:00.000000000",
          "2025-02-02T00:00:00.000000000",
          "2025-02-03T00:00:00.000000000",
          "2025-02-04T00:00:00.000000000",
          "2025-02-05T00:00:00.000000000",
          "2025-02-06T00:00:00.000000000",
          "2025-02-07T00:00:00.000000000",
          "2025-02-08T00:00:00.000000000",
          "2025-02-09T00:00:00.000000000",
          "2025-02-10T00:00:00.000000000",
          "2025-02-11T00:00:00.000000000",
          "2025-02-12T00:00:00.000000000",
          "2025-02-13T00:00:00.000000000",
          "2025-02-14T00:00:00.000000000",
          "2025-02-15T00:00:00.000000000",
          "2025-02-16T00:00:00.000000000",
          "2025-02-17T00:00:00.000000000",
          "2025-02-18T00:00:00.000000000",
          "2025-02-19T00:00:00.000000000",
          "2025-02-20T00:00:00.000000000",
          "2025-02-21T00:00:00.000000000",
          "2025-02-22T00:00:00.000000000",
          "2025-02-23T00:00:00.000000000",
          "2025-02-24T00:00:00.000000000",
          "2025-02-25T00:00:00.000000000",
          "2025-02-26T00:00:00.000000000",
          "2025-02-27T00:00:00.000000000",
          "2025-02-28T00:00:00.000000000",
          "2025-03-01T00:00:00.000000000",
          "2025-03-02T00:00:00.000000000",
          "2025-03-03T00:00:00.000000000",
          "2025-03-04T00:00:00.000000000",
          "2025-03-05T00:00:00.000000000",
          "2025-03-06T00:00:00.000000000",
          "2025-03-07T00:00:00.000000000",
          "2025-03-08T00:00:00.000000000",
          "2025-03-09T00:00:00.000000000",
          "2025-03-10T00:00:00.000000000",
          "2025-03-11T00:00:00.000000000",
          "2025-03-12T00:00:00.000000000",
          "2025-03-13T00:00:00.000000000",
          "2025-03-14T00:00:00.000000000",
          "2025-03-15T00:00:00.000000000",
          "2025-03-16T00:00:00.000000000",
          "2025-03-17T00:00:00.000000000",
          "2025-03-18T00:00:00.000000000",
          "2025-03-19T00:00:00.000000000",
          "2025-03-20T00:00:00.000000000",
          "2025-03-21T00:00:00.000000000",
          "2025-03-22T00:00:00.000000000",
          "2025-03-23T00:00:00.000000000",
          "2025-03-24T00:00:00.000000000",
          "2025-03-25T00:00:00.000000000",
          "2025-03-26T00:00:00.000000000",
          "2025-03-27T00:00:00.000000000",
          "2025-03-28T00:00:00.000000000",
          "2025-03-29T00:00:00.000000000",
          "2025-03-30T00:00:00.000000000",
          "2025-03-31T00:00:00.000000000",
          "2025-04-01T00:00:00.000000000",
          "2025-04-02T00:00:00.000000000",
          "2025-04-03T00:00:00.000000000",
          "2025-04-04T00:00:00.000000000",
          "2025-04-05T00:00:00.000000000",
          "2025-04-06T00:00:00.000000000",
          "2025-04-07T00:00:00.000000000",
          "2025-04-08T00:00:00.000000000",
          "2025-04-09T00:00:00.000000000",
          "2025-04-10T00:00:00.000000000",
          "2025-04-11T00:00:00.000000000",
          "2025-04-12T00:00:00.000000000",
          "2025-04-13T00:00:00.000000000",
          "2025-04-14T00:00:00.000000000",
          "2025-04-15T00:00:00.000000000",
          "2025-04-16T00:00:00.000000000",
          "2025-04-17T00:00:00.000000000",
          "2025-04-18T00:00:00.000000000",
          "2025-04-19T00:00:00.000000000",
          "2025-04-20T00:00:00.000000000",
          "2025-04-21T00:00:00.000000000",
          "2025-04-22T00:00:00.000000000",
          "2025-04-23T00:00:00.000000000",
          "2025-04-24T00:00:00.000000000",
          "2025-04-25T00:00:00.000000000",
          "2025-04-26T00:00:00.000000000",
          "2025-04-27T00:00:00.000000000",
          "2025-04-28T00:00:00.000000000",
          "2025-04-29T00:00:00.000000000",
          "2025-04-30T00:00:00.000000000",
          "2025-05-01T00:00:00.000000000",
          "2025-05-02T00:00:00.000000000",
          "2025-05-03T00:00:00.000000000",
          "2025-05-04T00:00:00.000000000",
          "2025-05-05T00:00:00.000000000",
          "2025-05-06T00:00:00.000000000",
          "2025-05-07T00:00:00.000000000",
          "2025-05-08T00:00:00.000000000",
          "2025-05-09T00:00:00.000000000",
          "2025-05-10T00:00:00.000000000",
          "2025-05-11T00:00:00.000000000",
          "2025-05-12T00:00:00.000000000",
          "2025-05-13T00:00:00.000000000",
          "2025-05-14T00:00:00.000000000",
          "2025-05-15T00:00:00.000000000",
          "2025-05-16T00:00:00.000000000",
          "2025-05-17T00:00:00.000000000",
          "2025-05-18T00:00:00.000000000",
          "2025-05-19T00:00:00.000000000",
          "2025-05-20T00:00:00.000000000",
          "2025-05-21T00:00:00.000000000",
          "2025-05-22T00:00:00.000000000",
          "2025-05-23T00:00:00.000000000",
          "2025-05-24T00:00:00.000000000",
          "2025-05-25T00:00:00.000000000",
          "2025-05-26T00:00:00.000000000",
          "2025-05-27T00:00:00.000000000",
          "2025-05-28T00:00:00.000000000",
          "2025-05-29T00:00:00.000000000",
          "2025-05-30T00:00:00.000000000",
          "2025-05-31T00:00:00.000000000",
          "2025-06-01T00:00:00.000000000",
          "2025-06-02T00:00:00.000000000",
          "2025-06-03T00:00:00.000000000",
          "2025-06-04T00:00:00.000000000",
          "2025-06-05T00:00:00.000000000",
          "2025-06-06T00:00:00.000000000",
          "2025-06-07T00:00:00.000000000",
          "2025-06-08T00:00:00.000000000",
          "2025-06-09T00:00:00.000000000",
          "2025-06-10T00:00:00.000000000",
          "2025-06-11T00:00:00.000000000",
          "2025-06-12T00:00:00.000000000",
          "2025-06-13T00:00:00.000000000",
          "2025-06-14T00:00:00.000000000",
          "2025-06-15T00:00:00.000000000",
          "2025-06-16T00:00:00.000000000",
          "2025-06-17T00:00:00.000000000",
          "2025-06-18T00:00:00.000000000",
          "2025-06-19T00:00:00.000000000",
          "2025-06-20T00:00:00.000000000",
          "2025-06-21T00:00:00.000000000",
          "2025-06-22T00:00:00.000000000",
          "2025-06-23T00:00:00.000000000",
          "2025-06-24T00:00:00.000000000",
          "2025-06-25T00:00:00.000000000",
          "2025-06-26T00:00:00.000000000",
          "2025-06-27T00:00:00.000000000",
          "2025-06-28T00:00:00.000000000",
          "2025-06-29T00:00:00.000000000",
          "2025-06-30T00:00:00.000000000",
          "2025-07-01T00:00:00.000000000",
          "2025-07-02T00:00:00.000000000",
          "2025-07-03T00:00:00.000000000",
          "2025-07-04T00:00:00.000000000",
          "2025-07-05T00:00:00.000000000",
          "2025-07-06T00:00:00.000000000",
          "2025-07-07T00:00:00.000000000",
          "2025-07-08T00:00:00.000000000",
          "2025-07-09T00:00:00.000000000",
          "2025-07-10T00:00:00.000000000",
          "2025-07-11T00:00:00.000000000",
          "2025-07-12T00:00:00.000000000",
          "2025-07-13T00:00:00.000000000",
          "2025-07-14T00:00:00.000000000",
          "2025-07-15T00:00:00.000000000",
          "2025-07-16T00:00:00.000000000",
          "2025-07-17T00:00:00.000000000",
          "2025-07-18T00:00:00.000000000",
          "2025-07-19T00:00:00.000000000",
          "2025-07-20T00:00:00.000000000",
          "2025-07-21T00:00:00.000000000",
          "2025-07-22T00:00:00.000000000",
          "2025-07-23T00:00:00.000000000",
          "2025-07-24T00:00:00.000000000",
          "2025-07-25T00:00:00.000000000",
          "2025-07-26T00:00:00.000000000",
          "2025-07-27T00:00:00.000000000",
          "2025-07-28T00:00:00.000000000",
          "2025-07-29T00:00:00.000000000",
          "2025-07-30T00:00:00.000000000",
          "2025-07-31T00:00:00.000000000",
          "2025-08-01T00:00:00.000000000",
          "2025-08-02T00:00:00.000000000",
          "2025-08-03T00:00:00.000000000",
          "2025-08-04T00:00:00.000000000",
          "2025-08-05T00:00:00.000000000",
          "2025-08-06T00:00:00.000000000",
          "2025-08-07T00:00:00.000000000",
          "2025-08-08T00:00:00.000000000",
          "2025-08-09T00:00:00.000000000",
          "2025-08-10T00:00:00.000000000",
          "2025-08-11T00:00:00.000000000",
          "2025-08-12T00:00:00.000000000",
          "2025-08-13T00:00:00.000000000",
          "2025-08-14T00:00:00.000000000",
          "2025-08-15T00:00:00.000000000",
          "2025-08-16T00:00:00.000000000",
          "2025-08-17T00:00:00.000000000",
          "2025-08-18T00:00:00.000000000",
          "2025-08-19T00:00:00.000000000",
          "2025-08-20T00:00:00.000000000",
          "2025-08-21T00:00:00.000000000",
          "2025-08-22T00:00:00.000000000",
          "2025-08-23T00:00:00.000000000",
          "2025-08-24T00:00:00.000000000",
          "2025-08-25T00:00:00.000000000",
          "2025-08-26T00:00:00.000000000",
          "2025-08-27T00:00:00.000000000",
          "2025-08-28T00:00:00.000000000",
          "2025-08-29T00:00:00.000000000",
          "2025-08-30T00:00:00.000000000",
          "2025-08-31T00:00:00.000000000",
          "2025-09-01T00:00:00.000000000",
          "2025-09-02T00:00:00.000000000",
          "2025-09-03T00:00:00.000000000",
          "2025-09-04T00:00:00.000000000",
          "2025-09-05T00:00:00.000000000",
          "2025-09-06T00:00:00.000000000",
          "2025-09-07T00:00:00.000000000",
          "2025-09-08T00:00:00.000000000",
          "2025-09-09T00:00:00.000000000",
          "2025-09-10T00:00:00.000000000",
          "2025-09-11T00:00:00.000000000",
          "2025-09-12T00:00:00.000000000",
          "2025-09-13T00:00:00.000000000",
          "2025-09-14T00:00:00.000000000",
          "2025-09-15T00:00:00.000000000",
          "2025-09-16T00:00:00.000000000",
          "2025-09-17T00:00:00.000000000",
          "2025-09-18T00:00:00.000000000",
          "2025-09-19T00:00:00.000000000",
          "2025-09-20T00:00:00.000000000",
          "2025-09-21T00:00:00.000000000",
          "2025-09-22T00:00:00.000000000",
          "2025-09-23T00:00:00.000000000",
          "2025-09-24T00:00:00.000000000",
          "2025-09-25T00:00:00.000000000",
          "2025-09-26T00:00:00.000000000",
          "2025-09-27T00:00:00.000000000",
          "2025-09-28T00:00:00.000000000",
          "2025-09-29T00:00:00.000000000",
          "2025-09-30T00:00:00.000000000",
          "2025-10-01T00:00:00.000000000",
          "2025-10-02T00:00:00.000000000",
          "2025-10-03T00:00:00.000000000",
          "2025-10-04T00:00:00.000000000",
          "2025-10-05T00:00:00.000000000",
          "2025-10-06T00:00:00.000000000",
          "2025-10-07T00:00:00.000000000",
          "2025-10-08T00:00:00.000000000",
          "2025-10-09T00:00:00.000000000",
          "2025-10-10T00:00:00.000000000",
          "2025-10-11T00:00:00.000000000",
          "2025-10-12T00:00:00.000000000",
          "2025-10-13T00:00:00.000000000",
          "2025-10-14T00:00:00.000000000",
          "2025-10-15T00:00:00.000000000",
          "2025-10-16T00:00:00.000000000",
          "2025-10-17T00:00:00.000000000",
          "2025-10-18T00:00:00.000000000",
          "2025-10-19T00:00:00.000000000",
          "2025-10-20T00:00:00.000000000",
          "2025-10-21T00:00:00.000000000",
          "2025-10-22T00:00:00.000000000",
          "2025-10-23T00:00:00.000000000",
          "2025-10-24T00:00:00.000000000",
          "2025-10-25T00:00:00.000000000",
          "2025-10-26T00:00:00.000000000",
          "2025-10-27T00:00:00.000000000",
          "2025-10-28T00:00:00.000000000",
          "2025-10-29T00:00:00.000000000",
          "2025-10-30T00:00:00.000000000",
          "2025-10-31T00:00:00.000000000",
          "2025-11-01T00:00:00.000000000",
          "2025-11-02T00:00:00.000000000",
          "2025-11-03T00:00:00.000000000",
          "2025-11-04T00:00:00.000000000",
          "2025-11-05T00:00:00.000000000",
          "2025-11-06T00:00:00.000000000",
          "2025-11-07T00:00:00.000000000",
          "2025-11-08T00:00:00.000000000",
          "2025-11-09T00:00:00.000000000",
          "2025-11-10T00:00:00.000000000",
          "2025-11-11T00:00:00.000000000",
          "2025-11-12T00:00:00.000000000",
          "2025-11-13T00:00:00.000000000",
          "2025-11-14T00:00:00.000000000",
          "2025-11-15T00:00:00.000000000",
          "2025-11-16T00:00:00.000000000",
          "2025-11-17T00:00:00.000000000",
          "2025-11-18T00:00:00.000000000",
          "2025-11-19T00:00:00.000000000",
          "2025-11-20T00:00:00.000000000",
          "2025-11-21T00:00:00.000000000",
          "2025-11-22T00:00:00.000000000",
          "2025-11-23T00:00:00.000000000",
          "2025-11-24T00:00:00.000000000",
          "2025-11-25T00:00:00.000000000",
          "2025-11-26T00:00:00.000000000",
          "2025-11-27T00:00:00.000000000",
          "2025-11-28T00:00:00.000000000",
          "2025-11-29T00:00:00.000000000",
          "2025-11-30T00:00:00.000000000",
          "2025-12-01T00:00:00.000000000",
          "2025-12-02T00:00:00.000000000",
          "2025-12-03T00:00:00.000000000",
          "2025-12-04T00:00:00.000000000",
          "2025-12-05T00:00:00.000000000",
          "2025-12-06T00:00:00.000000000",
          "2025-12-07T00:00:00.000000000",
          "2025-12-08T00:00:00.000000000",
          "2025-12-09T00:00:00.000000000",
          "2025-12-10T00:00:00.000000000",
          "2025-12-11T00:00:00.000000000",
          "2025-12-12T00:00:00.000000000",
          "2025-12-13T00:00:00.000000000",
          "2025-12-14T00:00:00.000000000",
          "2025-12-15T00:00:00.000000000",
          "2025-12-16T00:00:00.000000000",
          "2025-12-17T00:00:00.000000000",
          "2025-12-18T00:00:00.000000000",
          "2025-12-19T00:00:00.000000000",
          "2025-12-20T00:00:00.000000000",
          "2025-12-21T00:00:00.000000000",
          "2025-12-22T00:00:00.000000000",
          "2025-12-23T00:00:00.000000000",
          "2025-12-24T00:00:00.000000000",
          "2025-12-25T00:00:00.000000000",
          "2025-12-26T00:00:00.000000000",
          "2025-12-27T00:00:00.000000000",
          "2025-12-28T00:00:00.000000000",
          "2025-12-29T00:00:00.000000000",
          "2025-12-30T00:00:00.000000000",
          "2025-12-31T00:00:00.000000000"
         ],
         "y": {
          "dtype": "f8",
          "bdata": "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"
         },
         "type": "scatter",
         "xaxis": "x",
         "yaxis": "y"
        },
        {
         "hovertemplate": "每日达成率：%{y:.1%}<extra></extra>",
         "line": {
          "color": "firebrick",
          "dash": "dash",
          "width": 1
         },
         "marker": {
          "size": 4
         },
         "mode": "lines+markers",
         "name": "每日服务水平",
         "visible": "legendonly",
         "x": [
          "2025-01-01T00:00:00.000000000",
          "2025-01-02T00:00:00.000000000",
          "2025-01-03T00:00:00.000000000",
          "2025-01-04T00:00:00.000000000",
          "2025-01-05T00:00:00.000000000",
          "2025-01-06T00:00:00.000000000",
          "2025-01-07T00:00:00.000000000",
          "2025-01-08T00:00:00.000000000",
          "2025-01-09T00:00:00.000000000",
          "2025-01-10T00:00:00.000000000",
          "2025-01-11T00:00:00.000000000",
          "2025-01-12T00:00:00.000000000",
          "2025-01-13T00:00:00.000000000",
          "2025-01-14T00:00:00.000000000",
          "2025-01-15T00:00:00.000000000",
          "2025-01-16T00:00:00.000000000",
          "2025-01-17T00:00:00.000000000",
          "2025-01-18T00:00:00.000000000",
          "2025-01-19T00:00:00.000000000",
          "2025-01-20T00:00:00.000000000",
          "2025-01-21T00:00:00.000000000",
          "2025-01-22T00:00:00.000000000",
          "2025-01-23T00:00:00.000000000",
          "2025-01-24T00:00:00.000000000",
          "2025-01-25T00:00:00.000000000",
          "2025-01-26T00:00:00.000000000",
          "2025-01-27T00:00:00.000000000",
          "2025-01-28T00:00:00.000000000",
          "2025-01-29T00:00:00.000000000",
          "2025-01-30T00:00:00.000000000",
          "2025-01-31T00:00:00.000000000",
          "2025-02-01T00:00:00.000000000",
          "2025-02-02T00:00:00.000000000",
          "2025-02-03T00:00:00.000000000",
          "2025-02-04T00:00:00.000000000",
          "2025-02-05T00:00:00.000000000",
          "2025-02-06T00:00:00.000000000",
          "2025-02-07T00:00:00.000000000",
          "2025-02-08T00:00:00.000000000",
          "2025-02-09T00:00:00.000000000",
          "2025-02-10T00:00:00.000000000",
          "2025-02-11T00:00:00.000000000",
          "2025-02-12T00:00:00.000000000",
          "2025-02-13T00:00:00.000000000",
          "2025-02-14T00:00:00.000000000",
          "2025-02-15T00:00:00.000000000",
          "2025-02-16T00:00:00.000000000",
          "2025-02-17T00:00:00.000000000",
          "2025-02-18T00:00:00.000000000",
          "2025-02-19T00:00:00.000000000",
          "2025-02-20T00:00:00.000000000",
          "2025-02-21T00:00:00.000000000",
          "2025-02-22T00:00:00.000000000",
          "2025-02-23T00:00:00.000000000",
          "2025-02-24T00:00:00.000000000",
          "2025-02-25T00:00:00.000000000",
          "2025-02-26T00:00:00.000000000",
          "2025-02-27T00:00:00.000000000",
          "2025-02-28T00:00:00.000000000",
          "2025-03-01T00:00:00.000000000",
          "2025-03-02T00:00:00.000000000",
          "2025-03-03T00:00:00.000000000",
          "2025-03-04T00:00:00.000000000",
          "2025-03-05T00:00:00.000000000",
          "2025-03-06T00:00:00.000000000",
          "2025-03-07T00:00:00.000000000",
          "2025-03-08T00:00:00.000000000",
          "2025-03-09T00:00:00.000000000",
          "2025-03-10T00:00:00.000000000",
          "2025-03-11T00:00:00.000000000",
          "2025-03-12T00:00:00.000000000",
          "2025-03-13T00:00:00.000000000",
          "2025-03-14T00:00:00.000000000",
          "2025-03-15T00:00:00.000000000",
          "2025-03-16T00:00:00.000000000",
          "2025-03-17T00:00:00.000000000",
          "2025-03-18T00:00:00.000000000",
          "2025-03-19T00:00:00.000000000",
          "2025-03-20T00:00:00.000000000",
          "2025-03-21T00:00:00.000000000",
          "2025-03-22T00:00:00.000000000",
          "2025-03-23T00:00:00.000000000",
          "2025-03-24T00:00:00.000000000",
          "2025-03-25T00:00:00.000000000",
          "2025-03-26T00:00:00.000000000",
          "2025-03-27T00:00:00.000000000",
          "2025-03-28T00:00:00.000000000",
          "2025-03-29T00:00:00.000000000",
          "2025-03-30T00:00:00.000000000",
          "2025-03-31T00:00:00.000000000",
          "2025-04-01T00:00:00.000000000",
          "2025-04-02T00:00:00.000000000",
          "2025-04-03T00:00:00.000000000",
          "2025-04-04T00:00:00.000000000",
          "2025-04-05T00:00:00.000000000",
          "2025-04-06T00:00:00.000000000",
          "2025-04-07T00:00:00.000000000",
          "2025-04-08T00:00:00.000000000",
          "2025-04-09T00:00:00.000000000",
          "2025-04-10T00:00:00.000000000",
          "2025-04-11T00:00:00.000000000",
          "2025-04-12T00:00:00.000000000",
          "2025-04-13T00:00:00.000000000",
          "2025-04-14T00:00:00.000000000",
          "2025-04-15T00:00:00.000000000",
          "2025-04-16T00:00:00.000000000",
          "2025-04-17T00:00:00.000000000",
          "2025-04-18T00:00:00.000000000",
          "2025-04-19T00:00:00.000000000",
          "2025-04-20T00:00:00.000000000",
          "2025-04-21T00:00:00.000000000",
          "2025-04-22T00:00:00.000000000",
          "2025-04-23T00:00:00.000000000",
          "2025-04-24T00:00:00.000000000",
          "2025-04-25T00:00:00.000000000",
          "2025-04-26T00:00:00.000000000",
          "2025-04-27T00:00:00.000000000",
          "2025-04-28T00:00:00.000000000",
          "2025-04-29T00:00:00.000000000",
          "2025-04-30T00:00:00.000000000",
          "2025-05-01T00:00:00.000000000",
          "2025-05-02T00:00:00.000000000",
          "2025-05-03T00:00:00.000000000",
          "2025-05-04T00:00:00.000000000",
          "2025-05-05T00:00:00.000000000",
          "2025-05-06T00:00:00.000000000",
          "2025-05-07T00:00:00.000000000",
          "2025-05-08T00:00:00.000000000",
          "2025-05-09T00:00:00.000000000",
          "2025-05-10T00:00:00.000000000",
          "2025-05-11T00:00:00.000000000",
          "2025-05-12T00:00:00.000000000",
          "2025-05-13T00:00:00.000000000",
          "2025-05-14T00:00:00.000000000",
          "2025-05-15T00:00:00.000000000",
          "2025-05-16T00:00:00.000000000",
          "2025-05-17T00:00:00.000000000",
          "2025-05-18T00:00:00.000000000",
          "2025-05-19T00:00:00.000000000",
          "2025-05-20T00:00:00.000000000",
          "2025-05-21T00:00:00.000000000",
          "2025-05-22T00:00:00.000000000",
          "2025-05-23T00:00:00.000000000",
          "2025-05-24T00:00:00.000000000",
          "2025-05-25T00:00:00.000000000",
          "2025-05-26T00:00:00.000000000",
          "2025-05-27T00:00:00.000000000",
          "2025-05-28T00:00:00.000000000",
          "2025-05-29T00:00:00.000000000",
          "2025-05-30T00:00:00.000000000",
          "2025-05-31T00:00:00.000000000",
          "2025-06-01T00:00:00.000000000",
          "2025-06-02T00:00:00.000000000",
          "2025-06-03T00:00:00.000000000",
          "2025-06-04T00:00:00.000000000",
          "2025-06-05T00:00:00.000000000",
          "2025-06-06T00:00:00.000000000",
          "2025-06-07T00:00:00.000000000",
          "2025-06-08T00:00:00.000000000",
          "2025-06-09T00:00:00.000000000",
          "2025-06-10T00:00:00.000000000",
          "2025-06-11T00:00:00.000000000",
          "2025-06-12T00:00:00.000000000",
          "2025-06-13T00:00:00.000000000",
          "2025-06-14T00:00:00.000000000",
          "2025-06-15T00:00:00.000000000",
          "2025-06-16T00:00:00.000000000",
          "2025-06-17T00:00:00.000000000",
          "2025-06-18T00:00:00.000000000",
          "2025-06-19T00:00:00.000000000",
          "2025-06-20T00:00:00.000000000",
          "2025-06-21T00:00:00.000000000",
          "2025-06-22T00:00:00.000000000",
          "2025-06-23T00:00:00.000000000",
          "2025-06-24T00:00:00.000000000",
          "2025-06-25T00:00:00.000000000",
          "2025-06-26T00:00:00.000000000",
          "2025-06-27T00:00:00.000000000",
          "2025-06-28T00:00:00.000000000",
          "2025-06-29T00:00:00.000000000",
          "2025-06-30T00:00:00.000000000",
          "2025-07-01T00:00:00.000000000",
          "2025-07-02T00:00:00.000000000",
          "2025-07-03T00:00:00.000000000",
          "2025-07-04T00:00:00.000000000",
          "2025-07-05T00:00:00.000000000",
          "2025-07-06T00:00:00.000000000",
          "2025-07-07T00:00:00.000000000",
          "2025-07-08T00:00:00.000000000",
          "2025-07-09T00:00:00.000000000",
          "2025-07-10T00:00:00.000000000",
          "2025-07-11T00:00:00.000000000",
          "2025-07-12T00:00:00.000000000",
          "2025-07-13T00:00:00.000000000",
          "2025-07-14T00:00:00.000000000",
          "2025-07-15T00:00:00.000000000",
          "2025-07-16T00:00:00.000000000",
          "2025-07-17T00:00:00.000000000",
          "2025-07-18T00:00:00.000000000",
          "2025-07-19T00:00:00.000000000",
          "2025-07-20T00:00:00.000000000",
          "2025-07-21T00:00:00.000000000",
          "2025-07-22T00:00:00.000000000",
          "2025-07-23T00:00:00.000000000",
          "2025-07-24T00:00:00.000000000",
          "2025-07-25T00:00:00.000000000",
          "2025-07-26T00:00:00.000000000",
          "2025-07-27T00:00:00.000000000",
          "2025-07-28T00:00:00.000000000",
          "2025-07-29T00:00:00.000000000",
          "2025-07-30T00:00:00.000000000",
          "2025-07-31T00:00:00.000000000",
          "2025-08-01T00:00:00.000000000",
          "2025-08-02T00:00:00.000000000",
          "2025-08-03T00:00:00.000000000",
          "2025-08-04T00:00:00.000000000",
          "2025-08-05T00:00:00.000000000",
          "2025-08-06T00:00:00.000000000",
          "2025-08-07T00:00:00.000000000",
          "2025-08-08T00:00:00.000000000",
          "2025-08-09T00:00:00.000000000",
          "2025-08-10T00:00:00.000000000",
          "2025-08-11T00:00:00.000000000",
          "2025-08-12T00:00:00.000000000",
          "2025-08-13T00:00:00.000000000",
          "2025-08-14T00:00:00.000000000",
          "2025-08-15T00:00:00.000000000",
          "2025-08-16T00:00:00.000000000",
          "2025-08-17T00:00:00.000000000",
          "2025-08-18T00:00:00.000000000",
          "2025-08-19T00:00:00.000000000",
          "2025-08-20T00:00:00.000000000",
          "2025-08-21T00:00:00.000000000",
          "2025-08-22T00:00:00.000000000",
          "2025-08-23T00:00:00.000000000",
          "2025-08-24T00:00:00.000000000",
          "2025-08-25T00:00:00.000000000",
          "2025-08-26T00:00:00.000000000",
          "2025-08-27T00:00:00.000000000",
          "2025-08-28T00:00:00.000000000",
          "2025-08-29T00:00:00.000000000",
          "2025-08-30T00:00:00.000000000",
          "2025-08-31T00:00:00.000000000",
          "2025-09-01T00:00:00.000000000",
          "2025-09-02T00:00:00.000000000",
          "2025-09-03T00:00:00.000000000",
          "2025-09-04T00:00:00.000000000",
          "2025-09-05T00:00:00.000000000",
          "2025-09-06T00:00:00.000000000",
          "2025-09-07T00:00:00.000000000",
          "2025-09-08T00:00:00.000000000",
          "2025-09-09T00:00:00.000000000",
          "2025-09-10T00:00:00.000000000",
          "2025-09-11T00:00:00.000000000",
          "2025-09-12T00:00:00.000000000",
          "2025-09-13T00:00:00.000000000",
          "2025-09-14T00:00:00.000000000",
          "2025-09-15T00:00:00.000000000",
          "2025-09-16T00:00:00.000000000",
          "2025-09-17T00:00:00.000000000",
          "2025-09-18T00:00:00.000000000",
          "2025-09-19T00:00:00.000000000",
          "2025-09-20T00:00:00.000000000",
          "2025-09-21T00:00:00.000000000",
          "2025-09-22T00:00:00.000000000",
          "2025-09-23T00:00:00.000000000",
          "2025-09-24T00:00:00.000000000",
          "2025-09-25T00:00:00.000000000",
          "2025-09-26T00:00:00.000000000",
          "2025-09-27T00:00:00.000000000",
          "2025-09-28T00:00:00.000000000",
          "2025-09-29T00:00:00.000000000",
          "2025-09-30T00:00:00.000000000",
          "2025-10-01T00:00:00.000000000",
          "2025-10-02T00:00:00.000000000",
          "2025-10-03T00:00:00.000000000",
          "2025-10-04T00:00:00.000000000",
          "2025-10-05T00:00:00.000000000",
          "2025-10-06T00:00:00.000000000",
          "2025-10-07T00:00:00.000000000",
          "2025-10-08T00:00:00.000000000",
          "2025-10-09T00:00:00.000000000",
          "2025-10-10T00:00:00.000000000",
          "2025-10-11T00:00:00.000000000",
          "2025-10-12T00:00:00.000000000",
          "2025-10-13T00:00:00.000000000",
          "2025-10-14T00:00:00.000000000",
          "2025-10-15T00:00:00.000000000",
          "2025-10-16T00:00:00.000000000",
          "2025-10-17T00:00:00.000000000",
          "2025-10-18T00:00:00.000000000",
          "2025-10-19T00:00:00.000000000",
          "2025-10-20T00:00:00.000000000",
          "2025-10-21T00:00:00.000000000",
          "2025-10-22T00:00:00.000000000",
          "2025-10-23T00:00:00.000000000",
          "2025-10-24T00:00:00.000000000",
          "2025-10-25T00:00:00.000000000",
          "2025-10-26T00:00:00.000000000",
          "2025-10-27T00:00:00.000000000",
          "2025-10-28T00:00:00.000000000",
          "2025-10-29T00:00:00.000000000",
          "2025-10-30T00:00:00.000000000",
          "2025-10-31T00:00:00.000000000",
          "2025-11-01T00:00:00.000000000",
          "2025-11-02T00:00:00.000000000",
          "2025-11-03T00:00:00.000000000",
          "2025-11-04T00:00:00.000000000",
          "2025-11-05T00:00:00.000000000",
          "2025-11-06T00:00:00.000000000",
          "2025-11-07T00:00:00.000000000",
          "2025-11-08T00:00:00.000000000",
          "2025-11-09T00:00:00.000000000",
          "2025-11-10T00:00:00.000000000",
          "2025-11-11T00:00:00.000000000",
          "2025-11-12T00:00:00.000000000",
          "2025-11-13T00:00:00.000000000",
          "2025-11-14T00:00:00.000000000",
          "2025-11-15T00:00:00.000000000",
          "2025-11-16T00:00:00.000000000",
          "2025-11-17T00:00:00.000000000",
          "2025-11-18T00:00:00.000000000",
          "2025-11-19T00:00:00.000000000",
          "2025-11-20T00:00:00.000000000",
          "2025-11-21T00:00:00.000000000",
          "2025-11-22T00:00:00.000000000",
          "2025-11-23T00:00:00.000000000",
          "2025-11-24T00:00:00.000000000",
          "2025-11-25T00:00:00.000000000",
          "2025-11-26T00:00:00.000000000",
          "2025-11-27T00:00:00.000000000",
          "2025-11-28T00:00:00.000000000",
          "2025-11-29T00:00:00.000000000",
          "2025-11-30T00:00:00.000000000",
          "2025-12-01T00:00:00.000000000",
          "2025-12-02T00:00:00.000000000",
          "2025-12-03T00:00:00.000000000",
          "2025-12-04T00:00:00.000000000",
          "2025-12-05T00:00:00.000000000",
          "2025-12-06T00:00:00.000000000",
          "2025-12-07T00:00:00.000000000",
          "2025-12-08T00:00:00.000000000",
          "2025-12-09T00:00:00.000000000",
          "2025-12-10T00:00:00.000000000",
          "2025-12-11T00:00:00.000000000",
          "2025-12-12T00:00:00.000000000",
          "2025-12-13T00:00:00.000000000",
          "2025-12-14T00:00:00.000000000",
          "2025-12-15T00:00:00.000000000",
          "2025-12-16T00:00:00.000000000",
          "2025-12-17T00:00:00.000000000",
          "2025-12-18T00:00:00.000000000",
          "2025-12-19T00:00:00.000000000",
          "2025-12-20T00:00:00.000000000",
          "2025-12-21T00:00:00.000000000",
          "2025-12-22T00:00:00.000000000",
          "2025-12-23T00:00:00.000000000",
          "2025-12-24T00:00:00.000000000",
          "2025-12-25T00:00:00.000000000",
          "2025-12-26T00:00:00.000000000",
          "2025-12-27T00:00:00.000000000",
          "2025-12-28T00:00:00.000000000",
          "2025-12-29T00:00:00.000000000",
          "2025-12-30T00:00:00.000000000",
          "2025-12-31T00:00:00.000000000"
         ],
         "y": {
          "dtype": "f8",
          "bdata": "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"
         },
         "type": "scatter",
         "xaxis": "x",
         "yaxis": "y2"
        }
       ],
       "layout": {
        "template": {
         "data": {
          "histogram2dcontour": [
           {
            "type": "histogram2dcontour",
            "colorbar": {
             "outlinewidth": 0,
             "ticks": ""
            },
            "colorscale": [
             [
              0.0,
              "#0d0887"
             ],
             [
              0.1111111111111111,
              "#46039f"
             ],
             [
              0.2222222222222222,
              "#7201a8"
             ],
             [
              0.3333333333333333,
              "#9c179e"
             ],
             [
              0.4444444444444444,
              "#bd3786"
             ],
             [
              0.5555555555555556,
              "#d8576b"
             ],
             [
              0.6666666666666666,
              "#ed7953"
             ],
             [
              0.7777777777777778,
              "#fb9f3a"
             ],
             [
              0.8888888888888888,
              "#fdca26"
             ],
             [
              1.0,
              "#f0f921"
             ]
            ]
           }
          ],
          "choropleth": [
           {
            "type": "choropleth",
            "colorbar": {
             "outlinewidth": 0,
             "ticks": ""
            }
           }
          ],
          "histogram2d": [
           {
            "type": "histogram2d",
            "colorbar": {
             "outlinewidth": 0,
             "ticks": ""
            },
            "colorscale": [
             [
              0.0,
              "#0d0887"
             ],
             [
              0.1111111111111111,
              "#46039f"
             ],
             [
              0.2222222222222222,
              "#7201a8"
             ],
             [
              0.3333333333333333,
              "#9c179e"
             ],
             [
              0.4444444444444444,
              "#bd3786"
             ],
             [
              0.5555555555555556,
              "#d8576b"
             ],
             [
              0.6666666666666666,
              "#ed7953"
             ],
             [
              0.7777777777777778,
              "#fb9f3a"
             ],
             [
              0.8888888888888888,
              "#fdca26"
             ],
             [
              1.0,
              "#f0f921"
             ]
            ]
           }
          ],
          "heatmap": [
           {
            "type": "heatmap",
            "colorbar": {
             "outlinewidth": 0,
             "ticks": ""
            },
            "colorscale": [
             [
              0.0,
              "#0d0887"
             ],
             [
              0.1111111111111111,
              "#46039f"
             ],
             [
              0.2222222222222222,
              "#7201a8"
             ],
             [
              0.3333333333333333,
              "#9c179e"
             ],
             [
              0.4444444444444444,
              "#bd3786"
             ],
             [
              0.5555555555555556,
              "#d8576b"
             ],
             [
              0.6666666666666666,
              "#ed7953"
             ],
             [
              0.7777777777777778,
              "#fb9f3a"
             ],
             [
              0.8888888888888888,
              "#fdca26"
             ],
             [
              1.0,
              "#f0f921"
             ]
            ]
           }
          ],
          "contourcarpet": [
           {
            "type": "contourcarpet",
            "colorbar": {
             "outlinewidth": 0,
             "ticks": ""
            }
           }
          ],
          "contour": [
           {
            "type": "contour",
            "colorbar": {
             "outlinewidth": 0,
             "ticks": ""
            },
            "colorscale": [
             [
              0.0,
              "#0d0887"
             ],
             [
              0.1111111111111111,
              "#46039f"
             ],
             [
              0.2222222222222222,
              "#7201a8"
             ],
             [
              0.3333333333333333,
              "#9c179e"
             ],
             [
              0.4444444444444444,
              "#bd3786"
             ],
             [
              0.5555555555555556,
              "#d8576b"
             ],
             [
              0.6666666666666666,
              "#ed7953"
             ],
             [
              0.7777777777777778,
              "#fb9f3a"
             ],
             [
              0.8888888888888888,
              "#fdca26"
             ],
             [
              1.0,
              "#f0f921"
             ]
            ]
           }
          ],
          "surface": [
           {
            "type": "surface",
            "colorbar": {
             "outlinewidth": 0,
             "ticks": ""
            },
            "colorscale": [
             [
              0.0,
              "#0d0887"
             ],
             [
              0.1111111111111111,
              "#46039f"
             ],
             [
              0.2222222222222222,
              "#7201a8"
             ],
             [
              0.3333333333333333,
              "#9c179e"
             ],
             [
              0.4444444444444444,
              "#bd3786"
             ],
             [
              0.5555555555555556,
              "#d8576b"
             ],
             [
              0.6666666666666666,
              "#ed7953"
             ],
             [
              0.7777777777777778,
              "#fb9f3a"
             ],
             [
              0.8888888888888888,
              "#fdca26"
             ],
             [
              1.0,
              "#f0f921"
             ]
            ]
           }
          ],
          "mesh3d": [
           {
            "type": "mesh3d",
            "colorbar": {
             "outlinewidth": 0,
             "ticks": ""
            }
           }
          ],
          "scatter": [
           {
            "fillpattern": {
             "fillmode": "overlay",
             "size": 10,
             "solidity": 0.2
            },
            "type": "scatter"
           }
          ],
          "parcoords": [
           {
            "type": "parcoords",
            "line": {
             "colorbar": {
              "outlinewidth": 0,
              "ticks": ""
             }
            }
           }
          ],
          "scatterpolargl": [
           {
            "type": "scatterpolargl",
            "marker": {
             "colorbar": {
              "outlinewidth": 0,
              "ticks": ""
             }
            }
           }
          ],
          "bar": [
           {
            "error_x": {
             "color": "#2a3f5f"
            },
            "error_y": {
             "color": "#2a3f5f"
            },
            "marker": {
             "line": {
              "color": "#E5ECF6",
              "width": 0.5
             },
             "pattern": {
              "fillmode": "overlay",
              "size": 10,
              "solidity": 0.2
             }
            },
            "type": "bar"
           }
          ],
          "scattergeo": [
           {
            "type": "scattergeo",
            "marker": {
             "colorbar": {
              "outlinewidth": 0,
              "ticks": ""
             }
            }
           }
          ],
          "scatterpolar": [
           {
            "type": "scatterpolar",
            "marker": {
             "colorbar": {
              "outlinewidth": 0,
              "ticks": ""
             }
            }
           }
          ],
          "histogram": [
           {
            "marker": {
             "pattern": {
              "fillmode": "overlay",
              "size": 10,
              "solidity": 0.2
             }
            },
            "type": "histogram"
           }
          ],
          "scattergl": [
           {
            "type": "scattergl",
            "marker": {
             "colorbar": {
              "outlinewidth": 0,
              "ticks": ""
             }
            }
           }
          ],
          "scatter3d": [
           {
            "type": "scatter3d",
            "line": {
             "colorbar": {
              "outlinewidth": 0,
              "ticks": ""
             }
            },
            "marker": {
             "colorbar": {
              "outlinewidth": 0,
              "ticks": ""
             }
            }
           }
          ],
          "scattermap": [
           {
            "type": "scattermap",
            "marker": {
             "colorbar": {
              "outlinewidth": 0,
              "ticks": ""
             }
            }
           }
          ],
          "scattermapbox": [
           {
            "type": "scattermapbox",
            "marker": {
             "colorbar": {
              "outlinewidth": 0,
              "ticks": ""
             }
            }
           }
          ],
          "scatterternary": [
           {
            "type": "scatterternary",
            "marker": {
             "colorbar": {
              "outlinewidth": 0,
              "ticks": ""
             }
            }
           }
          ],
          "scattercarpet": [
           {
            "type": "scattercarpet",
            "marker": {
             "colorbar": {
              "outlinewidth": 0,
              "ticks": ""
             }
            }
           }
          ],
          "carpet": [
           {
            "aaxis": {
             "endlinecolor": "#2a3f5f",
             "gridcolor": "white",
             "linecolor": "white",
             "minorgridcolor": "white",
             "startlinecolor": "#2a3f5f"
            },
            "baxis": {
             "endlinecolor": "#2a3f5f",
             "gridcolor": "white",
             "linecolor": "white",
             "minorgridcolor": "white",
             "startlinecolor": "#2a3f5f"
            },
            "type": "carpet"
           }
          ],
          "table": [
           {
            "cells": {
             "fill": {
              "color": "#EBF0F8"
             },
             "line": {
              "color": "white"
             }
            },
            "header": {
             "fill": {
              "color": "#C8D4E3"
             },
             "line": {
              "color": "white"
             }
            },
            "type": "table"
           }
          ],
          "barpolar": [
           {
            "marker": {
             "line": {
              "color": "#E5ECF6",
              "width": 0.5
             },
             "pattern": {
              "fillmode": "overlay",
              "size": 10,
              "solidity": 0.2
             }
            },
            "type": "barpolar"
           }
          ],
          "pie": [
           {
            "automargin": true,
            "type": "pie"
           }
          ]
         },
         "layout": {
          "autotypenumbers": "strict",
          "colorway": [
           "#636efa",
           "#EF553B",
           "#00cc96",
           "#ab63fa",
           "#FFA15A",
           "#19d3f3",
           "#FF6692",
           "#B6E880",
           "#FF97FF",
           "#FECB52"
          ],
          "font": {
           "color": "#2a3f5f"
          },
          "hovermode": "closest",
          "hoverlabel": {
           "align": "left"
          },
          "paper_bgcolor": "white",
          "plot_bgcolor": "#E5ECF6",
          "polar": {
           "bgcolor": "#E5ECF6",
           "angularaxis": {
            "gridcolor": "white",
            "linecolor": "white",
            "ticks": ""
           },
           "radialaxis": {
            "gridcolor": "white",
            "linecolor": "white",
            "ticks": ""
           }
          },
          "ternary": {
           "bgcolor": "#E5ECF6",
           "aaxis": {
            "gridcolor": "white",
            "linecolor": "white",
            "ticks": ""
           },
           "baxis": {
            "gridcolor": "white",
            "linecolor": "white",
            "ticks": ""
           },
           "caxis": {
            "gridcolor": "white",
            "linecolor": "white",
            "ticks": ""
           }
          },
          "coloraxis": {
           "colorbar": {
            "outlinewidth": 0,
            "ticks": ""
           }
          },
          "colorscale": {
           "sequential": [
            [
             0.0,
             "#0d0887"
            ],
            [
             0.1111111111111111,
             "#46039f"
            ],
            [
             0.2222222222222222,
             "#7201a8"
            ],
            [
             0.3333333333333333,
             "#9c179e"
            ],
            [
             0.4444444444444444,
             "#bd3786"
            ],
            [
             0.5555555555555556,
             "#d8576b"
            ],
            [
             0.6666666666666666,
             "#ed7953"
            ],
            [
             0.7777777777777778,
             "#fb9f3a"
            ],
            [
             0.8888888888888888,
             "#fdca26"
            ],
            [
             1.0,
             "#f0f921"
            ]
           ],
           "sequentialminus": [
            [
             0.0,
             "#0d0887"
            ],
            [
             0.1111111111111111,
             "#46039f"
            ],
            [
             0.2222222222222222,
             "#7201a8"
            ],
            [
             0.3333333333333333,
             "#9c179e"
            ],
            [
             0.4444444444444444,
             "#bd3786"
            ],
            [
             0.5555555555555556,
             "#d8576b"
            ],
            [
             0.6666666666666666,
             "#ed7953"
            ],
            [
             0.7777777777777778,
             "#fb9f3a"
            ],
            [
             0.8888888888888888,
             "#fdca26"
            ],
            [
             1.0,
             "#f0f921"
            ]
           ],
           "diverging": [
            [
             0,
             "#8e0152"
            ],
            [
             0.1,
             "#c51b7d"
            ],
            [
             0.2,
             "#de77ae"
            ],
            [
             0.3,
             "#f1b6da"
            ],
            [
             0.4,
             "#fde0ef"
            ],
            [
             0.5,
             "#f7f7f7"
            ],
            [
             0.6,
             "#e6f5d0"
            ],
            [
             0.7,
             "#b8e186"
            ],
            [
             0.8,
             "#7fbc41"
            ],
            [
             0.9,
             "#4d9221"
            ],
            [
             1,
             "#276419"
            ]
           ]
          },
          "xaxis": {
           "gridcolor": "white",
           "linecolor": "white",
           "ticks": "",
           "title": {
            "standoff": 15
           },
           "zerolinecolor": "white",
           "automargin": true,
           "zerolinewidth": 2
          },
          "yaxis": {
           "gridcolor": "white",
           "linecolor": "white",
           "ticks": "",
           "title": {
            "standoff": 15
           },
           "zerolinecolor": "white",
           "automargin": true,
           "zerolinewidth": 2
          },
          "scene": {
           "xaxis": {
            "backgroundcolor": "#E5ECF6",
            "gridcolor": "white",
            "linecolor": "white",
            "showbackground": true,
            "ticks": "",
            "zerolinecolor": "white",
            "gridwidth": 2
           },
           "yaxis": {
            "backgroundcolor": "#E5ECF6",
            "gridcolor": "white",
            "linecolor": "white",
            "showbackground": true,
            "ticks": "",
            "zerolinecolor": "white",
            "gridwidth": 2
           },
           "zaxis": {
            "backgroundcolor": "#E5ECF6",
            "gridcolor": "white",
            "linecolor": "white",
            "showbackground": true,
            "ticks": "",
            "zerolinecolor": "white",
            "gridwidth": 2
           }
          },
          "shapedefaults": {
           "line": {
            "color": "#2a3f5f"
           }
          },
          "annotationdefaults": {
           "arrowcolor": "#2a3f5f",
           "arrowhead": 0,
           "arrowwidth": 1
          },
          "geo": {
           "bgcolor": "white",
           "landcolor": "#E5ECF6",
           "subunitcolor": "white",
           "showland": true,
           "showlakes": true,
           "lakecolor": "white"
          },
          "title": {
           "x": 0.05
          },
          "mapbox": {
           "style": "light"
          }
         }
        },
        "xaxis": {
         "anchor": "y",
         "domain": [
          0.0,
          0.94
         ],
         "rangeslider": {
          "visible": true
         },
         "title": {
          "text": "日期"
         },
         "type": "date",
         "tickformat": "%m-%d",
         "rangeselector": {
          "buttons": [
           {
            "count": 7,
            "label": "最近7天",
            "step": "day",
            "stepmode": "backward"
           },
           {
            "count": 1,
            "label": "最近1月",
            "step": "month",
            "stepmode": "backward"
           },
           {
            "count": 3,
            "label": "最近3月",
            "step": "month",
            "stepmode": "backward"
           },
           {
            "label": "全部",
            "step": "all"
           }
          ]
         }
        },
        "yaxis": {
         "anchor": "x",
         "domain": [
          0.0,
          1.0
         ],
         "title": {
          "text": "成本(元)"
         },
         "tickformat": ","
        },
        "yaxis2": {
         "anchor": "x",
         "overlaying": "y",
         "side": "right",
         "title": {
          "text": "服务水平(%)"
         },
         "tickformat": ".0%"
        },
        "legend": {
         "orientation": "h",
         "yanchor": "bottom",
         "y": 1.02,
         "xanchor": "right",
         "x": 1
        },
        "updatemenus": [
         {
          "buttons": [
           {
            "args": [
             {
              "visible": [
               true,
               true,
               true,
               true
              ]
             },
             {
              "title": "all"
             }
            ],
            "label": "all",
            "method": "update"
           },
           {
            "args": [
             {
              "visible": [
               true,
               true,
               false,
               false
              ]
             },
             {
              "title": "月"
             }
            ],
            "label": "月",
            "method": "update"
           },
           {
            "args": [
             {
              "visible": [
               false,
               false,
               true,
               true
              ]
             },
             {
              "title": "日"
             }
            ],
            "label": "日",
            "method": "update"
           }
          ],
          "type": "dropdown",
          "x": 1.15,
          "y": 1.1
         }
        ],
        "title": {
         "text": "成本和服务水平变化"
        }
       },
       "config": {
        "plotlyServerURL": "https://plot.ly"
       }
      }
     },
     "metadata": {},
     "output_type": "display_data"
    }
   ],
   "execution_count": 5
  },
  {
   "metadata": {
    "ExecuteTime": {
     "end_time": "2025-05-27T09:07:07.973878Z",
     "start_time": "2025-05-27T09:07:07.908194Z"
    }
   },
   "cell_type": "code",
   "source": [
    "stores = pd.read_csv('data/stores.csv', encoding='utf-8')\n",
    "stores.columns = stores.columns.str.strip()\n",
    "stores_meta = stores[['store_name', 'region']].rename(\n",
    "    columns={'store_name':'dest', 'region':'region'}\n",
    ")\n",
    "tot2sub   = pd.read_csv('data/ship_tot2sub.csv')[['source','dest','month','qty']]\n",
    "sub2sub   = pd.read_csv('data/ship_sub2sub.csv')[['source','dest','month','qty']]\n",
    "sub2store = pd.read_csv('data/ship_sub2store.csv')[['source','dest','month','qty']]\n",
    "sub2store = sub2store.merge(stores_meta, on='dest', how='left')\n",
    "tot2sub['region'] = None\n",
    "sub2sub['region'] = None\n",
    "ship_all = pd.concat([tot2sub, sub2sub, sub2store], ignore_index=True)\n",
    "all_regions = ['全部'] + sorted(ship_all['region'].dropna().unique().tolist())\n",
    "ship_all['route'] = ship_all['source'] + '→' + ship_all['dest']\n",
    "all_routes = ['全部'] + sorted(ship_all['route'].unique().tolist())\n",
    "app = dash.Dash(__name__)\n",
    "\n",
    "app.layout = html.Div([\n",
    "    html.Div([\n",
    "        html.Label(\"按区域筛选：\"),\n",
    "        dcc.Dropdown(\n",
    "            id='region-filter',\n",
    "            options=[{'label': r, 'value': r} for r in all_regions],\n",
    "            value='全部'\n",
    "        )\n",
    "    ], style={'width':'48%','display':'inline-block'}),\n",
    "\n",
    "    html.Div([\n",
    "        html.Label(\"按路线筛选：\"),\n",
    "        dcc.Dropdown(\n",
    "            id='route-filter',\n",
    "            options=[{'label': rt, 'value': rt} for rt in all_routes],\n",
    "            value='全部'\n",
    "        )\n",
    "    ], style={'width':'48%','display':'inline-block','marginLeft':'4%'}),\n",
    "\n",
    "    dcc.Graph(id='main-chart', style={'height':'600px'}),\n",
    "])\n",
    "\n",
    "@app.callback(\n",
    "    Output('main-chart', 'figure'),\n",
    "    Input('region-filter', 'value'),\n",
    "    Input('route-filter', 'value'),\n",
    ")\n",
    "def update_main_chart(selected_region, selected_route):\n",
    "    df = ship_all.copy()\n",
    "    # 区域过滤\n",
    "    if selected_region != '全部':\n",
    "        df = df[df['region'] == selected_region]\n",
    "    # 路线过滤\n",
    "    if selected_route != '全部':\n",
    "        df = df[df['route'] == selected_route]\n",
    "    # 按月聚合\n",
    "    df_month = df.groupby('month', as_index=False)['qty'].sum()\n",
    "    if df_month.empty:\n",
    "        fig = px.line(title=\"无符合条件的数据\", template='plotly_white')\n",
    "        fig.update_layout(xaxis={'visible':False}, yaxis={'visible':False})\n",
    "        return fig\n",
    "    fig = px.bar(\n",
    "        df_month,\n",
    "        x='month', y='qty',\n",
    "        labels={'qty':'发运量','month':'月份'},\n",
    "        title=\"按月发运量走势\",\n",
    "        template='plotly_white',\n",
    "        color_discrete_sequence=['#5470C6'],  # 一支蓝\n",
    "        animation_frame=None\n",
    "    )\n",
    "\n",
    "    fig.add_scatter(\n",
    "        x=df_month['month'], y=df_month['qty'],\n",
    "        mode='lines+markers',\n",
    "        name='trend',\n",
    "        line=dict(color='#EE6666', width=3, shape='spline'),\n",
    "        marker=dict(size=8, symbol='circle'),\n",
    "        hovertemplate=\"月份 %{x}<br>发运量 %{y}<extra></extra>\"\n",
    "    )\n",
    "\n",
    "    fig.update_layout(\n",
    "        font=dict(family='\"Helvetica Neue\", Arial, sans-serif', size=14, color='#333'),\n",
    "        title=dict(\n",
    "            text=\"发运量月变化\",\n",
    "            x=0.5,\n",
    "            xanchor='center',\n",
    "            yanchor='top',\n",
    "            font=dict(size=20, family='Arial', color='#222')\n",
    "        ),\n",
    "        legend=dict(\n",
    "            orientation=\"h\",\n",
    "            yanchor=\"bottom\",\n",
    "            y=1.02,\n",
    "            xanchor=\"right\",\n",
    "            x=1,\n",
    "            bgcolor='rgba(0,0,0,0)',  # 透明背景\n",
    "            bordercolor='LightGray',\n",
    "            borderwidth=0\n",
    "        ),\n",
    "        xaxis=dict(\n",
    "            title=\"月份\",\n",
    "            tickmode='array',\n",
    "            tickvals=sorted(df_month['month'].unique()),\n",
    "            ticktext=[f\"{int(m)}月\" for m in df_month['month']],\n",
    "            showgrid=False,\n",
    "            tickangle=-45,\n",
    "        ),\n",
    "        yaxis=dict(\n",
    "            title=\"发运量\",\n",
    "            showgrid=True,\n",
    "            gridcolor='rgba(200,200,200,0.2)',\n",
    "        ),\n",
    "        bargap=0.25,\n",
    "        transition={'duration': 500, 'easing': 'cubic-in-out'},\n",
    "        margin={'l':60,'r':20,'t':80,'b':80},\n",
    "        plot_bgcolor='white'\n",
    "    )\n",
    "\n",
    "    return fig\n",
    "\n",
    "if __name__ == '__main__':\n",
    "    app.run(port=8051, debug=True)\n",
    "\n",
    "fig_op3 = fig"
   ],
   "id": "79d29d2116bceef5",
   "outputs": [
    {
     "data": {
      "text/plain": [
       "<IPython.lib.display.IFrame at 0x10e213e80>"
      ],
      "text/html": [
       "\n",
       "        <iframe\n",
       "            width=\"100%\"\n",
       "            height=\"650\"\n",
       "            src=\"http://127.0.0.1:8051/\"\n",
       "            frameborder=\"0\"\n",
       "            allowfullscreen\n",
       "            \n",
       "        ></iframe>\n",
       "        "
      ]
     },
     "metadata": {},
     "output_type": "display_data"
    }
   ],
   "execution_count": 6
  }
 ],
 "metadata": {
  "kernelspec": {
   "display_name": "Python 3",
   "language": "python",
   "name": "python3"
  },
  "language_info": {
   "codemirror_mode": {
    "name": "ipython",
    "version": 2
   },
   "file_extension": ".py",
   "mimetype": "text/x-python",
   "name": "python",
   "nbconvert_exporter": "python",
   "pygments_lexer": "ipython2",
   "version": "2.7.6"
  }
 },
 "nbformat": 4,
 "nbformat_minor": 5
}
