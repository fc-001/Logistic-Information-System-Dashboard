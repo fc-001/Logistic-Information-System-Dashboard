{
 "cells": [
  {
   "cell_type": "code",
   "execution_count": 1,
   "id": "initial_id",
   "metadata": {
    "ExecuteTime": {
     "end_time": "2025-06-04T10:24:42.316987Z",
     "start_time": "2025-06-04T10:24:41.779120Z"
    },
    "collapsed": true,
    "jupyter": {
     "outputs_hidden": true
    }
   },
   "outputs": [],
   "source": [
    "import pandas as pd\n",
    "import numpy as np\n",
    "import dash\n",
    "from dash import dcc, html, Input, Output\n",
    "import plotly.express as px\n",
    "import plotly.graph_objects as go\n",
    "from plotly.subplots import make_subplots\n",
    "from datetime import datetime\n"
   ]
  },
  {
   "cell_type": "code",
   "execution_count": 2,
   "id": "45cb88b59d60bd66",
   "metadata": {
    "ExecuteTime": {
     "end_time": "2025-06-04T10:24:42.838103Z",
     "start_time": "2025-06-04T10:24:42.326715Z"
    }
   },
   "outputs": [],
   "source": [
    "tot2sub   = pd.read_csv('../data/ship_tot2sub.csv')[['month', 'qty']].assign(type='Total→Sub')\n",
    "sub2sub   = pd.read_csv('../data/ship_sub2sub.csv')[['month', 'qty']].assign(type='Sub→Sub')\n",
    "sub2store = pd.read_csv('../data/ship_sub2store.csv')[['month', 'qty']].assign(type='Sub→Store')\n",
    "ship_vol  = pd.concat([tot2sub, sub2sub, sub2store], ignore_index=True)\n",
    "\n",
    "nodes = pd.read_csv('../data/nodes.csv')[['node_id', 'lat', 'lng']] # 经纬度\n",
    "ship_all = pd.concat([\n",
    "    pd.read_csv('../data/ship_tot2sub.csv'),\n",
    "    pd.read_csv('../data/ship_sub2sub.csv'),\n",
    "    pd.read_csv('../data/ship_sub2store.csv')\n",
    "], ignore_index=True)\n",
    "\n",
    "ship_all = (ship_all.merge(nodes.rename(columns={'node_id':'source','lat':'lat_s','lng':'lng_s'}),on='source', how='left').merge(nodes.rename(columns={'node_id':'dest','lat':'lat_d','lng':'lng_d'}),on='dest', how='left'))\n",
    "\n",
    "def haversine(row): # 计算球面距离（不是直接经纬度相减开根号*111这种）\n",
    "    phi1, lam1, phi2, lam2 = np.radians([row.lat_s, row.lng_s, row.lat_d, row.lng_d])\n",
    "    dphi = phi2 - phi1\n",
    "    dlam = lam2 - lam1\n",
    "    a = np.sin(dphi/2)**2 + np.cos(phi1)*np.cos(phi2)*np.sin(dlam/2)**2\n",
    "    return 6371 * 2 * np.arcsin(np.sqrt(a))\n",
    "\n",
    "ship_all['distance_km'] = ship_all.apply(haversine, axis=1)\n",
    "\n",
    "\n",
    "rates    = pd.read_csv('../data/rates.csv')\n",
    "ltl_rate = rates.loc[rates['mode']=='LTL', 'rate_per_km'].iloc[0]\n",
    "ship_all['estimated_cost'] = ship_all['qty'] * ship_all['distance_km'] * ltl_rate  # 全零担 LTL\n",
    "cost_df = ship_all.groupby('month')['estimated_cost'].sum().reset_index()\n",
    "\n",
    "# 分仓到门店的服务水平\n",
    "ss = pd.read_csv('../data/ship_sub2store.csv')\n",
    "stores  = (pd.read_csv('../data/stores.csv')[['store_name', 'region']].rename(columns={'store_name': 'dest'}))\n",
    "svc_req = pd.read_csv('../data/service_requirements.csv')\n",
    "\n",
    "df_ss = (ss.merge(nodes.rename(columns={'node_id':'source','lat':'lat_s','lng':'lng_s'}), on='source').merge(nodes.rename(columns={'node_id':'dest','lat':'lat_d','lng':'lng_d'}),   on='dest').merge(stores, on='dest').merge(svc_req, on='region'))\n",
    "df_ss['distance_km'] = df_ss.apply(haversine, axis=1)\n",
    "\n",
    "df_ss['service_hrs'] = (df_ss['service_window'].str.extract(r'(\\d+)').astype(float))\n",
    "df_ss['lead_time_hrs'] = df_ss['distance_km'] / df_ss['speed_kmph']\n",
    "df_ss['on_time'] = df_ss['lead_time_hrs'] <= df_ss['service_hrs']  # 判断是否准时\n",
    "\n",
    "\n",
    "service_df = (\n",
    "    df_ss\n",
    "    .groupby('month')\n",
    "    .agg(\n",
    "        actual_rate = ('on_time', 'mean'),\n",
    "        target_rate = ('fill_rate', lambda x: x.iloc[0] / 100)\n",
    "    )\n",
    "    .reset_index()\n",
    ")"
   ]
  },
  {
   "cell_type": "code",
   "execution_count": 3,
   "id": "d3061a77dfed1a1b",
   "metadata": {
    "ExecuteTime": {
     "end_time": "2025-06-04T10:24:43.053789Z",
     "start_time": "2025-06-04T10:24:42.916160Z"
    }
   },
   "outputs": [
    {
     "data": {
      "application/vnd.plotly.v1+json": {
       "config": {
        "plotlyServerURL": "https://plot.ly"
       },
       "data": [
        {
         "hovertemplate": "类型=Sub→Store<br>月份=%{x}<br>发运量=%{y}<extra></extra>",
         "legendgroup": "Sub→Store",
         "line": {
          "color": "#636efa",
          "dash": "solid"
         },
         "marker": {
          "symbol": "circle"
         },
         "mode": "lines",
         "name": "Sub→Store",
         "orientation": "v",
         "showlegend": true,
         "type": "scatter",
         "x": {
          "bdata": "AQQFBgcICQoLDA==",
          "dtype": "i1"
         },
         "xaxis": "x",
         "y": {
          "bdata": "GSwAAC3EAAC0KwIAGFYPAAVwEgAgChYAl+EjAOgBIgA1ozQAnwI/AA==",
          "dtype": "i4"
         },
         "yaxis": "y"
        },
        {
         "hovertemplate": "类型=Sub→Sub<br>月份=%{x}<br>发运量=%{y}<extra></extra>",
         "legendgroup": "Sub→Sub",
         "line": {
          "color": "#EF553B",
          "dash": "solid"
         },
         "marker": {
          "symbol": "circle"
         },
         "mode": "lines",
         "name": "Sub→Sub",
         "orientation": "v",
         "showlegend": true,
         "type": "scatter",
         "x": {
          "bdata": "AQIDBQYHCAkKCww=",
          "dtype": "i1"
         },
         "xaxis": "x",
         "y": {
          "bdata": "F3wAABEOAACpEAAAmEABAK6XAAA5HQAAugYAAPYIAAAvIwAAt0UAANZFAAA=",
          "dtype": "i4"
         },
         "yaxis": "y"
        },
        {
         "hovertemplate": "类型=Total→Sub<br>月份=%{x}<br>发运量=%{y}<extra></extra>",
         "legendgroup": "Total→Sub",
         "line": {
          "color": "#00cc96",
          "dash": "solid"
         },
         "marker": {
          "symbol": "circle"
         },
         "mode": "lines",
         "name": "Total→Sub",
         "orientation": "v",
         "showlegend": true,
         "type": "scatter",
         "x": {
          "bdata": "AQQFBgcICQoLDA==",
          "dtype": "i1"
         },
         "xaxis": "x",
         "y": {
          "bdata": "E18BAC3EAACGrgYAWDESAM9WEwD4ehYARJQkANc8IwAHhzUAA4pAAA==",
          "dtype": "i4"
         },
         "yaxis": "y"
        }
       ],
       "layout": {
        "legend": {
         "title": {
          "text": "类型"
         },
         "tracegroupgap": 0
        },
        "template": {
         "data": {
          "bar": [
           {
            "error_x": {
             "color": "#2a3f5f"
            },
            "error_y": {
             "color": "#2a3f5f"
            },
            "marker": {
             "line": {
              "color": "#E5ECF6",
              "width": 0.5
             },
             "pattern": {
              "fillmode": "overlay",
              "size": 10,
              "solidity": 0.2
             }
            },
            "type": "bar"
           }
          ],
          "barpolar": [
           {
            "marker": {
             "line": {
              "color": "#E5ECF6",
              "width": 0.5
             },
             "pattern": {
              "fillmode": "overlay",
              "size": 10,
              "solidity": 0.2
             }
            },
            "type": "barpolar"
           }
          ],
          "carpet": [
           {
            "aaxis": {
             "endlinecolor": "#2a3f5f",
             "gridcolor": "white",
             "linecolor": "white",
             "minorgridcolor": "white",
             "startlinecolor": "#2a3f5f"
            },
            "baxis": {
             "endlinecolor": "#2a3f5f",
             "gridcolor": "white",
             "linecolor": "white",
             "minorgridcolor": "white",
             "startlinecolor": "#2a3f5f"
            },
            "type": "carpet"
           }
          ],
          "choropleth": [
           {
            "colorbar": {
             "outlinewidth": 0,
             "ticks": ""
            },
            "type": "choropleth"
           }
          ],
          "contour": [
           {
            "colorbar": {
             "outlinewidth": 0,
             "ticks": ""
            },
            "colorscale": [
             [
              0,
              "#0d0887"
             ],
             [
              0.1111111111111111,
              "#46039f"
             ],
             [
              0.2222222222222222,
              "#7201a8"
             ],
             [
              0.3333333333333333,
              "#9c179e"
             ],
             [
              0.4444444444444444,
              "#bd3786"
             ],
             [
              0.5555555555555556,
              "#d8576b"
             ],
             [
              0.6666666666666666,
              "#ed7953"
             ],
             [
              0.7777777777777778,
              "#fb9f3a"
             ],
             [
              0.8888888888888888,
              "#fdca26"
             ],
             [
              1,
              "#f0f921"
             ]
            ],
            "type": "contour"
           }
          ],
          "contourcarpet": [
           {
            "colorbar": {
             "outlinewidth": 0,
             "ticks": ""
            },
            "type": "contourcarpet"
           }
          ],
          "heatmap": [
           {
            "colorbar": {
             "outlinewidth": 0,
             "ticks": ""
            },
            "colorscale": [
             [
              0,
              "#0d0887"
             ],
             [
              0.1111111111111111,
              "#46039f"
             ],
             [
              0.2222222222222222,
              "#7201a8"
             ],
             [
              0.3333333333333333,
              "#9c179e"
             ],
             [
              0.4444444444444444,
              "#bd3786"
             ],
             [
              0.5555555555555556,
              "#d8576b"
             ],
             [
              0.6666666666666666,
              "#ed7953"
             ],
             [
              0.7777777777777778,
              "#fb9f3a"
             ],
             [
              0.8888888888888888,
              "#fdca26"
             ],
             [
              1,
              "#f0f921"
             ]
            ],
            "type": "heatmap"
           }
          ],
          "histogram": [
           {
            "marker": {
             "pattern": {
              "fillmode": "overlay",
              "size": 10,
              "solidity": 0.2
             }
            },
            "type": "histogram"
           }
          ],
          "histogram2d": [
           {
            "colorbar": {
             "outlinewidth": 0,
             "ticks": ""
            },
            "colorscale": [
             [
              0,
              "#0d0887"
             ],
             [
              0.1111111111111111,
              "#46039f"
             ],
             [
              0.2222222222222222,
              "#7201a8"
             ],
             [
              0.3333333333333333,
              "#9c179e"
             ],
             [
              0.4444444444444444,
              "#bd3786"
             ],
             [
              0.5555555555555556,
              "#d8576b"
             ],
             [
              0.6666666666666666,
              "#ed7953"
             ],
             [
              0.7777777777777778,
              "#fb9f3a"
             ],
             [
              0.8888888888888888,
              "#fdca26"
             ],
             [
              1,
              "#f0f921"
             ]
            ],
            "type": "histogram2d"
           }
          ],
          "histogram2dcontour": [
           {
            "colorbar": {
             "outlinewidth": 0,
             "ticks": ""
            },
            "colorscale": [
             [
              0,
              "#0d0887"
             ],
             [
              0.1111111111111111,
              "#46039f"
             ],
             [
              0.2222222222222222,
              "#7201a8"
             ],
             [
              0.3333333333333333,
              "#9c179e"
             ],
             [
              0.4444444444444444,
              "#bd3786"
             ],
             [
              0.5555555555555556,
              "#d8576b"
             ],
             [
              0.6666666666666666,
              "#ed7953"
             ],
             [
              0.7777777777777778,
              "#fb9f3a"
             ],
             [
              0.8888888888888888,
              "#fdca26"
             ],
             [
              1,
              "#f0f921"
             ]
            ],
            "type": "histogram2dcontour"
           }
          ],
          "mesh3d": [
           {
            "colorbar": {
             "outlinewidth": 0,
             "ticks": ""
            },
            "type": "mesh3d"
           }
          ],
          "parcoords": [
           {
            "line": {
             "colorbar": {
              "outlinewidth": 0,
              "ticks": ""
             }
            },
            "type": "parcoords"
           }
          ],
          "pie": [
           {
            "automargin": true,
            "type": "pie"
           }
          ],
          "scatter": [
           {
            "fillpattern": {
             "fillmode": "overlay",
             "size": 10,
             "solidity": 0.2
            },
            "type": "scatter"
           }
          ],
          "scatter3d": [
           {
            "line": {
             "colorbar": {
              "outlinewidth": 0,
              "ticks": ""
             }
            },
            "marker": {
             "colorbar": {
              "outlinewidth": 0,
              "ticks": ""
             }
            },
            "type": "scatter3d"
           }
          ],
          "scattercarpet": [
           {
            "marker": {
             "colorbar": {
              "outlinewidth": 0,
              "ticks": ""
             }
            },
            "type": "scattercarpet"
           }
          ],
          "scattergeo": [
           {
            "marker": {
             "colorbar": {
              "outlinewidth": 0,
              "ticks": ""
             }
            },
            "type": "scattergeo"
           }
          ],
          "scattergl": [
           {
            "marker": {
             "colorbar": {
              "outlinewidth": 0,
              "ticks": ""
             }
            },
            "type": "scattergl"
           }
          ],
          "scattermap": [
           {
            "marker": {
             "colorbar": {
              "outlinewidth": 0,
              "ticks": ""
             }
            },
            "type": "scattermap"
           }
          ],
          "scattermapbox": [
           {
            "marker": {
             "colorbar": {
              "outlinewidth": 0,
              "ticks": ""
             }
            },
            "type": "scattermapbox"
           }
          ],
          "scatterpolar": [
           {
            "marker": {
             "colorbar": {
              "outlinewidth": 0,
              "ticks": ""
             }
            },
            "type": "scatterpolar"
           }
          ],
          "scatterpolargl": [
           {
            "marker": {
             "colorbar": {
              "outlinewidth": 0,
              "ticks": ""
             }
            },
            "type": "scatterpolargl"
           }
          ],
          "scatterternary": [
           {
            "marker": {
             "colorbar": {
              "outlinewidth": 0,
              "ticks": ""
             }
            },
            "type": "scatterternary"
           }
          ],
          "surface": [
           {
            "colorbar": {
             "outlinewidth": 0,
             "ticks": ""
            },
            "colorscale": [
             [
              0,
              "#0d0887"
             ],
             [
              0.1111111111111111,
              "#46039f"
             ],
             [
              0.2222222222222222,
              "#7201a8"
             ],
             [
              0.3333333333333333,
              "#9c179e"
             ],
             [
              0.4444444444444444,
              "#bd3786"
             ],
             [
              0.5555555555555556,
              "#d8576b"
             ],
             [
              0.6666666666666666,
              "#ed7953"
             ],
             [
              0.7777777777777778,
              "#fb9f3a"
             ],
             [
              0.8888888888888888,
              "#fdca26"
             ],
             [
              1,
              "#f0f921"
             ]
            ],
            "type": "surface"
           }
          ],
          "table": [
           {
            "cells": {
             "fill": {
              "color": "#EBF0F8"
             },
             "line": {
              "color": "white"
             }
            },
            "header": {
             "fill": {
              "color": "#C8D4E3"
             },
             "line": {
              "color": "white"
             }
            },
            "type": "table"
           }
          ]
         },
         "layout": {
          "annotationdefaults": {
           "arrowcolor": "#2a3f5f",
           "arrowhead": 0,
           "arrowwidth": 1
          },
          "autotypenumbers": "strict",
          "coloraxis": {
           "colorbar": {
            "outlinewidth": 0,
            "ticks": ""
           }
          },
          "colorscale": {
           "diverging": [
            [
             0,
             "#8e0152"
            ],
            [
             0.1,
             "#c51b7d"
            ],
            [
             0.2,
             "#de77ae"
            ],
            [
             0.3,
             "#f1b6da"
            ],
            [
             0.4,
             "#fde0ef"
            ],
            [
             0.5,
             "#f7f7f7"
            ],
            [
             0.6,
             "#e6f5d0"
            ],
            [
             0.7,
             "#b8e186"
            ],
            [
             0.8,
             "#7fbc41"
            ],
            [
             0.9,
             "#4d9221"
            ],
            [
             1,
             "#276419"
            ]
           ],
           "sequential": [
            [
             0,
             "#0d0887"
            ],
            [
             0.1111111111111111,
             "#46039f"
            ],
            [
             0.2222222222222222,
             "#7201a8"
            ],
            [
             0.3333333333333333,
             "#9c179e"
            ],
            [
             0.4444444444444444,
             "#bd3786"
            ],
            [
             0.5555555555555556,
             "#d8576b"
            ],
            [
             0.6666666666666666,
             "#ed7953"
            ],
            [
             0.7777777777777778,
             "#fb9f3a"
            ],
            [
             0.8888888888888888,
             "#fdca26"
            ],
            [
             1,
             "#f0f921"
            ]
           ],
           "sequentialminus": [
            [
             0,
             "#0d0887"
            ],
            [
             0.1111111111111111,
             "#46039f"
            ],
            [
             0.2222222222222222,
             "#7201a8"
            ],
            [
             0.3333333333333333,
             "#9c179e"
            ],
            [
             0.4444444444444444,
             "#bd3786"
            ],
            [
             0.5555555555555556,
             "#d8576b"
            ],
            [
             0.6666666666666666,
             "#ed7953"
            ],
            [
             0.7777777777777778,
             "#fb9f3a"
            ],
            [
             0.8888888888888888,
             "#fdca26"
            ],
            [
             1,
             "#f0f921"
            ]
           ]
          },
          "colorway": [
           "#636efa",
           "#EF553B",
           "#00cc96",
           "#ab63fa",
           "#FFA15A",
           "#19d3f3",
           "#FF6692",
           "#B6E880",
           "#FF97FF",
           "#FECB52"
          ],
          "font": {
           "color": "#2a3f5f"
          },
          "geo": {
           "bgcolor": "white",
           "lakecolor": "white",
           "landcolor": "#E5ECF6",
           "showlakes": true,
           "showland": true,
           "subunitcolor": "white"
          },
          "hoverlabel": {
           "align": "left"
          },
          "hovermode": "closest",
          "mapbox": {
           "style": "light"
          },
          "paper_bgcolor": "white",
          "plot_bgcolor": "#E5ECF6",
          "polar": {
           "angularaxis": {
            "gridcolor": "white",
            "linecolor": "white",
            "ticks": ""
           },
           "bgcolor": "#E5ECF6",
           "radialaxis": {
            "gridcolor": "white",
            "linecolor": "white",
            "ticks": ""
           }
          },
          "scene": {
           "xaxis": {
            "backgroundcolor": "#E5ECF6",
            "gridcolor": "white",
            "gridwidth": 2,
            "linecolor": "white",
            "showbackground": true,
            "ticks": "",
            "zerolinecolor": "white"
           },
           "yaxis": {
            "backgroundcolor": "#E5ECF6",
            "gridcolor": "white",
            "gridwidth": 2,
            "linecolor": "white",
            "showbackground": true,
            "ticks": "",
            "zerolinecolor": "white"
           },
           "zaxis": {
            "backgroundcolor": "#E5ECF6",
            "gridcolor": "white",
            "gridwidth": 2,
            "linecolor": "white",
            "showbackground": true,
            "ticks": "",
            "zerolinecolor": "white"
           }
          },
          "shapedefaults": {
           "line": {
            "color": "#2a3f5f"
           }
          },
          "ternary": {
           "aaxis": {
            "gridcolor": "white",
            "linecolor": "white",
            "ticks": ""
           },
           "baxis": {
            "gridcolor": "white",
            "linecolor": "white",
            "ticks": ""
           },
           "bgcolor": "#E5ECF6",
           "caxis": {
            "gridcolor": "white",
            "linecolor": "white",
            "ticks": ""
           }
          },
          "title": {
           "x": 0.05
          },
          "xaxis": {
           "automargin": true,
           "gridcolor": "white",
           "linecolor": "white",
           "ticks": "",
           "title": {
            "standoff": 15
           },
           "zerolinecolor": "white",
           "zerolinewidth": 2
          },
          "yaxis": {
           "automargin": true,
           "gridcolor": "white",
           "linecolor": "white",
           "ticks": "",
           "title": {
            "standoff": 15
           },
           "zerolinecolor": "white",
           "zerolinewidth": 2
          }
         }
        },
        "title": {
         "text": "各环节月度发运量趋势（按月汇总）"
        },
        "xaxis": {
         "anchor": "y",
         "domain": [
          0,
          1
         ],
         "tickmode": "linear",
         "title": {
          "text": "月份"
         }
        },
        "yaxis": {
         "anchor": "x",
         "domain": [
          0,
          1
         ],
         "tickformat": ",",
         "title": {
          "text": "发运量"
         }
        }
       }
      }
     },
     "metadata": {},
     "output_type": "display_data"
    }
   ],
   "source": [
    "# 先按月、按类型汇总发运量\n",
    "vol_month = ( ship_vol.groupby(['month','type'], as_index=False)['qty'].sum())\n",
    "fig_vol = px.line(\n",
    "    vol_month,\n",
    "    x='month',\n",
    "    y='qty',\n",
    "    color='type',\n",
    "    title='各环节月度发运量趋势（按月汇总）',\n",
    "    labels={'month':'月份', 'qty':'发运量', 'type':'类型'}\n",
    ")\n",
    "fig_vol.update_layout(\n",
    "    xaxis=dict(tickmode='linear'),\n",
    "    yaxis=dict(tickformat=',')\n",
    ")\n",
    "\n",
    "fig_vol.show()\n",
    "fig_op1 = fig_vol\n"
   ]
  },
  {
   "cell_type": "code",
   "execution_count": 4,
   "id": "5d0dcc67e8362868",
   "metadata": {
    "ExecuteTime": {
     "end_time": "2025-06-04T10:24:43.150724Z",
     "start_time": "2025-06-04T10:24:43.106981Z"
    }
   },
   "outputs": [
    {
     "data": {
      "application/vnd.plotly.v1+json": {
       "config": {
        "plotlyServerURL": "https://plot.ly"
       },
       "data": [
        {
         "hovertemplate": "月度成本：%{y:,.0f} 元<extra></extra>",
         "line": {
          "color": "royalblue",
          "width": 2
         },
         "mode": "lines+markers",
         "name": "月度成本(元)",
         "type": "scatter",
         "x": [
          "2025-01-01T00:00:00.000000000",
          "2025-02-01T00:00:00.000000000",
          "2025-03-01T00:00:00.000000000",
          "2025-04-01T00:00:00.000000000",
          "2025-05-01T00:00:00.000000000",
          "2025-06-01T00:00:00.000000000",
          "2025-07-01T00:00:00.000000000",
          "2025-08-01T00:00:00.000000000",
          "2025-09-01T00:00:00.000000000",
          "2025-10-01T00:00:00.000000000",
          "2025-11-01T00:00:00.000000000",
          "2025-12-01T00:00:00.000000000"
         ],
         "xaxis": "x",
         "y": {
          "bdata": "wkQag4DQIUE7IliiZavcQELtVtg2/7JAdTtAZu8oGUH5CcYv46tEQXYYFLcBHF1BlTNFNljTXEEp5KgBjO5fQcuvKwT4QGpBYuxffVl4aUFydAV+WEpyQeCZu9pkcnRB",
          "dtype": "f8"
         },
         "yaxis": "y"
        },
        {
         "hovertemplate": "月服务水平：%{y:.1%}<extra></extra>",
         "line": {
          "color": "firebrick",
          "width": 2
         },
         "mode": "lines+markers",
         "name": "月服务水平",
         "type": "scatter",
         "x": [
          "2025-01-01T00:00:00.000000000",
          "2025-04-01T00:00:00.000000000",
          "2025-05-01T00:00:00.000000000",
          "2025-06-01T00:00:00.000000000",
          "2025-07-01T00:00:00.000000000",
          "2025-08-01T00:00:00.000000000",
          "2025-09-01T00:00:00.000000000",
          "2025-10-01T00:00:00.000000000",
          "2025-11-01T00:00:00.000000000",
          "2025-12-01T00:00:00.000000000"
         ],
         "xaxis": "x",
         "y": {
          "bdata": "AAAAAAAA8D8AAAAAAADwP2X8dqkn4+8/UcL6FiWs7z8bb3nvD8zvP5c6pFur2u8/sy2krIjh7z/X1VGztNnvP5hRENBc3+8/4gqAiqHc7z8=",
          "dtype": "f8"
         },
         "yaxis": "y2"
        },
        {
         "hovertemplate": "每日成本：%{y:,.0f} 元<extra></extra>",
         "line": {
          "color": "royalblue",
          "dash": "dash",
          "width": 1
         },
         "marker": {
          "size": 4
         },
         "mode": "lines+markers",
         "name": "每日成本",
         "type": "scatter",
         "visible": "legendonly",
         "x": [
          "2025-01-01T00:00:00.000000000",
          "2025-01-02T00:00:00.000000000",
          "2025-01-03T00:00:00.000000000",
          "2025-01-04T00:00:00.000000000",
          "2025-01-05T00:00:00.000000000",
          "2025-01-06T00:00:00.000000000",
          "2025-01-07T00:00:00.000000000",
          "2025-01-08T00:00:00.000000000",
          "2025-01-09T00:00:00.000000000",
          "2025-01-10T00:00:00.000000000",
          "2025-01-11T00:00:00.000000000",
          "2025-01-12T00:00:00.000000000",
          "2025-01-13T00:00:00.000000000",
          "2025-01-14T00:00:00.000000000",
          "2025-01-15T00:00:00.000000000",
          "2025-01-16T00:00:00.000000000",
          "2025-01-17T00:00:00.000000000",
          "2025-01-18T00:00:00.000000000",
          "2025-01-19T00:00:00.000000000",
          "2025-01-20T00:00:00.000000000",
          "2025-01-21T00:00:00.000000000",
          "2025-01-22T00:00:00.000000000",
          "2025-01-23T00:00:00.000000000",
          "2025-01-24T00:00:00.000000000",
          "2025-01-25T00:00:00.000000000",
          "2025-01-26T00:00:00.000000000",
          "2025-01-27T00:00:00.000000000",
          "2025-01-28T00:00:00.000000000",
          "2025-01-29T00:00:00.000000000",
          "2025-01-30T00:00:00.000000000",
          "2025-01-31T00:00:00.000000000",
          "2025-02-01T00:00:00.000000000",
          "2025-02-02T00:00:00.000000000",
          "2025-02-03T00:00:00.000000000",
          "2025-02-04T00:00:00.000000000",
          "2025-02-05T00:00:00.000000000",
          "2025-02-06T00:00:00.000000000",
          "2025-02-07T00:00:00.000000000",
          "2025-02-08T00:00:00.000000000",
          "2025-02-09T00:00:00.000000000",
          "2025-02-10T00:00:00.000000000",
          "2025-02-11T00:00:00.000000000",
          "2025-02-12T00:00:00.000000000",
          "2025-02-13T00:00:00.000000000",
          "2025-02-14T00:00:00.000000000",
          "2025-02-15T00:00:00.000000000",
          "2025-02-16T00:00:00.000000000",
          "2025-02-17T00:00:00.000000000",
          "2025-02-18T00:00:00.000000000",
          "2025-02-19T00:00:00.000000000",
          "2025-02-20T00:00:00.000000000",
          "2025-02-21T00:00:00.000000000",
          "2025-02-22T00:00:00.000000000",
          "2025-02-23T00:00:00.000000000",
          "2025-02-24T00:00:00.000000000",
          "2025-02-25T00:00:00.000000000",
          "2025-02-26T00:00:00.000000000",
          "2025-02-27T00:00:00.000000000",
          "2025-02-28T00:00:00.000000000",
          "2025-03-01T00:00:00.000000000",
          "2025-03-02T00:00:00.000000000",
          "2025-03-03T00:00:00.000000000",
          "2025-03-04T00:00:00.000000000",
          "2025-03-05T00:00:00.000000000",
          "2025-03-06T00:00:00.000000000",
          "2025-03-07T00:00:00.000000000",
          "2025-03-08T00:00:00.000000000",
          "2025-03-09T00:00:00.000000000",
          "2025-03-10T00:00:00.000000000",
          "2025-03-11T00:00:00.000000000",
          "2025-03-12T00:00:00.000000000",
          "2025-03-13T00:00:00.000000000",
          "2025-03-14T00:00:00.000000000",
          "2025-03-15T00:00:00.000000000",
          "2025-03-16T00:00:00.000000000",
          "2025-03-17T00:00:00.000000000",
          "2025-03-18T00:00:00.000000000",
          "2025-03-19T00:00:00.000000000",
          "2025-03-20T00:00:00.000000000",
          "2025-03-21T00:00:00.000000000",
          "2025-03-22T00:00:00.000000000",
          "2025-03-23T00:00:00.000000000",
          "2025-03-24T00:00:00.000000000",
          "2025-03-25T00:00:00.000000000",
          "2025-03-26T00:00:00.000000000",
          "2025-03-27T00:00:00.000000000",
          "2025-03-28T00:00:00.000000000",
          "2025-03-29T00:00:00.000000000",
          "2025-03-30T00:00:00.000000000",
          "2025-03-31T00:00:00.000000000",
          "2025-04-01T00:00:00.000000000",
          "2025-04-02T00:00:00.000000000",
          "2025-04-03T00:00:00.000000000",
          "2025-04-04T00:00:00.000000000",
          "2025-04-05T00:00:00.000000000",
          "2025-04-06T00:00:00.000000000",
          "2025-04-07T00:00:00.000000000",
          "2025-04-08T00:00:00.000000000",
          "2025-04-09T00:00:00.000000000",
          "2025-04-10T00:00:00.000000000",
          "2025-04-11T00:00:00.000000000",
          "2025-04-12T00:00:00.000000000",
          "2025-04-13T00:00:00.000000000",
          "2025-04-14T00:00:00.000000000",
          "2025-04-15T00:00:00.000000000",
          "2025-04-16T00:00:00.000000000",
          "2025-04-17T00:00:00.000000000",
          "2025-04-18T00:00:00.000000000",
          "2025-04-19T00:00:00.000000000",
          "2025-04-20T00:00:00.000000000",
          "2025-04-21T00:00:00.000000000",
          "2025-04-22T00:00:00.000000000",
          "2025-04-23T00:00:00.000000000",
          "2025-04-24T00:00:00.000000000",
          "2025-04-25T00:00:00.000000000",
          "2025-04-26T00:00:00.000000000",
          "2025-04-27T00:00:00.000000000",
          "2025-04-28T00:00:00.000000000",
          "2025-04-29T00:00:00.000000000",
          "2025-04-30T00:00:00.000000000",
          "2025-05-01T00:00:00.000000000",
          "2025-05-02T00:00:00.000000000",
          "2025-05-03T00:00:00.000000000",
          "2025-05-04T00:00:00.000000000",
          "2025-05-05T00:00:00.000000000",
          "2025-05-06T00:00:00.000000000",
          "2025-05-07T00:00:00.000000000",
          "2025-05-08T00:00:00.000000000",
          "2025-05-09T00:00:00.000000000",
          "2025-05-10T00:00:00.000000000",
          "2025-05-11T00:00:00.000000000",
          "2025-05-12T00:00:00.000000000",
          "2025-05-13T00:00:00.000000000",
          "2025-05-14T00:00:00.000000000",
          "2025-05-15T00:00:00.000000000",
          "2025-05-16T00:00:00.000000000",
          "2025-05-17T00:00:00.000000000",
          "2025-05-18T00:00:00.000000000",
          "2025-05-19T00:00:00.000000000",
          "2025-05-20T00:00:00.000000000",
          "2025-05-21T00:00:00.000000000",
          "2025-05-22T00:00:00.000000000",
          "2025-05-23T00:00:00.000000000",
          "2025-05-24T00:00:00.000000000",
          "2025-05-25T00:00:00.000000000",
          "2025-05-26T00:00:00.000000000",
          "2025-05-27T00:00:00.000000000",
          "2025-05-28T00:00:00.000000000",
          "2025-05-29T00:00:00.000000000",
          "2025-05-30T00:00:00.000000000",
          "2025-05-31T00:00:00.000000000",
          "2025-06-01T00:00:00.000000000",
          "2025-06-02T00:00:00.000000000",
          "2025-06-03T00:00:00.000000000",
          "2025-06-04T00:00:00.000000000",
          "2025-06-05T00:00:00.000000000",
          "2025-06-06T00:00:00.000000000",
          "2025-06-07T00:00:00.000000000",
          "2025-06-08T00:00:00.000000000",
          "2025-06-09T00:00:00.000000000",
          "2025-06-10T00:00:00.000000000",
          "2025-06-11T00:00:00.000000000",
          "2025-06-12T00:00:00.000000000",
          "2025-06-13T00:00:00.000000000",
          "2025-06-14T00:00:00.000000000",
          "2025-06-15T00:00:00.000000000",
          "2025-06-16T00:00:00.000000000",
          "2025-06-17T00:00:00.000000000",
          "2025-06-18T00:00:00.000000000",
          "2025-06-19T00:00:00.000000000",
          "2025-06-20T00:00:00.000000000",
          "2025-06-21T00:00:00.000000000",
          "2025-06-22T00:00:00.000000000",
          "2025-06-23T00:00:00.000000000",
          "2025-06-24T00:00:00.000000000",
          "2025-06-25T00:00:00.000000000",
          "2025-06-26T00:00:00.000000000",
          "2025-06-27T00:00:00.000000000",
          "2025-06-28T00:00:00.000000000",
          "2025-06-29T00:00:00.000000000",
          "2025-06-30T00:00:00.000000000",
          "2025-07-01T00:00:00.000000000",
          "2025-07-02T00:00:00.000000000",
          "2025-07-03T00:00:00.000000000",
          "2025-07-04T00:00:00.000000000",
          "2025-07-05T00:00:00.000000000",
          "2025-07-06T00:00:00.000000000",
          "2025-07-07T00:00:00.000000000",
          "2025-07-08T00:00:00.000000000",
          "2025-07-09T00:00:00.000000000",
          "2025-07-10T00:00:00.000000000",
          "2025-07-11T00:00:00.000000000",
          "2025-07-12T00:00:00.000000000",
          "2025-07-13T00:00:00.000000000",
          "2025-07-14T00:00:00.000000000",
          "2025-07-15T00:00:00.000000000",
          "2025-07-16T00:00:00.000000000",
          "2025-07-17T00:00:00.000000000",
          "2025-07-18T00:00:00.000000000",
          "2025-07-19T00:00:00.000000000",
          "2025-07-20T00:00:00.000000000",
          "2025-07-21T00:00:00.000000000",
          "2025-07-22T00:00:00.000000000",
          "2025-07-23T00:00:00.000000000",
          "2025-07-24T00:00:00.000000000",
          "2025-07-25T00:00:00.000000000",
          "2025-07-26T00:00:00.000000000",
          "2025-07-27T00:00:00.000000000",
          "2025-07-28T00:00:00.000000000",
          "2025-07-29T00:00:00.000000000",
          "2025-07-30T00:00:00.000000000",
          "2025-07-31T00:00:00.000000000",
          "2025-08-01T00:00:00.000000000",
          "2025-08-02T00:00:00.000000000",
          "2025-08-03T00:00:00.000000000",
          "2025-08-04T00:00:00.000000000",
          "2025-08-05T00:00:00.000000000",
          "2025-08-06T00:00:00.000000000",
          "2025-08-07T00:00:00.000000000",
          "2025-08-08T00:00:00.000000000",
          "2025-08-09T00:00:00.000000000",
          "2025-08-10T00:00:00.000000000",
          "2025-08-11T00:00:00.000000000",
          "2025-08-12T00:00:00.000000000",
          "2025-08-13T00:00:00.000000000",
          "2025-08-14T00:00:00.000000000",
          "2025-08-15T00:00:00.000000000",
          "2025-08-16T00:00:00.000000000",
          "2025-08-17T00:00:00.000000000",
          "2025-08-18T00:00:00.000000000",
          "2025-08-19T00:00:00.000000000",
          "2025-08-20T00:00:00.000000000",
          "2025-08-21T00:00:00.000000000",
          "2025-08-22T00:00:00.000000000",
          "2025-08-23T00:00:00.000000000",
          "2025-08-24T00:00:00.000000000",
          "2025-08-25T00:00:00.000000000",
          "2025-08-26T00:00:00.000000000",
          "2025-08-27T00:00:00.000000000",
          "2025-08-28T00:00:00.000000000",
          "2025-08-29T00:00:00.000000000",
          "2025-08-30T00:00:00.000000000",
          "2025-08-31T00:00:00.000000000",
          "2025-09-01T00:00:00.000000000",
          "2025-09-02T00:00:00.000000000",
          "2025-09-03T00:00:00.000000000",
          "2025-09-04T00:00:00.000000000",
          "2025-09-05T00:00:00.000000000",
          "2025-09-06T00:00:00.000000000",
          "2025-09-07T00:00:00.000000000",
          "2025-09-08T00:00:00.000000000",
          "2025-09-09T00:00:00.000000000",
          "2025-09-10T00:00:00.000000000",
          "2025-09-11T00:00:00.000000000",
          "2025-09-12T00:00:00.000000000",
          "2025-09-13T00:00:00.000000000",
          "2025-09-14T00:00:00.000000000",
          "2025-09-15T00:00:00.000000000",
          "2025-09-16T00:00:00.000000000",
          "2025-09-17T00:00:00.000000000",
          "2025-09-18T00:00:00.000000000",
          "2025-09-19T00:00:00.000000000",
          "2025-09-20T00:00:00.000000000",
          "2025-09-21T00:00:00.000000000",
          "2025-09-22T00:00:00.000000000",
          "2025-09-23T00:00:00.000000000",
          "2025-09-24T00:00:00.000000000",
          "2025-09-25T00:00:00.000000000",
          "2025-09-26T00:00:00.000000000",
          "2025-09-27T00:00:00.000000000",
          "2025-09-28T00:00:00.000000000",
          "2025-09-29T00:00:00.000000000",
          "2025-09-30T00:00:00.000000000",
          "2025-10-01T00:00:00.000000000",
          "2025-10-02T00:00:00.000000000",
          "2025-10-03T00:00:00.000000000",
          "2025-10-04T00:00:00.000000000",
          "2025-10-05T00:00:00.000000000",
          "2025-10-06T00:00:00.000000000",
          "2025-10-07T00:00:00.000000000",
          "2025-10-08T00:00:00.000000000",
          "2025-10-09T00:00:00.000000000",
          "2025-10-10T00:00:00.000000000",
          "2025-10-11T00:00:00.000000000",
          "2025-10-12T00:00:00.000000000",
          "2025-10-13T00:00:00.000000000",
          "2025-10-14T00:00:00.000000000",
          "2025-10-15T00:00:00.000000000",
          "2025-10-16T00:00:00.000000000",
          "2025-10-17T00:00:00.000000000",
          "2025-10-18T00:00:00.000000000",
          "2025-10-19T00:00:00.000000000",
          "2025-10-20T00:00:00.000000000",
          "2025-10-21T00:00:00.000000000",
          "2025-10-22T00:00:00.000000000",
          "2025-10-23T00:00:00.000000000",
          "2025-10-24T00:00:00.000000000",
          "2025-10-25T00:00:00.000000000",
          "2025-10-26T00:00:00.000000000",
          "2025-10-27T00:00:00.000000000",
          "2025-10-28T00:00:00.000000000",
          "2025-10-29T00:00:00.000000000",
          "2025-10-30T00:00:00.000000000",
          "2025-10-31T00:00:00.000000000",
          "2025-11-01T00:00:00.000000000",
          "2025-11-02T00:00:00.000000000",
          "2025-11-03T00:00:00.000000000",
          "2025-11-04T00:00:00.000000000",
          "2025-11-05T00:00:00.000000000",
          "2025-11-06T00:00:00.000000000",
          "2025-11-07T00:00:00.000000000",
          "2025-11-08T00:00:00.000000000",
          "2025-11-09T00:00:00.000000000",
          "2025-11-10T00:00:00.000000000",
          "2025-11-11T00:00:00.000000000",
          "2025-11-12T00:00:00.000000000",
          "2025-11-13T00:00:00.000000000",
          "2025-11-14T00:00:00.000000000",
          "2025-11-15T00:00:00.000000000",
          "2025-11-16T00:00:00.000000000",
          "2025-11-17T00:00:00.000000000",
          "2025-11-18T00:00:00.000000000",
          "2025-11-19T00:00:00.000000000",
          "2025-11-20T00:00:00.000000000",
          "2025-11-21T00:00:00.000000000",
          "2025-11-22T00:00:00.000000000",
          "2025-11-23T00:00:00.000000000",
          "2025-11-24T00:00:00.000000000",
          "2025-11-25T00:00:00.000000000",
          "2025-11-26T00:00:00.000000000",
          "2025-11-27T00:00:00.000000000",
          "2025-11-28T00:00:00.000000000",
          "2025-11-29T00:00:00.000000000",
          "2025-11-30T00:00:00.000000000",
          "2025-12-01T00:00:00.000000000",
          "2025-12-02T00:00:00.000000000",
          "2025-12-03T00:00:00.000000000",
          "2025-12-04T00:00:00.000000000",
          "2025-12-05T00:00:00.000000000",
          "2025-12-06T00:00:00.000000000",
          "2025-12-07T00:00:00.000000000",
          "2025-12-08T00:00:00.000000000",
          "2025-12-09T00:00:00.000000000",
          "2025-12-10T00:00:00.000000000",
          "2025-12-11T00:00:00.000000000",
          "2025-12-12T00:00:00.000000000",
          "2025-12-13T00:00:00.000000000",
          "2025-12-14T00:00:00.000000000",
          "2025-12-15T00:00:00.000000000",
          "2025-12-16T00:00:00.000000000",
          "2025-12-17T00:00:00.000000000",
          "2025-12-18T00:00:00.000000000",
          "2025-12-19T00:00:00.000000000",
          "2025-12-20T00:00:00.000000000",
          "2025-12-21T00:00:00.000000000",
          "2025-12-22T00:00:00.000000000",
          "2025-12-23T00:00:00.000000000",
          "2025-12-24T00:00:00.000000000",
          "2025-12-25T00:00:00.000000000",
          "2025-12-26T00:00:00.000000000",
          "2025-12-27T00:00:00.000000000",
          "2025-12-28T00:00:00.000000000",
          "2025-12-29T00:00:00.000000000",
          "2025-12-30T00:00:00.000000000",
          "2025-12-31T00:00:00.000000000"
         ],
         "xaxis": "x",
         "y": {
          "bdata": "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",
          "dtype": "f8"
         },
         "yaxis": "y"
        },
        {
         "hovertemplate": "每日达成率：%{y:.1%}<extra></extra>",
         "line": {
          "color": "firebrick",
          "dash": "dash",
          "width": 1
         },
         "marker": {
          "size": 4
         },
         "mode": "lines+markers",
         "name": "每日服务水平",
         "type": "scatter",
         "visible": "legendonly",
         "x": [
          "2025-01-01T00:00:00.000000000",
          "2025-01-02T00:00:00.000000000",
          "2025-01-03T00:00:00.000000000",
          "2025-01-04T00:00:00.000000000",
          "2025-01-05T00:00:00.000000000",
          "2025-01-06T00:00:00.000000000",
          "2025-01-07T00:00:00.000000000",
          "2025-01-08T00:00:00.000000000",
          "2025-01-09T00:00:00.000000000",
          "2025-01-10T00:00:00.000000000",
          "2025-01-11T00:00:00.000000000",
          "2025-01-12T00:00:00.000000000",
          "2025-01-13T00:00:00.000000000",
          "2025-01-14T00:00:00.000000000",
          "2025-01-15T00:00:00.000000000",
          "2025-01-16T00:00:00.000000000",
          "2025-01-17T00:00:00.000000000",
          "2025-01-18T00:00:00.000000000",
          "2025-01-19T00:00:00.000000000",
          "2025-01-20T00:00:00.000000000",
          "2025-01-21T00:00:00.000000000",
          "2025-01-22T00:00:00.000000000",
          "2025-01-23T00:00:00.000000000",
          "2025-01-24T00:00:00.000000000",
          "2025-01-25T00:00:00.000000000",
          "2025-01-26T00:00:00.000000000",
          "2025-01-27T00:00:00.000000000",
          "2025-01-28T00:00:00.000000000",
          "2025-01-29T00:00:00.000000000",
          "2025-01-30T00:00:00.000000000",
          "2025-01-31T00:00:00.000000000",
          "2025-02-01T00:00:00.000000000",
          "2025-02-02T00:00:00.000000000",
          "2025-02-03T00:00:00.000000000",
          "2025-02-04T00:00:00.000000000",
          "2025-02-05T00:00:00.000000000",
          "2025-02-06T00:00:00.000000000",
          "2025-02-07T00:00:00.000000000",
          "2025-02-08T00:00:00.000000000",
          "2025-02-09T00:00:00.000000000",
          "2025-02-10T00:00:00.000000000",
          "2025-02-11T00:00:00.000000000",
          "2025-02-12T00:00:00.000000000",
          "2025-02-13T00:00:00.000000000",
          "2025-02-14T00:00:00.000000000",
          "2025-02-15T00:00:00.000000000",
          "2025-02-16T00:00:00.000000000",
          "2025-02-17T00:00:00.000000000",
          "2025-02-18T00:00:00.000000000",
          "2025-02-19T00:00:00.000000000",
          "2025-02-20T00:00:00.000000000",
          "2025-02-21T00:00:00.000000000",
          "2025-02-22T00:00:00.000000000",
          "2025-02-23T00:00:00.000000000",
          "2025-02-24T00:00:00.000000000",
          "2025-02-25T00:00:00.000000000",
          "2025-02-26T00:00:00.000000000",
          "2025-02-27T00:00:00.000000000",
          "2025-02-28T00:00:00.000000000",
          "2025-03-01T00:00:00.000000000",
          "2025-03-02T00:00:00.000000000",
          "2025-03-03T00:00:00.000000000",
          "2025-03-04T00:00:00.000000000",
          "2025-03-05T00:00:00.000000000",
          "2025-03-06T00:00:00.000000000",
          "2025-03-07T00:00:00.000000000",
          "2025-03-08T00:00:00.000000000",
          "2025-03-09T00:00:00.000000000",
          "2025-03-10T00:00:00.000000000",
          "2025-03-11T00:00:00.000000000",
          "2025-03-12T00:00:00.000000000",
          "2025-03-13T00:00:00.000000000",
          "2025-03-14T00:00:00.000000000",
          "2025-03-15T00:00:00.000000000",
          "2025-03-16T00:00:00.000000000",
          "2025-03-17T00:00:00.000000000",
          "2025-03-18T00:00:00.000000000",
          "2025-03-19T00:00:00.000000000",
          "2025-03-20T00:00:00.000000000",
          "2025-03-21T00:00:00.000000000",
          "2025-03-22T00:00:00.000000000",
          "2025-03-23T00:00:00.000000000",
          "2025-03-24T00:00:00.000000000",
          "2025-03-25T00:00:00.000000000",
          "2025-03-26T00:00:00.000000000",
          "2025-03-27T00:00:00.000000000",
          "2025-03-28T00:00:00.000000000",
          "2025-03-29T00:00:00.000000000",
          "2025-03-30T00:00:00.000000000",
          "2025-03-31T00:00:00.000000000",
          "2025-04-01T00:00:00.000000000",
          "2025-04-02T00:00:00.000000000",
          "2025-04-03T00:00:00.000000000",
          "2025-04-04T00:00:00.000000000",
          "2025-04-05T00:00:00.000000000",
          "2025-04-06T00:00:00.000000000",
          "2025-04-07T00:00:00.000000000",
          "2025-04-08T00:00:00.000000000",
          "2025-04-09T00:00:00.000000000",
          "2025-04-10T00:00:00.000000000",
          "2025-04-11T00:00:00.000000000",
          "2025-04-12T00:00:00.000000000",
          "2025-04-13T00:00:00.000000000",
          "2025-04-14T00:00:00.000000000",
          "2025-04-15T00:00:00.000000000",
          "2025-04-16T00:00:00.000000000",
          "2025-04-17T00:00:00.000000000",
          "2025-04-18T00:00:00.000000000",
          "2025-04-19T00:00:00.000000000",
          "2025-04-20T00:00:00.000000000",
          "2025-04-21T00:00:00.000000000",
          "2025-04-22T00:00:00.000000000",
          "2025-04-23T00:00:00.000000000",
          "2025-04-24T00:00:00.000000000",
          "2025-04-25T00:00:00.000000000",
          "2025-04-26T00:00:00.000000000",
          "2025-04-27T00:00:00.000000000",
          "2025-04-28T00:00:00.000000000",
          "2025-04-29T00:00:00.000000000",
          "2025-04-30T00:00:00.000000000",
          "2025-05-01T00:00:00.000000000",
          "2025-05-02T00:00:00.000000000",
          "2025-05-03T00:00:00.000000000",
          "2025-05-04T00:00:00.000000000",
          "2025-05-05T00:00:00.000000000",
          "2025-05-06T00:00:00.000000000",
          "2025-05-07T00:00:00.000000000",
          "2025-05-08T00:00:00.000000000",
          "2025-05-09T00:00:00.000000000",
          "2025-05-10T00:00:00.000000000",
          "2025-05-11T00:00:00.000000000",
          "2025-05-12T00:00:00.000000000",
          "2025-05-13T00:00:00.000000000",
          "2025-05-14T00:00:00.000000000",
          "2025-05-15T00:00:00.000000000",
          "2025-05-16T00:00:00.000000000",
          "2025-05-17T00:00:00.000000000",
          "2025-05-18T00:00:00.000000000",
          "2025-05-19T00:00:00.000000000",
          "2025-05-20T00:00:00.000000000",
          "2025-05-21T00:00:00.000000000",
          "2025-05-22T00:00:00.000000000",
          "2025-05-23T00:00:00.000000000",
          "2025-05-24T00:00:00.000000000",
          "2025-05-25T00:00:00.000000000",
          "2025-05-26T00:00:00.000000000",
          "2025-05-27T00:00:00.000000000",
          "2025-05-28T00:00:00.000000000",
          "2025-05-29T00:00:00.000000000",
          "2025-05-30T00:00:00.000000000",
          "2025-05-31T00:00:00.000000000",
          "2025-06-01T00:00:00.000000000",
          "2025-06-02T00:00:00.000000000",
          "2025-06-03T00:00:00.000000000",
          "2025-06-04T00:00:00.000000000",
          "2025-06-05T00:00:00.000000000",
          "2025-06-06T00:00:00.000000000",
          "2025-06-07T00:00:00.000000000",
          "2025-06-08T00:00:00.000000000",
          "2025-06-09T00:00:00.000000000",
          "2025-06-10T00:00:00.000000000",
          "2025-06-11T00:00:00.000000000",
          "2025-06-12T00:00:00.000000000",
          "2025-06-13T00:00:00.000000000",
          "2025-06-14T00:00:00.000000000",
          "2025-06-15T00:00:00.000000000",
          "2025-06-16T00:00:00.000000000",
          "2025-06-17T00:00:00.000000000",
          "2025-06-18T00:00:00.000000000",
          "2025-06-19T00:00:00.000000000",
          "2025-06-20T00:00:00.000000000",
          "2025-06-21T00:00:00.000000000",
          "2025-06-22T00:00:00.000000000",
          "2025-06-23T00:00:00.000000000",
          "2025-06-24T00:00:00.000000000",
          "2025-06-25T00:00:00.000000000",
          "2025-06-26T00:00:00.000000000",
          "2025-06-27T00:00:00.000000000",
          "2025-06-28T00:00:00.000000000",
          "2025-06-29T00:00:00.000000000",
          "2025-06-30T00:00:00.000000000",
          "2025-07-01T00:00:00.000000000",
          "2025-07-02T00:00:00.000000000",
          "2025-07-03T00:00:00.000000000",
          "2025-07-04T00:00:00.000000000",
          "2025-07-05T00:00:00.000000000",
          "2025-07-06T00:00:00.000000000",
          "2025-07-07T00:00:00.000000000",
          "2025-07-08T00:00:00.000000000",
          "2025-07-09T00:00:00.000000000",
          "2025-07-10T00:00:00.000000000",
          "2025-07-11T00:00:00.000000000",
          "2025-07-12T00:00:00.000000000",
          "2025-07-13T00:00:00.000000000",
          "2025-07-14T00:00:00.000000000",
          "2025-07-15T00:00:00.000000000",
          "2025-07-16T00:00:00.000000000",
          "2025-07-17T00:00:00.000000000",
          "2025-07-18T00:00:00.000000000",
          "2025-07-19T00:00:00.000000000",
          "2025-07-20T00:00:00.000000000",
          "2025-07-21T00:00:00.000000000",
          "2025-07-22T00:00:00.000000000",
          "2025-07-23T00:00:00.000000000",
          "2025-07-24T00:00:00.000000000",
          "2025-07-25T00:00:00.000000000",
          "2025-07-26T00:00:00.000000000",
          "2025-07-27T00:00:00.000000000",
          "2025-07-28T00:00:00.000000000",
          "2025-07-29T00:00:00.000000000",
          "2025-07-30T00:00:00.000000000",
          "2025-07-31T00:00:00.000000000",
          "2025-08-01T00:00:00.000000000",
          "2025-08-02T00:00:00.000000000",
          "2025-08-03T00:00:00.000000000",
          "2025-08-04T00:00:00.000000000",
          "2025-08-05T00:00:00.000000000",
          "2025-08-06T00:00:00.000000000",
          "2025-08-07T00:00:00.000000000",
          "2025-08-08T00:00:00.000000000",
          "2025-08-09T00:00:00.000000000",
          "2025-08-10T00:00:00.000000000",
          "2025-08-11T00:00:00.000000000",
          "2025-08-12T00:00:00.000000000",
          "2025-08-13T00:00:00.000000000",
          "2025-08-14T00:00:00.000000000",
          "2025-08-15T00:00:00.000000000",
          "2025-08-16T00:00:00.000000000",
          "2025-08-17T00:00:00.000000000",
          "2025-08-18T00:00:00.000000000",
          "2025-08-19T00:00:00.000000000",
          "2025-08-20T00:00:00.000000000",
          "2025-08-21T00:00:00.000000000",
          "2025-08-22T00:00:00.000000000",
          "2025-08-23T00:00:00.000000000",
          "2025-08-24T00:00:00.000000000",
          "2025-08-25T00:00:00.000000000",
          "2025-08-26T00:00:00.000000000",
          "2025-08-27T00:00:00.000000000",
          "2025-08-28T00:00:00.000000000",
          "2025-08-29T00:00:00.000000000",
          "2025-08-30T00:00:00.000000000",
          "2025-08-31T00:00:00.000000000",
          "2025-09-01T00:00:00.000000000",
          "2025-09-02T00:00:00.000000000",
          "2025-09-03T00:00:00.000000000",
          "2025-09-04T00:00:00.000000000",
          "2025-09-05T00:00:00.000000000",
          "2025-09-06T00:00:00.000000000",
          "2025-09-07T00:00:00.000000000",
          "2025-09-08T00:00:00.000000000",
          "2025-09-09T00:00:00.000000000",
          "2025-09-10T00:00:00.000000000",
          "2025-09-11T00:00:00.000000000",
          "2025-09-12T00:00:00.000000000",
          "2025-09-13T00:00:00.000000000",
          "2025-09-14T00:00:00.000000000",
          "2025-09-15T00:00:00.000000000",
          "2025-09-16T00:00:00.000000000",
          "2025-09-17T00:00:00.000000000",
          "2025-09-18T00:00:00.000000000",
          "2025-09-19T00:00:00.000000000",
          "2025-09-20T00:00:00.000000000",
          "2025-09-21T00:00:00.000000000",
          "2025-09-22T00:00:00.000000000",
          "2025-09-23T00:00:00.000000000",
          "2025-09-24T00:00:00.000000000",
          "2025-09-25T00:00:00.000000000",
          "2025-09-26T00:00:00.000000000",
          "2025-09-27T00:00:00.000000000",
          "2025-09-28T00:00:00.000000000",
          "2025-09-29T00:00:00.000000000",
          "2025-09-30T00:00:00.000000000",
          "2025-10-01T00:00:00.000000000",
          "2025-10-02T00:00:00.000000000",
          "2025-10-03T00:00:00.000000000",
          "2025-10-04T00:00:00.000000000",
          "2025-10-05T00:00:00.000000000",
          "2025-10-06T00:00:00.000000000",
          "2025-10-07T00:00:00.000000000",
          "2025-10-08T00:00:00.000000000",
          "2025-10-09T00:00:00.000000000",
          "2025-10-10T00:00:00.000000000",
          "2025-10-11T00:00:00.000000000",
          "2025-10-12T00:00:00.000000000",
          "2025-10-13T00:00:00.000000000",
          "2025-10-14T00:00:00.000000000",
          "2025-10-15T00:00:00.000000000",
          "2025-10-16T00:00:00.000000000",
          "2025-10-17T00:00:00.000000000",
          "2025-10-18T00:00:00.000000000",
          "2025-10-19T00:00:00.000000000",
          "2025-10-20T00:00:00.000000000",
          "2025-10-21T00:00:00.000000000",
          "2025-10-22T00:00:00.000000000",
          "2025-10-23T00:00:00.000000000",
          "2025-10-24T00:00:00.000000000",
          "2025-10-25T00:00:00.000000000",
          "2025-10-26T00:00:00.000000000",
          "2025-10-27T00:00:00.000000000",
          "2025-10-28T00:00:00.000000000",
          "2025-10-29T00:00:00.000000000",
          "2025-10-30T00:00:00.000000000",
          "2025-10-31T00:00:00.000000000",
          "2025-11-01T00:00:00.000000000",
          "2025-11-02T00:00:00.000000000",
          "2025-11-03T00:00:00.000000000",
          "2025-11-04T00:00:00.000000000",
          "2025-11-05T00:00:00.000000000",
          "2025-11-06T00:00:00.000000000",
          "2025-11-07T00:00:00.000000000",
          "2025-11-08T00:00:00.000000000",
          "2025-11-09T00:00:00.000000000",
          "2025-11-10T00:00:00.000000000",
          "2025-11-11T00:00:00.000000000",
          "2025-11-12T00:00:00.000000000",
          "2025-11-13T00:00:00.000000000",
          "2025-11-14T00:00:00.000000000",
          "2025-11-15T00:00:00.000000000",
          "2025-11-16T00:00:00.000000000",
          "2025-11-17T00:00:00.000000000",
          "2025-11-18T00:00:00.000000000",
          "2025-11-19T00:00:00.000000000",
          "2025-11-20T00:00:00.000000000",
          "2025-11-21T00:00:00.000000000",
          "2025-11-22T00:00:00.000000000",
          "2025-11-23T00:00:00.000000000",
          "2025-11-24T00:00:00.000000000",
          "2025-11-25T00:00:00.000000000",
          "2025-11-26T00:00:00.000000000",
          "2025-11-27T00:00:00.000000000",
          "2025-11-28T00:00:00.000000000",
          "2025-11-29T00:00:00.000000000",
          "2025-11-30T00:00:00.000000000",
          "2025-12-01T00:00:00.000000000",
          "2025-12-02T00:00:00.000000000",
          "2025-12-03T00:00:00.000000000",
          "2025-12-04T00:00:00.000000000",
          "2025-12-05T00:00:00.000000000",
          "2025-12-06T00:00:00.000000000",
          "2025-12-07T00:00:00.000000000",
          "2025-12-08T00:00:00.000000000",
          "2025-12-09T00:00:00.000000000",
          "2025-12-10T00:00:00.000000000",
          "2025-12-11T00:00:00.000000000",
          "2025-12-12T00:00:00.000000000",
          "2025-12-13T00:00:00.000000000",
          "2025-12-14T00:00:00.000000000",
          "2025-12-15T00:00:00.000000000",
          "2025-12-16T00:00:00.000000000",
          "2025-12-17T00:00:00.000000000",
          "2025-12-18T00:00:00.000000000",
          "2025-12-19T00:00:00.000000000",
          "2025-12-20T00:00:00.000000000",
          "2025-12-21T00:00:00.000000000",
          "2025-12-22T00:00:00.000000000",
          "2025-12-23T00:00:00.000000000",
          "2025-12-24T00:00:00.000000000",
          "2025-12-25T00:00:00.000000000",
          "2025-12-26T00:00:00.000000000",
          "2025-12-27T00:00:00.000000000",
          "2025-12-28T00:00:00.000000000",
          "2025-12-29T00:00:00.000000000",
          "2025-12-30T00:00:00.000000000",
          "2025-12-31T00:00:00.000000000"
         ],
         "xaxis": "x",
         "y": {
          "bdata": "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",
          "dtype": "f8"
         },
         "yaxis": "y2"
        }
       ],
       "layout": {
        "legend": {
         "orientation": "h",
         "x": 1,
         "xanchor": "right",
         "y": 1.02,
         "yanchor": "bottom"
        },
        "template": {
         "data": {
          "bar": [
           {
            "error_x": {
             "color": "#2a3f5f"
            },
            "error_y": {
             "color": "#2a3f5f"
            },
            "marker": {
             "line": {
              "color": "#E5ECF6",
              "width": 0.5
             },
             "pattern": {
              "fillmode": "overlay",
              "size": 10,
              "solidity": 0.2
             }
            },
            "type": "bar"
           }
          ],
          "barpolar": [
           {
            "marker": {
             "line": {
              "color": "#E5ECF6",
              "width": 0.5
             },
             "pattern": {
              "fillmode": "overlay",
              "size": 10,
              "solidity": 0.2
             }
            },
            "type": "barpolar"
           }
          ],
          "carpet": [
           {
            "aaxis": {
             "endlinecolor": "#2a3f5f",
             "gridcolor": "white",
             "linecolor": "white",
             "minorgridcolor": "white",
             "startlinecolor": "#2a3f5f"
            },
            "baxis": {
             "endlinecolor": "#2a3f5f",
             "gridcolor": "white",
             "linecolor": "white",
             "minorgridcolor": "white",
             "startlinecolor": "#2a3f5f"
            },
            "type": "carpet"
           }
          ],
          "choropleth": [
           {
            "colorbar": {
             "outlinewidth": 0,
             "ticks": ""
            },
            "type": "choropleth"
           }
          ],
          "contour": [
           {
            "colorbar": {
             "outlinewidth": 0,
             "ticks": ""
            },
            "colorscale": [
             [
              0,
              "#0d0887"
             ],
             [
              0.1111111111111111,
              "#46039f"
             ],
             [
              0.2222222222222222,
              "#7201a8"
             ],
             [
              0.3333333333333333,
              "#9c179e"
             ],
             [
              0.4444444444444444,
              "#bd3786"
             ],
             [
              0.5555555555555556,
              "#d8576b"
             ],
             [
              0.6666666666666666,
              "#ed7953"
             ],
             [
              0.7777777777777778,
              "#fb9f3a"
             ],
             [
              0.8888888888888888,
              "#fdca26"
             ],
             [
              1,
              "#f0f921"
             ]
            ],
            "type": "contour"
           }
          ],
          "contourcarpet": [
           {
            "colorbar": {
             "outlinewidth": 0,
             "ticks": ""
            },
            "type": "contourcarpet"
           }
          ],
          "heatmap": [
           {
            "colorbar": {
             "outlinewidth": 0,
             "ticks": ""
            },
            "colorscale": [
             [
              0,
              "#0d0887"
             ],
             [
              0.1111111111111111,
              "#46039f"
             ],
             [
              0.2222222222222222,
              "#7201a8"
             ],
             [
              0.3333333333333333,
              "#9c179e"
             ],
             [
              0.4444444444444444,
              "#bd3786"
             ],
             [
              0.5555555555555556,
              "#d8576b"
             ],
             [
              0.6666666666666666,
              "#ed7953"
             ],
             [
              0.7777777777777778,
              "#fb9f3a"
             ],
             [
              0.8888888888888888,
              "#fdca26"
             ],
             [
              1,
              "#f0f921"
             ]
            ],
            "type": "heatmap"
           }
          ],
          "histogram": [
           {
            "marker": {
             "pattern": {
              "fillmode": "overlay",
              "size": 10,
              "solidity": 0.2
             }
            },
            "type": "histogram"
           }
          ],
          "histogram2d": [
           {
            "colorbar": {
             "outlinewidth": 0,
             "ticks": ""
            },
            "colorscale": [
             [
              0,
              "#0d0887"
             ],
             [
              0.1111111111111111,
              "#46039f"
             ],
             [
              0.2222222222222222,
              "#7201a8"
             ],
             [
              0.3333333333333333,
              "#9c179e"
             ],
             [
              0.4444444444444444,
              "#bd3786"
             ],
             [
              0.5555555555555556,
              "#d8576b"
             ],
             [
              0.6666666666666666,
              "#ed7953"
             ],
             [
              0.7777777777777778,
              "#fb9f3a"
             ],
             [
              0.8888888888888888,
              "#fdca26"
             ],
             [
              1,
              "#f0f921"
             ]
            ],
            "type": "histogram2d"
           }
          ],
          "histogram2dcontour": [
           {
            "colorbar": {
             "outlinewidth": 0,
             "ticks": ""
            },
            "colorscale": [
             [
              0,
              "#0d0887"
             ],
             [
              0.1111111111111111,
              "#46039f"
             ],
             [
              0.2222222222222222,
              "#7201a8"
             ],
             [
              0.3333333333333333,
              "#9c179e"
             ],
             [
              0.4444444444444444,
              "#bd3786"
             ],
             [
              0.5555555555555556,
              "#d8576b"
             ],
             [
              0.6666666666666666,
              "#ed7953"
             ],
             [
              0.7777777777777778,
              "#fb9f3a"
             ],
             [
              0.8888888888888888,
              "#fdca26"
             ],
             [
              1,
              "#f0f921"
             ]
            ],
            "type": "histogram2dcontour"
           }
          ],
          "mesh3d": [
           {
            "colorbar": {
             "outlinewidth": 0,
             "ticks": ""
            },
            "type": "mesh3d"
           }
          ],
          "parcoords": [
           {
            "line": {
             "colorbar": {
              "outlinewidth": 0,
              "ticks": ""
             }
            },
            "type": "parcoords"
           }
          ],
          "pie": [
           {
            "automargin": true,
            "type": "pie"
           }
          ],
          "scatter": [
           {
            "fillpattern": {
             "fillmode": "overlay",
             "size": 10,
             "solidity": 0.2
            },
            "type": "scatter"
           }
          ],
          "scatter3d": [
           {
            "line": {
             "colorbar": {
              "outlinewidth": 0,
              "ticks": ""
             }
            },
            "marker": {
             "colorbar": {
              "outlinewidth": 0,
              "ticks": ""
             }
            },
            "type": "scatter3d"
           }
          ],
          "scattercarpet": [
           {
            "marker": {
             "colorbar": {
              "outlinewidth": 0,
              "ticks": ""
             }
            },
            "type": "scattercarpet"
           }
          ],
          "scattergeo": [
           {
            "marker": {
             "colorbar": {
              "outlinewidth": 0,
              "ticks": ""
             }
            },
            "type": "scattergeo"
           }
          ],
          "scattergl": [
           {
            "marker": {
             "colorbar": {
              "outlinewidth": 0,
              "ticks": ""
             }
            },
            "type": "scattergl"
           }
          ],
          "scattermap": [
           {
            "marker": {
             "colorbar": {
              "outlinewidth": 0,
              "ticks": ""
             }
            },
            "type": "scattermap"
           }
          ],
          "scattermapbox": [
           {
            "marker": {
             "colorbar": {
              "outlinewidth": 0,
              "ticks": ""
             }
            },
            "type": "scattermapbox"
           }
          ],
          "scatterpolar": [
           {
            "marker": {
             "colorbar": {
              "outlinewidth": 0,
              "ticks": ""
             }
            },
            "type": "scatterpolar"
           }
          ],
          "scatterpolargl": [
           {
            "marker": {
             "colorbar": {
              "outlinewidth": 0,
              "ticks": ""
             }
            },
            "type": "scatterpolargl"
           }
          ],
          "scatterternary": [
           {
            "marker": {
             "colorbar": {
              "outlinewidth": 0,
              "ticks": ""
             }
            },
            "type": "scatterternary"
           }
          ],
          "surface": [
           {
            "colorbar": {
             "outlinewidth": 0,
             "ticks": ""
            },
            "colorscale": [
             [
              0,
              "#0d0887"
             ],
             [
              0.1111111111111111,
              "#46039f"
             ],
             [
              0.2222222222222222,
              "#7201a8"
             ],
             [
              0.3333333333333333,
              "#9c179e"
             ],
             [
              0.4444444444444444,
              "#bd3786"
             ],
             [
              0.5555555555555556,
              "#d8576b"
             ],
             [
              0.6666666666666666,
              "#ed7953"
             ],
             [
              0.7777777777777778,
              "#fb9f3a"
             ],
             [
              0.8888888888888888,
              "#fdca26"
             ],
             [
              1,
              "#f0f921"
             ]
            ],
            "type": "surface"
           }
          ],
          "table": [
           {
            "cells": {
             "fill": {
              "color": "#EBF0F8"
             },
             "line": {
              "color": "white"
             }
            },
            "header": {
             "fill": {
              "color": "#C8D4E3"
             },
             "line": {
              "color": "white"
             }
            },
            "type": "table"
           }
          ]
         },
         "layout": {
          "annotationdefaults": {
           "arrowcolor": "#2a3f5f",
           "arrowhead": 0,
           "arrowwidth": 1
          },
          "autotypenumbers": "strict",
          "coloraxis": {
           "colorbar": {
            "outlinewidth": 0,
            "ticks": ""
           }
          },
          "colorscale": {
           "diverging": [
            [
             0,
             "#8e0152"
            ],
            [
             0.1,
             "#c51b7d"
            ],
            [
             0.2,
             "#de77ae"
            ],
            [
             0.3,
             "#f1b6da"
            ],
            [
             0.4,
             "#fde0ef"
            ],
            [
             0.5,
             "#f7f7f7"
            ],
            [
             0.6,
             "#e6f5d0"
            ],
            [
             0.7,
             "#b8e186"
            ],
            [
             0.8,
             "#7fbc41"
            ],
            [
             0.9,
             "#4d9221"
            ],
            [
             1,
             "#276419"
            ]
           ],
           "sequential": [
            [
             0,
             "#0d0887"
            ],
            [
             0.1111111111111111,
             "#46039f"
            ],
            [
             0.2222222222222222,
             "#7201a8"
            ],
            [
             0.3333333333333333,
             "#9c179e"
            ],
            [
             0.4444444444444444,
             "#bd3786"
            ],
            [
             0.5555555555555556,
             "#d8576b"
            ],
            [
             0.6666666666666666,
             "#ed7953"
            ],
            [
             0.7777777777777778,
             "#fb9f3a"
            ],
            [
             0.8888888888888888,
             "#fdca26"
            ],
            [
             1,
             "#f0f921"
            ]
           ],
           "sequentialminus": [
            [
             0,
             "#0d0887"
            ],
            [
             0.1111111111111111,
             "#46039f"
            ],
            [
             0.2222222222222222,
             "#7201a8"
            ],
            [
             0.3333333333333333,
             "#9c179e"
            ],
            [
             0.4444444444444444,
             "#bd3786"
            ],
            [
             0.5555555555555556,
             "#d8576b"
            ],
            [
             0.6666666666666666,
             "#ed7953"
            ],
            [
             0.7777777777777778,
             "#fb9f3a"
            ],
            [
             0.8888888888888888,
             "#fdca26"
            ],
            [
             1,
             "#f0f921"
            ]
           ]
          },
          "colorway": [
           "#636efa",
           "#EF553B",
           "#00cc96",
           "#ab63fa",
           "#FFA15A",
           "#19d3f3",
           "#FF6692",
           "#B6E880",
           "#FF97FF",
           "#FECB52"
          ],
          "font": {
           "color": "#2a3f5f"
          },
          "geo": {
           "bgcolor": "white",
           "lakecolor": "white",
           "landcolor": "#E5ECF6",
           "showlakes": true,
           "showland": true,
           "subunitcolor": "white"
          },
          "hoverlabel": {
           "align": "left"
          },
          "hovermode": "closest",
          "mapbox": {
           "style": "light"
          },
          "paper_bgcolor": "white",
          "plot_bgcolor": "#E5ECF6",
          "polar": {
           "angularaxis": {
            "gridcolor": "white",
            "linecolor": "white",
            "ticks": ""
           },
           "bgcolor": "#E5ECF6",
           "radialaxis": {
            "gridcolor": "white",
            "linecolor": "white",
            "ticks": ""
           }
          },
          "scene": {
           "xaxis": {
            "backgroundcolor": "#E5ECF6",
            "gridcolor": "white",
            "gridwidth": 2,
            "linecolor": "white",
            "showbackground": true,
            "ticks": "",
            "zerolinecolor": "white"
           },
           "yaxis": {
            "backgroundcolor": "#E5ECF6",
            "gridcolor": "white",
            "gridwidth": 2,
            "linecolor": "white",
            "showbackground": true,
            "ticks": "",
            "zerolinecolor": "white"
           },
           "zaxis": {
            "backgroundcolor": "#E5ECF6",
            "gridcolor": "white",
            "gridwidth": 2,
            "linecolor": "white",
            "showbackground": true,
            "ticks": "",
            "zerolinecolor": "white"
           }
          },
          "shapedefaults": {
           "line": {
            "color": "#2a3f5f"
           }
          },
          "ternary": {
           "aaxis": {
            "gridcolor": "white",
            "linecolor": "white",
            "ticks": ""
           },
           "baxis": {
            "gridcolor": "white",
            "linecolor": "white",
            "ticks": ""
           },
           "bgcolor": "#E5ECF6",
           "caxis": {
            "gridcolor": "white",
            "linecolor": "white",
            "ticks": ""
           }
          },
          "title": {
           "x": 0.05
          },
          "xaxis": {
           "automargin": true,
           "gridcolor": "white",
           "linecolor": "white",
           "ticks": "",
           "title": {
            "standoff": 15
           },
           "zerolinecolor": "white",
           "zerolinewidth": 2
          },
          "yaxis": {
           "automargin": true,
           "gridcolor": "white",
           "linecolor": "white",
           "ticks": "",
           "title": {
            "standoff": 15
           },
           "zerolinecolor": "white",
           "zerolinewidth": 2
          }
         }
        },
        "title": {
         "text": "成本和服务水平变化"
        },
        "updatemenus": [
         {
          "buttons": [
           {
            "args": [
             {
              "visible": [
               true,
               true,
               true,
               true
              ]
             },
             {
              "title": "all"
             }
            ],
            "label": "all",
            "method": "update"
           },
           {
            "args": [
             {
              "visible": [
               true,
               true,
               false,
               false
              ]
             },
             {
              "title": "月"
             }
            ],
            "label": "月",
            "method": "update"
           },
           {
            "args": [
             {
              "visible": [
               false,
               false,
               true,
               true
              ]
             },
             {
              "title": "日"
             }
            ],
            "label": "日",
            "method": "update"
           }
          ],
          "type": "dropdown",
          "x": 1.15,
          "y": 1.1
         }
        ],
        "xaxis": {
         "anchor": "y",
         "domain": [
          0,
          0.94
         ],
         "rangeselector": {
          "buttons": [
           {
            "count": 7,
            "label": "最近7天",
            "step": "day",
            "stepmode": "backward"
           },
           {
            "count": 1,
            "label": "最近1月",
            "step": "month",
            "stepmode": "backward"
           },
           {
            "count": 3,
            "label": "最近3月",
            "step": "month",
            "stepmode": "backward"
           },
           {
            "label": "全部",
            "step": "all"
           }
          ]
         },
         "rangeslider": {
          "visible": true
         },
         "tickformat": "%m-%d",
         "title": {
          "text": "日期"
         },
         "type": "date"
        },
        "yaxis": {
         "anchor": "x",
         "domain": [
          0,
          1
         ],
         "tickformat": ",",
         "title": {
          "text": "成本(元)"
         }
        },
        "yaxis2": {
         "anchor": "x",
         "overlaying": "y",
         "side": "right",
         "tickformat": ".0%",
         "title": {
          "text": "服务水平(%)"
         }
        }
       }
      }
     },
     "metadata": {},
     "output_type": "display_data"
    }
   ],
   "source": [
    "rate_map = service_df.set_index('month')['actual_rate'].to_dict()\n",
    "daily_cost_list = []\n",
    "daily_svc_list  = []\n",
    "year = datetime.now().year\n",
    "\n",
    "for _, row in cost_df.iterrows():\n",
    "    m = int(row.month)\n",
    "    total_cost   = row.estimated_cost\n",
    "    monthly_rate = rate_map.get(row.month, np.nan)\n",
    "    n_days = pd.Period(f\"{year}-{m:02d}\").days_in_month\n",
    "    dates  = pd.date_range(f\"{year}-{m:02d}-01\", periods=n_days)\n",
    "    w = np.random.rand(n_days); w /= w.sum()\n",
    "    if np.isnan(monthly_rate):\n",
    "        rates = np.full(n_days, np.nan)\n",
    "    else:\n",
    "        rates = np.clip(\n",
    "            np.random.normal(loc=monthly_rate, scale=0.02, size=n_days),\n",
    "            0, 1\n",
    "        )\n",
    "\n",
    "    for d, wt, rt in zip(dates, w, rates):\n",
    "        daily_cost_list.append({ \"date\": d,           \"daily_cost\": total_cost * wt })\n",
    "        daily_svc_list.append({  \"date\": d,           \"daily_rate\": rt      })\n",
    "\n",
    "daily_cost_df    = pd.DataFrame(daily_cost_list)\n",
    "daily_service_df = pd.DataFrame(daily_svc_list)\n",
    "cost_df[\"date\"]    = pd.to_datetime(cost_df.month.astype(int).apply(lambda x: f\"{year}-{x:02d}-01\"))\n",
    "service_df[\"date\"] = pd.to_datetime(service_df.month.astype(int).apply(lambda x: f\"{year}-{x:02d}-01\"))\n",
    "\n",
    "fig = make_subplots(specs=[[{\"secondary_y\": True}]])\n",
    "\n",
    "# 月度成本\n",
    "fig.add_trace(go.Scatter(\n",
    "    x=cost_df[\"date\"], y=cost_df[\"estimated_cost\"],\n",
    "    mode=\"lines+markers\", name=\"月度成本(元)\",\n",
    "    line=dict(color=\"royalblue\", width=2),\n",
    "    hovertemplate=\"月度成本：%{y:,.0f} 元<extra></extra>\"\n",
    "), secondary_y=False)\n",
    "\n",
    "# 月度服务水平\n",
    "fig.add_trace(go.Scatter(\n",
    "    x=service_df[\"date\"], y=service_df[\"actual_rate\"],\n",
    "    mode=\"lines+markers\", name=\"月服务水平\",\n",
    "    line=dict(color=\"firebrick\", width=2),\n",
    "    hovertemplate=\"月服务水平：%{y:.1%}<extra></extra>\"\n",
    "), secondary_y=True)\n",
    "\n",
    "# 每日成本\n",
    "fig.add_trace(go.Scatter(\n",
    "    x=daily_cost_df[\"date\"], y=daily_cost_df[\"daily_cost\"],\n",
    "    mode=\"lines+markers\", name=\"每日成本\",\n",
    "    line=dict(color=\"royalblue\", width=1, dash=\"dash\"),\n",
    "    marker=dict(size=4),\n",
    "    hovertemplate=\"每日成本：%{y:,.0f} 元<extra></extra>\",\n",
    "    visible=\"legendonly\"\n",
    "), secondary_y=False)\n",
    "\n",
    "# 每日服务水平\n",
    "fig.add_trace(go.Scatter(\n",
    "    x=daily_service_df[\"date\"], y=daily_service_df[\"daily_rate\"],\n",
    "    mode=\"lines+markers\", name=\"每日服务水平\",\n",
    "    line=dict(color=\"firebrick\", width=1, dash=\"dash\"),\n",
    "    marker=dict(size=4),\n",
    "    hovertemplate=\"每日达成率：%{y:.1%}<extra></extra>\",\n",
    "    visible=\"legendonly\"\n",
    "), secondary_y=True)\n",
    "\n",
    "#菜单\n",
    "fig.update_layout(\n",
    "    updatemenus=[dict(\n",
    "        type=\"dropdown\", x=1.15, y=1.1,\n",
    "        buttons=[\n",
    "            dict(label=\"all\",\n",
    "                 method=\"update\",\n",
    "                 args=[{\"visible\": [True, True, True, True]}, {\"title\":\"all\"}]),\n",
    "            dict(label=\"月\",\n",
    "                 method=\"update\",\n",
    "                 args=[{\"visible\": [True, True, False, False]}, {\"title\":\"月\"}]),\n",
    "            dict(label=\"日\",\n",
    "                 method=\"update\",\n",
    "                 args=[{\"visible\": [False, False, True, True]}, {\"title\":\"日\"}]),\n",
    "        ]\n",
    "    )],\n",
    "    xaxis=dict(\n",
    "        title=\"日期\", type=\"date\",\n",
    "        tickformat=\"%m-%d\",\n",
    "        rangeslider=dict(visible=True),\n",
    "        rangeselector=dict(buttons=[\n",
    "            dict(count=7,  label=\"最近7天\",  step=\"day\",   stepmode=\"backward\"),\n",
    "            dict(count=1,  label=\"最近1月\",  step=\"month\", stepmode=\"backward\"),\n",
    "            dict(count=3,  label=\"最近3月\",  step=\"month\", stepmode=\"backward\"),\n",
    "            dict(step=\"all\", label=\"全部\")\n",
    "        ])\n",
    "    ),\n",
    "    yaxis=dict(title=\"成本(元)\", tickformat=\",\"),\n",
    "    yaxis2=dict(title=\"服务水平(%)\", tickformat=\".0%\"),\n",
    "    title=\"成本和服务水平变化\",\n",
    "    legend=dict(orientation=\"h\", yanchor=\"bottom\", y=1.02, xanchor=\"right\", x=1)\n",
    ")\n",
    "\n",
    "fig.show()\n",
    "fig_op2 = fig\n"
   ]
  },
  {
   "cell_type": "code",
   "execution_count": 5,
   "id": "79d29d2116bceef5",
   "metadata": {
    "ExecuteTime": {
     "end_time": "2025-06-04T10:24:43.286465Z",
     "start_time": "2025-06-04T10:24:43.205185Z"
    }
   },
   "outputs": [
    {
     "data": {
      "text/html": [
       "\n",
       "        <iframe\n",
       "            width=\"100%\"\n",
       "            height=\"650\"\n",
       "            src=\"http://127.0.0.1:8059/\"\n",
       "            frameborder=\"0\"\n",
       "            allowfullscreen\n",
       "            \n",
       "        ></iframe>\n",
       "        "
      ],
      "text/plain": [
       "<IPython.lib.display.IFrame at 0x108e5d720>"
      ]
     },
     "metadata": {},
     "output_type": "display_data"
    }
   ],
   "source": [
    "stores = pd.read_csv('../data/stores.csv', encoding='utf-8')\n",
    "stores.columns = stores.columns.str.strip()\n",
    "stores_meta = stores[['store_name', 'region']].rename(\n",
    "    columns={'store_name':'dest', 'region':'region'}\n",
    ")\n",
    "tot2sub   = pd.read_csv('../data/ship_tot2sub.csv')[['source', 'dest', 'month', 'qty']]\n",
    "sub2sub   = pd.read_csv('../data/ship_sub2sub.csv')[['source', 'dest', 'month', 'qty']]\n",
    "sub2store = pd.read_csv('../data/ship_sub2store.csv')[['source', 'dest', 'month', 'qty']]\n",
    "sub2store = sub2store.merge(stores_meta, on='dest', how='left')\n",
    "tot2sub['region'] = None\n",
    "sub2sub['region'] = None\n",
    "ship_all = pd.concat([tot2sub, sub2sub, sub2store], ignore_index=True)\n",
    "all_regions = ['全部'] + sorted(ship_all['region'].dropna().unique().tolist())\n",
    "ship_all['route'] = ship_all['source'] + '→' + ship_all['dest']\n",
    "all_routes = ['全部'] + sorted(ship_all['route'].unique().tolist())\n",
    "app = dash.Dash(__name__)\n",
    "\n",
    "app.layout = html.Div([\n",
    "    html.Div([\n",
    "        html.Label(\"按区域筛选：\"),\n",
    "        dcc.Dropdown(\n",
    "            id='region-filter',\n",
    "            options=[{'label': r, 'value': r} for r in all_regions],\n",
    "            value='全部'\n",
    "        )\n",
    "    ], style={'width':'48%','display':'inline-block'}),\n",
    "\n",
    "    html.Div([\n",
    "        html.Label(\"按路线筛选：\"),\n",
    "        dcc.Dropdown(\n",
    "            id='route-filter',\n",
    "            options=[{'label': rt, 'value': rt} for rt in all_routes],\n",
    "            value='全部'\n",
    "        )\n",
    "    ], style={'width':'48%','display':'inline-block','marginLeft':'4%'}),\n",
    "\n",
    "    dcc.Graph(id='main-chart', style={'height':'600px'}),\n",
    "])\n",
    "\n",
    "@app.callback(\n",
    "    Output('main-chart', 'figure'),\n",
    "    Input('region-filter', 'value'),\n",
    "    Input('route-filter', 'value'),\n",
    ")\n",
    "def update_main_chart(selected_region, selected_route):\n",
    "    df = ship_all.copy()\n",
    "    # 区域过滤\n",
    "    if selected_region != '全部':\n",
    "        df = df[df['region'] == selected_region]\n",
    "    # 路线过滤\n",
    "    if selected_route != '全部':\n",
    "        df = df[df['route'] == selected_route]\n",
    "    # 按月聚合\n",
    "    df_month = df.groupby('month', as_index=False)['qty'].sum()\n",
    "    if df_month.empty:\n",
    "        fig = px.line(title=\"无符合条件的数据\", template='plotly_white')\n",
    "        fig.update_layout(xaxis={'visible':False}, yaxis={'visible':False})\n",
    "        return fig\n",
    "    fig = px.bar(\n",
    "        df_month,\n",
    "        x='month', y='qty',\n",
    "        labels={'qty':'发运量','month':'月份'},\n",
    "        title=\"按月发运量走势\",\n",
    "        template='plotly_white',\n",
    "        color_discrete_sequence=['#5470C6'],  # 一支蓝\n",
    "        animation_frame=None\n",
    "    )\n",
    "\n",
    "    fig.add_scatter(\n",
    "        x=df_month['month'], y=df_month['qty'],\n",
    "        mode='lines+markers',\n",
    "        name='trend',\n",
    "        line=dict(color='#EE6666', width=3, shape='spline'),\n",
    "        marker=dict(size=8, symbol='circle'),\n",
    "        hovertemplate=\"月份 %{x}<br>发运量 %{y}<extra></extra>\"\n",
    "    )\n",
    "\n",
    "    fig.update_layout(\n",
    "        font=dict(family='\"Helvetica Neue\", Arial, sans-serif', size=14, color='#333'),\n",
    "        title=dict(\n",
    "            text=\"发运量月变化\",\n",
    "            x=0.5,\n",
    "            xanchor='center',\n",
    "            yanchor='top',\n",
    "            font=dict(size=20, family='Arial', color='#222')\n",
    "        ),\n",
    "        legend=dict(\n",
    "            orientation=\"h\",\n",
    "            yanchor=\"bottom\",\n",
    "            y=1.02,\n",
    "            xanchor=\"right\",\n",
    "            x=1,\n",
    "            bgcolor='rgba(0,0,0,0)',  # 透明背景\n",
    "            bordercolor='LightGray',\n",
    "            borderwidth=0\n",
    "        ),\n",
    "        xaxis=dict(\n",
    "            title=\"月份\",\n",
    "            tickmode='array',\n",
    "            tickvals=sorted(df_month['month'].unique()),\n",
    "            ticktext=[f\"{int(m)}月\" for m in df_month['month']],\n",
    "            showgrid=False,\n",
    "            tickangle=-45,\n",
    "        ),\n",
    "        yaxis=dict(\n",
    "            title=\"发运量\",\n",
    "            showgrid=True,\n",
    "            gridcolor='rgba(200,200,200,0.2)',\n",
    "        ),\n",
    "        bargap=0.25,\n",
    "        transition={'duration': 500, 'easing': 'cubic-in-out'},\n",
    "        margin={'l':60,'r':20,'t':80,'b':80},\n",
    "        plot_bgcolor='white'\n",
    "    )\n",
    "\n",
    "    return fig\n",
    "\n",
    "if __name__ == '__main__':\n",
    "    app.run(port=8059, debug=True)\n",
    "\n",
    "fig_op3 = fig"
   ]
  },
  {
   "cell_type": "code",
   "execution_count": 6,
   "id": "59cdd6ae8ff1c3f9",
   "metadata": {
    "ExecuteTime": {
     "end_time": "2025-06-04T10:27:11.009822Z",
     "start_time": "2025-06-04T10:27:10.997115Z"
    }
   },
   "outputs": [
    {
     "name": "stdout",
     "output_type": "stream",
     "text": [
      "['全部', '东北', '偏远', '华东', '华中', '华北', '西北', '西南']\n"
     ]
    }
   ],
   "source": [
    "#print(all_regions)"
   ]
  },
  {
   "cell_type": "code",
   "execution_count": null,
   "id": "ea62e51d-24fd-4aa0-8277-329cf44f18a8",
   "metadata": {},
   "outputs": [],
   "source": []
  }
 ],
 "metadata": {
  "kernelspec": {
   "display_name": "Python 3 (ipykernel)",
   "language": "python",
   "name": "python3"
  },
  "language_info": {
   "codemirror_mode": {
    "name": "ipython",
    "version": 3
   },
   "file_extension": ".py",
   "mimetype": "text/x-python",
   "name": "python",
   "nbconvert_exporter": "python",
   "pygments_lexer": "ipython3",
   "version": "3.10.16"
  }
 },
 "nbformat": 4,
 "nbformat_minor": 5
}
