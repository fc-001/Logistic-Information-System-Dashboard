{
 "cells": [
  {
   "cell_type": "code",
   "id": "initial_id",
   "metadata": {
    "collapsed": true,
    "jupyter": {
     "outputs_hidden": true
    },
    "ExecuteTime": {
     "end_time": "2025-06-16T10:33:20.972677Z",
     "start_time": "2025-06-16T10:33:20.626663Z"
    }
   },
   "source": [
    "import pandas as pd\n",
    "import numpy as np\n",
    "import dash\n",
    "from dash import dcc, html, Input, Output\n",
    "import plotly.express as px\n",
    "import plotly.graph_objects as go\n",
    "from plotly.subplots import make_subplots\n",
    "from datetime import datetime\n"
   ],
   "outputs": [],
   "execution_count": 1
  },
  {
   "cell_type": "code",
   "id": "45cb88b59d60bd66",
   "metadata": {
    "ExecuteTime": {
     "end_time": "2025-06-16T10:33:21.509331Z",
     "start_time": "2025-06-16T10:33:20.976585Z"
    }
   },
   "source": [
    "tot2sub   = pd.read_csv('../data/ship_tot2sub.csv')[['month', 'qty']].assign(type='Total→Sub')\n",
    "sub2sub   = pd.read_csv('../data/ship_sub2sub.csv')[['month', 'qty']].assign(type='Sub→Sub')\n",
    "sub2store = pd.read_csv('../data/ship_sub2store.csv')[['month', 'qty']].assign(type='Sub→Store')\n",
    "ship_vol  = pd.concat([tot2sub, sub2sub, sub2store], ignore_index=True)\n",
    "\n",
    "nodes = pd.read_csv('../data/nodes.csv')[['node_id', 'lat', 'lng']] # 经纬度\n",
    "ship_all = pd.concat([\n",
    "    pd.read_csv('../data/ship_tot2sub.csv'),\n",
    "    pd.read_csv('../data/ship_sub2sub.csv'),\n",
    "    pd.read_csv('../data/ship_sub2store.csv')\n",
    "], ignore_index=True)\n",
    "\n",
    "ship_all = (ship_all.merge(nodes.rename(columns={'node_id':'source','lat':'lat_s','lng':'lng_s'}),on='source', how='left').merge(nodes.rename(columns={'node_id':'dest','lat':'lat_d','lng':'lng_d'}),on='dest', how='left'))\n",
    "\n",
    "def haversine(row): # 计算球面距离（不是直接经纬度相减开根号*111这种）\n",
    "    phi1, lam1, phi2, lam2 = np.radians([row.lat_s, row.lng_s, row.lat_d, row.lng_d])\n",
    "    dphi = phi2 - phi1\n",
    "    dlam = lam2 - lam1\n",
    "    a = np.sin(dphi/2)**2 + np.cos(phi1)*np.cos(phi2)*np.sin(dlam/2)**2\n",
    "    return 6371 * 2 * np.arcsin(np.sqrt(a))\n",
    "\n",
    "ship_all['distance_km'] = ship_all.apply(haversine, axis=1)\n",
    "\n",
    "\n",
    "rates    = pd.read_csv('../data/rates.csv')\n",
    "ltl_rate = rates.loc[rates['mode']=='LTL', 'rate_per_km'].iloc[0]\n",
    "ship_all['estimated_cost'] = ship_all['qty'] * ship_all['distance_km'] * ltl_rate  # 全零担 LTL\n",
    "cost_df = ship_all.groupby('month')['estimated_cost'].sum().reset_index()\n",
    "\n",
    "# 分仓到门店的服务水平\n",
    "ss = pd.read_csv('../data/ship_sub2store.csv')\n",
    "stores  = (pd.read_csv('../data/stores.csv')[['store_name', 'region']].rename(columns={'store_name': 'dest'}))\n",
    "svc_req = pd.read_csv('../data/service_requirements.csv')\n",
    "\n",
    "df_ss = (ss.merge(nodes.rename(columns={'node_id':'source','lat':'lat_s','lng':'lng_s'}), on='source').merge(nodes.rename(columns={'node_id':'dest','lat':'lat_d','lng':'lng_d'}),   on='dest').merge(stores, on='dest').merge(svc_req, on='region'))\n",
    "df_ss['distance_km'] = df_ss.apply(haversine, axis=1)\n",
    "\n",
    "df_ss['service_hrs'] = (df_ss['service_window'].str.extract(r'(\\d+)').astype(float))\n",
    "df_ss['lead_time_hrs'] = df_ss['distance_km'] / df_ss['speed_kmph']\n",
    "df_ss['on_time'] = df_ss['lead_time_hrs'] <= df_ss['service_hrs']  # 判断是否准时\n",
    "\n",
    "\n",
    "service_df = (\n",
    "    df_ss\n",
    "    .groupby('month')\n",
    "    .agg(\n",
    "        actual_rate = ('on_time', 'mean'),\n",
    "        target_rate = ('fill_rate', lambda x: x.iloc[0] / 100)\n",
    "    )\n",
    "    .reset_index()\n",
    ")"
   ],
   "outputs": [],
   "execution_count": 2
  },
  {
   "cell_type": "code",
   "id": "d3061a77dfed1a1b",
   "metadata": {
    "ExecuteTime": {
     "end_time": "2025-06-16T10:33:21.706755Z",
     "start_time": "2025-06-16T10:33:21.589539Z"
    }
   },
   "source": [
    "# 先按月、按类型汇总发运量\n",
    "vol_month = ( ship_vol.groupby(['month','type'], as_index=False)['qty'].sum())\n",
    "fig_vol = px.line(\n",
    "    vol_month,\n",
    "    x='month',\n",
    "    y='qty',\n",
    "    color='type',\n",
    "    title='各环节月度发运量趋势（按月汇总）',\n",
    "    labels={'month':'月份', 'qty':'发运量', 'type':'类型'}\n",
    ")\n",
    "fig_vol.update_layout(\n",
    "    xaxis=dict(tickmode='linear'),\n",
    "    yaxis=dict(tickformat=',')\n",
    ")\n",
    "\n",
    "fig_vol.show()\n",
    "fig_op1 = fig_vol\n"
   ],
   "outputs": [
    {
     "data": {
      "application/vnd.plotly.v1+json": {
       "data": [
        {
         "hovertemplate": "类型=Sub→Store<br>月份=%{x}<br>发运量=%{y}<extra></extra>",
         "legendgroup": "Sub→Store",
         "line": {
          "color": "#636efa",
          "dash": "solid"
         },
         "marker": {
          "symbol": "circle"
         },
         "mode": "lines",
         "name": "Sub→Store",
         "orientation": "v",
         "showlegend": true,
         "x": {
          "dtype": "i1",
          "bdata": "AQQFBgcICQoLDA=="
         },
         "xaxis": "x",
         "y": {
          "dtype": "i4",
          "bdata": "GSwAAC3EAAC0KwIAGFYPAAVwEgAgChYAl+EjAOgBIgA1ozQAnwI/AA=="
         },
         "yaxis": "y",
         "type": "scatter"
        },
        {
         "hovertemplate": "类型=Sub→Sub<br>月份=%{x}<br>发运量=%{y}<extra></extra>",
         "legendgroup": "Sub→Sub",
         "line": {
          "color": "#EF553B",
          "dash": "solid"
         },
         "marker": {
          "symbol": "circle"
         },
         "mode": "lines",
         "name": "Sub→Sub",
         "orientation": "v",
         "showlegend": true,
         "x": {
          "dtype": "i1",
          "bdata": "AQIDBQYHCAkKCww="
         },
         "xaxis": "x",
         "y": {
          "dtype": "i4",
          "bdata": "F3wAABEOAACpEAAAmEABAK6XAAA5HQAAugYAAPYIAAAvIwAAt0UAANZFAAA="
         },
         "yaxis": "y",
         "type": "scatter"
        },
        {
         "hovertemplate": "类型=Total→Sub<br>月份=%{x}<br>发运量=%{y}<extra></extra>",
         "legendgroup": "Total→Sub",
         "line": {
          "color": "#00cc96",
          "dash": "solid"
         },
         "marker": {
          "symbol": "circle"
         },
         "mode": "lines",
         "name": "Total→Sub",
         "orientation": "v",
         "showlegend": true,
         "x": {
          "dtype": "i1",
          "bdata": "AQQFBgcICQoLDA=="
         },
         "xaxis": "x",
         "y": {
          "dtype": "i4",
          "bdata": "E18BAC3EAACGrgYAWDESAM9WEwD4ehYARJQkANc8IwAHhzUAA4pAAA=="
         },
         "yaxis": "y",
         "type": "scatter"
        }
       ],
       "layout": {
        "template": {
         "data": {
          "histogram2dcontour": [
           {
            "type": "histogram2dcontour",
            "colorbar": {
             "outlinewidth": 0,
             "ticks": ""
            },
            "colorscale": [
             [
              0.0,
              "#0d0887"
             ],
             [
              0.1111111111111111,
              "#46039f"
             ],
             [
              0.2222222222222222,
              "#7201a8"
             ],
             [
              0.3333333333333333,
              "#9c179e"
             ],
             [
              0.4444444444444444,
              "#bd3786"
             ],
             [
              0.5555555555555556,
              "#d8576b"
             ],
             [
              0.6666666666666666,
              "#ed7953"
             ],
             [
              0.7777777777777778,
              "#fb9f3a"
             ],
             [
              0.8888888888888888,
              "#fdca26"
             ],
             [
              1.0,
              "#f0f921"
             ]
            ]
           }
          ],
          "choropleth": [
           {
            "type": "choropleth",
            "colorbar": {
             "outlinewidth": 0,
             "ticks": ""
            }
           }
          ],
          "histogram2d": [
           {
            "type": "histogram2d",
            "colorbar": {
             "outlinewidth": 0,
             "ticks": ""
            },
            "colorscale": [
             [
              0.0,
              "#0d0887"
             ],
             [
              0.1111111111111111,
              "#46039f"
             ],
             [
              0.2222222222222222,
              "#7201a8"
             ],
             [
              0.3333333333333333,
              "#9c179e"
             ],
             [
              0.4444444444444444,
              "#bd3786"
             ],
             [
              0.5555555555555556,
              "#d8576b"
             ],
             [
              0.6666666666666666,
              "#ed7953"
             ],
             [
              0.7777777777777778,
              "#fb9f3a"
             ],
             [
              0.8888888888888888,
              "#fdca26"
             ],
             [
              1.0,
              "#f0f921"
             ]
            ]
           }
          ],
          "heatmap": [
           {
            "type": "heatmap",
            "colorbar": {
             "outlinewidth": 0,
             "ticks": ""
            },
            "colorscale": [
             [
              0.0,
              "#0d0887"
             ],
             [
              0.1111111111111111,
              "#46039f"
             ],
             [
              0.2222222222222222,
              "#7201a8"
             ],
             [
              0.3333333333333333,
              "#9c179e"
             ],
             [
              0.4444444444444444,
              "#bd3786"
             ],
             [
              0.5555555555555556,
              "#d8576b"
             ],
             [
              0.6666666666666666,
              "#ed7953"
             ],
             [
              0.7777777777777778,
              "#fb9f3a"
             ],
             [
              0.8888888888888888,
              "#fdca26"
             ],
             [
              1.0,
              "#f0f921"
             ]
            ]
           }
          ],
          "contourcarpet": [
           {
            "type": "contourcarpet",
            "colorbar": {
             "outlinewidth": 0,
             "ticks": ""
            }
           }
          ],
          "contour": [
           {
            "type": "contour",
            "colorbar": {
             "outlinewidth": 0,
             "ticks": ""
            },
            "colorscale": [
             [
              0.0,
              "#0d0887"
             ],
             [
              0.1111111111111111,
              "#46039f"
             ],
             [
              0.2222222222222222,
              "#7201a8"
             ],
             [
              0.3333333333333333,
              "#9c179e"
             ],
             [
              0.4444444444444444,
              "#bd3786"
             ],
             [
              0.5555555555555556,
              "#d8576b"
             ],
             [
              0.6666666666666666,
              "#ed7953"
             ],
             [
              0.7777777777777778,
              "#fb9f3a"
             ],
             [
              0.8888888888888888,
              "#fdca26"
             ],
             [
              1.0,
              "#f0f921"
             ]
            ]
           }
          ],
          "surface": [
           {
            "type": "surface",
            "colorbar": {
             "outlinewidth": 0,
             "ticks": ""
            },
            "colorscale": [
             [
              0.0,
              "#0d0887"
             ],
             [
              0.1111111111111111,
              "#46039f"
             ],
             [
              0.2222222222222222,
              "#7201a8"
             ],
             [
              0.3333333333333333,
              "#9c179e"
             ],
             [
              0.4444444444444444,
              "#bd3786"
             ],
             [
              0.5555555555555556,
              "#d8576b"
             ],
             [
              0.6666666666666666,
              "#ed7953"
             ],
             [
              0.7777777777777778,
              "#fb9f3a"
             ],
             [
              0.8888888888888888,
              "#fdca26"
             ],
             [
              1.0,
              "#f0f921"
             ]
            ]
           }
          ],
          "mesh3d": [
           {
            "type": "mesh3d",
            "colorbar": {
             "outlinewidth": 0,
             "ticks": ""
            }
           }
          ],
          "scatter": [
           {
            "fillpattern": {
             "fillmode": "overlay",
             "size": 10,
             "solidity": 0.2
            },
            "type": "scatter"
           }
          ],
          "parcoords": [
           {
            "type": "parcoords",
            "line": {
             "colorbar": {
              "outlinewidth": 0,
              "ticks": ""
             }
            }
           }
          ],
          "scatterpolargl": [
           {
            "type": "scatterpolargl",
            "marker": {
             "colorbar": {
              "outlinewidth": 0,
              "ticks": ""
             }
            }
           }
          ],
          "bar": [
           {
            "error_x": {
             "color": "#2a3f5f"
            },
            "error_y": {
             "color": "#2a3f5f"
            },
            "marker": {
             "line": {
              "color": "#E5ECF6",
              "width": 0.5
             },
             "pattern": {
              "fillmode": "overlay",
              "size": 10,
              "solidity": 0.2
             }
            },
            "type": "bar"
           }
          ],
          "scattergeo": [
           {
            "type": "scattergeo",
            "marker": {
             "colorbar": {
              "outlinewidth": 0,
              "ticks": ""
             }
            }
           }
          ],
          "scatterpolar": [
           {
            "type": "scatterpolar",
            "marker": {
             "colorbar": {
              "outlinewidth": 0,
              "ticks": ""
             }
            }
           }
          ],
          "histogram": [
           {
            "marker": {
             "pattern": {
              "fillmode": "overlay",
              "size": 10,
              "solidity": 0.2
             }
            },
            "type": "histogram"
           }
          ],
          "scattergl": [
           {
            "type": "scattergl",
            "marker": {
             "colorbar": {
              "outlinewidth": 0,
              "ticks": ""
             }
            }
           }
          ],
          "scatter3d": [
           {
            "type": "scatter3d",
            "line": {
             "colorbar": {
              "outlinewidth": 0,
              "ticks": ""
             }
            },
            "marker": {
             "colorbar": {
              "outlinewidth": 0,
              "ticks": ""
             }
            }
           }
          ],
          "scattermap": [
           {
            "type": "scattermap",
            "marker": {
             "colorbar": {
              "outlinewidth": 0,
              "ticks": ""
             }
            }
           }
          ],
          "scattermapbox": [
           {
            "type": "scattermapbox",
            "marker": {
             "colorbar": {
              "outlinewidth": 0,
              "ticks": ""
             }
            }
           }
          ],
          "scatterternary": [
           {
            "type": "scatterternary",
            "marker": {
             "colorbar": {
              "outlinewidth": 0,
              "ticks": ""
             }
            }
           }
          ],
          "scattercarpet": [
           {
            "type": "scattercarpet",
            "marker": {
             "colorbar": {
              "outlinewidth": 0,
              "ticks": ""
             }
            }
           }
          ],
          "carpet": [
           {
            "aaxis": {
             "endlinecolor": "#2a3f5f",
             "gridcolor": "white",
             "linecolor": "white",
             "minorgridcolor": "white",
             "startlinecolor": "#2a3f5f"
            },
            "baxis": {
             "endlinecolor": "#2a3f5f",
             "gridcolor": "white",
             "linecolor": "white",
             "minorgridcolor": "white",
             "startlinecolor": "#2a3f5f"
            },
            "type": "carpet"
           }
          ],
          "table": [
           {
            "cells": {
             "fill": {
              "color": "#EBF0F8"
             },
             "line": {
              "color": "white"
             }
            },
            "header": {
             "fill": {
              "color": "#C8D4E3"
             },
             "line": {
              "color": "white"
             }
            },
            "type": "table"
           }
          ],
          "barpolar": [
           {
            "marker": {
             "line": {
              "color": "#E5ECF6",
              "width": 0.5
             },
             "pattern": {
              "fillmode": "overlay",
              "size": 10,
              "solidity": 0.2
             }
            },
            "type": "barpolar"
           }
          ],
          "pie": [
           {
            "automargin": true,
            "type": "pie"
           }
          ]
         },
         "layout": {
          "autotypenumbers": "strict",
          "colorway": [
           "#636efa",
           "#EF553B",
           "#00cc96",
           "#ab63fa",
           "#FFA15A",
           "#19d3f3",
           "#FF6692",
           "#B6E880",
           "#FF97FF",
           "#FECB52"
          ],
          "font": {
           "color": "#2a3f5f"
          },
          "hovermode": "closest",
          "hoverlabel": {
           "align": "left"
          },
          "paper_bgcolor": "white",
          "plot_bgcolor": "#E5ECF6",
          "polar": {
           "bgcolor": "#E5ECF6",
           "angularaxis": {
            "gridcolor": "white",
            "linecolor": "white",
            "ticks": ""
           },
           "radialaxis": {
            "gridcolor": "white",
            "linecolor": "white",
            "ticks": ""
           }
          },
          "ternary": {
           "bgcolor": "#E5ECF6",
           "aaxis": {
            "gridcolor": "white",
            "linecolor": "white",
            "ticks": ""
           },
           "baxis": {
            "gridcolor": "white",
            "linecolor": "white",
            "ticks": ""
           },
           "caxis": {
            "gridcolor": "white",
            "linecolor": "white",
            "ticks": ""
           }
          },
          "coloraxis": {
           "colorbar": {
            "outlinewidth": 0,
            "ticks": ""
           }
          },
          "colorscale": {
           "sequential": [
            [
             0.0,
             "#0d0887"
            ],
            [
             0.1111111111111111,
             "#46039f"
            ],
            [
             0.2222222222222222,
             "#7201a8"
            ],
            [
             0.3333333333333333,
             "#9c179e"
            ],
            [
             0.4444444444444444,
             "#bd3786"
            ],
            [
             0.5555555555555556,
             "#d8576b"
            ],
            [
             0.6666666666666666,
             "#ed7953"
            ],
            [
             0.7777777777777778,
             "#fb9f3a"
            ],
            [
             0.8888888888888888,
             "#fdca26"
            ],
            [
             1.0,
             "#f0f921"
            ]
           ],
           "sequentialminus": [
            [
             0.0,
             "#0d0887"
            ],
            [
             0.1111111111111111,
             "#46039f"
            ],
            [
             0.2222222222222222,
             "#7201a8"
            ],
            [
             0.3333333333333333,
             "#9c179e"
            ],
            [
             0.4444444444444444,
             "#bd3786"
            ],
            [
             0.5555555555555556,
             "#d8576b"
            ],
            [
             0.6666666666666666,
             "#ed7953"
            ],
            [
             0.7777777777777778,
             "#fb9f3a"
            ],
            [
             0.8888888888888888,
             "#fdca26"
            ],
            [
             1.0,
             "#f0f921"
            ]
           ],
           "diverging": [
            [
             0,
             "#8e0152"
            ],
            [
             0.1,
             "#c51b7d"
            ],
            [
             0.2,
             "#de77ae"
            ],
            [
             0.3,
             "#f1b6da"
            ],
            [
             0.4,
             "#fde0ef"
            ],
            [
             0.5,
             "#f7f7f7"
            ],
            [
             0.6,
             "#e6f5d0"
            ],
            [
             0.7,
             "#b8e186"
            ],
            [
             0.8,
             "#7fbc41"
            ],
            [
             0.9,
             "#4d9221"
            ],
            [
             1,
             "#276419"
            ]
           ]
          },
          "xaxis": {
           "gridcolor": "white",
           "linecolor": "white",
           "ticks": "",
           "title": {
            "standoff": 15
           },
           "zerolinecolor": "white",
           "automargin": true,
           "zerolinewidth": 2
          },
          "yaxis": {
           "gridcolor": "white",
           "linecolor": "white",
           "ticks": "",
           "title": {
            "standoff": 15
           },
           "zerolinecolor": "white",
           "automargin": true,
           "zerolinewidth": 2
          },
          "scene": {
           "xaxis": {
            "backgroundcolor": "#E5ECF6",
            "gridcolor": "white",
            "linecolor": "white",
            "showbackground": true,
            "ticks": "",
            "zerolinecolor": "white",
            "gridwidth": 2
           },
           "yaxis": {
            "backgroundcolor": "#E5ECF6",
            "gridcolor": "white",
            "linecolor": "white",
            "showbackground": true,
            "ticks": "",
            "zerolinecolor": "white",
            "gridwidth": 2
           },
           "zaxis": {
            "backgroundcolor": "#E5ECF6",
            "gridcolor": "white",
            "linecolor": "white",
            "showbackground": true,
            "ticks": "",
            "zerolinecolor": "white",
            "gridwidth": 2
           }
          },
          "shapedefaults": {
           "line": {
            "color": "#2a3f5f"
           }
          },
          "annotationdefaults": {
           "arrowcolor": "#2a3f5f",
           "arrowhead": 0,
           "arrowwidth": 1
          },
          "geo": {
           "bgcolor": "white",
           "landcolor": "#E5ECF6",
           "subunitcolor": "white",
           "showland": true,
           "showlakes": true,
           "lakecolor": "white"
          },
          "title": {
           "x": 0.05
          },
          "mapbox": {
           "style": "light"
          }
         }
        },
        "xaxis": {
         "anchor": "y",
         "domain": [
          0.0,
          1.0
         ],
         "title": {
          "text": "月份"
         },
         "tickmode": "linear"
        },
        "yaxis": {
         "anchor": "x",
         "domain": [
          0.0,
          1.0
         ],
         "title": {
          "text": "发运量"
         },
         "tickformat": ","
        },
        "legend": {
         "title": {
          "text": "类型"
         },
         "tracegroupgap": 0
        },
        "title": {
         "text": "各环节月度发运量趋势（按月汇总）"
        }
       },
       "config": {
        "plotlyServerURL": "https://plot.ly"
       }
      }
     },
     "metadata": {},
     "output_type": "display_data"
    }
   ],
   "execution_count": 3
  },
  {
   "cell_type": "code",
   "id": "5d0dcc67e8362868",
   "metadata": {
    "ExecuteTime": {
     "end_time": "2025-06-16T10:33:21.786118Z",
     "start_time": "2025-06-16T10:33:21.747681Z"
    }
   },
   "source": [
    "rate_map = service_df.set_index('month')['actual_rate'].to_dict()\n",
    "daily_cost_list = []\n",
    "daily_svc_list  = []\n",
    "year = datetime.now().year\n",
    "\n",
    "for _, row in cost_df.iterrows():\n",
    "    m = int(row.month)\n",
    "    total_cost   = row.estimated_cost\n",
    "    monthly_rate = rate_map.get(row.month, np.nan)\n",
    "    n_days = pd.Period(f\"{year}-{m:02d}\").days_in_month\n",
    "    dates  = pd.date_range(f\"{year}-{m:02d}-01\", periods=n_days)\n",
    "    w = np.random.rand(n_days); w /= w.sum()\n",
    "    if np.isnan(monthly_rate):\n",
    "        rates = np.full(n_days, np.nan)\n",
    "    else:\n",
    "        rates = np.clip(\n",
    "            np.random.normal(loc=monthly_rate, scale=0.02, size=n_days),\n",
    "            0, 1\n",
    "        )\n",
    "\n",
    "    for d, wt, rt in zip(dates, w, rates):\n",
    "        daily_cost_list.append({ \"date\": d,           \"daily_cost\": total_cost * wt })\n",
    "        daily_svc_list.append({  \"date\": d,           \"daily_rate\": rt      })\n",
    "\n",
    "daily_cost_df    = pd.DataFrame(daily_cost_list)\n",
    "daily_service_df = pd.DataFrame(daily_svc_list)\n",
    "cost_df[\"date\"]    = pd.to_datetime(cost_df.month.astype(int).apply(lambda x: f\"{year}-{x:02d}-01\"))\n",
    "service_df[\"date\"] = pd.to_datetime(service_df.month.astype(int).apply(lambda x: f\"{year}-{x:02d}-01\"))\n",
    "\n",
    "fig = make_subplots(specs=[[{\"secondary_y\": True}]])\n",
    "\n",
    "# 月度成本\n",
    "fig.add_trace(go.Scatter(\n",
    "    x=cost_df[\"date\"], y=cost_df[\"estimated_cost\"],\n",
    "    mode=\"lines+markers\", name=\"月度成本(元)\",\n",
    "    line=dict(color=\"royalblue\", width=2),\n",
    "    hovertemplate=\"月度成本：%{y:,.0f} 元<extra></extra>\"\n",
    "), secondary_y=False)\n",
    "\n",
    "# 月度服务水平\n",
    "fig.add_trace(go.Scatter(\n",
    "    x=service_df[\"date\"], y=service_df[\"actual_rate\"],\n",
    "    mode=\"lines+markers\", name=\"月服务水平\",\n",
    "    line=dict(color=\"firebrick\", width=2),\n",
    "    hovertemplate=\"月服务水平：%{y:.1%}<extra></extra>\"\n",
    "), secondary_y=True)\n",
    "\n",
    "# 每日成本\n",
    "fig.add_trace(go.Scatter(\n",
    "    x=daily_cost_df[\"date\"], y=daily_cost_df[\"daily_cost\"],\n",
    "    mode=\"lines+markers\", name=\"每日成本\",\n",
    "    line=dict(color=\"royalblue\", width=1, dash=\"dash\"),\n",
    "    marker=dict(size=4),\n",
    "    hovertemplate=\"每日成本：%{y:,.0f} 元<extra></extra>\",\n",
    "    visible=\"legendonly\"\n",
    "), secondary_y=False)\n",
    "\n",
    "# 每日服务水平\n",
    "fig.add_trace(go.Scatter(\n",
    "    x=daily_service_df[\"date\"], y=daily_service_df[\"daily_rate\"],\n",
    "    mode=\"lines+markers\", name=\"每日服务水平\",\n",
    "    line=dict(color=\"firebrick\", width=1, dash=\"dash\"),\n",
    "    marker=dict(size=4),\n",
    "    hovertemplate=\"每日达成率：%{y:.1%}<extra></extra>\",\n",
    "    visible=\"legendonly\"\n",
    "), secondary_y=True)\n",
    "\n",
    "#菜单\n",
    "fig.update_layout(\n",
    "    updatemenus=[dict(\n",
    "        type=\"dropdown\", x=1.15, y=1.1,\n",
    "        buttons=[\n",
    "            dict(label=\"all\",\n",
    "                 method=\"update\",\n",
    "                 args=[{\"visible\": [True, True, True, True]}, {\"title\":\"all\"}]),\n",
    "            dict(label=\"月\",\n",
    "                 method=\"update\",\n",
    "                 args=[{\"visible\": [True, True, False, False]}, {\"title\":\"月\"}]),\n",
    "            dict(label=\"日\",\n",
    "                 method=\"update\",\n",
    "                 args=[{\"visible\": [False, False, True, True]}, {\"title\":\"日\"}]),\n",
    "        ]\n",
    "    )],\n",
    "    xaxis=dict(\n",
    "        title=\"日期\", type=\"date\",\n",
    "        tickformat=\"%m-%d\",\n",
    "        rangeslider=dict(visible=True),\n",
    "        rangeselector=dict(buttons=[\n",
    "            dict(count=7,  label=\"最近7天\",  step=\"day\",   stepmode=\"backward\"),\n",
    "            dict(count=1,  label=\"最近1月\",  step=\"month\", stepmode=\"backward\"),\n",
    "            dict(count=3,  label=\"最近3月\",  step=\"month\", stepmode=\"backward\"),\n",
    "            dict(step=\"all\", label=\"全部\")\n",
    "        ])\n",
    "    ),\n",
    "    yaxis=dict(title=\"成本(元)\", tickformat=\",\"),\n",
    "    yaxis2=dict(title=\"服务水平(%)\", tickformat=\".0%\"),\n",
    "    title=\"成本和服务水平变化\",\n",
    "    legend=dict(orientation=\"h\", yanchor=\"bottom\", y=1.02, xanchor=\"right\", x=1)\n",
    ")\n",
    "\n",
    "fig.show()\n",
    "fig_op2 = fig\n"
   ],
   "outputs": [
    {
     "data": {
      "application/vnd.plotly.v1+json": {
       "data": [
        {
         "hovertemplate": "月度成本：%{y:,.0f} 元<extra></extra>",
         "line": {
          "color": "royalblue",
          "width": 2
         },
         "mode": "lines+markers",
         "name": "月度成本(元)",
         "x": [
          "2025-01-01T00:00:00.000000000",
          "2025-02-01T00:00:00.000000000",
          "2025-03-01T00:00:00.000000000",
          "2025-04-01T00:00:00.000000000",
          "2025-05-01T00:00:00.000000000",
          "2025-06-01T00:00:00.000000000",
          "2025-07-01T00:00:00.000000000",
          "2025-08-01T00:00:00.000000000",
          "2025-09-01T00:00:00.000000000",
          "2025-10-01T00:00:00.000000000",
          "2025-11-01T00:00:00.000000000",
          "2025-12-01T00:00:00.000000000"
         ],
         "y": {
          "dtype": "f8",
          "bdata": "wkQag4DQIUE7IliiZavcQELtVtg2/7JAdTtAZu8oGUH5CcYv46tEQXYYFLcBHF1BlTNFNljTXEEp5KgBjO5fQcuvKwT4QGpBYuxffVl4aUFydAV+WEpyQeCZu9pkcnRB"
         },
         "type": "scatter",
         "xaxis": "x",
         "yaxis": "y"
        },
        {
         "hovertemplate": "月服务水平：%{y:.1%}<extra></extra>",
         "line": {
          "color": "firebrick",
          "width": 2
         },
         "mode": "lines+markers",
         "name": "月服务水平",
         "x": [
          "2025-01-01T00:00:00.000000000",
          "2025-04-01T00:00:00.000000000",
          "2025-05-01T00:00:00.000000000",
          "2025-06-01T00:00:00.000000000",
          "2025-07-01T00:00:00.000000000",
          "2025-08-01T00:00:00.000000000",
          "2025-09-01T00:00:00.000000000",
          "2025-10-01T00:00:00.000000000",
          "2025-11-01T00:00:00.000000000",
          "2025-12-01T00:00:00.000000000"
         ],
         "y": {
          "dtype": "f8",
          "bdata": "AAAAAAAA8D8AAAAAAADwP2X8dqkn4+8/UcL6FiWs7z8bb3nvD8zvP5c6pFur2u8/sy2krIjh7z/X1VGztNnvP5hRENBc3+8/4gqAiqHc7z8="
         },
         "type": "scatter",
         "xaxis": "x",
         "yaxis": "y2"
        },
        {
         "hovertemplate": "每日成本：%{y:,.0f} 元<extra></extra>",
         "line": {
          "color": "royalblue",
          "dash": "dash",
          "width": 1
         },
         "marker": {
          "size": 4
         },
         "mode": "lines+markers",
         "name": "每日成本",
         "visible": "legendonly",
         "x": [
          "2025-01-01T00:00:00.000000000",
          "2025-01-02T00:00:00.000000000",
          "2025-01-03T00:00:00.000000000",
          "2025-01-04T00:00:00.000000000",
          "2025-01-05T00:00:00.000000000",
          "2025-01-06T00:00:00.000000000",
          "2025-01-07T00:00:00.000000000",
          "2025-01-08T00:00:00.000000000",
          "2025-01-09T00:00:00.000000000",
          "2025-01-10T00:00:00.000000000",
          "2025-01-11T00:00:00.000000000",
          "2025-01-12T00:00:00.000000000",
          "2025-01-13T00:00:00.000000000",
          "2025-01-14T00:00:00.000000000",
          "2025-01-15T00:00:00.000000000",
          "2025-01-16T00:00:00.000000000",
          "2025-01-17T00:00:00.000000000",
          "2025-01-18T00:00:00.000000000",
          "2025-01-19T00:00:00.000000000",
          "2025-01-20T00:00:00.000000000",
          "2025-01-21T00:00:00.000000000",
          "2025-01-22T00:00:00.000000000",
          "2025-01-23T00:00:00.000000000",
          "2025-01-24T00:00:00.000000000",
          "2025-01-25T00:00:00.000000000",
          "2025-01-26T00:00:00.000000000",
          "2025-01-27T00:00:00.000000000",
          "2025-01-28T00:00:00.000000000",
          "2025-01-29T00:00:00.000000000",
          "2025-01-30T00:00:00.000000000",
          "2025-01-31T00:00:00.000000000",
          "2025-02-01T00:00:00.000000000",
          "2025-02-02T00:00:00.000000000",
          "2025-02-03T00:00:00.000000000",
          "2025-02-04T00:00:00.000000000",
          "2025-02-05T00:00:00.000000000",
          "2025-02-06T00:00:00.000000000",
          "2025-02-07T00:00:00.000000000",
          "2025-02-08T00:00:00.000000000",
          "2025-02-09T00:00:00.000000000",
          "2025-02-10T00:00:00.000000000",
          "2025-02-11T00:00:00.000000000",
          "2025-02-12T00:00:00.000000000",
          "2025-02-13T00:00:00.000000000",
          "2025-02-14T00:00:00.000000000",
          "2025-02-15T00:00:00.000000000",
          "2025-02-16T00:00:00.000000000",
          "2025-02-17T00:00:00.000000000",
          "2025-02-18T00:00:00.000000000",
          "2025-02-19T00:00:00.000000000",
          "2025-02-20T00:00:00.000000000",
          "2025-02-21T00:00:00.000000000",
          "2025-02-22T00:00:00.000000000",
          "2025-02-23T00:00:00.000000000",
          "2025-02-24T00:00:00.000000000",
          "2025-02-25T00:00:00.000000000",
          "2025-02-26T00:00:00.000000000",
          "2025-02-27T00:00:00.000000000",
          "2025-02-28T00:00:00.000000000",
          "2025-03-01T00:00:00.000000000",
          "2025-03-02T00:00:00.000000000",
          "2025-03-03T00:00:00.000000000",
          "2025-03-04T00:00:00.000000000",
          "2025-03-05T00:00:00.000000000",
          "2025-03-06T00:00:00.000000000",
          "2025-03-07T00:00:00.000000000",
          "2025-03-08T00:00:00.000000000",
          "2025-03-09T00:00:00.000000000",
          "2025-03-10T00:00:00.000000000",
          "2025-03-11T00:00:00.000000000",
          "2025-03-12T00:00:00.000000000",
          "2025-03-13T00:00:00.000000000",
          "2025-03-14T00:00:00.000000000",
          "2025-03-15T00:00:00.000000000",
          "2025-03-16T00:00:00.000000000",
          "2025-03-17T00:00:00.000000000",
          "2025-03-18T00:00:00.000000000",
          "2025-03-19T00:00:00.000000000",
          "2025-03-20T00:00:00.000000000",
          "2025-03-21T00:00:00.000000000",
          "2025-03-22T00:00:00.000000000",
          "2025-03-23T00:00:00.000000000",
          "2025-03-24T00:00:00.000000000",
          "2025-03-25T00:00:00.000000000",
          "2025-03-26T00:00:00.000000000",
          "2025-03-27T00:00:00.000000000",
          "2025-03-28T00:00:00.000000000",
          "2025-03-29T00:00:00.000000000",
          "2025-03-30T00:00:00.000000000",
          "2025-03-31T00:00:00.000000000",
          "2025-04-01T00:00:00.000000000",
          "2025-04-02T00:00:00.000000000",
          "2025-04-03T00:00:00.000000000",
          "2025-04-04T00:00:00.000000000",
          "2025-04-05T00:00:00.000000000",
          "2025-04-06T00:00:00.000000000",
          "2025-04-07T00:00:00.000000000",
          "2025-04-08T00:00:00.000000000",
          "2025-04-09T00:00:00.000000000",
          "2025-04-10T00:00:00.000000000",
          "2025-04-11T00:00:00.000000000",
          "2025-04-12T00:00:00.000000000",
          "2025-04-13T00:00:00.000000000",
          "2025-04-14T00:00:00.000000000",
          "2025-04-15T00:00:00.000000000",
          "2025-04-16T00:00:00.000000000",
          "2025-04-17T00:00:00.000000000",
          "2025-04-18T00:00:00.000000000",
          "2025-04-19T00:00:00.000000000",
          "2025-04-20T00:00:00.000000000",
          "2025-04-21T00:00:00.000000000",
          "2025-04-22T00:00:00.000000000",
          "2025-04-23T00:00:00.000000000",
          "2025-04-24T00:00:00.000000000",
          "2025-04-25T00:00:00.000000000",
          "2025-04-26T00:00:00.000000000",
          "2025-04-27T00:00:00.000000000",
          "2025-04-28T00:00:00.000000000",
          "2025-04-29T00:00:00.000000000",
          "2025-04-30T00:00:00.000000000",
          "2025-05-01T00:00:00.000000000",
          "2025-05-02T00:00:00.000000000",
          "2025-05-03T00:00:00.000000000",
          "2025-05-04T00:00:00.000000000",
          "2025-05-05T00:00:00.000000000",
          "2025-05-06T00:00:00.000000000",
          "2025-05-07T00:00:00.000000000",
          "2025-05-08T00:00:00.000000000",
          "2025-05-09T00:00:00.000000000",
          "2025-05-10T00:00:00.000000000",
          "2025-05-11T00:00:00.000000000",
          "2025-05-12T00:00:00.000000000",
          "2025-05-13T00:00:00.000000000",
          "2025-05-14T00:00:00.000000000",
          "2025-05-15T00:00:00.000000000",
          "2025-05-16T00:00:00.000000000",
          "2025-05-17T00:00:00.000000000",
          "2025-05-18T00:00:00.000000000",
          "2025-05-19T00:00:00.000000000",
          "2025-05-20T00:00:00.000000000",
          "2025-05-21T00:00:00.000000000",
          "2025-05-22T00:00:00.000000000",
          "2025-05-23T00:00:00.000000000",
          "2025-05-24T00:00:00.000000000",
          "2025-05-25T00:00:00.000000000",
          "2025-05-26T00:00:00.000000000",
          "2025-05-27T00:00:00.000000000",
          "2025-05-28T00:00:00.000000000",
          "2025-05-29T00:00:00.000000000",
          "2025-05-30T00:00:00.000000000",
          "2025-05-31T00:00:00.000000000",
          "2025-06-01T00:00:00.000000000",
          "2025-06-02T00:00:00.000000000",
          "2025-06-03T00:00:00.000000000",
          "2025-06-04T00:00:00.000000000",
          "2025-06-05T00:00:00.000000000",
          "2025-06-06T00:00:00.000000000",
          "2025-06-07T00:00:00.000000000",
          "2025-06-08T00:00:00.000000000",
          "2025-06-09T00:00:00.000000000",
          "2025-06-10T00:00:00.000000000",
          "2025-06-11T00:00:00.000000000",
          "2025-06-12T00:00:00.000000000",
          "2025-06-13T00:00:00.000000000",
          "2025-06-14T00:00:00.000000000",
          "2025-06-15T00:00:00.000000000",
          "2025-06-16T00:00:00.000000000",
          "2025-06-17T00:00:00.000000000",
          "2025-06-18T00:00:00.000000000",
          "2025-06-19T00:00:00.000000000",
          "2025-06-20T00:00:00.000000000",
          "2025-06-21T00:00:00.000000000",
          "2025-06-22T00:00:00.000000000",
          "2025-06-23T00:00:00.000000000",
          "2025-06-24T00:00:00.000000000",
          "2025-06-25T00:00:00.000000000",
          "2025-06-26T00:00:00.000000000",
          "2025-06-27T00:00:00.000000000",
          "2025-06-28T00:00:00.000000000",
          "2025-06-29T00:00:00.000000000",
          "2025-06-30T00:00:00.000000000",
          "2025-07-01T00:00:00.000000000",
          "2025-07-02T00:00:00.000000000",
          "2025-07-03T00:00:00.000000000",
          "2025-07-04T00:00:00.000000000",
          "2025-07-05T00:00:00.000000000",
          "2025-07-06T00:00:00.000000000",
          "2025-07-07T00:00:00.000000000",
          "2025-07-08T00:00:00.000000000",
          "2025-07-09T00:00:00.000000000",
          "2025-07-10T00:00:00.000000000",
          "2025-07-11T00:00:00.000000000",
          "2025-07-12T00:00:00.000000000",
          "2025-07-13T00:00:00.000000000",
          "2025-07-14T00:00:00.000000000",
          "2025-07-15T00:00:00.000000000",
          "2025-07-16T00:00:00.000000000",
          "2025-07-17T00:00:00.000000000",
          "2025-07-18T00:00:00.000000000",
          "2025-07-19T00:00:00.000000000",
          "2025-07-20T00:00:00.000000000",
          "2025-07-21T00:00:00.000000000",
          "2025-07-22T00:00:00.000000000",
          "2025-07-23T00:00:00.000000000",
          "2025-07-24T00:00:00.000000000",
          "2025-07-25T00:00:00.000000000",
          "2025-07-26T00:00:00.000000000",
          "2025-07-27T00:00:00.000000000",
          "2025-07-28T00:00:00.000000000",
          "2025-07-29T00:00:00.000000000",
          "2025-07-30T00:00:00.000000000",
          "2025-07-31T00:00:00.000000000",
          "2025-08-01T00:00:00.000000000",
          "2025-08-02T00:00:00.000000000",
          "2025-08-03T00:00:00.000000000",
          "2025-08-04T00:00:00.000000000",
          "2025-08-05T00:00:00.000000000",
          "2025-08-06T00:00:00.000000000",
          "2025-08-07T00:00:00.000000000",
          "2025-08-08T00:00:00.000000000",
          "2025-08-09T00:00:00.000000000",
          "2025-08-10T00:00:00.000000000",
          "2025-08-11T00:00:00.000000000",
          "2025-08-12T00:00:00.000000000",
          "2025-08-13T00:00:00.000000000",
          "2025-08-14T00:00:00.000000000",
          "2025-08-15T00:00:00.000000000",
          "2025-08-16T00:00:00.000000000",
          "2025-08-17T00:00:00.000000000",
          "2025-08-18T00:00:00.000000000",
          "2025-08-19T00:00:00.000000000",
          "2025-08-20T00:00:00.000000000",
          "2025-08-21T00:00:00.000000000",
          "2025-08-22T00:00:00.000000000",
          "2025-08-23T00:00:00.000000000",
          "2025-08-24T00:00:00.000000000",
          "2025-08-25T00:00:00.000000000",
          "2025-08-26T00:00:00.000000000",
          "2025-08-27T00:00:00.000000000",
          "2025-08-28T00:00:00.000000000",
          "2025-08-29T00:00:00.000000000",
          "2025-08-30T00:00:00.000000000",
          "2025-08-31T00:00:00.000000000",
          "2025-09-01T00:00:00.000000000",
          "2025-09-02T00:00:00.000000000",
          "2025-09-03T00:00:00.000000000",
          "2025-09-04T00:00:00.000000000",
          "2025-09-05T00:00:00.000000000",
          "2025-09-06T00:00:00.000000000",
          "2025-09-07T00:00:00.000000000",
          "2025-09-08T00:00:00.000000000",
          "2025-09-09T00:00:00.000000000",
          "2025-09-10T00:00:00.000000000",
          "2025-09-11T00:00:00.000000000",
          "2025-09-12T00:00:00.000000000",
          "2025-09-13T00:00:00.000000000",
          "2025-09-14T00:00:00.000000000",
          "2025-09-15T00:00:00.000000000",
          "2025-09-16T00:00:00.000000000",
          "2025-09-17T00:00:00.000000000",
          "2025-09-18T00:00:00.000000000",
          "2025-09-19T00:00:00.000000000",
          "2025-09-20T00:00:00.000000000",
          "2025-09-21T00:00:00.000000000",
          "2025-09-22T00:00:00.000000000",
          "2025-09-23T00:00:00.000000000",
          "2025-09-24T00:00:00.000000000",
          "2025-09-25T00:00:00.000000000",
          "2025-09-26T00:00:00.000000000",
          "2025-09-27T00:00:00.000000000",
          "2025-09-28T00:00:00.000000000",
          "2025-09-29T00:00:00.000000000",
          "2025-09-30T00:00:00.000000000",
          "2025-10-01T00:00:00.000000000",
          "2025-10-02T00:00:00.000000000",
          "2025-10-03T00:00:00.000000000",
          "2025-10-04T00:00:00.000000000",
          "2025-10-05T00:00:00.000000000",
          "2025-10-06T00:00:00.000000000",
          "2025-10-07T00:00:00.000000000",
          "2025-10-08T00:00:00.000000000",
          "2025-10-09T00:00:00.000000000",
          "2025-10-10T00:00:00.000000000",
          "2025-10-11T00:00:00.000000000",
          "2025-10-12T00:00:00.000000000",
          "2025-10-13T00:00:00.000000000",
          "2025-10-14T00:00:00.000000000",
          "2025-10-15T00:00:00.000000000",
          "2025-10-16T00:00:00.000000000",
          "2025-10-17T00:00:00.000000000",
          "2025-10-18T00:00:00.000000000",
          "2025-10-19T00:00:00.000000000",
          "2025-10-20T00:00:00.000000000",
          "2025-10-21T00:00:00.000000000",
          "2025-10-22T00:00:00.000000000",
          "2025-10-23T00:00:00.000000000",
          "2025-10-24T00:00:00.000000000",
          "2025-10-25T00:00:00.000000000",
          "2025-10-26T00:00:00.000000000",
          "2025-10-27T00:00:00.000000000",
          "2025-10-28T00:00:00.000000000",
          "2025-10-29T00:00:00.000000000",
          "2025-10-30T00:00:00.000000000",
          "2025-10-31T00:00:00.000000000",
          "2025-11-01T00:00:00.000000000",
          "2025-11-02T00:00:00.000000000",
          "2025-11-03T00:00:00.000000000",
          "2025-11-04T00:00:00.000000000",
          "2025-11-05T00:00:00.000000000",
          "2025-11-06T00:00:00.000000000",
          "2025-11-07T00:00:00.000000000",
          "2025-11-08T00:00:00.000000000",
          "2025-11-09T00:00:00.000000000",
          "2025-11-10T00:00:00.000000000",
          "2025-11-11T00:00:00.000000000",
          "2025-11-12T00:00:00.000000000",
          "2025-11-13T00:00:00.000000000",
          "2025-11-14T00:00:00.000000000",
          "2025-11-15T00:00:00.000000000",
          "2025-11-16T00:00:00.000000000",
          "2025-11-17T00:00:00.000000000",
          "2025-11-18T00:00:00.000000000",
          "2025-11-19T00:00:00.000000000",
          "2025-11-20T00:00:00.000000000",
          "2025-11-21T00:00:00.000000000",
          "2025-11-22T00:00:00.000000000",
          "2025-11-23T00:00:00.000000000",
          "2025-11-24T00:00:00.000000000",
          "2025-11-25T00:00:00.000000000",
          "2025-11-26T00:00:00.000000000",
          "2025-11-27T00:00:00.000000000",
          "2025-11-28T00:00:00.000000000",
          "2025-11-29T00:00:00.000000000",
          "2025-11-30T00:00:00.000000000",
          "2025-12-01T00:00:00.000000000",
          "2025-12-02T00:00:00.000000000",
          "2025-12-03T00:00:00.000000000",
          "2025-12-04T00:00:00.000000000",
          "2025-12-05T00:00:00.000000000",
          "2025-12-06T00:00:00.000000000",
          "2025-12-07T00:00:00.000000000",
          "2025-12-08T00:00:00.000000000",
          "2025-12-09T00:00:00.000000000",
          "2025-12-10T00:00:00.000000000",
          "2025-12-11T00:00:00.000000000",
          "2025-12-12T00:00:00.000000000",
          "2025-12-13T00:00:00.000000000",
          "2025-12-14T00:00:00.000000000",
          "2025-12-15T00:00:00.000000000",
          "2025-12-16T00:00:00.000000000",
          "2025-12-17T00:00:00.000000000",
          "2025-12-18T00:00:00.000000000",
          "2025-12-19T00:00:00.000000000",
          "2025-12-20T00:00:00.000000000",
          "2025-12-21T00:00:00.000000000",
          "2025-12-22T00:00:00.000000000",
          "2025-12-23T00:00:00.000000000",
          "2025-12-24T00:00:00.000000000",
          "2025-12-25T00:00:00.000000000",
          "2025-12-26T00:00:00.000000000",
          "2025-12-27T00:00:00.000000000",
          "2025-12-28T00:00:00.000000000",
          "2025-12-29T00:00:00.000000000",
          "2025-12-30T00:00:00.000000000",
          "2025-12-31T00:00:00.000000000"
         ],
         "y": {
          "dtype": "f8",
          "bdata": "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"
         },
         "type": "scatter",
         "xaxis": "x",
         "yaxis": "y"
        },
        {
         "hovertemplate": "每日达成率：%{y:.1%}<extra></extra>",
         "line": {
          "color": "firebrick",
          "dash": "dash",
          "width": 1
         },
         "marker": {
          "size": 4
         },
         "mode": "lines+markers",
         "name": "每日服务水平",
         "visible": "legendonly",
         "x": [
          "2025-01-01T00:00:00.000000000",
          "2025-01-02T00:00:00.000000000",
          "2025-01-03T00:00:00.000000000",
          "2025-01-04T00:00:00.000000000",
          "2025-01-05T00:00:00.000000000",
          "2025-01-06T00:00:00.000000000",
          "2025-01-07T00:00:00.000000000",
          "2025-01-08T00:00:00.000000000",
          "2025-01-09T00:00:00.000000000",
          "2025-01-10T00:00:00.000000000",
          "2025-01-11T00:00:00.000000000",
          "2025-01-12T00:00:00.000000000",
          "2025-01-13T00:00:00.000000000",
          "2025-01-14T00:00:00.000000000",
          "2025-01-15T00:00:00.000000000",
          "2025-01-16T00:00:00.000000000",
          "2025-01-17T00:00:00.000000000",
          "2025-01-18T00:00:00.000000000",
          "2025-01-19T00:00:00.000000000",
          "2025-01-20T00:00:00.000000000",
          "2025-01-21T00:00:00.000000000",
          "2025-01-22T00:00:00.000000000",
          "2025-01-23T00:00:00.000000000",
          "2025-01-24T00:00:00.000000000",
          "2025-01-25T00:00:00.000000000",
          "2025-01-26T00:00:00.000000000",
          "2025-01-27T00:00:00.000000000",
          "2025-01-28T00:00:00.000000000",
          "2025-01-29T00:00:00.000000000",
          "2025-01-30T00:00:00.000000000",
          "2025-01-31T00:00:00.000000000",
          "2025-02-01T00:00:00.000000000",
          "2025-02-02T00:00:00.000000000",
          "2025-02-03T00:00:00.000000000",
          "2025-02-04T00:00:00.000000000",
          "2025-02-05T00:00:00.000000000",
          "2025-02-06T00:00:00.000000000",
          "2025-02-07T00:00:00.000000000",
          "2025-02-08T00:00:00.000000000",
          "2025-02-09T00:00:00.000000000",
          "2025-02-10T00:00:00.000000000",
          "2025-02-11T00:00:00.000000000",
          "2025-02-12T00:00:00.000000000",
          "2025-02-13T00:00:00.000000000",
          "2025-02-14T00:00:00.000000000",
          "2025-02-15T00:00:00.000000000",
          "2025-02-16T00:00:00.000000000",
          "2025-02-17T00:00:00.000000000",
          "2025-02-18T00:00:00.000000000",
          "2025-02-19T00:00:00.000000000",
          "2025-02-20T00:00:00.000000000",
          "2025-02-21T00:00:00.000000000",
          "2025-02-22T00:00:00.000000000",
          "2025-02-23T00:00:00.000000000",
          "2025-02-24T00:00:00.000000000",
          "2025-02-25T00:00:00.000000000",
          "2025-02-26T00:00:00.000000000",
          "2025-02-27T00:00:00.000000000",
          "2025-02-28T00:00:00.000000000",
          "2025-03-01T00:00:00.000000000",
          "2025-03-02T00:00:00.000000000",
          "2025-03-03T00:00:00.000000000",
          "2025-03-04T00:00:00.000000000",
          "2025-03-05T00:00:00.000000000",
          "2025-03-06T00:00:00.000000000",
          "2025-03-07T00:00:00.000000000",
          "2025-03-08T00:00:00.000000000",
          "2025-03-09T00:00:00.000000000",
          "2025-03-10T00:00:00.000000000",
          "2025-03-11T00:00:00.000000000",
          "2025-03-12T00:00:00.000000000",
          "2025-03-13T00:00:00.000000000",
          "2025-03-14T00:00:00.000000000",
          "2025-03-15T00:00:00.000000000",
          "2025-03-16T00:00:00.000000000",
          "2025-03-17T00:00:00.000000000",
          "2025-03-18T00:00:00.000000000",
          "2025-03-19T00:00:00.000000000",
          "2025-03-20T00:00:00.000000000",
          "2025-03-21T00:00:00.000000000",
          "2025-03-22T00:00:00.000000000",
          "2025-03-23T00:00:00.000000000",
          "2025-03-24T00:00:00.000000000",
          "2025-03-25T00:00:00.000000000",
          "2025-03-26T00:00:00.000000000",
          "2025-03-27T00:00:00.000000000",
          "2025-03-28T00:00:00.000000000",
          "2025-03-29T00:00:00.000000000",
          "2025-03-30T00:00:00.000000000",
          "2025-03-31T00:00:00.000000000",
          "2025-04-01T00:00:00.000000000",
          "2025-04-02T00:00:00.000000000",
          "2025-04-03T00:00:00.000000000",
          "2025-04-04T00:00:00.000000000",
          "2025-04-05T00:00:00.000000000",
          "2025-04-06T00:00:00.000000000",
          "2025-04-07T00:00:00.000000000",
          "2025-04-08T00:00:00.000000000",
          "2025-04-09T00:00:00.000000000",
          "2025-04-10T00:00:00.000000000",
          "2025-04-11T00:00:00.000000000",
          "2025-04-12T00:00:00.000000000",
          "2025-04-13T00:00:00.000000000",
          "2025-04-14T00:00:00.000000000",
          "2025-04-15T00:00:00.000000000",
          "2025-04-16T00:00:00.000000000",
          "2025-04-17T00:00:00.000000000",
          "2025-04-18T00:00:00.000000000",
          "2025-04-19T00:00:00.000000000",
          "2025-04-20T00:00:00.000000000",
          "2025-04-21T00:00:00.000000000",
          "2025-04-22T00:00:00.000000000",
          "2025-04-23T00:00:00.000000000",
          "2025-04-24T00:00:00.000000000",
          "2025-04-25T00:00:00.000000000",
          "2025-04-26T00:00:00.000000000",
          "2025-04-27T00:00:00.000000000",
          "2025-04-28T00:00:00.000000000",
          "2025-04-29T00:00:00.000000000",
          "2025-04-30T00:00:00.000000000",
          "2025-05-01T00:00:00.000000000",
          "2025-05-02T00:00:00.000000000",
          "2025-05-03T00:00:00.000000000",
          "2025-05-04T00:00:00.000000000",
          "2025-05-05T00:00:00.000000000",
          "2025-05-06T00:00:00.000000000",
          "2025-05-07T00:00:00.000000000",
          "2025-05-08T00:00:00.000000000",
          "2025-05-09T00:00:00.000000000",
          "2025-05-10T00:00:00.000000000",
          "2025-05-11T00:00:00.000000000",
          "2025-05-12T00:00:00.000000000",
          "2025-05-13T00:00:00.000000000",
          "2025-05-14T00:00:00.000000000",
          "2025-05-15T00:00:00.000000000",
          "2025-05-16T00:00:00.000000000",
          "2025-05-17T00:00:00.000000000",
          "2025-05-18T00:00:00.000000000",
          "2025-05-19T00:00:00.000000000",
          "2025-05-20T00:00:00.000000000",
          "2025-05-21T00:00:00.000000000",
          "2025-05-22T00:00:00.000000000",
          "2025-05-23T00:00:00.000000000",
          "2025-05-24T00:00:00.000000000",
          "2025-05-25T00:00:00.000000000",
          "2025-05-26T00:00:00.000000000",
          "2025-05-27T00:00:00.000000000",
          "2025-05-28T00:00:00.000000000",
          "2025-05-29T00:00:00.000000000",
          "2025-05-30T00:00:00.000000000",
          "2025-05-31T00:00:00.000000000",
          "2025-06-01T00:00:00.000000000",
          "2025-06-02T00:00:00.000000000",
          "2025-06-03T00:00:00.000000000",
          "2025-06-04T00:00:00.000000000",
          "2025-06-05T00:00:00.000000000",
          "2025-06-06T00:00:00.000000000",
          "2025-06-07T00:00:00.000000000",
          "2025-06-08T00:00:00.000000000",
          "2025-06-09T00:00:00.000000000",
          "2025-06-10T00:00:00.000000000",
          "2025-06-11T00:00:00.000000000",
          "2025-06-12T00:00:00.000000000",
          "2025-06-13T00:00:00.000000000",
          "2025-06-14T00:00:00.000000000",
          "2025-06-15T00:00:00.000000000",
          "2025-06-16T00:00:00.000000000",
          "2025-06-17T00:00:00.000000000",
          "2025-06-18T00:00:00.000000000",
          "2025-06-19T00:00:00.000000000",
          "2025-06-20T00:00:00.000000000",
          "2025-06-21T00:00:00.000000000",
          "2025-06-22T00:00:00.000000000",
          "2025-06-23T00:00:00.000000000",
          "2025-06-24T00:00:00.000000000",
          "2025-06-25T00:00:00.000000000",
          "2025-06-26T00:00:00.000000000",
          "2025-06-27T00:00:00.000000000",
          "2025-06-28T00:00:00.000000000",
          "2025-06-29T00:00:00.000000000",
          "2025-06-30T00:00:00.000000000",
          "2025-07-01T00:00:00.000000000",
          "2025-07-02T00:00:00.000000000",
          "2025-07-03T00:00:00.000000000",
          "2025-07-04T00:00:00.000000000",
          "2025-07-05T00:00:00.000000000",
          "2025-07-06T00:00:00.000000000",
          "2025-07-07T00:00:00.000000000",
          "2025-07-08T00:00:00.000000000",
          "2025-07-09T00:00:00.000000000",
          "2025-07-10T00:00:00.000000000",
          "2025-07-11T00:00:00.000000000",
          "2025-07-12T00:00:00.000000000",
          "2025-07-13T00:00:00.000000000",
          "2025-07-14T00:00:00.000000000",
          "2025-07-15T00:00:00.000000000",
          "2025-07-16T00:00:00.000000000",
          "2025-07-17T00:00:00.000000000",
          "2025-07-18T00:00:00.000000000",
          "2025-07-19T00:00:00.000000000",
          "2025-07-20T00:00:00.000000000",
          "2025-07-21T00:00:00.000000000",
          "2025-07-22T00:00:00.000000000",
          "2025-07-23T00:00:00.000000000",
          "2025-07-24T00:00:00.000000000",
          "2025-07-25T00:00:00.000000000",
          "2025-07-26T00:00:00.000000000",
          "2025-07-27T00:00:00.000000000",
          "2025-07-28T00:00:00.000000000",
          "2025-07-29T00:00:00.000000000",
          "2025-07-30T00:00:00.000000000",
          "2025-07-31T00:00:00.000000000",
          "2025-08-01T00:00:00.000000000",
          "2025-08-02T00:00:00.000000000",
          "2025-08-03T00:00:00.000000000",
          "2025-08-04T00:00:00.000000000",
          "2025-08-05T00:00:00.000000000",
          "2025-08-06T00:00:00.000000000",
          "2025-08-07T00:00:00.000000000",
          "2025-08-08T00:00:00.000000000",
          "2025-08-09T00:00:00.000000000",
          "2025-08-10T00:00:00.000000000",
          "2025-08-11T00:00:00.000000000",
          "2025-08-12T00:00:00.000000000",
          "2025-08-13T00:00:00.000000000",
          "2025-08-14T00:00:00.000000000",
          "2025-08-15T00:00:00.000000000",
          "2025-08-16T00:00:00.000000000",
          "2025-08-17T00:00:00.000000000",
          "2025-08-18T00:00:00.000000000",
          "2025-08-19T00:00:00.000000000",
          "2025-08-20T00:00:00.000000000",
          "2025-08-21T00:00:00.000000000",
          "2025-08-22T00:00:00.000000000",
          "2025-08-23T00:00:00.000000000",
          "2025-08-24T00:00:00.000000000",
          "2025-08-25T00:00:00.000000000",
          "2025-08-26T00:00:00.000000000",
          "2025-08-27T00:00:00.000000000",
          "2025-08-28T00:00:00.000000000",
          "2025-08-29T00:00:00.000000000",
          "2025-08-30T00:00:00.000000000",
          "2025-08-31T00:00:00.000000000",
          "2025-09-01T00:00:00.000000000",
          "2025-09-02T00:00:00.000000000",
          "2025-09-03T00:00:00.000000000",
          "2025-09-04T00:00:00.000000000",
          "2025-09-05T00:00:00.000000000",
          "2025-09-06T00:00:00.000000000",
          "2025-09-07T00:00:00.000000000",
          "2025-09-08T00:00:00.000000000",
          "2025-09-09T00:00:00.000000000",
          "2025-09-10T00:00:00.000000000",
          "2025-09-11T00:00:00.000000000",
          "2025-09-12T00:00:00.000000000",
          "2025-09-13T00:00:00.000000000",
          "2025-09-14T00:00:00.000000000",
          "2025-09-15T00:00:00.000000000",
          "2025-09-16T00:00:00.000000000",
          "2025-09-17T00:00:00.000000000",
          "2025-09-18T00:00:00.000000000",
          "2025-09-19T00:00:00.000000000",
          "2025-09-20T00:00:00.000000000",
          "2025-09-21T00:00:00.000000000",
          "2025-09-22T00:00:00.000000000",
          "2025-09-23T00:00:00.000000000",
          "2025-09-24T00:00:00.000000000",
          "2025-09-25T00:00:00.000000000",
          "2025-09-26T00:00:00.000000000",
          "2025-09-27T00:00:00.000000000",
          "2025-09-28T00:00:00.000000000",
          "2025-09-29T00:00:00.000000000",
          "2025-09-30T00:00:00.000000000",
          "2025-10-01T00:00:00.000000000",
          "2025-10-02T00:00:00.000000000",
          "2025-10-03T00:00:00.000000000",
          "2025-10-04T00:00:00.000000000",
          "2025-10-05T00:00:00.000000000",
          "2025-10-06T00:00:00.000000000",
          "2025-10-07T00:00:00.000000000",
          "2025-10-08T00:00:00.000000000",
          "2025-10-09T00:00:00.000000000",
          "2025-10-10T00:00:00.000000000",
          "2025-10-11T00:00:00.000000000",
          "2025-10-12T00:00:00.000000000",
          "2025-10-13T00:00:00.000000000",
          "2025-10-14T00:00:00.000000000",
          "2025-10-15T00:00:00.000000000",
          "2025-10-16T00:00:00.000000000",
          "2025-10-17T00:00:00.000000000",
          "2025-10-18T00:00:00.000000000",
          "2025-10-19T00:00:00.000000000",
          "2025-10-20T00:00:00.000000000",
          "2025-10-21T00:00:00.000000000",
          "2025-10-22T00:00:00.000000000",
          "2025-10-23T00:00:00.000000000",
          "2025-10-24T00:00:00.000000000",
          "2025-10-25T00:00:00.000000000",
          "2025-10-26T00:00:00.000000000",
          "2025-10-27T00:00:00.000000000",
          "2025-10-28T00:00:00.000000000",
          "2025-10-29T00:00:00.000000000",
          "2025-10-30T00:00:00.000000000",
          "2025-10-31T00:00:00.000000000",
          "2025-11-01T00:00:00.000000000",
          "2025-11-02T00:00:00.000000000",
          "2025-11-03T00:00:00.000000000",
          "2025-11-04T00:00:00.000000000",
          "2025-11-05T00:00:00.000000000",
          "2025-11-06T00:00:00.000000000",
          "2025-11-07T00:00:00.000000000",
          "2025-11-08T00:00:00.000000000",
          "2025-11-09T00:00:00.000000000",
          "2025-11-10T00:00:00.000000000",
          "2025-11-11T00:00:00.000000000",
          "2025-11-12T00:00:00.000000000",
          "2025-11-13T00:00:00.000000000",
          "2025-11-14T00:00:00.000000000",
          "2025-11-15T00:00:00.000000000",
          "2025-11-16T00:00:00.000000000",
          "2025-11-17T00:00:00.000000000",
          "2025-11-18T00:00:00.000000000",
          "2025-11-19T00:00:00.000000000",
          "2025-11-20T00:00:00.000000000",
          "2025-11-21T00:00:00.000000000",
          "2025-11-22T00:00:00.000000000",
          "2025-11-23T00:00:00.000000000",
          "2025-11-24T00:00:00.000000000",
          "2025-11-25T00:00:00.000000000",
          "2025-11-26T00:00:00.000000000",
          "2025-11-27T00:00:00.000000000",
          "2025-11-28T00:00:00.000000000",
          "2025-11-29T00:00:00.000000000",
          "2025-11-30T00:00:00.000000000",
          "2025-12-01T00:00:00.000000000",
          "2025-12-02T00:00:00.000000000",
          "2025-12-03T00:00:00.000000000",
          "2025-12-04T00:00:00.000000000",
          "2025-12-05T00:00:00.000000000",
          "2025-12-06T00:00:00.000000000",
          "2025-12-07T00:00:00.000000000",
          "2025-12-08T00:00:00.000000000",
          "2025-12-09T00:00:00.000000000",
          "2025-12-10T00:00:00.000000000",
          "2025-12-11T00:00:00.000000000",
          "2025-12-12T00:00:00.000000000",
          "2025-12-13T00:00:00.000000000",
          "2025-12-14T00:00:00.000000000",
          "2025-12-15T00:00:00.000000000",
          "2025-12-16T00:00:00.000000000",
          "2025-12-17T00:00:00.000000000",
          "2025-12-18T00:00:00.000000000",
          "2025-12-19T00:00:00.000000000",
          "2025-12-20T00:00:00.000000000",
          "2025-12-21T00:00:00.000000000",
          "2025-12-22T00:00:00.000000000",
          "2025-12-23T00:00:00.000000000",
          "2025-12-24T00:00:00.000000000",
          "2025-12-25T00:00:00.000000000",
          "2025-12-26T00:00:00.000000000",
          "2025-12-27T00:00:00.000000000",
          "2025-12-28T00:00:00.000000000",
          "2025-12-29T00:00:00.000000000",
          "2025-12-30T00:00:00.000000000",
          "2025-12-31T00:00:00.000000000"
         ],
         "y": {
          "dtype": "f8",
          "bdata": "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"
         },
         "type": "scatter",
         "xaxis": "x",
         "yaxis": "y2"
        }
       ],
       "layout": {
        "template": {
         "data": {
          "histogram2dcontour": [
           {
            "type": "histogram2dcontour",
            "colorbar": {
             "outlinewidth": 0,
             "ticks": ""
            },
            "colorscale": [
             [
              0.0,
              "#0d0887"
             ],
             [
              0.1111111111111111,
              "#46039f"
             ],
             [
              0.2222222222222222,
              "#7201a8"
             ],
             [
              0.3333333333333333,
              "#9c179e"
             ],
             [
              0.4444444444444444,
              "#bd3786"
             ],
             [
              0.5555555555555556,
              "#d8576b"
             ],
             [
              0.6666666666666666,
              "#ed7953"
             ],
             [
              0.7777777777777778,
              "#fb9f3a"
             ],
             [
              0.8888888888888888,
              "#fdca26"
             ],
             [
              1.0,
              "#f0f921"
             ]
            ]
           }
          ],
          "choropleth": [
           {
            "type": "choropleth",
            "colorbar": {
             "outlinewidth": 0,
             "ticks": ""
            }
           }
          ],
          "histogram2d": [
           {
            "type": "histogram2d",
            "colorbar": {
             "outlinewidth": 0,
             "ticks": ""
            },
            "colorscale": [
             [
              0.0,
              "#0d0887"
             ],
             [
              0.1111111111111111,
              "#46039f"
             ],
             [
              0.2222222222222222,
              "#7201a8"
             ],
             [
              0.3333333333333333,
              "#9c179e"
             ],
             [
              0.4444444444444444,
              "#bd3786"
             ],
             [
              0.5555555555555556,
              "#d8576b"
             ],
             [
              0.6666666666666666,
              "#ed7953"
             ],
             [
              0.7777777777777778,
              "#fb9f3a"
             ],
             [
              0.8888888888888888,
              "#fdca26"
             ],
             [
              1.0,
              "#f0f921"
             ]
            ]
           }
          ],
          "heatmap": [
           {
            "type": "heatmap",
            "colorbar": {
             "outlinewidth": 0,
             "ticks": ""
            },
            "colorscale": [
             [
              0.0,
              "#0d0887"
             ],
             [
              0.1111111111111111,
              "#46039f"
             ],
             [
              0.2222222222222222,
              "#7201a8"
             ],
             [
              0.3333333333333333,
              "#9c179e"
             ],
             [
              0.4444444444444444,
              "#bd3786"
             ],
             [
              0.5555555555555556,
              "#d8576b"
             ],
             [
              0.6666666666666666,
              "#ed7953"
             ],
             [
              0.7777777777777778,
              "#fb9f3a"
             ],
             [
              0.8888888888888888,
              "#fdca26"
             ],
             [
              1.0,
              "#f0f921"
             ]
            ]
           }
          ],
          "contourcarpet": [
           {
            "type": "contourcarpet",
            "colorbar": {
             "outlinewidth": 0,
             "ticks": ""
            }
           }
          ],
          "contour": [
           {
            "type": "contour",
            "colorbar": {
             "outlinewidth": 0,
             "ticks": ""
            },
            "colorscale": [
             [
              0.0,
              "#0d0887"
             ],
             [
              0.1111111111111111,
              "#46039f"
             ],
             [
              0.2222222222222222,
              "#7201a8"
             ],
             [
              0.3333333333333333,
              "#9c179e"
             ],
             [
              0.4444444444444444,
              "#bd3786"
             ],
             [
              0.5555555555555556,
              "#d8576b"
             ],
             [
              0.6666666666666666,
              "#ed7953"
             ],
             [
              0.7777777777777778,
              "#fb9f3a"
             ],
             [
              0.8888888888888888,
              "#fdca26"
             ],
             [
              1.0,
              "#f0f921"
             ]
            ]
           }
          ],
          "surface": [
           {
            "type": "surface",
            "colorbar": {
             "outlinewidth": 0,
             "ticks": ""
            },
            "colorscale": [
             [
              0.0,
              "#0d0887"
             ],
             [
              0.1111111111111111,
              "#46039f"
             ],
             [
              0.2222222222222222,
              "#7201a8"
             ],
             [
              0.3333333333333333,
              "#9c179e"
             ],
             [
              0.4444444444444444,
              "#bd3786"
             ],
             [
              0.5555555555555556,
              "#d8576b"
             ],
             [
              0.6666666666666666,
              "#ed7953"
             ],
             [
              0.7777777777777778,
              "#fb9f3a"
             ],
             [
              0.8888888888888888,
              "#fdca26"
             ],
             [
              1.0,
              "#f0f921"
             ]
            ]
           }
          ],
          "mesh3d": [
           {
            "type": "mesh3d",
            "colorbar": {
             "outlinewidth": 0,
             "ticks": ""
            }
           }
          ],
          "scatter": [
           {
            "fillpattern": {
             "fillmode": "overlay",
             "size": 10,
             "solidity": 0.2
            },
            "type": "scatter"
           }
          ],
          "parcoords": [
           {
            "type": "parcoords",
            "line": {
             "colorbar": {
              "outlinewidth": 0,
              "ticks": ""
             }
            }
           }
          ],
          "scatterpolargl": [
           {
            "type": "scatterpolargl",
            "marker": {
             "colorbar": {
              "outlinewidth": 0,
              "ticks": ""
             }
            }
           }
          ],
          "bar": [
           {
            "error_x": {
             "color": "#2a3f5f"
            },
            "error_y": {
             "color": "#2a3f5f"
            },
            "marker": {
             "line": {
              "color": "#E5ECF6",
              "width": 0.5
             },
             "pattern": {
              "fillmode": "overlay",
              "size": 10,
              "solidity": 0.2
             }
            },
            "type": "bar"
           }
          ],
          "scattergeo": [
           {
            "type": "scattergeo",
            "marker": {
             "colorbar": {
              "outlinewidth": 0,
              "ticks": ""
             }
            }
           }
          ],
          "scatterpolar": [
           {
            "type": "scatterpolar",
            "marker": {
             "colorbar": {
              "outlinewidth": 0,
              "ticks": ""
             }
            }
           }
          ],
          "histogram": [
           {
            "marker": {
             "pattern": {
              "fillmode": "overlay",
              "size": 10,
              "solidity": 0.2
             }
            },
            "type": "histogram"
           }
          ],
          "scattergl": [
           {
            "type": "scattergl",
            "marker": {
             "colorbar": {
              "outlinewidth": 0,
              "ticks": ""
             }
            }
           }
          ],
          "scatter3d": [
           {
            "type": "scatter3d",
            "line": {
             "colorbar": {
              "outlinewidth": 0,
              "ticks": ""
             }
            },
            "marker": {
             "colorbar": {
              "outlinewidth": 0,
              "ticks": ""
             }
            }
           }
          ],
          "scattermap": [
           {
            "type": "scattermap",
            "marker": {
             "colorbar": {
              "outlinewidth": 0,
              "ticks": ""
             }
            }
           }
          ],
          "scattermapbox": [
           {
            "type": "scattermapbox",
            "marker": {
             "colorbar": {
              "outlinewidth": 0,
              "ticks": ""
             }
            }
           }
          ],
          "scatterternary": [
           {
            "type": "scatterternary",
            "marker": {
             "colorbar": {
              "outlinewidth": 0,
              "ticks": ""
             }
            }
           }
          ],
          "scattercarpet": [
           {
            "type": "scattercarpet",
            "marker": {
             "colorbar": {
              "outlinewidth": 0,
              "ticks": ""
             }
            }
           }
          ],
          "carpet": [
           {
            "aaxis": {
             "endlinecolor": "#2a3f5f",
             "gridcolor": "white",
             "linecolor": "white",
             "minorgridcolor": "white",
             "startlinecolor": "#2a3f5f"
            },
            "baxis": {
             "endlinecolor": "#2a3f5f",
             "gridcolor": "white",
             "linecolor": "white",
             "minorgridcolor": "white",
             "startlinecolor": "#2a3f5f"
            },
            "type": "carpet"
           }
          ],
          "table": [
           {
            "cells": {
             "fill": {
              "color": "#EBF0F8"
             },
             "line": {
              "color": "white"
             }
            },
            "header": {
             "fill": {
              "color": "#C8D4E3"
             },
             "line": {
              "color": "white"
             }
            },
            "type": "table"
           }
          ],
          "barpolar": [
           {
            "marker": {
             "line": {
              "color": "#E5ECF6",
              "width": 0.5
             },
             "pattern": {
              "fillmode": "overlay",
              "size": 10,
              "solidity": 0.2
             }
            },
            "type": "barpolar"
           }
          ],
          "pie": [
           {
            "automargin": true,
            "type": "pie"
           }
          ]
         },
         "layout": {
          "autotypenumbers": "strict",
          "colorway": [
           "#636efa",
           "#EF553B",
           "#00cc96",
           "#ab63fa",
           "#FFA15A",
           "#19d3f3",
           "#FF6692",
           "#B6E880",
           "#FF97FF",
           "#FECB52"
          ],
          "font": {
           "color": "#2a3f5f"
          },
          "hovermode": "closest",
          "hoverlabel": {
           "align": "left"
          },
          "paper_bgcolor": "white",
          "plot_bgcolor": "#E5ECF6",
          "polar": {
           "bgcolor": "#E5ECF6",
           "angularaxis": {
            "gridcolor": "white",
            "linecolor": "white",
            "ticks": ""
           },
           "radialaxis": {
            "gridcolor": "white",
            "linecolor": "white",
            "ticks": ""
           }
          },
          "ternary": {
           "bgcolor": "#E5ECF6",
           "aaxis": {
            "gridcolor": "white",
            "linecolor": "white",
            "ticks": ""
           },
           "baxis": {
            "gridcolor": "white",
            "linecolor": "white",
            "ticks": ""
           },
           "caxis": {
            "gridcolor": "white",
            "linecolor": "white",
            "ticks": ""
           }
          },
          "coloraxis": {
           "colorbar": {
            "outlinewidth": 0,
            "ticks": ""
           }
          },
          "colorscale": {
           "sequential": [
            [
             0.0,
             "#0d0887"
            ],
            [
             0.1111111111111111,
             "#46039f"
            ],
            [
             0.2222222222222222,
             "#7201a8"
            ],
            [
             0.3333333333333333,
             "#9c179e"
            ],
            [
             0.4444444444444444,
             "#bd3786"
            ],
            [
             0.5555555555555556,
             "#d8576b"
            ],
            [
             0.6666666666666666,
             "#ed7953"
            ],
            [
             0.7777777777777778,
             "#fb9f3a"
            ],
            [
             0.8888888888888888,
             "#fdca26"
            ],
            [
             1.0,
             "#f0f921"
            ]
           ],
           "sequentialminus": [
            [
             0.0,
             "#0d0887"
            ],
            [
             0.1111111111111111,
             "#46039f"
            ],
            [
             0.2222222222222222,
             "#7201a8"
            ],
            [
             0.3333333333333333,
             "#9c179e"
            ],
            [
             0.4444444444444444,
             "#bd3786"
            ],
            [
             0.5555555555555556,
             "#d8576b"
            ],
            [
             0.6666666666666666,
             "#ed7953"
            ],
            [
             0.7777777777777778,
             "#fb9f3a"
            ],
            [
             0.8888888888888888,
             "#fdca26"
            ],
            [
             1.0,
             "#f0f921"
            ]
           ],
           "diverging": [
            [
             0,
             "#8e0152"
            ],
            [
             0.1,
             "#c51b7d"
            ],
            [
             0.2,
             "#de77ae"
            ],
            [
             0.3,
             "#f1b6da"
            ],
            [
             0.4,
             "#fde0ef"
            ],
            [
             0.5,
             "#f7f7f7"
            ],
            [
             0.6,
             "#e6f5d0"
            ],
            [
             0.7,
             "#b8e186"
            ],
            [
             0.8,
             "#7fbc41"
            ],
            [
             0.9,
             "#4d9221"
            ],
            [
             1,
             "#276419"
            ]
           ]
          },
          "xaxis": {
           "gridcolor": "white",
           "linecolor": "white",
           "ticks": "",
           "title": {
            "standoff": 15
           },
           "zerolinecolor": "white",
           "automargin": true,
           "zerolinewidth": 2
          },
          "yaxis": {
           "gridcolor": "white",
           "linecolor": "white",
           "ticks": "",
           "title": {
            "standoff": 15
           },
           "zerolinecolor": "white",
           "automargin": true,
           "zerolinewidth": 2
          },
          "scene": {
           "xaxis": {
            "backgroundcolor": "#E5ECF6",
            "gridcolor": "white",
            "linecolor": "white",
            "showbackground": true,
            "ticks": "",
            "zerolinecolor": "white",
            "gridwidth": 2
           },
           "yaxis": {
            "backgroundcolor": "#E5ECF6",
            "gridcolor": "white",
            "linecolor": "white",
            "showbackground": true,
            "ticks": "",
            "zerolinecolor": "white",
            "gridwidth": 2
           },
           "zaxis": {
            "backgroundcolor": "#E5ECF6",
            "gridcolor": "white",
            "linecolor": "white",
            "showbackground": true,
            "ticks": "",
            "zerolinecolor": "white",
            "gridwidth": 2
           }
          },
          "shapedefaults": {
           "line": {
            "color": "#2a3f5f"
           }
          },
          "annotationdefaults": {
           "arrowcolor": "#2a3f5f",
           "arrowhead": 0,
           "arrowwidth": 1
          },
          "geo": {
           "bgcolor": "white",
           "landcolor": "#E5ECF6",
           "subunitcolor": "white",
           "showland": true,
           "showlakes": true,
           "lakecolor": "white"
          },
          "title": {
           "x": 0.05
          },
          "mapbox": {
           "style": "light"
          }
         }
        },
        "xaxis": {
         "anchor": "y",
         "domain": [
          0.0,
          0.94
         ],
         "rangeslider": {
          "visible": true
         },
         "title": {
          "text": "日期"
         },
         "type": "date",
         "tickformat": "%m-%d",
         "rangeselector": {
          "buttons": [
           {
            "count": 7,
            "label": "最近7天",
            "step": "day",
            "stepmode": "backward"
           },
           {
            "count": 1,
            "label": "最近1月",
            "step": "month",
            "stepmode": "backward"
           },
           {
            "count": 3,
            "label": "最近3月",
            "step": "month",
            "stepmode": "backward"
           },
           {
            "label": "全部",
            "step": "all"
           }
          ]
         }
        },
        "yaxis": {
         "anchor": "x",
         "domain": [
          0.0,
          1.0
         ],
         "title": {
          "text": "成本(元)"
         },
         "tickformat": ","
        },
        "yaxis2": {
         "anchor": "x",
         "overlaying": "y",
         "side": "right",
         "title": {
          "text": "服务水平(%)"
         },
         "tickformat": ".0%"
        },
        "legend": {
         "orientation": "h",
         "yanchor": "bottom",
         "y": 1.02,
         "xanchor": "right",
         "x": 1
        },
        "updatemenus": [
         {
          "buttons": [
           {
            "args": [
             {
              "visible": [
               true,
               true,
               true,
               true
              ]
             },
             {
              "title": "all"
             }
            ],
            "label": "all",
            "method": "update"
           },
           {
            "args": [
             {
              "visible": [
               true,
               true,
               false,
               false
              ]
             },
             {
              "title": "月"
             }
            ],
            "label": "月",
            "method": "update"
           },
           {
            "args": [
             {
              "visible": [
               false,
               false,
               true,
               true
              ]
             },
             {
              "title": "日"
             }
            ],
            "label": "日",
            "method": "update"
           }
          ],
          "type": "dropdown",
          "x": 1.15,
          "y": 1.1
         }
        ],
        "title": {
         "text": "成本和服务水平变化"
        }
       },
       "config": {
        "plotlyServerURL": "https://plot.ly"
       }
      }
     },
     "metadata": {},
     "output_type": "display_data"
    }
   ],
   "execution_count": 4
  },
  {
   "cell_type": "code",
   "id": "79d29d2116bceef5",
   "metadata": {
    "ExecuteTime": {
     "end_time": "2025-06-16T10:33:21.859640Z",
     "start_time": "2025-06-16T10:33:21.792217Z"
    }
   },
   "source": [
    "stores = pd.read_csv('../data/stores.csv', encoding='utf-8')\n",
    "stores.columns = stores.columns.str.strip()\n",
    "stores_meta = stores[['store_name', 'region']].rename(\n",
    "    columns={'store_name':'dest', 'region':'region'}\n",
    ")\n",
    "tot2sub   = pd.read_csv('../data/ship_tot2sub.csv')[['source', 'dest', 'month', 'qty']]\n",
    "sub2sub   = pd.read_csv('../data/ship_sub2sub.csv')[['source', 'dest', 'month', 'qty']]\n",
    "sub2store = pd.read_csv('../data/ship_sub2store.csv')[['source', 'dest', 'month', 'qty']]\n",
    "sub2store = sub2store.merge(stores_meta, on='dest', how='left')\n",
    "tot2sub['region'] = None\n",
    "sub2sub['region'] = None\n",
    "ship_all = pd.concat([tot2sub, sub2sub, sub2store], ignore_index=True)\n",
    "all_regions = ['全部'] + sorted(ship_all['region'].dropna().unique().tolist())\n",
    "ship_all['route'] = ship_all['source'] + '→' + ship_all['dest']\n",
    "all_routes = ['全部'] + sorted(ship_all['route'].unique().tolist())\n",
    "app = dash.Dash(__name__)\n",
    "\n",
    "app.layout = html.Div([\n",
    "    html.Div([\n",
    "        html.Label(\"按区域筛选：\"),\n",
    "        dcc.Dropdown(\n",
    "            id='region-filter',\n",
    "            options=[{'label': r, 'value': r} for r in all_regions],\n",
    "            value='全部'\n",
    "        )\n",
    "    ], style={'width':'48%','display':'inline-block'}),\n",
    "\n",
    "    html.Div([\n",
    "        html.Label(\"按路线筛选：\"),\n",
    "        dcc.Dropdown(\n",
    "            id='route-filter',\n",
    "            options=[{'label': rt, 'value': rt} for rt in all_routes],\n",
    "            value='全部'\n",
    "        )\n",
    "    ], style={'width':'48%','display':'inline-block','marginLeft':'4%'}),\n",
    "\n",
    "    dcc.Graph(id='main-chart', style={'height':'600px'}),\n",
    "])\n",
    "\n",
    "@app.callback(\n",
    "    Output('main-chart', 'figure'),\n",
    "    Input('region-filter', 'value'),\n",
    "    Input('route-filter', 'value'),\n",
    ")\n",
    "def update_main_chart(selected_region, selected_route):\n",
    "    df = ship_all.copy()\n",
    "    # 区域过滤\n",
    "    if selected_region != '全部':\n",
    "        df = df[df['region'] == selected_region]\n",
    "    # 路线过滤\n",
    "    if selected_route != '全部':\n",
    "        df = df[df['route'] == selected_route]\n",
    "    # 按月聚合\n",
    "    df_month = df.groupby('month', as_index=False)['qty'].sum()\n",
    "    if df_month.empty:\n",
    "        fig = px.line(title=\"无符合条件的数据\", template='plotly_white')\n",
    "        fig.update_layout(xaxis={'visible':False}, yaxis={'visible':False})\n",
    "        return fig\n",
    "    fig = px.bar(\n",
    "        df_month,\n",
    "        x='month', y='qty',\n",
    "        labels={'qty':'发运量','month':'月份'},\n",
    "        title=\"按月发运量走势\",\n",
    "        template='plotly_white',\n",
    "        color_discrete_sequence=['#5470C6'],  # 一支蓝\n",
    "        animation_frame=None\n",
    "    )\n",
    "\n",
    "    fig.add_scatter(\n",
    "        x=df_month['month'], y=df_month['qty'],\n",
    "        mode='lines+markers',\n",
    "        name='trend',\n",
    "        line=dict(color='#EE6666', width=3, shape='spline'),\n",
    "        marker=dict(size=8, symbol='circle'),\n",
    "        hovertemplate=\"月份 %{x}<br>发运量 %{y}<extra></extra>\"\n",
    "    )\n",
    "\n",
    "    fig.update_layout(\n",
    "        font=dict(family='\"Helvetica Neue\", Arial, sans-serif', size=14, color='#333'),\n",
    "        title=dict(\n",
    "            text=\"发运量月变化\",\n",
    "            x=0.5,\n",
    "            xanchor='center',\n",
    "            yanchor='top',\n",
    "            font=dict(size=20, family='Arial', color='#222')\n",
    "        ),\n",
    "        legend=dict(\n",
    "            orientation=\"h\",\n",
    "            yanchor=\"bottom\",\n",
    "            y=1.02,\n",
    "            xanchor=\"right\",\n",
    "            x=1,\n",
    "            bgcolor='rgba(0,0,0,0)',  # 透明背景\n",
    "            bordercolor='LightGray',\n",
    "            borderwidth=0\n",
    "        ),\n",
    "        xaxis=dict(\n",
    "            title=\"月份\",\n",
    "            tickmode='array',\n",
    "            tickvals=sorted(df_month['month'].unique()),\n",
    "            ticktext=[f\"{int(m)}月\" for m in df_month['month']],\n",
    "            showgrid=False,\n",
    "            tickangle=-45,\n",
    "        ),\n",
    "        yaxis=dict(\n",
    "            title=\"发运量\",\n",
    "            showgrid=True,\n",
    "            gridcolor='rgba(200,200,200,0.2)',\n",
    "        ),\n",
    "        bargap=0.25,\n",
    "        transition={'duration': 500, 'easing': 'cubic-in-out'},\n",
    "        margin={'l':60,'r':20,'t':80,'b':80},\n",
    "        plot_bgcolor='white'\n",
    "    )\n",
    "\n",
    "    return fig\n",
    "\n",
    "if __name__ == '__main__':\n",
    "    app.run(port=8059, debug=True)\n",
    "\n",
    "fig_op3 = fig"
   ],
   "outputs": [
    {
     "data": {
      "text/plain": [
       "<IPython.lib.display.IFrame at 0x130b21960>"
      ],
      "text/html": [
       "\n",
       "        <iframe\n",
       "            width=\"100%\"\n",
       "            height=\"650\"\n",
       "            src=\"http://127.0.0.1:8059/\"\n",
       "            frameborder=\"0\"\n",
       "            allowfullscreen\n",
       "            \n",
       "        ></iframe>\n",
       "        "
      ]
     },
     "metadata": {},
     "output_type": "display_data"
    }
   ],
   "execution_count": 5
  },
  {
   "cell_type": "code",
   "id": "59cdd6ae8ff1c3f9",
   "metadata": {
    "ExecuteTime": {
     "end_time": "2025-06-16T10:33:21.924517Z",
     "start_time": "2025-06-16T10:33:21.919090Z"
    }
   },
   "source": [
    "#print(all_regions)"
   ],
   "outputs": [],
   "execution_count": 6
  },
  {
   "cell_type": "code",
   "id": "ea62e51d-24fd-4aa0-8277-329cf44f18a8",
   "metadata": {
    "ExecuteTime": {
     "end_time": "2025-06-16T10:33:22.093196Z",
     "start_time": "2025-06-16T10:33:22.088299Z"
    }
   },
   "source": [],
   "outputs": [],
   "execution_count": null
  }
 ],
 "metadata": {
  "kernelspec": {
   "display_name": "Python 3 (ipykernel)",
   "language": "python",
   "name": "python3"
  },
  "language_info": {
   "codemirror_mode": {
    "name": "ipython",
    "version": 3
   },
   "file_extension": ".py",
   "mimetype": "text/x-python",
   "name": "python",
   "nbconvert_exporter": "python",
   "pygments_lexer": "ipython3",
   "version": "3.10.16"
  }
 },
 "nbformat": 4,
 "nbformat_minor": 5
}
