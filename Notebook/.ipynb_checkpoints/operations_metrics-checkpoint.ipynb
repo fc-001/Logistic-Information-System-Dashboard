{
 "cells": [
  {
   "cell_type": "code",
   "id": "initial_id",
   "metadata": {
    "collapsed": true,
    "ExecuteTime": {
     "end_time": "2025-05-29T11:44:39.993817Z",
     "start_time": "2025-05-29T11:44:39.551332Z"
    }
   },
   "source": [
    "import pandas as pd\n",
    "import numpy as np\n",
    "import dash\n",
    "from dash import dcc, html, Input, Output\n",
    "import plotly.express as px\n",
    "import plotly.graph_objects as go\n",
    "from plotly.subplots import make_subplots\n",
    "from datetime import datetime\n"
   ],
   "outputs": [],
   "execution_count": 1
  },
  {
   "metadata": {
    "ExecuteTime": {
     "end_time": "2025-05-29T11:44:40.514102Z",
     "start_time": "2025-05-29T11:44:39.997511Z"
    }
   },
   "cell_type": "code",
   "source": [
    "tot2sub   = pd.read_csv('../data/ship_tot2sub.csv')[['month', 'qty']].assign(type='Total→Sub')\n",
    "sub2sub   = pd.read_csv('../data/ship_sub2sub.csv')[['month', 'qty']].assign(type='Sub→Sub')\n",
    "sub2store = pd.read_csv('../data/ship_sub2store.csv')[['month', 'qty']].assign(type='Sub→Store')\n",
    "ship_vol  = pd.concat([tot2sub, sub2sub, sub2store], ignore_index=True)\n",
    "\n",
    "nodes = pd.read_csv('../data/nodes.csv')[['node_id', 'lat', 'lng']] # 经纬度\n",
    "ship_all = pd.concat([\n",
    "    pd.read_csv('../data/ship_tot2sub.csv'),\n",
    "    pd.read_csv('../data/ship_sub2sub.csv'),\n",
    "    pd.read_csv('../data/ship_sub2store.csv')\n",
    "], ignore_index=True)\n",
    "\n",
    "ship_all = (ship_all.merge(nodes.rename(columns={'node_id':'source','lat':'lat_s','lng':'lng_s'}),on='source', how='left').merge(nodes.rename(columns={'node_id':'dest','lat':'lat_d','lng':'lng_d'}),on='dest', how='left'))\n",
    "\n",
    "def haversine(row): # 计算球面距离（不是直接经纬度相减开根号*111这种）\n",
    "    phi1, lam1, phi2, lam2 = np.radians([row.lat_s, row.lng_s, row.lat_d, row.lng_d])\n",
    "    dphi = phi2 - phi1\n",
    "    dlam = lam2 - lam1\n",
    "    a = np.sin(dphi/2)**2 + np.cos(phi1)*np.cos(phi2)*np.sin(dlam/2)**2\n",
    "    return 6371 * 2 * np.arcsin(np.sqrt(a))\n",
    "\n",
    "ship_all['distance_km'] = ship_all.apply(haversine, axis=1)\n",
    "\n",
    "\n",
    "rates    = pd.read_csv('../data/rates.csv')\n",
    "ltl_rate = rates.loc[rates['mode']=='LTL', 'rate_per_km'].iloc[0]\n",
    "ship_all['estimated_cost'] = ship_all['qty'] * ship_all['distance_km'] * ltl_rate  # 全零担 LTL\n",
    "cost_df = ship_all.groupby('month')['estimated_cost'].sum().reset_index()\n",
    "\n",
    "# 分仓到门店的服务水平\n",
    "ss = pd.read_csv('../data/ship_sub2store.csv')\n",
    "stores  = (pd.read_csv('../data/stores.csv')[['store_name', 'region']].rename(columns={'store_name': 'dest'}))\n",
    "svc_req = pd.read_csv('../data/service_requirements.csv')\n",
    "\n",
    "df_ss = (ss.merge(nodes.rename(columns={'node_id':'source','lat':'lat_s','lng':'lng_s'}), on='source').merge(nodes.rename(columns={'node_id':'dest','lat':'lat_d','lng':'lng_d'}),   on='dest').merge(stores, on='dest').merge(svc_req, on='region'))\n",
    "df_ss['distance_km'] = df_ss.apply(haversine, axis=1)\n",
    "\n",
    "df_ss['service_hrs'] = (df_ss['service_window'].str.extract(r'(\\d+)').astype(float))\n",
    "df_ss['lead_time_hrs'] = df_ss['distance_km'] / df_ss['speed_kmph']\n",
    "df_ss['on_time'] = df_ss['lead_time_hrs'] <= df_ss['service_hrs']  # 判断是否准时\n",
    "\n",
    "\n",
    "service_df = (\n",
    "    df_ss\n",
    "    .groupby('month')\n",
    "    .agg(\n",
    "        actual_rate = ('on_time', 'mean'),\n",
    "        target_rate = ('fill_rate', lambda x: x.iloc[0] / 100)\n",
    "    )\n",
    "    .reset_index()\n",
    ")"
   ],
   "id": "45cb88b59d60bd66",
   "outputs": [],
   "execution_count": 2
  },
  {
   "metadata": {
    "ExecuteTime": {
     "end_time": "2025-05-29T11:44:40.750534Z",
     "start_time": "2025-05-29T11:44:40.591411Z"
    }
   },
   "cell_type": "code",
   "source": [
    "# 先按月、按类型汇总发运量\n",
    "vol_month = ( ship_vol.groupby(['month','type'], as_index=False)['qty'].sum())\n",
    "fig_vol = px.line(\n",
    "    vol_month,\n",
    "    x='month',\n",
    "    y='qty',\n",
    "    color='type',\n",
    "    title='各环节月度发运量趋势（按月汇总）',\n",
    "    labels={'month':'月份', 'qty':'发运量', 'type':'类型'}\n",
    ")\n",
    "fig_vol.update_layout(\n",
    "    xaxis=dict(tickmode='linear'),\n",
    "    yaxis=dict(tickformat=',')\n",
    ")\n",
    "\n",
    "fig_vol.show()\n",
    "fig_op1 = fig_vol\n"
   ],
   "id": "d3061a77dfed1a1b",
   "outputs": [
    {
     "data": {
      "application/vnd.plotly.v1+json": {
       "data": [
        {
         "hovertemplate": "类型=Sub→Store<br>月份=%{x}<br>发运量=%{y}<extra></extra>",
         "legendgroup": "Sub→Store",
         "line": {
          "color": "#636efa",
          "dash": "solid"
         },
         "marker": {
          "symbol": "circle"
         },
         "mode": "lines",
         "name": "Sub→Store",
         "orientation": "v",
         "showlegend": true,
         "x": {
          "dtype": "i1",
          "bdata": "AQQFBgcICQoLDA=="
         },
         "xaxis": "x",
         "y": {
          "dtype": "i4",
          "bdata": "GSwAAC3EAAC0KwIAGFYPAAVwEgAgChYAl+EjAOgBIgA1ozQAnwI/AA=="
         },
         "yaxis": "y",
         "type": "scatter"
        },
        {
         "hovertemplate": "类型=Sub→Sub<br>月份=%{x}<br>发运量=%{y}<extra></extra>",
         "legendgroup": "Sub→Sub",
         "line": {
          "color": "#EF553B",
          "dash": "solid"
         },
         "marker": {
          "symbol": "circle"
         },
         "mode": "lines",
         "name": "Sub→Sub",
         "orientation": "v",
         "showlegend": true,
         "x": {
          "dtype": "i1",
          "bdata": "AQIDBQYHCAkKCww="
         },
         "xaxis": "x",
         "y": {
          "dtype": "i4",
          "bdata": "F3wAABEOAACpEAAAmEABAK6XAAA5HQAAugYAAPYIAAAvIwAAt0UAANZFAAA="
         },
         "yaxis": "y",
         "type": "scatter"
        },
        {
         "hovertemplate": "类型=Total→Sub<br>月份=%{x}<br>发运量=%{y}<extra></extra>",
         "legendgroup": "Total→Sub",
         "line": {
          "color": "#00cc96",
          "dash": "solid"
         },
         "marker": {
          "symbol": "circle"
         },
         "mode": "lines",
         "name": "Total→Sub",
         "orientation": "v",
         "showlegend": true,
         "x": {
          "dtype": "i1",
          "bdata": "AQQFBgcICQoLDA=="
         },
         "xaxis": "x",
         "y": {
          "dtype": "i4",
          "bdata": "E18BAC3EAACGrgYAWDESAM9WEwD4ehYARJQkANc8IwAHhzUAA4pAAA=="
         },
         "yaxis": "y",
         "type": "scatter"
        }
       ],
       "layout": {
        "template": {
         "data": {
          "histogram2dcontour": [
           {
            "type": "histogram2dcontour",
            "colorbar": {
             "outlinewidth": 0,
             "ticks": ""
            },
            "colorscale": [
             [
              0.0,
              "#0d0887"
             ],
             [
              0.1111111111111111,
              "#46039f"
             ],
             [
              0.2222222222222222,
              "#7201a8"
             ],
             [
              0.3333333333333333,
              "#9c179e"
             ],
             [
              0.4444444444444444,
              "#bd3786"
             ],
             [
              0.5555555555555556,
              "#d8576b"
             ],
             [
              0.6666666666666666,
              "#ed7953"
             ],
             [
              0.7777777777777778,
              "#fb9f3a"
             ],
             [
              0.8888888888888888,
              "#fdca26"
             ],
             [
              1.0,
              "#f0f921"
             ]
            ]
           }
          ],
          "choropleth": [
           {
            "type": "choropleth",
            "colorbar": {
             "outlinewidth": 0,
             "ticks": ""
            }
           }
          ],
          "histogram2d": [
           {
            "type": "histogram2d",
            "colorbar": {
             "outlinewidth": 0,
             "ticks": ""
            },
            "colorscale": [
             [
              0.0,
              "#0d0887"
             ],
             [
              0.1111111111111111,
              "#46039f"
             ],
             [
              0.2222222222222222,
              "#7201a8"
             ],
             [
              0.3333333333333333,
              "#9c179e"
             ],
             [
              0.4444444444444444,
              "#bd3786"
             ],
             [
              0.5555555555555556,
              "#d8576b"
             ],
             [
              0.6666666666666666,
              "#ed7953"
             ],
             [
              0.7777777777777778,
              "#fb9f3a"
             ],
             [
              0.8888888888888888,
              "#fdca26"
             ],
             [
              1.0,
              "#f0f921"
             ]
            ]
           }
          ],
          "heatmap": [
           {
            "type": "heatmap",
            "colorbar": {
             "outlinewidth": 0,
             "ticks": ""
            },
            "colorscale": [
             [
              0.0,
              "#0d0887"
             ],
             [
              0.1111111111111111,
              "#46039f"
             ],
             [
              0.2222222222222222,
              "#7201a8"
             ],
             [
              0.3333333333333333,
              "#9c179e"
             ],
             [
              0.4444444444444444,
              "#bd3786"
             ],
             [
              0.5555555555555556,
              "#d8576b"
             ],
             [
              0.6666666666666666,
              "#ed7953"
             ],
             [
              0.7777777777777778,
              "#fb9f3a"
             ],
             [
              0.8888888888888888,
              "#fdca26"
             ],
             [
              1.0,
              "#f0f921"
             ]
            ]
           }
          ],
          "contourcarpet": [
           {
            "type": "contourcarpet",
            "colorbar": {
             "outlinewidth": 0,
             "ticks": ""
            }
           }
          ],
          "contour": [
           {
            "type": "contour",
            "colorbar": {
             "outlinewidth": 0,
             "ticks": ""
            },
            "colorscale": [
             [
              0.0,
              "#0d0887"
             ],
             [
              0.1111111111111111,
              "#46039f"
             ],
             [
              0.2222222222222222,
              "#7201a8"
             ],
             [
              0.3333333333333333,
              "#9c179e"
             ],
             [
              0.4444444444444444,
              "#bd3786"
             ],
             [
              0.5555555555555556,
              "#d8576b"
             ],
             [
              0.6666666666666666,
              "#ed7953"
             ],
             [
              0.7777777777777778,
              "#fb9f3a"
             ],
             [
              0.8888888888888888,
              "#fdca26"
             ],
             [
              1.0,
              "#f0f921"
             ]
            ]
           }
          ],
          "surface": [
           {
            "type": "surface",
            "colorbar": {
             "outlinewidth": 0,
             "ticks": ""
            },
            "colorscale": [
             [
              0.0,
              "#0d0887"
             ],
             [
              0.1111111111111111,
              "#46039f"
             ],
             [
              0.2222222222222222,
              "#7201a8"
             ],
             [
              0.3333333333333333,
              "#9c179e"
             ],
             [
              0.4444444444444444,
              "#bd3786"
             ],
             [
              0.5555555555555556,
              "#d8576b"
             ],
             [
              0.6666666666666666,
              "#ed7953"
             ],
             [
              0.7777777777777778,
              "#fb9f3a"
             ],
             [
              0.8888888888888888,
              "#fdca26"
             ],
             [
              1.0,
              "#f0f921"
             ]
            ]
           }
          ],
          "mesh3d": [
           {
            "type": "mesh3d",
            "colorbar": {
             "outlinewidth": 0,
             "ticks": ""
            }
           }
          ],
          "scatter": [
           {
            "fillpattern": {
             "fillmode": "overlay",
             "size": 10,
             "solidity": 0.2
            },
            "type": "scatter"
           }
          ],
          "parcoords": [
           {
            "type": "parcoords",
            "line": {
             "colorbar": {
              "outlinewidth": 0,
              "ticks": ""
             }
            }
           }
          ],
          "scatterpolargl": [
           {
            "type": "scatterpolargl",
            "marker": {
             "colorbar": {
              "outlinewidth": 0,
              "ticks": ""
             }
            }
           }
          ],
          "bar": [
           {
            "error_x": {
             "color": "#2a3f5f"
            },
            "error_y": {
             "color": "#2a3f5f"
            },
            "marker": {
             "line": {
              "color": "#E5ECF6",
              "width": 0.5
             },
             "pattern": {
              "fillmode": "overlay",
              "size": 10,
              "solidity": 0.2
             }
            },
            "type": "bar"
           }
          ],
          "scattergeo": [
           {
            "type": "scattergeo",
            "marker": {
             "colorbar": {
              "outlinewidth": 0,
              "ticks": ""
             }
            }
           }
          ],
          "scatterpolar": [
           {
            "type": "scatterpolar",
            "marker": {
             "colorbar": {
              "outlinewidth": 0,
              "ticks": ""
             }
            }
           }
          ],
          "histogram": [
           {
            "marker": {
             "pattern": {
              "fillmode": "overlay",
              "size": 10,
              "solidity": 0.2
             }
            },
            "type": "histogram"
           }
          ],
          "scattergl": [
           {
            "type": "scattergl",
            "marker": {
             "colorbar": {
              "outlinewidth": 0,
              "ticks": ""
             }
            }
           }
          ],
          "scatter3d": [
           {
            "type": "scatter3d",
            "line": {
             "colorbar": {
              "outlinewidth": 0,
              "ticks": ""
             }
            },
            "marker": {
             "colorbar": {
              "outlinewidth": 0,
              "ticks": ""
             }
            }
           }
          ],
          "scattermap": [
           {
            "type": "scattermap",
            "marker": {
             "colorbar": {
              "outlinewidth": 0,
              "ticks": ""
             }
            }
           }
          ],
          "scattermapbox": [
           {
            "type": "scattermapbox",
            "marker": {
             "colorbar": {
              "outlinewidth": 0,
              "ticks": ""
             }
            }
           }
          ],
          "scatterternary": [
           {
            "type": "scatterternary",
            "marker": {
             "colorbar": {
              "outlinewidth": 0,
              "ticks": ""
             }
            }
           }
          ],
          "scattercarpet": [
           {
            "type": "scattercarpet",
            "marker": {
             "colorbar": {
              "outlinewidth": 0,
              "ticks": ""
             }
            }
           }
          ],
          "carpet": [
           {
            "aaxis": {
             "endlinecolor": "#2a3f5f",
             "gridcolor": "white",
             "linecolor": "white",
             "minorgridcolor": "white",
             "startlinecolor": "#2a3f5f"
            },
            "baxis": {
             "endlinecolor": "#2a3f5f",
             "gridcolor": "white",
             "linecolor": "white",
             "minorgridcolor": "white",
             "startlinecolor": "#2a3f5f"
            },
            "type": "carpet"
           }
          ],
          "table": [
           {
            "cells": {
             "fill": {
              "color": "#EBF0F8"
             },
             "line": {
              "color": "white"
             }
            },
            "header": {
             "fill": {
              "color": "#C8D4E3"
             },
             "line": {
              "color": "white"
             }
            },
            "type": "table"
           }
          ],
          "barpolar": [
           {
            "marker": {
             "line": {
              "color": "#E5ECF6",
              "width": 0.5
             },
             "pattern": {
              "fillmode": "overlay",
              "size": 10,
              "solidity": 0.2
             }
            },
            "type": "barpolar"
           }
          ],
          "pie": [
           {
            "automargin": true,
            "type": "pie"
           }
          ]
         },
         "layout": {
          "autotypenumbers": "strict",
          "colorway": [
           "#636efa",
           "#EF553B",
           "#00cc96",
           "#ab63fa",
           "#FFA15A",
           "#19d3f3",
           "#FF6692",
           "#B6E880",
           "#FF97FF",
           "#FECB52"
          ],
          "font": {
           "color": "#2a3f5f"
          },
          "hovermode": "closest",
          "hoverlabel": {
           "align": "left"
          },
          "paper_bgcolor": "white",
          "plot_bgcolor": "#E5ECF6",
          "polar": {
           "bgcolor": "#E5ECF6",
           "angularaxis": {
            "gridcolor": "white",
            "linecolor": "white",
            "ticks": ""
           },
           "radialaxis": {
            "gridcolor": "white",
            "linecolor": "white",
            "ticks": ""
           }
          },
          "ternary": {
           "bgcolor": "#E5ECF6",
           "aaxis": {
            "gridcolor": "white",
            "linecolor": "white",
            "ticks": ""
           },
           "baxis": {
            "gridcolor": "white",
            "linecolor": "white",
            "ticks": ""
           },
           "caxis": {
            "gridcolor": "white",
            "linecolor": "white",
            "ticks": ""
           }
          },
          "coloraxis": {
           "colorbar": {
            "outlinewidth": 0,
            "ticks": ""
           }
          },
          "colorscale": {
           "sequential": [
            [
             0.0,
             "#0d0887"
            ],
            [
             0.1111111111111111,
             "#46039f"
            ],
            [
             0.2222222222222222,
             "#7201a8"
            ],
            [
             0.3333333333333333,
             "#9c179e"
            ],
            [
             0.4444444444444444,
             "#bd3786"
            ],
            [
             0.5555555555555556,
             "#d8576b"
            ],
            [
             0.6666666666666666,
             "#ed7953"
            ],
            [
             0.7777777777777778,
             "#fb9f3a"
            ],
            [
             0.8888888888888888,
             "#fdca26"
            ],
            [
             1.0,
             "#f0f921"
            ]
           ],
           "sequentialminus": [
            [
             0.0,
             "#0d0887"
            ],
            [
             0.1111111111111111,
             "#46039f"
            ],
            [
             0.2222222222222222,
             "#7201a8"
            ],
            [
             0.3333333333333333,
             "#9c179e"
            ],
            [
             0.4444444444444444,
             "#bd3786"
            ],
            [
             0.5555555555555556,
             "#d8576b"
            ],
            [
             0.6666666666666666,
             "#ed7953"
            ],
            [
             0.7777777777777778,
             "#fb9f3a"
            ],
            [
             0.8888888888888888,
             "#fdca26"
            ],
            [
             1.0,
             "#f0f921"
            ]
           ],
           "diverging": [
            [
             0,
             "#8e0152"
            ],
            [
             0.1,
             "#c51b7d"
            ],
            [
             0.2,
             "#de77ae"
            ],
            [
             0.3,
             "#f1b6da"
            ],
            [
             0.4,
             "#fde0ef"
            ],
            [
             0.5,
             "#f7f7f7"
            ],
            [
             0.6,
             "#e6f5d0"
            ],
            [
             0.7,
             "#b8e186"
            ],
            [
             0.8,
             "#7fbc41"
            ],
            [
             0.9,
             "#4d9221"
            ],
            [
             1,
             "#276419"
            ]
           ]
          },
          "xaxis": {
           "gridcolor": "white",
           "linecolor": "white",
           "ticks": "",
           "title": {
            "standoff": 15
           },
           "zerolinecolor": "white",
           "automargin": true,
           "zerolinewidth": 2
          },
          "yaxis": {
           "gridcolor": "white",
           "linecolor": "white",
           "ticks": "",
           "title": {
            "standoff": 15
           },
           "zerolinecolor": "white",
           "automargin": true,
           "zerolinewidth": 2
          },
          "scene": {
           "xaxis": {
            "backgroundcolor": "#E5ECF6",
            "gridcolor": "white",
            "linecolor": "white",
            "showbackground": true,
            "ticks": "",
            "zerolinecolor": "white",
            "gridwidth": 2
           },
           "yaxis": {
            "backgroundcolor": "#E5ECF6",
            "gridcolor": "white",
            "linecolor": "white",
            "showbackground": true,
            "ticks": "",
            "zerolinecolor": "white",
            "gridwidth": 2
           },
           "zaxis": {
            "backgroundcolor": "#E5ECF6",
            "gridcolor": "white",
            "linecolor": "white",
            "showbackground": true,
            "ticks": "",
            "zerolinecolor": "white",
            "gridwidth": 2
           }
          },
          "shapedefaults": {
           "line": {
            "color": "#2a3f5f"
           }
          },
          "annotationdefaults": {
           "arrowcolor": "#2a3f5f",
           "arrowhead": 0,
           "arrowwidth": 1
          },
          "geo": {
           "bgcolor": "white",
           "landcolor": "#E5ECF6",
           "subunitcolor": "white",
           "showland": true,
           "showlakes": true,
           "lakecolor": "white"
          },
          "title": {
           "x": 0.05
          },
          "mapbox": {
           "style": "light"
          }
         }
        },
        "xaxis": {
         "anchor": "y",
         "domain": [
          0.0,
          1.0
         ],
         "title": {
          "text": "月份"
         },
         "tickmode": "linear"
        },
        "yaxis": {
         "anchor": "x",
         "domain": [
          0.0,
          1.0
         ],
         "title": {
          "text": "发运量"
         },
         "tickformat": ","
        },
        "legend": {
         "title": {
          "text": "类型"
         },
         "tracegroupgap": 0
        },
        "title": {
         "text": "各环节月度发运量趋势（按月汇总）"
        }
       },
       "config": {
        "plotlyServerURL": "https://plot.ly"
       }
      }
     },
     "metadata": {},
     "output_type": "display_data"
    }
   ],
   "execution_count": 3
  },
  {
   "metadata": {
    "ExecuteTime": {
     "end_time": "2025-05-29T11:44:40.832694Z",
     "start_time": "2025-05-29T11:44:40.789529Z"
    }
   },
   "cell_type": "code",
   "source": [
    "rate_map = service_df.set_index('month')['actual_rate'].to_dict()\n",
    "daily_cost_list = []\n",
    "daily_svc_list  = []\n",
    "year = datetime.now().year\n",
    "\n",
    "for _, row in cost_df.iterrows():\n",
    "    m = int(row.month)\n",
    "    total_cost   = row.estimated_cost\n",
    "    monthly_rate = rate_map.get(row.month, np.nan)\n",
    "    n_days = pd.Period(f\"{year}-{m:02d}\").days_in_month\n",
    "    dates  = pd.date_range(f\"{year}-{m:02d}-01\", periods=n_days)\n",
    "    w = np.random.rand(n_days); w /= w.sum()\n",
    "    if np.isnan(monthly_rate):\n",
    "        rates = np.full(n_days, np.nan)\n",
    "    else:\n",
    "        rates = np.clip(\n",
    "            np.random.normal(loc=monthly_rate, scale=0.02, size=n_days),\n",
    "            0, 1\n",
    "        )\n",
    "\n",
    "    for d, wt, rt in zip(dates, w, rates):\n",
    "        daily_cost_list.append({ \"date\": d,           \"daily_cost\": total_cost * wt })\n",
    "        daily_svc_list.append({  \"date\": d,           \"daily_rate\": rt      })\n",
    "\n",
    "daily_cost_df    = pd.DataFrame(daily_cost_list)\n",
    "daily_service_df = pd.DataFrame(daily_svc_list)\n",
    "cost_df[\"date\"]    = pd.to_datetime(cost_df.month.astype(int).apply(lambda x: f\"{year}-{x:02d}-01\"))\n",
    "service_df[\"date\"] = pd.to_datetime(service_df.month.astype(int).apply(lambda x: f\"{year}-{x:02d}-01\"))\n",
    "\n",
    "fig = make_subplots(specs=[[{\"secondary_y\": True}]])\n",
    "\n",
    "# 月度成本\n",
    "fig.add_trace(go.Scatter(\n",
    "    x=cost_df[\"date\"], y=cost_df[\"estimated_cost\"],\n",
    "    mode=\"lines+markers\", name=\"月度成本(元)\",\n",
    "    line=dict(color=\"royalblue\", width=2),\n",
    "    hovertemplate=\"月度成本：%{y:,.0f} 元<extra></extra>\"\n",
    "), secondary_y=False)\n",
    "\n",
    "# 月度服务水平\n",
    "fig.add_trace(go.Scatter(\n",
    "    x=service_df[\"date\"], y=service_df[\"actual_rate\"],\n",
    "    mode=\"lines+markers\", name=\"月服务水平\",\n",
    "    line=dict(color=\"firebrick\", width=2),\n",
    "    hovertemplate=\"月服务水平：%{y:.1%}<extra></extra>\"\n",
    "), secondary_y=True)\n",
    "\n",
    "# 每日成本\n",
    "fig.add_trace(go.Scatter(\n",
    "    x=daily_cost_df[\"date\"], y=daily_cost_df[\"daily_cost\"],\n",
    "    mode=\"lines+markers\", name=\"每日成本\",\n",
    "    line=dict(color=\"royalblue\", width=1, dash=\"dash\"),\n",
    "    marker=dict(size=4),\n",
    "    hovertemplate=\"每日成本：%{y:,.0f} 元<extra></extra>\",\n",
    "    visible=\"legendonly\"\n",
    "), secondary_y=False)\n",
    "\n",
    "# 每日服务水平\n",
    "fig.add_trace(go.Scatter(\n",
    "    x=daily_service_df[\"date\"], y=daily_service_df[\"daily_rate\"],\n",
    "    mode=\"lines+markers\", name=\"每日服务水平\",\n",
    "    line=dict(color=\"firebrick\", width=1, dash=\"dash\"),\n",
    "    marker=dict(size=4),\n",
    "    hovertemplate=\"每日达成率：%{y:.1%}<extra></extra>\",\n",
    "    visible=\"legendonly\"\n",
    "), secondary_y=True)\n",
    "\n",
    "#菜单\n",
    "fig.update_layout(\n",
    "    updatemenus=[dict(\n",
    "        type=\"dropdown\", x=1.15, y=1.1,\n",
    "        buttons=[\n",
    "            dict(label=\"all\",\n",
    "                 method=\"update\",\n",
    "                 args=[{\"visible\": [True, True, True, True]}, {\"title\":\"all\"}]),\n",
    "            dict(label=\"月\",\n",
    "                 method=\"update\",\n",
    "                 args=[{\"visible\": [True, True, False, False]}, {\"title\":\"月\"}]),\n",
    "            dict(label=\"日\",\n",
    "                 method=\"update\",\n",
    "                 args=[{\"visible\": [False, False, True, True]}, {\"title\":\"日\"}]),\n",
    "        ]\n",
    "    )],\n",
    "    xaxis=dict(\n",
    "        title=\"日期\", type=\"date\",\n",
    "        tickformat=\"%m-%d\",\n",
    "        rangeslider=dict(visible=True),\n",
    "        rangeselector=dict(buttons=[\n",
    "            dict(count=7,  label=\"最近7天\",  step=\"day\",   stepmode=\"backward\"),\n",
    "            dict(count=1,  label=\"最近1月\",  step=\"month\", stepmode=\"backward\"),\n",
    "            dict(count=3,  label=\"最近3月\",  step=\"month\", stepmode=\"backward\"),\n",
    "            dict(step=\"all\", label=\"全部\")\n",
    "        ])\n",
    "    ),\n",
    "    yaxis=dict(title=\"成本(元)\", tickformat=\",\"),\n",
    "    yaxis2=dict(title=\"服务水平(%)\", tickformat=\".0%\"),\n",
    "    title=\"成本和服务水平变化\",\n",
    "    legend=dict(orientation=\"h\", yanchor=\"bottom\", y=1.02, xanchor=\"right\", x=1)\n",
    ")\n",
    "\n",
    "fig.show()\n",
    "fig_op2 = fig\n"
   ],
   "id": "5d0dcc67e8362868",
   "outputs": [
    {
     "data": {
      "application/vnd.plotly.v1+json": {
       "data": [
        {
         "hovertemplate": "月度成本：%{y:,.0f} 元<extra></extra>",
         "line": {
          "color": "royalblue",
          "width": 2
         },
         "mode": "lines+markers",
         "name": "月度成本(元)",
         "x": [
          "2025-01-01T00:00:00.000000000",
          "2025-02-01T00:00:00.000000000",
          "2025-03-01T00:00:00.000000000",
          "2025-04-01T00:00:00.000000000",
          "2025-05-01T00:00:00.000000000",
          "2025-06-01T00:00:00.000000000",
          "2025-07-01T00:00:00.000000000",
          "2025-08-01T00:00:00.000000000",
          "2025-09-01T00:00:00.000000000",
          "2025-10-01T00:00:00.000000000",
          "2025-11-01T00:00:00.000000000",
          "2025-12-01T00:00:00.000000000"
         ],
         "y": {
          "dtype": "f8",
          "bdata": "wkQag4DQIUE7IliiZavcQELtVtg2/7JAdTtAZu8oGUH5CcYv46tEQXYYFLcBHF1BlTNFNljTXEEp5KgBjO5fQcuvKwT4QGpBYuxffVl4aUFydAV+WEpyQeCZu9pkcnRB"
         },
         "type": "scatter",
         "xaxis": "x",
         "yaxis": "y"
        },
        {
         "hovertemplate": "月服务水平：%{y:.1%}<extra></extra>",
         "line": {
          "color": "firebrick",
          "width": 2
         },
         "mode": "lines+markers",
         "name": "月服务水平",
         "x": [
          "2025-01-01T00:00:00.000000000",
          "2025-04-01T00:00:00.000000000",
          "2025-05-01T00:00:00.000000000",
          "2025-06-01T00:00:00.000000000",
          "2025-07-01T00:00:00.000000000",
          "2025-08-01T00:00:00.000000000",
          "2025-09-01T00:00:00.000000000",
          "2025-10-01T00:00:00.000000000",
          "2025-11-01T00:00:00.000000000",
          "2025-12-01T00:00:00.000000000"
         ],
         "y": {
          "dtype": "f8",
          "bdata": "AAAAAAAA8D8AAAAAAADwP2X8dqkn4+8/UcL6FiWs7z8bb3nvD8zvP5c6pFur2u8/sy2krIjh7z/X1VGztNnvP5hRENBc3+8/4gqAiqHc7z8="
         },
         "type": "scatter",
         "xaxis": "x",
         "yaxis": "y2"
        },
        {
         "hovertemplate": "每日成本：%{y:,.0f} 元<extra></extra>",
         "line": {
          "color": "royalblue",
          "dash": "dash",
          "width": 1
         },
         "marker": {
          "size": 4
         },
         "mode": "lines+markers",
         "name": "每日成本",
         "visible": "legendonly",
         "x": [
          "2025-01-01T00:00:00.000000000",
          "2025-01-02T00:00:00.000000000",
          "2025-01-03T00:00:00.000000000",
          "2025-01-04T00:00:00.000000000",
          "2025-01-05T00:00:00.000000000",
          "2025-01-06T00:00:00.000000000",
          "2025-01-07T00:00:00.000000000",
          "2025-01-08T00:00:00.000000000",
          "2025-01-09T00:00:00.000000000",
          "2025-01-10T00:00:00.000000000",
          "2025-01-11T00:00:00.000000000",
          "2025-01-12T00:00:00.000000000",
          "2025-01-13T00:00:00.000000000",
          "2025-01-14T00:00:00.000000000",
          "2025-01-15T00:00:00.000000000",
          "2025-01-16T00:00:00.000000000",
          "2025-01-17T00:00:00.000000000",
          "2025-01-18T00:00:00.000000000",
          "2025-01-19T00:00:00.000000000",
          "2025-01-20T00:00:00.000000000",
          "2025-01-21T00:00:00.000000000",
          "2025-01-22T00:00:00.000000000",
          "2025-01-23T00:00:00.000000000",
          "2025-01-24T00:00:00.000000000",
          "2025-01-25T00:00:00.000000000",
          "2025-01-26T00:00:00.000000000",
          "2025-01-27T00:00:00.000000000",
          "2025-01-28T00:00:00.000000000",
          "2025-01-29T00:00:00.000000000",
          "2025-01-30T00:00:00.000000000",
          "2025-01-31T00:00:00.000000000",
          "2025-02-01T00:00:00.000000000",
          "2025-02-02T00:00:00.000000000",
          "2025-02-03T00:00:00.000000000",
          "2025-02-04T00:00:00.000000000",
          "2025-02-05T00:00:00.000000000",
          "2025-02-06T00:00:00.000000000",
          "2025-02-07T00:00:00.000000000",
          "2025-02-08T00:00:00.000000000",
          "2025-02-09T00:00:00.000000000",
          "2025-02-10T00:00:00.000000000",
          "2025-02-11T00:00:00.000000000",
          "2025-02-12T00:00:00.000000000",
          "2025-02-13T00:00:00.000000000",
          "2025-02-14T00:00:00.000000000",
          "2025-02-15T00:00:00.000000000",
          "2025-02-16T00:00:00.000000000",
          "2025-02-17T00:00:00.000000000",
          "2025-02-18T00:00:00.000000000",
          "2025-02-19T00:00:00.000000000",
          "2025-02-20T00:00:00.000000000",
          "2025-02-21T00:00:00.000000000",
          "2025-02-22T00:00:00.000000000",
          "2025-02-23T00:00:00.000000000",
          "2025-02-24T00:00:00.000000000",
          "2025-02-25T00:00:00.000000000",
          "2025-02-26T00:00:00.000000000",
          "2025-02-27T00:00:00.000000000",
          "2025-02-28T00:00:00.000000000",
          "2025-03-01T00:00:00.000000000",
          "2025-03-02T00:00:00.000000000",
          "2025-03-03T00:00:00.000000000",
          "2025-03-04T00:00:00.000000000",
          "2025-03-05T00:00:00.000000000",
          "2025-03-06T00:00:00.000000000",
          "2025-03-07T00:00:00.000000000",
          "2025-03-08T00:00:00.000000000",
          "2025-03-09T00:00:00.000000000",
          "2025-03-10T00:00:00.000000000",
          "2025-03-11T00:00:00.000000000",
          "2025-03-12T00:00:00.000000000",
          "2025-03-13T00:00:00.000000000",
          "2025-03-14T00:00:00.000000000",
          "2025-03-15T00:00:00.000000000",
          "2025-03-16T00:00:00.000000000",
          "2025-03-17T00:00:00.000000000",
          "2025-03-18T00:00:00.000000000",
          "2025-03-19T00:00:00.000000000",
          "2025-03-20T00:00:00.000000000",
          "2025-03-21T00:00:00.000000000",
          "2025-03-22T00:00:00.000000000",
          "2025-03-23T00:00:00.000000000",
          "2025-03-24T00:00:00.000000000",
          "2025-03-25T00:00:00.000000000",
          "2025-03-26T00:00:00.000000000",
          "2025-03-27T00:00:00.000000000",
          "2025-03-28T00:00:00.000000000",
          "2025-03-29T00:00:00.000000000",
          "2025-03-30T00:00:00.000000000",
          "2025-03-31T00:00:00.000000000",
          "2025-04-01T00:00:00.000000000",
          "2025-04-02T00:00:00.000000000",
          "2025-04-03T00:00:00.000000000",
          "2025-04-04T00:00:00.000000000",
          "2025-04-05T00:00:00.000000000",
          "2025-04-06T00:00:00.000000000",
          "2025-04-07T00:00:00.000000000",
          "2025-04-08T00:00:00.000000000",
          "2025-04-09T00:00:00.000000000",
          "2025-04-10T00:00:00.000000000",
          "2025-04-11T00:00:00.000000000",
          "2025-04-12T00:00:00.000000000",
          "2025-04-13T00:00:00.000000000",
          "2025-04-14T00:00:00.000000000",
          "2025-04-15T00:00:00.000000000",
          "2025-04-16T00:00:00.000000000",
          "2025-04-17T00:00:00.000000000",
          "2025-04-18T00:00:00.000000000",
          "2025-04-19T00:00:00.000000000",
          "2025-04-20T00:00:00.000000000",
          "2025-04-21T00:00:00.000000000",
          "2025-04-22T00:00:00.000000000",
          "2025-04-23T00:00:00.000000000",
          "2025-04-24T00:00:00.000000000",
          "2025-04-25T00:00:00.000000000",
          "2025-04-26T00:00:00.000000000",
          "2025-04-27T00:00:00.000000000",
          "2025-04-28T00:00:00.000000000",
          "2025-04-29T00:00:00.000000000",
          "2025-04-30T00:00:00.000000000",
          "2025-05-01T00:00:00.000000000",
          "2025-05-02T00:00:00.000000000",
          "2025-05-03T00:00:00.000000000",
          "2025-05-04T00:00:00.000000000",
          "2025-05-05T00:00:00.000000000",
          "2025-05-06T00:00:00.000000000",
          "2025-05-07T00:00:00.000000000",
          "2025-05-08T00:00:00.000000000",
          "2025-05-09T00:00:00.000000000",
          "2025-05-10T00:00:00.000000000",
          "2025-05-11T00:00:00.000000000",
          "2025-05-12T00:00:00.000000000",
          "2025-05-13T00:00:00.000000000",
          "2025-05-14T00:00:00.000000000",
          "2025-05-15T00:00:00.000000000",
          "2025-05-16T00:00:00.000000000",
          "2025-05-17T00:00:00.000000000",
          "2025-05-18T00:00:00.000000000",
          "2025-05-19T00:00:00.000000000",
          "2025-05-20T00:00:00.000000000",
          "2025-05-21T00:00:00.000000000",
          "2025-05-22T00:00:00.000000000",
          "2025-05-23T00:00:00.000000000",
          "2025-05-24T00:00:00.000000000",
          "2025-05-25T00:00:00.000000000",
          "2025-05-26T00:00:00.000000000",
          "2025-05-27T00:00:00.000000000",
          "2025-05-28T00:00:00.000000000",
          "2025-05-29T00:00:00.000000000",
          "2025-05-30T00:00:00.000000000",
          "2025-05-31T00:00:00.000000000",
          "2025-06-01T00:00:00.000000000",
          "2025-06-02T00:00:00.000000000",
          "2025-06-03T00:00:00.000000000",
          "2025-06-04T00:00:00.000000000",
          "2025-06-05T00:00:00.000000000",
          "2025-06-06T00:00:00.000000000",
          "2025-06-07T00:00:00.000000000",
          "2025-06-08T00:00:00.000000000",
          "2025-06-09T00:00:00.000000000",
          "2025-06-10T00:00:00.000000000",
          "2025-06-11T00:00:00.000000000",
          "2025-06-12T00:00:00.000000000",
          "2025-06-13T00:00:00.000000000",
          "2025-06-14T00:00:00.000000000",
          "2025-06-15T00:00:00.000000000",
          "2025-06-16T00:00:00.000000000",
          "2025-06-17T00:00:00.000000000",
          "2025-06-18T00:00:00.000000000",
          "2025-06-19T00:00:00.000000000",
          "2025-06-20T00:00:00.000000000",
          "2025-06-21T00:00:00.000000000",
          "2025-06-22T00:00:00.000000000",
          "2025-06-23T00:00:00.000000000",
          "2025-06-24T00:00:00.000000000",
          "2025-06-25T00:00:00.000000000",
          "2025-06-26T00:00:00.000000000",
          "2025-06-27T00:00:00.000000000",
          "2025-06-28T00:00:00.000000000",
          "2025-06-29T00:00:00.000000000",
          "2025-06-30T00:00:00.000000000",
          "2025-07-01T00:00:00.000000000",
          "2025-07-02T00:00:00.000000000",
          "2025-07-03T00:00:00.000000000",
          "2025-07-04T00:00:00.000000000",
          "2025-07-05T00:00:00.000000000",
          "2025-07-06T00:00:00.000000000",
          "2025-07-07T00:00:00.000000000",
          "2025-07-08T00:00:00.000000000",
          "2025-07-09T00:00:00.000000000",
          "2025-07-10T00:00:00.000000000",
          "2025-07-11T00:00:00.000000000",
          "2025-07-12T00:00:00.000000000",
          "2025-07-13T00:00:00.000000000",
          "2025-07-14T00:00:00.000000000",
          "2025-07-15T00:00:00.000000000",
          "2025-07-16T00:00:00.000000000",
          "2025-07-17T00:00:00.000000000",
          "2025-07-18T00:00:00.000000000",
          "2025-07-19T00:00:00.000000000",
          "2025-07-20T00:00:00.000000000",
          "2025-07-21T00:00:00.000000000",
          "2025-07-22T00:00:00.000000000",
          "2025-07-23T00:00:00.000000000",
          "2025-07-24T00:00:00.000000000",
          "2025-07-25T00:00:00.000000000",
          "2025-07-26T00:00:00.000000000",
          "2025-07-27T00:00:00.000000000",
          "2025-07-28T00:00:00.000000000",
          "2025-07-29T00:00:00.000000000",
          "2025-07-30T00:00:00.000000000",
          "2025-07-31T00:00:00.000000000",
          "2025-08-01T00:00:00.000000000",
          "2025-08-02T00:00:00.000000000",
          "2025-08-03T00:00:00.000000000",
          "2025-08-04T00:00:00.000000000",
          "2025-08-05T00:00:00.000000000",
          "2025-08-06T00:00:00.000000000",
          "2025-08-07T00:00:00.000000000",
          "2025-08-08T00:00:00.000000000",
          "2025-08-09T00:00:00.000000000",
          "2025-08-10T00:00:00.000000000",
          "2025-08-11T00:00:00.000000000",
          "2025-08-12T00:00:00.000000000",
          "2025-08-13T00:00:00.000000000",
          "2025-08-14T00:00:00.000000000",
          "2025-08-15T00:00:00.000000000",
          "2025-08-16T00:00:00.000000000",
          "2025-08-17T00:00:00.000000000",
          "2025-08-18T00:00:00.000000000",
          "2025-08-19T00:00:00.000000000",
          "2025-08-20T00:00:00.000000000",
          "2025-08-21T00:00:00.000000000",
          "2025-08-22T00:00:00.000000000",
          "2025-08-23T00:00:00.000000000",
          "2025-08-24T00:00:00.000000000",
          "2025-08-25T00:00:00.000000000",
          "2025-08-26T00:00:00.000000000",
          "2025-08-27T00:00:00.000000000",
          "2025-08-28T00:00:00.000000000",
          "2025-08-29T00:00:00.000000000",
          "2025-08-30T00:00:00.000000000",
          "2025-08-31T00:00:00.000000000",
          "2025-09-01T00:00:00.000000000",
          "2025-09-02T00:00:00.000000000",
          "2025-09-03T00:00:00.000000000",
          "2025-09-04T00:00:00.000000000",
          "2025-09-05T00:00:00.000000000",
          "2025-09-06T00:00:00.000000000",
          "2025-09-07T00:00:00.000000000",
          "2025-09-08T00:00:00.000000000",
          "2025-09-09T00:00:00.000000000",
          "2025-09-10T00:00:00.000000000",
          "2025-09-11T00:00:00.000000000",
          "2025-09-12T00:00:00.000000000",
          "2025-09-13T00:00:00.000000000",
          "2025-09-14T00:00:00.000000000",
          "2025-09-15T00:00:00.000000000",
          "2025-09-16T00:00:00.000000000",
          "2025-09-17T00:00:00.000000000",
          "2025-09-18T00:00:00.000000000",
          "2025-09-19T00:00:00.000000000",
          "2025-09-20T00:00:00.000000000",
          "2025-09-21T00:00:00.000000000",
          "2025-09-22T00:00:00.000000000",
          "2025-09-23T00:00:00.000000000",
          "2025-09-24T00:00:00.000000000",
          "2025-09-25T00:00:00.000000000",
          "2025-09-26T00:00:00.000000000",
          "2025-09-27T00:00:00.000000000",
          "2025-09-28T00:00:00.000000000",
          "2025-09-29T00:00:00.000000000",
          "2025-09-30T00:00:00.000000000",
          "2025-10-01T00:00:00.000000000",
          "2025-10-02T00:00:00.000000000",
          "2025-10-03T00:00:00.000000000",
          "2025-10-04T00:00:00.000000000",
          "2025-10-05T00:00:00.000000000",
          "2025-10-06T00:00:00.000000000",
          "2025-10-07T00:00:00.000000000",
          "2025-10-08T00:00:00.000000000",
          "2025-10-09T00:00:00.000000000",
          "2025-10-10T00:00:00.000000000",
          "2025-10-11T00:00:00.000000000",
          "2025-10-12T00:00:00.000000000",
          "2025-10-13T00:00:00.000000000",
          "2025-10-14T00:00:00.000000000",
          "2025-10-15T00:00:00.000000000",
          "2025-10-16T00:00:00.000000000",
          "2025-10-17T00:00:00.000000000",
          "2025-10-18T00:00:00.000000000",
          "2025-10-19T00:00:00.000000000",
          "2025-10-20T00:00:00.000000000",
          "2025-10-21T00:00:00.000000000",
          "2025-10-22T00:00:00.000000000",
          "2025-10-23T00:00:00.000000000",
          "2025-10-24T00:00:00.000000000",
          "2025-10-25T00:00:00.000000000",
          "2025-10-26T00:00:00.000000000",
          "2025-10-27T00:00:00.000000000",
          "2025-10-28T00:00:00.000000000",
          "2025-10-29T00:00:00.000000000",
          "2025-10-30T00:00:00.000000000",
          "2025-10-31T00:00:00.000000000",
          "2025-11-01T00:00:00.000000000",
          "2025-11-02T00:00:00.000000000",
          "2025-11-03T00:00:00.000000000",
          "2025-11-04T00:00:00.000000000",
          "2025-11-05T00:00:00.000000000",
          "2025-11-06T00:00:00.000000000",
          "2025-11-07T00:00:00.000000000",
          "2025-11-08T00:00:00.000000000",
          "2025-11-09T00:00:00.000000000",
          "2025-11-10T00:00:00.000000000",
          "2025-11-11T00:00:00.000000000",
          "2025-11-12T00:00:00.000000000",
          "2025-11-13T00:00:00.000000000",
          "2025-11-14T00:00:00.000000000",
          "2025-11-15T00:00:00.000000000",
          "2025-11-16T00:00:00.000000000",
          "2025-11-17T00:00:00.000000000",
          "2025-11-18T00:00:00.000000000",
          "2025-11-19T00:00:00.000000000",
          "2025-11-20T00:00:00.000000000",
          "2025-11-21T00:00:00.000000000",
          "2025-11-22T00:00:00.000000000",
          "2025-11-23T00:00:00.000000000",
          "2025-11-24T00:00:00.000000000",
          "2025-11-25T00:00:00.000000000",
          "2025-11-26T00:00:00.000000000",
          "2025-11-27T00:00:00.000000000",
          "2025-11-28T00:00:00.000000000",
          "2025-11-29T00:00:00.000000000",
          "2025-11-30T00:00:00.000000000",
          "2025-12-01T00:00:00.000000000",
          "2025-12-02T00:00:00.000000000",
          "2025-12-03T00:00:00.000000000",
          "2025-12-04T00:00:00.000000000",
          "2025-12-05T00:00:00.000000000",
          "2025-12-06T00:00:00.000000000",
          "2025-12-07T00:00:00.000000000",
          "2025-12-08T00:00:00.000000000",
          "2025-12-09T00:00:00.000000000",
          "2025-12-10T00:00:00.000000000",
          "2025-12-11T00:00:00.000000000",
          "2025-12-12T00:00:00.000000000",
          "2025-12-13T00:00:00.000000000",
          "2025-12-14T00:00:00.000000000",
          "2025-12-15T00:00:00.000000000",
          "2025-12-16T00:00:00.000000000",
          "2025-12-17T00:00:00.000000000",
          "2025-12-18T00:00:00.000000000",
          "2025-12-19T00:00:00.000000000",
          "2025-12-20T00:00:00.000000000",
          "2025-12-21T00:00:00.000000000",
          "2025-12-22T00:00:00.000000000",
          "2025-12-23T00:00:00.000000000",
          "2025-12-24T00:00:00.000000000",
          "2025-12-25T00:00:00.000000000",
          "2025-12-26T00:00:00.000000000",
          "2025-12-27T00:00:00.000000000",
          "2025-12-28T00:00:00.000000000",
          "2025-12-29T00:00:00.000000000",
          "2025-12-30T00:00:00.000000000",
          "2025-12-31T00:00:00.000000000"
         ],
         "y": {
          "dtype": "f8",
          "bdata": "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"
         },
         "type": "scatter",
         "xaxis": "x",
         "yaxis": "y"
        },
        {
         "hovertemplate": "每日达成率：%{y:.1%}<extra></extra>",
         "line": {
          "color": "firebrick",
          "dash": "dash",
          "width": 1
         },
         "marker": {
          "size": 4
         },
         "mode": "lines+markers",
         "name": "每日服务水平",
         "visible": "legendonly",
         "x": [
          "2025-01-01T00:00:00.000000000",
          "2025-01-02T00:00:00.000000000",
          "2025-01-03T00:00:00.000000000",
          "2025-01-04T00:00:00.000000000",
          "2025-01-05T00:00:00.000000000",
          "2025-01-06T00:00:00.000000000",
          "2025-01-07T00:00:00.000000000",
          "2025-01-08T00:00:00.000000000",
          "2025-01-09T00:00:00.000000000",
          "2025-01-10T00:00:00.000000000",
          "2025-01-11T00:00:00.000000000",
          "2025-01-12T00:00:00.000000000",
          "2025-01-13T00:00:00.000000000",
          "2025-01-14T00:00:00.000000000",
          "2025-01-15T00:00:00.000000000",
          "2025-01-16T00:00:00.000000000",
          "2025-01-17T00:00:00.000000000",
          "2025-01-18T00:00:00.000000000",
          "2025-01-19T00:00:00.000000000",
          "2025-01-20T00:00:00.000000000",
          "2025-01-21T00:00:00.000000000",
          "2025-01-22T00:00:00.000000000",
          "2025-01-23T00:00:00.000000000",
          "2025-01-24T00:00:00.000000000",
          "2025-01-25T00:00:00.000000000",
          "2025-01-26T00:00:00.000000000",
          "2025-01-27T00:00:00.000000000",
          "2025-01-28T00:00:00.000000000",
          "2025-01-29T00:00:00.000000000",
          "2025-01-30T00:00:00.000000000",
          "2025-01-31T00:00:00.000000000",
          "2025-02-01T00:00:00.000000000",
          "2025-02-02T00:00:00.000000000",
          "2025-02-03T00:00:00.000000000",
          "2025-02-04T00:00:00.000000000",
          "2025-02-05T00:00:00.000000000",
          "2025-02-06T00:00:00.000000000",
          "2025-02-07T00:00:00.000000000",
          "2025-02-08T00:00:00.000000000",
          "2025-02-09T00:00:00.000000000",
          "2025-02-10T00:00:00.000000000",
          "2025-02-11T00:00:00.000000000",
          "2025-02-12T00:00:00.000000000",
          "2025-02-13T00:00:00.000000000",
          "2025-02-14T00:00:00.000000000",
          "2025-02-15T00:00:00.000000000",
          "2025-02-16T00:00:00.000000000",
          "2025-02-17T00:00:00.000000000",
          "2025-02-18T00:00:00.000000000",
          "2025-02-19T00:00:00.000000000",
          "2025-02-20T00:00:00.000000000",
          "2025-02-21T00:00:00.000000000",
          "2025-02-22T00:00:00.000000000",
          "2025-02-23T00:00:00.000000000",
          "2025-02-24T00:00:00.000000000",
          "2025-02-25T00:00:00.000000000",
          "2025-02-26T00:00:00.000000000",
          "2025-02-27T00:00:00.000000000",
          "2025-02-28T00:00:00.000000000",
          "2025-03-01T00:00:00.000000000",
          "2025-03-02T00:00:00.000000000",
          "2025-03-03T00:00:00.000000000",
          "2025-03-04T00:00:00.000000000",
          "2025-03-05T00:00:00.000000000",
          "2025-03-06T00:00:00.000000000",
          "2025-03-07T00:00:00.000000000",
          "2025-03-08T00:00:00.000000000",
          "2025-03-09T00:00:00.000000000",
          "2025-03-10T00:00:00.000000000",
          "2025-03-11T00:00:00.000000000",
          "2025-03-12T00:00:00.000000000",
          "2025-03-13T00:00:00.000000000",
          "2025-03-14T00:00:00.000000000",
          "2025-03-15T00:00:00.000000000",
          "2025-03-16T00:00:00.000000000",
          "2025-03-17T00:00:00.000000000",
          "2025-03-18T00:00:00.000000000",
          "2025-03-19T00:00:00.000000000",
          "2025-03-20T00:00:00.000000000",
          "2025-03-21T00:00:00.000000000",
          "2025-03-22T00:00:00.000000000",
          "2025-03-23T00:00:00.000000000",
          "2025-03-24T00:00:00.000000000",
          "2025-03-25T00:00:00.000000000",
          "2025-03-26T00:00:00.000000000",
          "2025-03-27T00:00:00.000000000",
          "2025-03-28T00:00:00.000000000",
          "2025-03-29T00:00:00.000000000",
          "2025-03-30T00:00:00.000000000",
          "2025-03-31T00:00:00.000000000",
          "2025-04-01T00:00:00.000000000",
          "2025-04-02T00:00:00.000000000",
          "2025-04-03T00:00:00.000000000",
          "2025-04-04T00:00:00.000000000",
          "2025-04-05T00:00:00.000000000",
          "2025-04-06T00:00:00.000000000",
          "2025-04-07T00:00:00.000000000",
          "2025-04-08T00:00:00.000000000",
          "2025-04-09T00:00:00.000000000",
          "2025-04-10T00:00:00.000000000",
          "2025-04-11T00:00:00.000000000",
          "2025-04-12T00:00:00.000000000",
          "2025-04-13T00:00:00.000000000",
          "2025-04-14T00:00:00.000000000",
          "2025-04-15T00:00:00.000000000",
          "2025-04-16T00:00:00.000000000",
          "2025-04-17T00:00:00.000000000",
          "2025-04-18T00:00:00.000000000",
          "2025-04-19T00:00:00.000000000",
          "2025-04-20T00:00:00.000000000",
          "2025-04-21T00:00:00.000000000",
          "2025-04-22T00:00:00.000000000",
          "2025-04-23T00:00:00.000000000",
          "2025-04-24T00:00:00.000000000",
          "2025-04-25T00:00:00.000000000",
          "2025-04-26T00:00:00.000000000",
          "2025-04-27T00:00:00.000000000",
          "2025-04-28T00:00:00.000000000",
          "2025-04-29T00:00:00.000000000",
          "2025-04-30T00:00:00.000000000",
          "2025-05-01T00:00:00.000000000",
          "2025-05-02T00:00:00.000000000",
          "2025-05-03T00:00:00.000000000",
          "2025-05-04T00:00:00.000000000",
          "2025-05-05T00:00:00.000000000",
          "2025-05-06T00:00:00.000000000",
          "2025-05-07T00:00:00.000000000",
          "2025-05-08T00:00:00.000000000",
          "2025-05-09T00:00:00.000000000",
          "2025-05-10T00:00:00.000000000",
          "2025-05-11T00:00:00.000000000",
          "2025-05-12T00:00:00.000000000",
          "2025-05-13T00:00:00.000000000",
          "2025-05-14T00:00:00.000000000",
          "2025-05-15T00:00:00.000000000",
          "2025-05-16T00:00:00.000000000",
          "2025-05-17T00:00:00.000000000",
          "2025-05-18T00:00:00.000000000",
          "2025-05-19T00:00:00.000000000",
          "2025-05-20T00:00:00.000000000",
          "2025-05-21T00:00:00.000000000",
          "2025-05-22T00:00:00.000000000",
          "2025-05-23T00:00:00.000000000",
          "2025-05-24T00:00:00.000000000",
          "2025-05-25T00:00:00.000000000",
          "2025-05-26T00:00:00.000000000",
          "2025-05-27T00:00:00.000000000",
          "2025-05-28T00:00:00.000000000",
          "2025-05-29T00:00:00.000000000",
          "2025-05-30T00:00:00.000000000",
          "2025-05-31T00:00:00.000000000",
          "2025-06-01T00:00:00.000000000",
          "2025-06-02T00:00:00.000000000",
          "2025-06-03T00:00:00.000000000",
          "2025-06-04T00:00:00.000000000",
          "2025-06-05T00:00:00.000000000",
          "2025-06-06T00:00:00.000000000",
          "2025-06-07T00:00:00.000000000",
          "2025-06-08T00:00:00.000000000",
          "2025-06-09T00:00:00.000000000",
          "2025-06-10T00:00:00.000000000",
          "2025-06-11T00:00:00.000000000",
          "2025-06-12T00:00:00.000000000",
          "2025-06-13T00:00:00.000000000",
          "2025-06-14T00:00:00.000000000",
          "2025-06-15T00:00:00.000000000",
          "2025-06-16T00:00:00.000000000",
          "2025-06-17T00:00:00.000000000",
          "2025-06-18T00:00:00.000000000",
          "2025-06-19T00:00:00.000000000",
          "2025-06-20T00:00:00.000000000",
          "2025-06-21T00:00:00.000000000",
          "2025-06-22T00:00:00.000000000",
          "2025-06-23T00:00:00.000000000",
          "2025-06-24T00:00:00.000000000",
          "2025-06-25T00:00:00.000000000",
          "2025-06-26T00:00:00.000000000",
          "2025-06-27T00:00:00.000000000",
          "2025-06-28T00:00:00.000000000",
          "2025-06-29T00:00:00.000000000",
          "2025-06-30T00:00:00.000000000",
          "2025-07-01T00:00:00.000000000",
          "2025-07-02T00:00:00.000000000",
          "2025-07-03T00:00:00.000000000",
          "2025-07-04T00:00:00.000000000",
          "2025-07-05T00:00:00.000000000",
          "2025-07-06T00:00:00.000000000",
          "2025-07-07T00:00:00.000000000",
          "2025-07-08T00:00:00.000000000",
          "2025-07-09T00:00:00.000000000",
          "2025-07-10T00:00:00.000000000",
          "2025-07-11T00:00:00.000000000",
          "2025-07-12T00:00:00.000000000",
          "2025-07-13T00:00:00.000000000",
          "2025-07-14T00:00:00.000000000",
          "2025-07-15T00:00:00.000000000",
          "2025-07-16T00:00:00.000000000",
          "2025-07-17T00:00:00.000000000",
          "2025-07-18T00:00:00.000000000",
          "2025-07-19T00:00:00.000000000",
          "2025-07-20T00:00:00.000000000",
          "2025-07-21T00:00:00.000000000",
          "2025-07-22T00:00:00.000000000",
          "2025-07-23T00:00:00.000000000",
          "2025-07-24T00:00:00.000000000",
          "2025-07-25T00:00:00.000000000",
          "2025-07-26T00:00:00.000000000",
          "2025-07-27T00:00:00.000000000",
          "2025-07-28T00:00:00.000000000",
          "2025-07-29T00:00:00.000000000",
          "2025-07-30T00:00:00.000000000",
          "2025-07-31T00:00:00.000000000",
          "2025-08-01T00:00:00.000000000",
          "2025-08-02T00:00:00.000000000",
          "2025-08-03T00:00:00.000000000",
          "2025-08-04T00:00:00.000000000",
          "2025-08-05T00:00:00.000000000",
          "2025-08-06T00:00:00.000000000",
          "2025-08-07T00:00:00.000000000",
          "2025-08-08T00:00:00.000000000",
          "2025-08-09T00:00:00.000000000",
          "2025-08-10T00:00:00.000000000",
          "2025-08-11T00:00:00.000000000",
          "2025-08-12T00:00:00.000000000",
          "2025-08-13T00:00:00.000000000",
          "2025-08-14T00:00:00.000000000",
          "2025-08-15T00:00:00.000000000",
          "2025-08-16T00:00:00.000000000",
          "2025-08-17T00:00:00.000000000",
          "2025-08-18T00:00:00.000000000",
          "2025-08-19T00:00:00.000000000",
          "2025-08-20T00:00:00.000000000",
          "2025-08-21T00:00:00.000000000",
          "2025-08-22T00:00:00.000000000",
          "2025-08-23T00:00:00.000000000",
          "2025-08-24T00:00:00.000000000",
          "2025-08-25T00:00:00.000000000",
          "2025-08-26T00:00:00.000000000",
          "2025-08-27T00:00:00.000000000",
          "2025-08-28T00:00:00.000000000",
          "2025-08-29T00:00:00.000000000",
          "2025-08-30T00:00:00.000000000",
          "2025-08-31T00:00:00.000000000",
          "2025-09-01T00:00:00.000000000",
          "2025-09-02T00:00:00.000000000",
          "2025-09-03T00:00:00.000000000",
          "2025-09-04T00:00:00.000000000",
          "2025-09-05T00:00:00.000000000",
          "2025-09-06T00:00:00.000000000",
          "2025-09-07T00:00:00.000000000",
          "2025-09-08T00:00:00.000000000",
          "2025-09-09T00:00:00.000000000",
          "2025-09-10T00:00:00.000000000",
          "2025-09-11T00:00:00.000000000",
          "2025-09-12T00:00:00.000000000",
          "2025-09-13T00:00:00.000000000",
          "2025-09-14T00:00:00.000000000",
          "2025-09-15T00:00:00.000000000",
          "2025-09-16T00:00:00.000000000",
          "2025-09-17T00:00:00.000000000",
          "2025-09-18T00:00:00.000000000",
          "2025-09-19T00:00:00.000000000",
          "2025-09-20T00:00:00.000000000",
          "2025-09-21T00:00:00.000000000",
          "2025-09-22T00:00:00.000000000",
          "2025-09-23T00:00:00.000000000",
          "2025-09-24T00:00:00.000000000",
          "2025-09-25T00:00:00.000000000",
          "2025-09-26T00:00:00.000000000",
          "2025-09-27T00:00:00.000000000",
          "2025-09-28T00:00:00.000000000",
          "2025-09-29T00:00:00.000000000",
          "2025-09-30T00:00:00.000000000",
          "2025-10-01T00:00:00.000000000",
          "2025-10-02T00:00:00.000000000",
          "2025-10-03T00:00:00.000000000",
          "2025-10-04T00:00:00.000000000",
          "2025-10-05T00:00:00.000000000",
          "2025-10-06T00:00:00.000000000",
          "2025-10-07T00:00:00.000000000",
          "2025-10-08T00:00:00.000000000",
          "2025-10-09T00:00:00.000000000",
          "2025-10-10T00:00:00.000000000",
          "2025-10-11T00:00:00.000000000",
          "2025-10-12T00:00:00.000000000",
          "2025-10-13T00:00:00.000000000",
          "2025-10-14T00:00:00.000000000",
          "2025-10-15T00:00:00.000000000",
          "2025-10-16T00:00:00.000000000",
          "2025-10-17T00:00:00.000000000",
          "2025-10-18T00:00:00.000000000",
          "2025-10-19T00:00:00.000000000",
          "2025-10-20T00:00:00.000000000",
          "2025-10-21T00:00:00.000000000",
          "2025-10-22T00:00:00.000000000",
          "2025-10-23T00:00:00.000000000",
          "2025-10-24T00:00:00.000000000",
          "2025-10-25T00:00:00.000000000",
          "2025-10-26T00:00:00.000000000",
          "2025-10-27T00:00:00.000000000",
          "2025-10-28T00:00:00.000000000",
          "2025-10-29T00:00:00.000000000",
          "2025-10-30T00:00:00.000000000",
          "2025-10-31T00:00:00.000000000",
          "2025-11-01T00:00:00.000000000",
          "2025-11-02T00:00:00.000000000",
          "2025-11-03T00:00:00.000000000",
          "2025-11-04T00:00:00.000000000",
          "2025-11-05T00:00:00.000000000",
          "2025-11-06T00:00:00.000000000",
          "2025-11-07T00:00:00.000000000",
          "2025-11-08T00:00:00.000000000",
          "2025-11-09T00:00:00.000000000",
          "2025-11-10T00:00:00.000000000",
          "2025-11-11T00:00:00.000000000",
          "2025-11-12T00:00:00.000000000",
          "2025-11-13T00:00:00.000000000",
          "2025-11-14T00:00:00.000000000",
          "2025-11-15T00:00:00.000000000",
          "2025-11-16T00:00:00.000000000",
          "2025-11-17T00:00:00.000000000",
          "2025-11-18T00:00:00.000000000",
          "2025-11-19T00:00:00.000000000",
          "2025-11-20T00:00:00.000000000",
          "2025-11-21T00:00:00.000000000",
          "2025-11-22T00:00:00.000000000",
          "2025-11-23T00:00:00.000000000",
          "2025-11-24T00:00:00.000000000",
          "2025-11-25T00:00:00.000000000",
          "2025-11-26T00:00:00.000000000",
          "2025-11-27T00:00:00.000000000",
          "2025-11-28T00:00:00.000000000",
          "2025-11-29T00:00:00.000000000",
          "2025-11-30T00:00:00.000000000",
          "2025-12-01T00:00:00.000000000",
          "2025-12-02T00:00:00.000000000",
          "2025-12-03T00:00:00.000000000",
          "2025-12-04T00:00:00.000000000",
          "2025-12-05T00:00:00.000000000",
          "2025-12-06T00:00:00.000000000",
          "2025-12-07T00:00:00.000000000",
          "2025-12-08T00:00:00.000000000",
          "2025-12-09T00:00:00.000000000",
          "2025-12-10T00:00:00.000000000",
          "2025-12-11T00:00:00.000000000",
          "2025-12-12T00:00:00.000000000",
          "2025-12-13T00:00:00.000000000",
          "2025-12-14T00:00:00.000000000",
          "2025-12-15T00:00:00.000000000",
          "2025-12-16T00:00:00.000000000",
          "2025-12-17T00:00:00.000000000",
          "2025-12-18T00:00:00.000000000",
          "2025-12-19T00:00:00.000000000",
          "2025-12-20T00:00:00.000000000",
          "2025-12-21T00:00:00.000000000",
          "2025-12-22T00:00:00.000000000",
          "2025-12-23T00:00:00.000000000",
          "2025-12-24T00:00:00.000000000",
          "2025-12-25T00:00:00.000000000",
          "2025-12-26T00:00:00.000000000",
          "2025-12-27T00:00:00.000000000",
          "2025-12-28T00:00:00.000000000",
          "2025-12-29T00:00:00.000000000",
          "2025-12-30T00:00:00.000000000",
          "2025-12-31T00:00:00.000000000"
         ],
         "y": {
          "dtype": "f8",
          "bdata": "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"
         },
         "type": "scatter",
         "xaxis": "x",
         "yaxis": "y2"
        }
       ],
       "layout": {
        "template": {
         "data": {
          "histogram2dcontour": [
           {
            "type": "histogram2dcontour",
            "colorbar": {
             "outlinewidth": 0,
             "ticks": ""
            },
            "colorscale": [
             [
              0.0,
              "#0d0887"
             ],
             [
              0.1111111111111111,
              "#46039f"
             ],
             [
              0.2222222222222222,
              "#7201a8"
             ],
             [
              0.3333333333333333,
              "#9c179e"
             ],
             [
              0.4444444444444444,
              "#bd3786"
             ],
             [
              0.5555555555555556,
              "#d8576b"
             ],
             [
              0.6666666666666666,
              "#ed7953"
             ],
             [
              0.7777777777777778,
              "#fb9f3a"
             ],
             [
              0.8888888888888888,
              "#fdca26"
             ],
             [
              1.0,
              "#f0f921"
             ]
            ]
           }
          ],
          "choropleth": [
           {
            "type": "choropleth",
            "colorbar": {
             "outlinewidth": 0,
             "ticks": ""
            }
           }
          ],
          "histogram2d": [
           {
            "type": "histogram2d",
            "colorbar": {
             "outlinewidth": 0,
             "ticks": ""
            },
            "colorscale": [
             [
              0.0,
              "#0d0887"
             ],
             [
              0.1111111111111111,
              "#46039f"
             ],
             [
              0.2222222222222222,
              "#7201a8"
             ],
             [
              0.3333333333333333,
              "#9c179e"
             ],
             [
              0.4444444444444444,
              "#bd3786"
             ],
             [
              0.5555555555555556,
              "#d8576b"
             ],
             [
              0.6666666666666666,
              "#ed7953"
             ],
             [
              0.7777777777777778,
              "#fb9f3a"
             ],
             [
              0.8888888888888888,
              "#fdca26"
             ],
             [
              1.0,
              "#f0f921"
             ]
            ]
           }
          ],
          "heatmap": [
           {
            "type": "heatmap",
            "colorbar": {
             "outlinewidth": 0,
             "ticks": ""
            },
            "colorscale": [
             [
              0.0,
              "#0d0887"
             ],
             [
              0.1111111111111111,
              "#46039f"
             ],
             [
              0.2222222222222222,
              "#7201a8"
             ],
             [
              0.3333333333333333,
              "#9c179e"
             ],
             [
              0.4444444444444444,
              "#bd3786"
             ],
             [
              0.5555555555555556,
              "#d8576b"
             ],
             [
              0.6666666666666666,
              "#ed7953"
             ],
             [
              0.7777777777777778,
              "#fb9f3a"
             ],
             [
              0.8888888888888888,
              "#fdca26"
             ],
             [
              1.0,
              "#f0f921"
             ]
            ]
           }
          ],
          "contourcarpet": [
           {
            "type": "contourcarpet",
            "colorbar": {
             "outlinewidth": 0,
             "ticks": ""
            }
           }
          ],
          "contour": [
           {
            "type": "contour",
            "colorbar": {
             "outlinewidth": 0,
             "ticks": ""
            },
            "colorscale": [
             [
              0.0,
              "#0d0887"
             ],
             [
              0.1111111111111111,
              "#46039f"
             ],
             [
              0.2222222222222222,
              "#7201a8"
             ],
             [
              0.3333333333333333,
              "#9c179e"
             ],
             [
              0.4444444444444444,
              "#bd3786"
             ],
             [
              0.5555555555555556,
              "#d8576b"
             ],
             [
              0.6666666666666666,
              "#ed7953"
             ],
             [
              0.7777777777777778,
              "#fb9f3a"
             ],
             [
              0.8888888888888888,
              "#fdca26"
             ],
             [
              1.0,
              "#f0f921"
             ]
            ]
           }
          ],
          "surface": [
           {
            "type": "surface",
            "colorbar": {
             "outlinewidth": 0,
             "ticks": ""
            },
            "colorscale": [
             [
              0.0,
              "#0d0887"
             ],
             [
              0.1111111111111111,
              "#46039f"
             ],
             [
              0.2222222222222222,
              "#7201a8"
             ],
             [
              0.3333333333333333,
              "#9c179e"
             ],
             [
              0.4444444444444444,
              "#bd3786"
             ],
             [
              0.5555555555555556,
              "#d8576b"
             ],
             [
              0.6666666666666666,
              "#ed7953"
             ],
             [
              0.7777777777777778,
              "#fb9f3a"
             ],
             [
              0.8888888888888888,
              "#fdca26"
             ],
             [
              1.0,
              "#f0f921"
             ]
            ]
           }
          ],
          "mesh3d": [
           {
            "type": "mesh3d",
            "colorbar": {
             "outlinewidth": 0,
             "ticks": ""
            }
           }
          ],
          "scatter": [
           {
            "fillpattern": {
             "fillmode": "overlay",
             "size": 10,
             "solidity": 0.2
            },
            "type": "scatter"
           }
          ],
          "parcoords": [
           {
            "type": "parcoords",
            "line": {
             "colorbar": {
              "outlinewidth": 0,
              "ticks": ""
             }
            }
           }
          ],
          "scatterpolargl": [
           {
            "type": "scatterpolargl",
            "marker": {
             "colorbar": {
              "outlinewidth": 0,
              "ticks": ""
             }
            }
           }
          ],
          "bar": [
           {
            "error_x": {
             "color": "#2a3f5f"
            },
            "error_y": {
             "color": "#2a3f5f"
            },
            "marker": {
             "line": {
              "color": "#E5ECF6",
              "width": 0.5
             },
             "pattern": {
              "fillmode": "overlay",
              "size": 10,
              "solidity": 0.2
             }
            },
            "type": "bar"
           }
          ],
          "scattergeo": [
           {
            "type": "scattergeo",
            "marker": {
             "colorbar": {
              "outlinewidth": 0,
              "ticks": ""
             }
            }
           }
          ],
          "scatterpolar": [
           {
            "type": "scatterpolar",
            "marker": {
             "colorbar": {
              "outlinewidth": 0,
              "ticks": ""
             }
            }
           }
          ],
          "histogram": [
           {
            "marker": {
             "pattern": {
              "fillmode": "overlay",
              "size": 10,
              "solidity": 0.2
             }
            },
            "type": "histogram"
           }
          ],
          "scattergl": [
           {
            "type": "scattergl",
            "marker": {
             "colorbar": {
              "outlinewidth": 0,
              "ticks": ""
             }
            }
           }
          ],
          "scatter3d": [
           {
            "type": "scatter3d",
            "line": {
             "colorbar": {
              "outlinewidth": 0,
              "ticks": ""
             }
            },
            "marker": {
             "colorbar": {
              "outlinewidth": 0,
              "ticks": ""
             }
            }
           }
          ],
          "scattermap": [
           {
            "type": "scattermap",
            "marker": {
             "colorbar": {
              "outlinewidth": 0,
              "ticks": ""
             }
            }
           }
          ],
          "scattermapbox": [
           {
            "type": "scattermapbox",
            "marker": {
             "colorbar": {
              "outlinewidth": 0,
              "ticks": ""
             }
            }
           }
          ],
          "scatterternary": [
           {
            "type": "scatterternary",
            "marker": {
             "colorbar": {
              "outlinewidth": 0,
              "ticks": ""
             }
            }
           }
          ],
          "scattercarpet": [
           {
            "type": "scattercarpet",
            "marker": {
             "colorbar": {
              "outlinewidth": 0,
              "ticks": ""
             }
            }
           }
          ],
          "carpet": [
           {
            "aaxis": {
             "endlinecolor": "#2a3f5f",
             "gridcolor": "white",
             "linecolor": "white",
             "minorgridcolor": "white",
             "startlinecolor": "#2a3f5f"
            },
            "baxis": {
             "endlinecolor": "#2a3f5f",
             "gridcolor": "white",
             "linecolor": "white",
             "minorgridcolor": "white",
             "startlinecolor": "#2a3f5f"
            },
            "type": "carpet"
           }
          ],
          "table": [
           {
            "cells": {
             "fill": {
              "color": "#EBF0F8"
             },
             "line": {
              "color": "white"
             }
            },
            "header": {
             "fill": {
              "color": "#C8D4E3"
             },
             "line": {
              "color": "white"
             }
            },
            "type": "table"
           }
          ],
          "barpolar": [
           {
            "marker": {
             "line": {
              "color": "#E5ECF6",
              "width": 0.5
             },
             "pattern": {
              "fillmode": "overlay",
              "size": 10,
              "solidity": 0.2
             }
            },
            "type": "barpolar"
           }
          ],
          "pie": [
           {
            "automargin": true,
            "type": "pie"
           }
          ]
         },
         "layout": {
          "autotypenumbers": "strict",
          "colorway": [
           "#636efa",
           "#EF553B",
           "#00cc96",
           "#ab63fa",
           "#FFA15A",
           "#19d3f3",
           "#FF6692",
           "#B6E880",
           "#FF97FF",
           "#FECB52"
          ],
          "font": {
           "color": "#2a3f5f"
          },
          "hovermode": "closest",
          "hoverlabel": {
           "align": "left"
          },
          "paper_bgcolor": "white",
          "plot_bgcolor": "#E5ECF6",
          "polar": {
           "bgcolor": "#E5ECF6",
           "angularaxis": {
            "gridcolor": "white",
            "linecolor": "white",
            "ticks": ""
           },
           "radialaxis": {
            "gridcolor": "white",
            "linecolor": "white",
            "ticks": ""
           }
          },
          "ternary": {
           "bgcolor": "#E5ECF6",
           "aaxis": {
            "gridcolor": "white",
            "linecolor": "white",
            "ticks": ""
           },
           "baxis": {
            "gridcolor": "white",
            "linecolor": "white",
            "ticks": ""
           },
           "caxis": {
            "gridcolor": "white",
            "linecolor": "white",
            "ticks": ""
           }
          },
          "coloraxis": {
           "colorbar": {
            "outlinewidth": 0,
            "ticks": ""
           }
          },
          "colorscale": {
           "sequential": [
            [
             0.0,
             "#0d0887"
            ],
            [
             0.1111111111111111,
             "#46039f"
            ],
            [
             0.2222222222222222,
             "#7201a8"
            ],
            [
             0.3333333333333333,
             "#9c179e"
            ],
            [
             0.4444444444444444,
             "#bd3786"
            ],
            [
             0.5555555555555556,
             "#d8576b"
            ],
            [
             0.6666666666666666,
             "#ed7953"
            ],
            [
             0.7777777777777778,
             "#fb9f3a"
            ],
            [
             0.8888888888888888,
             "#fdca26"
            ],
            [
             1.0,
             "#f0f921"
            ]
           ],
           "sequentialminus": [
            [
             0.0,
             "#0d0887"
            ],
            [
             0.1111111111111111,
             "#46039f"
            ],
            [
             0.2222222222222222,
             "#7201a8"
            ],
            [
             0.3333333333333333,
             "#9c179e"
            ],
            [
             0.4444444444444444,
             "#bd3786"
            ],
            [
             0.5555555555555556,
             "#d8576b"
            ],
            [
             0.6666666666666666,
             "#ed7953"
            ],
            [
             0.7777777777777778,
             "#fb9f3a"
            ],
            [
             0.8888888888888888,
             "#fdca26"
            ],
            [
             1.0,
             "#f0f921"
            ]
           ],
           "diverging": [
            [
             0,
             "#8e0152"
            ],
            [
             0.1,
             "#c51b7d"
            ],
            [
             0.2,
             "#de77ae"
            ],
            [
             0.3,
             "#f1b6da"
            ],
            [
             0.4,
             "#fde0ef"
            ],
            [
             0.5,
             "#f7f7f7"
            ],
            [
             0.6,
             "#e6f5d0"
            ],
            [
             0.7,
             "#b8e186"
            ],
            [
             0.8,
             "#7fbc41"
            ],
            [
             0.9,
             "#4d9221"
            ],
            [
             1,
             "#276419"
            ]
           ]
          },
          "xaxis": {
           "gridcolor": "white",
           "linecolor": "white",
           "ticks": "",
           "title": {
            "standoff": 15
           },
           "zerolinecolor": "white",
           "automargin": true,
           "zerolinewidth": 2
          },
          "yaxis": {
           "gridcolor": "white",
           "linecolor": "white",
           "ticks": "",
           "title": {
            "standoff": 15
           },
           "zerolinecolor": "white",
           "automargin": true,
           "zerolinewidth": 2
          },
          "scene": {
           "xaxis": {
            "backgroundcolor": "#E5ECF6",
            "gridcolor": "white",
            "linecolor": "white",
            "showbackground": true,
            "ticks": "",
            "zerolinecolor": "white",
            "gridwidth": 2
           },
           "yaxis": {
            "backgroundcolor": "#E5ECF6",
            "gridcolor": "white",
            "linecolor": "white",
            "showbackground": true,
            "ticks": "",
            "zerolinecolor": "white",
            "gridwidth": 2
           },
           "zaxis": {
            "backgroundcolor": "#E5ECF6",
            "gridcolor": "white",
            "linecolor": "white",
            "showbackground": true,
            "ticks": "",
            "zerolinecolor": "white",
            "gridwidth": 2
           }
          },
          "shapedefaults": {
           "line": {
            "color": "#2a3f5f"
           }
          },
          "annotationdefaults": {
           "arrowcolor": "#2a3f5f",
           "arrowhead": 0,
           "arrowwidth": 1
          },
          "geo": {
           "bgcolor": "white",
           "landcolor": "#E5ECF6",
           "subunitcolor": "white",
           "showland": true,
           "showlakes": true,
           "lakecolor": "white"
          },
          "title": {
           "x": 0.05
          },
          "mapbox": {
           "style": "light"
          }
         }
        },
        "xaxis": {
         "anchor": "y",
         "domain": [
          0.0,
          0.94
         ],
         "rangeslider": {
          "visible": true
         },
         "title": {
          "text": "日期"
         },
         "type": "date",
         "tickformat": "%m-%d",
         "rangeselector": {
          "buttons": [
           {
            "count": 7,
            "label": "最近7天",
            "step": "day",
            "stepmode": "backward"
           },
           {
            "count": 1,
            "label": "最近1月",
            "step": "month",
            "stepmode": "backward"
           },
           {
            "count": 3,
            "label": "最近3月",
            "step": "month",
            "stepmode": "backward"
           },
           {
            "label": "全部",
            "step": "all"
           }
          ]
         }
        },
        "yaxis": {
         "anchor": "x",
         "domain": [
          0.0,
          1.0
         ],
         "title": {
          "text": "成本(元)"
         },
         "tickformat": ","
        },
        "yaxis2": {
         "anchor": "x",
         "overlaying": "y",
         "side": "right",
         "title": {
          "text": "服务水平(%)"
         },
         "tickformat": ".0%"
        },
        "legend": {
         "orientation": "h",
         "yanchor": "bottom",
         "y": 1.02,
         "xanchor": "right",
         "x": 1
        },
        "updatemenus": [
         {
          "buttons": [
           {
            "args": [
             {
              "visible": [
               true,
               true,
               true,
               true
              ]
             },
             {
              "title": "all"
             }
            ],
            "label": "all",
            "method": "update"
           },
           {
            "args": [
             {
              "visible": [
               true,
               true,
               false,
               false
              ]
             },
             {
              "title": "月"
             }
            ],
            "label": "月",
            "method": "update"
           },
           {
            "args": [
             {
              "visible": [
               false,
               false,
               true,
               true
              ]
             },
             {
              "title": "日"
             }
            ],
            "label": "日",
            "method": "update"
           }
          ],
          "type": "dropdown",
          "x": 1.15,
          "y": 1.1
         }
        ],
        "title": {
         "text": "成本和服务水平变化"
        }
       },
       "config": {
        "plotlyServerURL": "https://plot.ly"
       }
      }
     },
     "metadata": {},
     "output_type": "display_data"
    }
   ],
   "execution_count": 4
  },
  {
   "metadata": {
    "ExecuteTime": {
     "end_time": "2025-05-29T11:46:00.492818Z",
     "start_time": "2025-05-29T11:46:00.434738Z"
    }
   },
   "cell_type": "code",
   "source": [
    "stores = pd.read_csv('../data/stores.csv', encoding='utf-8')\n",
    "stores.columns = stores.columns.str.strip()\n",
    "stores_meta = stores[['store_name', 'region']].rename(\n",
    "    columns={'store_name':'dest', 'region':'region'}\n",
    ")\n",
    "tot2sub   = pd.read_csv('../data/ship_tot2sub.csv')[['source', 'dest', 'month', 'qty']]\n",
    "sub2sub   = pd.read_csv('../data/ship_sub2sub.csv')[['source', 'dest', 'month', 'qty']]\n",
    "sub2store = pd.read_csv('../data/ship_sub2store.csv')[['source', 'dest', 'month', 'qty']]\n",
    "sub2store = sub2store.merge(stores_meta, on='dest', how='left')\n",
    "tot2sub['region'] = None\n",
    "sub2sub['region'] = None\n",
    "ship_all = pd.concat([tot2sub, sub2sub, sub2store], ignore_index=True)\n",
    "all_regions = ['全部'] + sorted(ship_all['region'].dropna().unique().tolist())\n",
    "ship_all['route'] = ship_all['source'] + '→' + ship_all['dest']\n",
    "all_routes = ['全部'] + sorted(ship_all['route'].unique().tolist())\n",
    "app = dash.Dash(__name__)\n",
    "\n",
    "app.layout = html.Div([\n",
    "    html.Div([\n",
    "        html.Label(\"按区域筛选：\"),\n",
    "        dcc.Dropdown(\n",
    "            id='region-filter',\n",
    "            options=[{'label': r, 'value': r} for r in all_regions],\n",
    "            value='全部'\n",
    "        )\n",
    "    ], style={'width':'48%','display':'inline-block'}),\n",
    "\n",
    "    html.Div([\n",
    "        html.Label(\"按路线筛选：\"),\n",
    "        dcc.Dropdown(\n",
    "            id='route-filter',\n",
    "            options=[{'label': rt, 'value': rt} for rt in all_routes],\n",
    "            value='全部'\n",
    "        )\n",
    "    ], style={'width':'48%','display':'inline-block','marginLeft':'4%'}),\n",
    "\n",
    "    dcc.Graph(id='main-chart', style={'height':'600px'}),\n",
    "])\n",
    "\n",
    "@app.callback(\n",
    "    Output('main-chart', 'figure'),\n",
    "    Input('region-filter', 'value'),\n",
    "    Input('route-filter', 'value'),\n",
    ")\n",
    "def update_main_chart(selected_region, selected_route):\n",
    "    df = ship_all.copy()\n",
    "    # 区域过滤\n",
    "    if selected_region != '全部':\n",
    "        df = df[df['region'] == selected_region]\n",
    "    # 路线过滤\n",
    "    if selected_route != '全部':\n",
    "        df = df[df['route'] == selected_route]\n",
    "    # 按月聚合\n",
    "    df_month = df.groupby('month', as_index=False)['qty'].sum()\n",
    "    if df_month.empty:\n",
    "        fig = px.line(title=\"无符合条件的数据\", template='plotly_white')\n",
    "        fig.update_layout(xaxis={'visible':False}, yaxis={'visible':False})\n",
    "        return fig\n",
    "    fig = px.bar(\n",
    "        df_month,\n",
    "        x='month', y='qty',\n",
    "        labels={'qty':'发运量','month':'月份'},\n",
    "        title=\"按月发运量走势\",\n",
    "        template='plotly_white',\n",
    "        color_discrete_sequence=['#5470C6'],  # 一支蓝\n",
    "        animation_frame=None\n",
    "    )\n",
    "\n",
    "    fig.add_scatter(\n",
    "        x=df_month['month'], y=df_month['qty'],\n",
    "        mode='lines+markers',\n",
    "        name='trend',\n",
    "        line=dict(color='#EE6666', width=3, shape='spline'),\n",
    "        marker=dict(size=8, symbol='circle'),\n",
    "        hovertemplate=\"月份 %{x}<br>发运量 %{y}<extra></extra>\"\n",
    "    )\n",
    "\n",
    "    fig.update_layout(\n",
    "        font=dict(family='\"Helvetica Neue\", Arial, sans-serif', size=14, color='#333'),\n",
    "        title=dict(\n",
    "            text=\"发运量月变化\",\n",
    "            x=0.5,\n",
    "            xanchor='center',\n",
    "            yanchor='top',\n",
    "            font=dict(size=20, family='Arial', color='#222')\n",
    "        ),\n",
    "        legend=dict(\n",
    "            orientation=\"h\",\n",
    "            yanchor=\"bottom\",\n",
    "            y=1.02,\n",
    "            xanchor=\"right\",\n",
    "            x=1,\n",
    "            bgcolor='rgba(0,0,0,0)',  # 透明背景\n",
    "            bordercolor='LightGray',\n",
    "            borderwidth=0\n",
    "        ),\n",
    "        xaxis=dict(\n",
    "            title=\"月份\",\n",
    "            tickmode='array',\n",
    "            tickvals=sorted(df_month['month'].unique()),\n",
    "            ticktext=[f\"{int(m)}月\" for m in df_month['month']],\n",
    "            showgrid=False,\n",
    "            tickangle=-45,\n",
    "        ),\n",
    "        yaxis=dict(\n",
    "            title=\"发运量\",\n",
    "            showgrid=True,\n",
    "            gridcolor='rgba(200,200,200,0.2)',\n",
    "        ),\n",
    "        bargap=0.25,\n",
    "        transition={'duration': 500, 'easing': 'cubic-in-out'},\n",
    "        margin={'l':60,'r':20,'t':80,'b':80},\n",
    "        plot_bgcolor='white'\n",
    "    )\n",
    "\n",
    "    return fig\n",
    "\n",
    "if __name__ == '__main__':\n",
    "    app.run(port=8059, debug=True)\n",
    "\n",
    "fig_op3 = fig"
   ],
   "id": "79d29d2116bceef5",
   "outputs": [
    {
     "data": {
      "text/plain": [
       "<IPython.lib.display.IFrame at 0x10ac1bf10>"
      ],
      "text/html": [
       "\n",
       "        <iframe\n",
       "            width=\"100%\"\n",
       "            height=\"650\"\n",
       "            src=\"http://127.0.0.1:8059/\"\n",
       "            frameborder=\"0\"\n",
       "            allowfullscreen\n",
       "            \n",
       "        ></iframe>\n",
       "        "
      ]
     },
     "metadata": {},
     "output_type": "display_data"
    }
   ],
   "execution_count": 6
  }
 ],
 "metadata": {
  "kernelspec": {
   "display_name": "Python 3",
   "language": "python",
   "name": "python3"
  },
  "language_info": {
   "codemirror_mode": {
    "name": "ipython",
    "version": 2
   },
   "file_extension": ".py",
   "mimetype": "text/x-python",
   "name": "python",
   "nbconvert_exporter": "python",
   "pygments_lexer": "ipython2",
   "version": "2.7.6"
  }
 },
 "nbformat": 4,
 "nbformat_minor": 5
}
